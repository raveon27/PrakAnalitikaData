{
 "cells": [
  {
   "cell_type": "markdown",
   "id": "a53e41d2",
   "metadata": {
    "papermill": {
     "duration": 0.040052,
     "end_time": "2021-09-24T12:58:01.100351",
     "exception": false,
     "start_time": "2021-09-24T12:58:01.060299",
     "status": "completed"
    },
    "tags": []
   },
   "source": [
    "# Studi Kasus Bab 6"
   ]
  },
  {
   "cell_type": "code",
   "execution_count": 1,
   "id": "4f6e79d6",
   "metadata": {
    "_cell_guid": "b1076dfc-b9ad-4769-8c92-a6c4dae69d19",
    "_uuid": "8f2839f25d086af736a60e9eeb907d3b93b6e0e5",
    "execution": {
     "iopub.execute_input": "2021-09-24T12:58:01.182023Z",
     "iopub.status.busy": "2021-09-24T12:58:01.180442Z",
     "iopub.status.idle": "2021-09-24T12:58:06.250518Z",
     "shell.execute_reply": "2021-09-24T12:58:06.249866Z",
     "shell.execute_reply.started": "2021-09-24T12:32:44.930547Z"
    },
    "papermill": {
     "duration": 5.111111,
     "end_time": "2021-09-24T12:58:06.250682",
     "exception": false,
     "start_time": "2021-09-24T12:58:01.139571",
     "status": "completed"
    },
    "tags": []
   },
   "outputs": [
    {
     "name": "stderr",
     "output_type": "stream",
     "text": [
      "2021-09-24 12:58:02.494557: I tensorflow/stream_executor/platform/default/dso_loader.cc:49] Successfully opened dynamic library libcudart.so.11.0\n"
     ]
    }
   ],
   "source": [
    "import matplotlib.pyplot as plt\n",
    "import numpy as np\n",
    "import pandas as pd\n",
    "import seaborn as sns\n",
    "\n",
    "import matplotlib.pyplot as plt\n",
    "import numpy as np\n",
    "import pandas as pd\n",
    "import seaborn as sns\n",
    "\n",
    "from tensorflow.keras import layers\n",
    "from tensorflow.keras import Model\n",
    "\n",
    "from tensorflow import keras\n",
    "from tensorflow.random import set_seed\n",
    "from tensorflow.keras.layers import Input,Dense,concatenate,Dropout,Flatten,Conv2D,MaxPooling2D\n",
    "from tensorflow.keras.models import Model,load_model\n",
    "from tensorflow.keras.optimizers import SGD,Adam\n",
    "from tensorflow.keras.utils import plot_model\n",
    "from tensorflow.keras.datasets import fashion_mnist\n",
    "from tensorflow.keras.metrics import Accuracy,Precision,Recall,CategoricalCrossentropy\n",
    "from tensorflow.keras.preprocessing.image import ImageDataGenerator\n",
    "\n",
    "from sklearn.metrics import confusion_matrix,classification_report\n",
    "from sklearn.model_selection import train_test_split\n",
    "from sklearn.preprocessing import StandardScaler"
   ]
  },
  {
   "cell_type": "markdown",
   "id": "fc576e7d",
   "metadata": {
    "papermill": {
     "duration": 0.037854,
     "end_time": "2021-09-24T12:58:06.326718",
     "exception": false,
     "start_time": "2021-09-24T12:58:06.288864",
     "status": "completed"
    },
    "tags": []
   },
   "source": [
    "## Monokrom"
   ]
  },
  {
   "cell_type": "code",
   "execution_count": 2,
   "id": "a550b425",
   "metadata": {
    "execution": {
     "iopub.execute_input": "2021-09-24T12:58:06.405286Z",
     "iopub.status.busy": "2021-09-24T12:58:06.404702Z",
     "iopub.status.idle": "2021-09-24T12:58:07.733461Z",
     "shell.execute_reply": "2021-09-24T12:58:07.732909Z",
     "shell.execute_reply.started": "2021-09-22T17:57:20.031233Z"
    },
    "papermill": {
     "duration": 1.36936,
     "end_time": "2021-09-24T12:58:07.733589",
     "exception": false,
     "start_time": "2021-09-24T12:58:06.364229",
     "status": "completed"
    },
    "tags": []
   },
   "outputs": [
    {
     "name": "stdout",
     "output_type": "stream",
     "text": [
      "Downloading data from https://storage.googleapis.com/tensorflow/tf-keras-datasets/train-labels-idx1-ubyte.gz\n",
      "32768/29515 [=================================] - 0s 0us/step\n",
      "Downloading data from https://storage.googleapis.com/tensorflow/tf-keras-datasets/train-images-idx3-ubyte.gz\n",
      "26427392/26421880 [==============================] - 0s 0us/step\n",
      "Downloading data from https://storage.googleapis.com/tensorflow/tf-keras-datasets/t10k-labels-idx1-ubyte.gz\n",
      "8192/5148 [===============================================] - 0s 0us/step\n",
      "Downloading data from https://storage.googleapis.com/tensorflow/tf-keras-datasets/t10k-images-idx3-ubyte.gz\n",
      "4423680/4422102 [==============================] - 0s 0us/step\n"
     ]
    }
   ],
   "source": [
    "#Import data\n",
    "(train_images, train_labels), (test_images, test_labels) = fashion_mnist.load_data()"
   ]
  },
  {
   "cell_type": "markdown",
   "id": "3cf726bd",
   "metadata": {
    "papermill": {
     "duration": 0.039571,
     "end_time": "2021-09-24T12:58:07.814163",
     "exception": false,
     "start_time": "2021-09-24T12:58:07.774592",
     "status": "completed"
    },
    "tags": []
   },
   "source": [
    "Dataset Fashion MNIST memiliki 10 label, yaitu sebagai berikut.\n",
    "* 0\t: T-shirt/top\n",
    "* 1\t: Trouser\n",
    "* 2\t: Pullover\n",
    "* 3\t: Dress\n",
    "* 4\t: Coat\n",
    "* 5\t: Sandal\n",
    "* 6\t: Shirt\n",
    "* 7\t: Sneaker\n",
    "* 8\t: Bag\n",
    "* 9\t: Ankle boot"
   ]
  },
  {
   "cell_type": "code",
   "execution_count": 3,
   "id": "f4b6da29",
   "metadata": {
    "execution": {
     "iopub.execute_input": "2021-09-24T12:58:07.900676Z",
     "iopub.status.busy": "2021-09-24T12:58:07.899900Z",
     "iopub.status.idle": "2021-09-24T12:58:07.902381Z",
     "shell.execute_reply": "2021-09-24T12:58:07.901924Z",
     "shell.execute_reply.started": "2021-09-22T17:57:21.682672Z"
    },
    "papermill": {
     "duration": 0.045946,
     "end_time": "2021-09-24T12:58:07.902484",
     "exception": false,
     "start_time": "2021-09-24T12:58:07.856538",
     "status": "completed"
    },
    "tags": []
   },
   "outputs": [],
   "source": [
    "class_names = ['T-shirt/top', 'Trouser', 'Pullover', 'Dress', 'Coat',\n",
    "               'Sandal', 'Shirt', 'Sneaker', 'Bag', 'Ankle boot']"
   ]
  },
  {
   "cell_type": "code",
   "execution_count": 4,
   "id": "f01e99ab",
   "metadata": {
    "execution": {
     "iopub.execute_input": "2021-09-24T12:58:07.989301Z",
     "iopub.status.busy": "2021-09-24T12:58:07.988508Z",
     "iopub.status.idle": "2021-09-24T12:58:07.991432Z",
     "shell.execute_reply": "2021-09-24T12:58:07.991897Z",
     "shell.execute_reply.started": "2021-09-22T17:57:21.689325Z"
    },
    "papermill": {
     "duration": 0.049805,
     "end_time": "2021-09-24T12:58:07.992036",
     "exception": false,
     "start_time": "2021-09-24T12:58:07.942231",
     "status": "completed"
    },
    "tags": []
   },
   "outputs": [
    {
     "data": {
      "text/plain": [
       "(60000, 28, 28)"
      ]
     },
     "execution_count": 4,
     "metadata": {},
     "output_type": "execute_result"
    }
   ],
   "source": [
    "train_images.shape"
   ]
  },
  {
   "cell_type": "code",
   "execution_count": 5,
   "id": "c4c1d2f9",
   "metadata": {
    "execution": {
     "iopub.execute_input": "2021-09-24T12:58:08.076505Z",
     "iopub.status.busy": "2021-09-24T12:58:08.075888Z",
     "iopub.status.idle": "2021-09-24T12:58:08.078440Z",
     "shell.execute_reply": "2021-09-24T12:58:08.078849Z",
     "shell.execute_reply.started": "2021-09-22T17:57:21.703462Z"
    },
    "papermill": {
     "duration": 0.046989,
     "end_time": "2021-09-24T12:58:08.078961",
     "exception": false,
     "start_time": "2021-09-24T12:58:08.031972",
     "status": "completed"
    },
    "tags": []
   },
   "outputs": [
    {
     "data": {
      "text/plain": [
       "(10000, 28, 28)"
      ]
     },
     "execution_count": 5,
     "metadata": {},
     "output_type": "execute_result"
    }
   ],
   "source": [
    "test_images.shape"
   ]
  },
  {
   "cell_type": "code",
   "execution_count": 6,
   "id": "d35acaf9",
   "metadata": {
    "execution": {
     "iopub.execute_input": "2021-09-24T12:58:08.163315Z",
     "iopub.status.busy": "2021-09-24T12:58:08.162542Z",
     "iopub.status.idle": "2021-09-24T12:58:08.165473Z",
     "shell.execute_reply": "2021-09-24T12:58:08.165914Z",
     "shell.execute_reply.started": "2021-09-22T17:57:21.712892Z"
    },
    "papermill": {
     "duration": 0.046969,
     "end_time": "2021-09-24T12:58:08.166041",
     "exception": false,
     "start_time": "2021-09-24T12:58:08.119072",
     "status": "completed"
    },
    "tags": []
   },
   "outputs": [
    {
     "data": {
      "text/plain": [
       "60000"
      ]
     },
     "execution_count": 6,
     "metadata": {},
     "output_type": "execute_result"
    }
   ],
   "source": [
    "len(train_labels)"
   ]
  },
  {
   "cell_type": "code",
   "execution_count": 7,
   "id": "86612ff8",
   "metadata": {
    "execution": {
     "iopub.execute_input": "2021-09-24T12:58:08.252570Z",
     "iopub.status.busy": "2021-09-24T12:58:08.251921Z",
     "iopub.status.idle": "2021-09-24T12:58:08.254467Z",
     "shell.execute_reply": "2021-09-24T12:58:08.254946Z",
     "shell.execute_reply.started": "2021-09-22T17:57:21.724895Z"
    },
    "papermill": {
     "duration": 0.04877,
     "end_time": "2021-09-24T12:58:08.255073",
     "exception": false,
     "start_time": "2021-09-24T12:58:08.206303",
     "status": "completed"
    },
    "tags": []
   },
   "outputs": [
    {
     "data": {
      "text/plain": [
       "array([9, 0, 0, ..., 3, 0, 5], dtype=uint8)"
      ]
     },
     "execution_count": 7,
     "metadata": {},
     "output_type": "execute_result"
    }
   ],
   "source": [
    "train_labels"
   ]
  },
  {
   "cell_type": "code",
   "execution_count": 8,
   "id": "26d2e973",
   "metadata": {
    "execution": {
     "iopub.execute_input": "2021-09-24T12:58:08.340435Z",
     "iopub.status.busy": "2021-09-24T12:58:08.339823Z",
     "iopub.status.idle": "2021-09-24T12:58:08.342330Z",
     "shell.execute_reply": "2021-09-24T12:58:08.342763Z",
     "shell.execute_reply.started": "2021-09-22T17:57:21.736168Z"
    },
    "papermill": {
     "duration": 0.047193,
     "end_time": "2021-09-24T12:58:08.342874",
     "exception": false,
     "start_time": "2021-09-24T12:58:08.295681",
     "status": "completed"
    },
    "tags": []
   },
   "outputs": [
    {
     "data": {
      "text/plain": [
       "10000"
      ]
     },
     "execution_count": 8,
     "metadata": {},
     "output_type": "execute_result"
    }
   ],
   "source": [
    "len(test_labels)"
   ]
  },
  {
   "cell_type": "code",
   "execution_count": 9,
   "id": "81d1713a",
   "metadata": {
    "execution": {
     "iopub.execute_input": "2021-09-24T12:58:08.429734Z",
     "iopub.status.busy": "2021-09-24T12:58:08.428915Z",
     "iopub.status.idle": "2021-09-24T12:58:08.673055Z",
     "shell.execute_reply": "2021-09-24T12:58:08.673719Z",
     "shell.execute_reply.started": "2021-09-22T17:57:21.746353Z"
    },
    "papermill": {
     "duration": 0.290161,
     "end_time": "2021-09-24T12:58:08.673866",
     "exception": false,
     "start_time": "2021-09-24T12:58:08.383705",
     "status": "completed"
    },
    "tags": []
   },
   "outputs": [
    {
     "data": {
      "image/png": "[encoded data removed]",
      "text/plain": [
       "<Figure size 432x288 with 2 Axes>"
      ]
     },
     "metadata": {
      "needs_background": "light"
     },
     "output_type": "display_data"
    }
   ],
   "source": [
    "plt.figure()\n",
    "plt.imshow(train_images[3])\n",
    "plt.colorbar()\n",
    "plt.grid(False)\n",
    "plt.show()"
   ]
  },
  {
   "cell_type": "code",
   "execution_count": 10,
   "id": "f1d2e746",
   "metadata": {
    "execution": {
     "iopub.execute_input": "2021-09-24T12:58:08.762578Z",
     "iopub.status.busy": "2021-09-24T12:58:08.761447Z",
     "iopub.status.idle": "2021-09-24T12:58:08.901930Z",
     "shell.execute_reply": "2021-09-24T12:58:08.901415Z",
     "shell.execute_reply.started": "2021-09-22T17:57:22.008031Z"
    },
    "papermill": {
     "duration": 0.18648,
     "end_time": "2021-09-24T12:58:08.902074",
     "exception": false,
     "start_time": "2021-09-24T12:58:08.715594",
     "status": "completed"
    },
    "tags": []
   },
   "outputs": [],
   "source": [
    "train_images = train_images / 255.0\n",
    "test_images = test_images / 255.0"
   ]
  },
  {
   "cell_type": "code",
   "execution_count": 11,
   "id": "9f30529e",
   "metadata": {
    "execution": {
     "iopub.execute_input": "2021-09-24T12:58:08.999012Z",
     "iopub.status.busy": "2021-09-24T12:58:08.997984Z",
     "iopub.status.idle": "2021-09-24T12:58:10.035266Z",
     "shell.execute_reply": "2021-09-24T12:58:10.035681Z",
     "shell.execute_reply.started": "2021-09-22T17:57:22.151256Z"
    },
    "papermill": {
     "duration": 1.091365,
     "end_time": "2021-09-24T12:58:10.035835",
     "exception": false,
     "start_time": "2021-09-24T12:58:08.944470",
     "status": "completed"
    },
    "tags": []
   },
   "outputs": [
    {
     "data": {
      "image/png": "[encoded data removed]",
      "text/plain": [
       "<Figure size 720x720 with 25 Axes>"
      ]
     },
     "metadata": {},
     "output_type": "display_data"
    }
   ],
   "source": [
    "plt.figure(figsize=(10,10))\n",
    "for i in range(25):\n",
    "    plt.subplot(5,5,i+1)\n",
    "    plt.xticks([])\n",
    "    plt.yticks([])\n",
    "    plt.grid(False)\n",
    "    plt.imshow(train_images[i], cmap=plt.cm.binary)\n",
    "    plt.xlabel(class_names[train_labels[i]])\n",
    "plt.show()"
   ]
  },
  {
   "cell_type": "markdown",
   "id": "f26ced33",
   "metadata": {
    "papermill": {
     "duration": 0.043651,
     "end_time": "2021-09-24T12:58:10.123918",
     "exception": false,
     "start_time": "2021-09-24T12:58:10.080267",
     "status": "completed"
    },
    "tags": []
   },
   "source": [
    "### *Baseline* Model"
   ]
  },
  {
   "cell_type": "code",
   "execution_count": 12,
   "id": "9f2f3e29",
   "metadata": {
    "execution": {
     "iopub.execute_input": "2021-09-24T12:58:10.219859Z",
     "iopub.status.busy": "2021-09-24T12:58:10.219324Z",
     "iopub.status.idle": "2021-09-24T12:58:12.302383Z",
     "shell.execute_reply": "2021-09-24T12:58:12.301503Z",
     "shell.execute_reply.started": "2021-09-22T17:57:23.192272Z"
    },
    "papermill": {
     "duration": 2.134073,
     "end_time": "2021-09-24T12:58:12.302534",
     "exception": false,
     "start_time": "2021-09-24T12:58:10.168461",
     "status": "completed"
    },
    "tags": []
   },
   "outputs": [
    {
     "name": "stderr",
     "output_type": "stream",
     "text": [
      "2021-09-24 12:58:10.243733: I tensorflow/compiler/jit/xla_cpu_device.cc:41] Not creating XLA devices, tf_xla_enable_xla_devices not set\n",
      "2021-09-24 12:58:10.246578: I tensorflow/stream_executor/platform/default/dso_loader.cc:49] Successfully opened dynamic library libcuda.so.1\n",
      "2021-09-24 12:58:10.293647: I tensorflow/stream_executor/cuda/cuda_gpu_executor.cc:941] successful NUMA node read from SysFS had negative value (-1), but there must be at least one NUMA node, so returning NUMA node zero\n",
      "2021-09-24 12:58:10.294304: I tensorflow/core/common_runtime/gpu/gpu_device.cc:1720] Found device 0 with properties: \n",
      "pciBusID: 0000:00:04.0 name: Tesla P100-PCIE-16GB computeCapability: 6.0\n",
      "coreClock: 1.3285GHz coreCount: 56 deviceMemorySize: 15.90GiB deviceMemoryBandwidth: 681.88GiB/s\n",
      "2021-09-24 12:58:10.294371: I tensorflow/stream_executor/platform/default/dso_loader.cc:49] Successfully opened dynamic library libcudart.so.11.0\n",
      "2021-09-24 12:58:10.328207: I tensorflow/stream_executor/platform/default/dso_loader.cc:49] Successfully opened dynamic library libcublas.so.11\n",
      "2021-09-24 12:58:10.328301: I tensorflow/stream_executor/platform/default/dso_loader.cc:49] Successfully opened dynamic library libcublasLt.so.11\n",
      "2021-09-24 12:58:10.346085: I tensorflow/stream_executor/platform/default/dso_loader.cc:49] Successfully opened dynamic library libcufft.so.10\n",
      "2021-09-24 12:58:10.370558: I tensorflow/stream_executor/platform/default/dso_loader.cc:49] Successfully opened dynamic library libcurand.so.10\n",
      "2021-09-24 12:58:10.404387: I tensorflow/stream_executor/platform/default/dso_loader.cc:49] Successfully opened dynamic library libcusolver.so.10\n",
      "2021-09-24 12:58:10.412323: I tensorflow/stream_executor/platform/default/dso_loader.cc:49] Successfully opened dynamic library libcusparse.so.11\n",
      "2021-09-24 12:58:10.414478: I tensorflow/stream_executor/platform/default/dso_loader.cc:49] Successfully opened dynamic library libcudnn.so.8\n",
      "2021-09-24 12:58:10.414641: I tensorflow/stream_executor/cuda/cuda_gpu_executor.cc:941] successful NUMA node read from SysFS had negative value (-1), but there must be at least one NUMA node, so returning NUMA node zero\n",
      "2021-09-24 12:58:10.415339: I tensorflow/stream_executor/cuda/cuda_gpu_executor.cc:941] successful NUMA node read from SysFS had negative value (-1), but there must be at least one NUMA node, so returning NUMA node zero\n",
      "2021-09-24 12:58:10.417114: I tensorflow/core/common_runtime/gpu/gpu_device.cc:1862] Adding visible gpu devices: 0\n",
      "2021-09-24 12:58:10.417568: I tensorflow/core/platform/cpu_feature_guard.cc:142] This TensorFlow binary is optimized with oneAPI Deep Neural Network Library (oneDNN) to use the following CPU instructions in performance-critical operations:  AVX2 AVX512F FMA\n",
      "To enable them in other operations, rebuild TensorFlow with the appropriate compiler flags.\n",
      "2021-09-24 12:58:10.417774: I tensorflow/compiler/jit/xla_gpu_device.cc:99] Not creating XLA devices, tf_xla_enable_xla_devices not set\n",
      "2021-09-24 12:58:10.417944: I tensorflow/stream_executor/cuda/cuda_gpu_executor.cc:941] successful NUMA node read from SysFS had negative value (-1), but there must be at least one NUMA node, so returning NUMA node zero\n",
      "2021-09-24 12:58:10.418518: I tensorflow/core/common_runtime/gpu/gpu_device.cc:1720] Found device 0 with properties: \n",
      "pciBusID: 0000:00:04.0 name: Tesla P100-PCIE-16GB computeCapability: 6.0\n",
      "coreClock: 1.3285GHz coreCount: 56 deviceMemorySize: 15.90GiB deviceMemoryBandwidth: 681.88GiB/s\n",
      "2021-09-24 12:58:10.418567: I tensorflow/stream_executor/platform/default/dso_loader.cc:49] Successfully opened dynamic library libcudart.so.11.0\n",
      "2021-09-24 12:58:10.418595: I tensorflow/stream_executor/platform/default/dso_loader.cc:49] Successfully opened dynamic library libcublas.so.11\n",
      "2021-09-24 12:58:10.418617: I tensorflow/stream_executor/platform/default/dso_loader.cc:49] Successfully opened dynamic library libcublasLt.so.11\n",
      "2021-09-24 12:58:10.418638: I tensorflow/stream_executor/platform/default/dso_loader.cc:49] Successfully opened dynamic library libcufft.so.10\n",
      "2021-09-24 12:58:10.418659: I tensorflow/stream_executor/platform/default/dso_loader.cc:49] Successfully opened dynamic library libcurand.so.10\n",
      "2021-09-24 12:58:10.418680: I tensorflow/stream_executor/platform/default/dso_loader.cc:49] Successfully opened dynamic library libcusolver.so.10\n",
      "2021-09-24 12:58:10.418708: I tensorflow/stream_executor/platform/default/dso_loader.cc:49] Successfully opened dynamic library libcusparse.so.11\n",
      "2021-09-24 12:58:10.418741: I tensorflow/stream_executor/platform/default/dso_loader.cc:49] Successfully opened dynamic library libcudnn.so.8\n",
      "2021-09-24 12:58:10.418821: I tensorflow/stream_executor/cuda/cuda_gpu_executor.cc:941] successful NUMA node read from SysFS had negative value (-1), but there must be at least one NUMA node, so returning NUMA node zero\n",
      "2021-09-24 12:58:10.419439: I tensorflow/stream_executor/cuda/cuda_gpu_executor.cc:941] successful NUMA node read from SysFS had negative value (-1), but there must be at least one NUMA node, so returning NUMA node zero\n",
      "2021-09-24 12:58:10.419966: I tensorflow/core/common_runtime/gpu/gpu_device.cc:1862] Adding visible gpu devices: 0\n",
      "2021-09-24 12:58:10.420834: I tensorflow/stream_executor/platform/default/dso_loader.cc:49] Successfully opened dynamic library libcudart.so.11.0\n",
      "2021-09-24 12:58:11.921275: I tensorflow/core/common_runtime/gpu/gpu_device.cc:1261] Device interconnect StreamExecutor with strength 1 edge matrix:\n",
      "2021-09-24 12:58:11.921323: I tensorflow/core/common_runtime/gpu/gpu_device.cc:1267]      0 \n",
      "2021-09-24 12:58:11.921333: I tensorflow/core/common_runtime/gpu/gpu_device.cc:1280] 0:   N \n",
      "2021-09-24 12:58:11.923436: I tensorflow/stream_executor/cuda/cuda_gpu_executor.cc:941] successful NUMA node read from SysFS had negative value (-1), but there must be at least one NUMA node, so returning NUMA node zero\n",
      "2021-09-24 12:58:11.924168: I tensorflow/stream_executor/cuda/cuda_gpu_executor.cc:941] successful NUMA node read from SysFS had negative value (-1), but there must be at least one NUMA node, so returning NUMA node zero\n",
      "2021-09-24 12:58:11.924833: I tensorflow/stream_executor/cuda/cuda_gpu_executor.cc:941] successful NUMA node read from SysFS had negative value (-1), but there must be at least one NUMA node, so returning NUMA node zero\n",
      "2021-09-24 12:58:11.925408: I tensorflow/core/common_runtime/gpu/gpu_device.cc:1406] Created TensorFlow device (/job:localhost/replica:0/task:0/device:GPU:0 with 14957 MB memory) -> physical GPU (device: 0, name: Tesla P100-PCIE-16GB, pci bus id: 0000:00:04.0, compute capability: 6.0)\n"
     ]
    }
   ],
   "source": [
    "#Model CNN biasa\n",
    "inputs=Input(shape=(28,28,1))\n",
    "gambar=Conv2D(32, (3, 3), activation='relu', input_shape=(28,28,1))(inputs)\n",
    "gambar=MaxPooling2D(2, 2)(gambar)\n",
    "gambar=Conv2D(64, (3, 3), activation='relu')(gambar)\n",
    "gambar=MaxPooling2D(2, 2)(gambar)\n",
    "gambar=Conv2D(128, (3, 3), activation='relu')(gambar)\n",
    "gambar=MaxPooling2D(2, 2)(gambar)\n",
    "gambar=Flatten()(gambar)\n",
    "gambar=Dense(256, activation='relu')(gambar)\n",
    "output=Dense(10, activation='softmax')(gambar)\n",
    "model=Model(inputs=[inputs],outputs=[output])\n",
    "\n",
    "model.compile(loss=\"sparse_categorical_crossentropy\", optimizer=Adam(learning_rate=1e-3), \n",
    "              metrics=[\"accuracy\"])"
   ]
  },
  {
   "cell_type": "code",
   "execution_count": 13,
   "id": "f4a7c67f",
   "metadata": {
    "execution": {
     "iopub.execute_input": "2021-09-24T12:58:12.397653Z",
     "iopub.status.busy": "2021-09-24T12:58:12.396818Z",
     "iopub.status.idle": "2021-09-24T12:58:12.402926Z",
     "shell.execute_reply": "2021-09-24T12:58:12.402287Z",
     "shell.execute_reply.started": "2021-09-22T17:57:25.313232Z"
    },
    "papermill": {
     "duration": 0.056243,
     "end_time": "2021-09-24T12:58:12.403086",
     "exception": false,
     "start_time": "2021-09-24T12:58:12.346843",
     "status": "completed"
    },
    "tags": []
   },
   "outputs": [
    {
     "name": "stdout",
     "output_type": "stream",
     "text": [
      "Model: \"model\"\n",
      "_________________________________________________________________\n",
      "Layer (type)                 Output Shape              Param #   \n",
      "=================================================================\n",
      "input_1 (InputLayer)         [(None, 28, 28, 1)]       0         \n",
      "_________________________________________________________________\n",
      "conv2d (Conv2D)              (None, 26, 26, 32)        320       \n",
      "_________________________________________________________________\n",
      "max_pooling2d (MaxPooling2D) (None, 13, 13, 32)        0         \n",
      "_________________________________________________________________\n",
      "conv2d_1 (Conv2D)            (None, 11, 11, 64)        18496     \n",
      "_________________________________________________________________\n",
      "max_pooling2d_1 (MaxPooling2 (None, 5, 5, 64)          0         \n",
      "_________________________________________________________________\n",
      "conv2d_2 (Conv2D)            (None, 3, 3, 128)         73856     \n",
      "_________________________________________________________________\n",
      "max_pooling2d_2 (MaxPooling2 (None, 1, 1, 128)         0         \n",
      "_________________________________________________________________\n",
      "flatten (Flatten)            (None, 128)               0         \n",
      "_________________________________________________________________\n",
      "dense (Dense)                (None, 256)               33024     \n",
      "_________________________________________________________________\n",
      "dense_1 (Dense)              (None, 10)                2570      \n",
      "=================================================================\n",
      "Total params: 128,266\n",
      "Trainable params: 128,266\n",
      "Non-trainable params: 0\n",
      "_________________________________________________________________\n"
     ]
    }
   ],
   "source": [
    "model.summary()"
   ]
  },
  {
   "cell_type": "code",
   "execution_count": 14,
   "id": "a246e02b",
   "metadata": {
    "execution": {
     "iopub.execute_input": "2021-09-24T12:58:12.496657Z",
     "iopub.status.busy": "2021-09-24T12:58:12.495784Z",
     "iopub.status.idle": "2021-09-24T12:58:13.381839Z",
     "shell.execute_reply": "2021-09-24T12:58:13.382451Z",
     "shell.execute_reply.started": "2021-09-22T17:57:25.325193Z"
    },
    "papermill": {
     "duration": 0.934444,
     "end_time": "2021-09-24T12:58:13.382605",
     "exception": false,
     "start_time": "2021-09-24T12:58:12.448161",
     "status": "completed"
    },
    "tags": []
   },
   "outputs": [
    {
     "data": {
      "image/png": "[encoded data removed]",
      "text/plain": [
       "<IPython.core.display.Image object>"
      ]
     },
     "execution_count": 14,
     "metadata": {},
     "output_type": "execute_result"
    }
   ],
   "source": [
    "plot_model(model, \"Model CNN Klasifikasi Citra Monokrom.png\", show_shapes=True)"
   ]
  },
  {
   "cell_type": "code",
   "execution_count": 15,
   "id": "561ab49d",
   "metadata": {
    "execution": {
     "iopub.execute_input": "2021-09-24T12:58:13.480071Z",
     "iopub.status.busy": "2021-09-24T12:58:13.479473Z",
     "iopub.status.idle": "2021-09-24T13:00:17.916709Z",
     "shell.execute_reply": "2021-09-24T13:00:17.915877Z",
     "shell.execute_reply.started": "2021-09-22T17:57:26.111673Z"
    },
    "papermill": {
     "duration": 124.488033,
     "end_time": "2021-09-24T13:00:17.916865",
     "exception": false,
     "start_time": "2021-09-24T12:58:13.428832",
     "status": "completed"
    },
    "tags": []
   },
   "outputs": [
    {
     "name": "stderr",
     "output_type": "stream",
     "text": [
      "2021-09-24 12:58:13.748991: I tensorflow/compiler/mlir/mlir_graph_optimization_pass.cc:116] None of the MLIR optimization passes are enabled (registered 2)\n",
      "2021-09-24 12:58:13.764279: I tensorflow/core/platform/profile_utils/cpu_utils.cc:112] CPU Frequency: 2000140000 Hz\n"
     ]
    },
    {
     "name": "stdout",
     "output_type": "stream",
     "text": [
      "Epoch 1/20\n"
     ]
    },
    {
     "name": "stderr",
     "output_type": "stream",
     "text": [
      "2021-09-24 12:58:14.270286: I tensorflow/stream_executor/platform/default/dso_loader.cc:49] Successfully opened dynamic library libcublas.so.11\n",
      "2021-09-24 12:58:15.120639: I tensorflow/stream_executor/platform/default/dso_loader.cc:49] Successfully opened dynamic library libcublasLt.so.11\n",
      "2021-09-24 12:58:15.134159: I tensorflow/stream_executor/platform/default/dso_loader.cc:49] Successfully opened dynamic library libcudnn.so.8\n"
     ]
    },
    {
     "name": "stdout",
     "output_type": "stream",
     "text": [
      "1875/1875 [==============================] - 13s 3ms/step - loss: 0.7688 - accuracy: 0.7131 - val_loss: 0.4299 - val_accuracy: 0.8432\n",
      "Epoch 2/20\n",
      "1875/1875 [==============================] - 6s 3ms/step - loss: 0.4005 - accuracy: 0.8510 - val_loss: 0.3690 - val_accuracy: 0.8616\n",
      "Epoch 3/20\n",
      "1875/1875 [==============================] - 6s 3ms/step - loss: 0.3346 - accuracy: 0.8743 - val_loss: 0.3479 - val_accuracy: 0.8715\n",
      "Epoch 4/20\n",
      "1875/1875 [==============================] - 6s 3ms/step - loss: 0.2893 - accuracy: 0.8903 - val_loss: 0.3213 - val_accuracy: 0.8864\n",
      "Epoch 5/20\n",
      "1875/1875 [==============================] - 6s 3ms/step - loss: 0.2579 - accuracy: 0.9037 - val_loss: 0.3838 - val_accuracy: 0.8562\n",
      "Epoch 6/20\n",
      "1875/1875 [==============================] - 6s 3ms/step - loss: 0.2385 - accuracy: 0.9087 - val_loss: 0.3091 - val_accuracy: 0.8880\n",
      "Epoch 7/20\n",
      "1875/1875 [==============================] - 6s 3ms/step - loss: 0.2156 - accuracy: 0.9191 - val_loss: 0.3044 - val_accuracy: 0.8894\n",
      "Epoch 8/20\n",
      "1875/1875 [==============================] - 6s 3ms/step - loss: 0.1979 - accuracy: 0.9267 - val_loss: 0.3330 - val_accuracy: 0.8911\n",
      "Epoch 9/20\n",
      "1875/1875 [==============================] - 6s 3ms/step - loss: 0.1782 - accuracy: 0.9320 - val_loss: 0.3304 - val_accuracy: 0.8882\n",
      "Epoch 10/20\n",
      "1875/1875 [==============================] - 6s 3ms/step - loss: 0.1661 - accuracy: 0.9367 - val_loss: 0.3300 - val_accuracy: 0.8956\n",
      "Epoch 11/20\n",
      "1875/1875 [==============================] - 6s 3ms/step - loss: 0.1484 - accuracy: 0.9431 - val_loss: 0.3230 - val_accuracy: 0.8968\n",
      "Epoch 12/20\n",
      "1875/1875 [==============================] - 5s 3ms/step - loss: 0.1403 - accuracy: 0.9473 - val_loss: 0.3686 - val_accuracy: 0.8938\n",
      "Epoch 13/20\n",
      "1875/1875 [==============================] - 6s 3ms/step - loss: 0.1267 - accuracy: 0.9503 - val_loss: 0.3795 - val_accuracy: 0.8935\n",
      "Epoch 14/20\n",
      "1875/1875 [==============================] - 6s 3ms/step - loss: 0.1198 - accuracy: 0.9545 - val_loss: 0.3804 - val_accuracy: 0.8898\n",
      "Epoch 15/20\n",
      "1875/1875 [==============================] - 6s 3ms/step - loss: 0.1104 - accuracy: 0.9571 - val_loss: 0.4050 - val_accuracy: 0.8941\n",
      "Epoch 16/20\n",
      "1875/1875 [==============================] - 6s 3ms/step - loss: 0.1031 - accuracy: 0.9607 - val_loss: 0.4393 - val_accuracy: 0.8929\n",
      "Epoch 17/20\n",
      "1875/1875 [==============================] - 6s 3ms/step - loss: 0.0936 - accuracy: 0.9635 - val_loss: 0.4369 - val_accuracy: 0.8888\n",
      "Epoch 18/20\n",
      "1875/1875 [==============================] - 6s 3ms/step - loss: 0.0960 - accuracy: 0.9634 - val_loss: 0.4271 - val_accuracy: 0.8950\n",
      "Epoch 19/20\n",
      "1875/1875 [==============================] - 6s 3ms/step - loss: 0.0839 - accuracy: 0.9683 - val_loss: 0.4703 - val_accuracy: 0.8915\n",
      "Epoch 20/20\n",
      "1875/1875 [==============================] - 6s 3ms/step - loss: 0.0782 - accuracy: 0.9703 - val_loss: 0.5063 - val_accuracy: 0.8940\n"
     ]
    }
   ],
   "source": [
    "history=model.fit(train_images, train_labels, epochs=20, validation_data=(test_images,test_labels))"
   ]
  },
  {
   "cell_type": "code",
   "execution_count": 16,
   "id": "8d81afb7",
   "metadata": {
    "execution": {
     "iopub.execute_input": "2021-09-24T13:00:19.122670Z",
     "iopub.status.busy": "2021-09-24T13:00:19.121638Z",
     "iopub.status.idle": "2021-09-24T13:00:19.556985Z",
     "shell.execute_reply": "2021-09-24T13:00:19.556561Z",
     "shell.execute_reply.started": "2021-09-22T17:59:29.337947Z"
    },
    "papermill": {
     "duration": 1.029604,
     "end_time": "2021-09-24T13:00:19.557157",
     "exception": false,
     "start_time": "2021-09-24T13:00:18.527553",
     "status": "completed"
    },
    "tags": []
   },
   "outputs": [
    {
     "data": {
      "text/plain": [
       "<Figure size 432x288 with 0 Axes>"
      ]
     },
     "execution_count": 16,
     "metadata": {},
     "output_type": "execute_result"
    },
    {
     "data": {
      "image/png": "[encoded data removed]",
      "text/plain": [
       "<Figure size 432x288 with 1 Axes>"
      ]
     },
     "metadata": {
      "needs_background": "light"
     },
     "output_type": "display_data"
    },
    {
     "data": {
      "image/png": "[encoded data removed]",
      "text/plain": [
       "<Figure size 432x288 with 1 Axes>"
      ]
     },
     "metadata": {
      "needs_background": "light"
     },
     "output_type": "display_data"
    },
    {
     "data": {
      "text/plain": [
       "<Figure size 432x288 with 0 Axes>"
      ]
     },
     "metadata": {},
     "output_type": "display_data"
    }
   ],
   "source": [
    "%matplotlib inline\n",
    "\n",
    "import matplotlib.image  as mpimg\n",
    "import matplotlib.pyplot as plt\n",
    "\n",
    "loss=history.history['loss']\n",
    "val_loss=history.history['val_loss']\n",
    "acc=history.history['accuracy']\n",
    "val_acc=history.history['val_accuracy']\n",
    "\n",
    "epochs=range(len(acc))\n",
    "\n",
    "plt.plot(epochs, loss, 'r', label = 'Training loss')\n",
    "plt.plot(epochs, val_loss, 'b', label ='Validation loss')\n",
    "plt.title('Training and validation loss')\n",
    "plt.legend()\n",
    "plt.figure()\n",
    "\n",
    "plt.plot(epochs, acc, 'r', label = 'Training Accuracy')\n",
    "plt.plot(epochs, val_acc, 'b', label ='Validation Accuracy')\n",
    "plt.title('Training and validation Accuracy')\n",
    "plt.legend()\n",
    "plt.figure()"
   ]
  },
  {
   "cell_type": "code",
   "execution_count": 17,
   "id": "b6b747d2",
   "metadata": {
    "execution": {
     "iopub.execute_input": "2021-09-24T13:00:20.695820Z",
     "iopub.status.busy": "2021-09-24T13:00:20.694537Z",
     "iopub.status.idle": "2021-09-24T13:00:21.383707Z",
     "shell.execute_reply": "2021-09-24T13:00:21.384258Z",
     "shell.execute_reply.started": "2021-09-22T17:59:29.77519Z"
    },
    "papermill": {
     "duration": 1.2589,
     "end_time": "2021-09-24T13:00:21.384580",
     "exception": false,
     "start_time": "2021-09-24T13:00:20.125680",
     "status": "completed"
    },
    "tags": []
   },
   "outputs": [
    {
     "name": "stdout",
     "output_type": "stream",
     "text": [
      "313/313 [==============================] - 1s 2ms/step - loss: 0.5063 - accuracy: 0.8940\n",
      "loss :  0.5063304305076599\n",
      "accuracy :  0.8939999938011169\n",
      "\n"
     ]
    }
   ],
   "source": [
    "test_eval=model.evaluate(test_images,test_labels)\n",
    "for name, value in zip(model.metrics_names, test_eval):\n",
    "  print(name, ': ', value)\n",
    "print()"
   ]
  },
  {
   "cell_type": "code",
   "execution_count": 18,
   "id": "f640dc63",
   "metadata": {
    "execution": {
     "iopub.execute_input": "2021-09-24T13:00:22.551564Z",
     "iopub.status.busy": "2021-09-24T13:00:22.550511Z",
     "iopub.status.idle": "2021-09-24T13:00:23.039381Z",
     "shell.execute_reply": "2021-09-24T13:00:23.039943Z",
     "shell.execute_reply.started": "2021-09-22T17:59:30.499006Z"
    },
    "papermill": {
     "duration": 1.082632,
     "end_time": "2021-09-24T13:00:23.040110",
     "exception": false,
     "start_time": "2021-09-24T13:00:21.957478",
     "status": "completed"
    },
    "tags": []
   },
   "outputs": [],
   "source": [
    "Y_pred=model.predict(test_images)"
   ]
  },
  {
   "cell_type": "code",
   "execution_count": 19,
   "id": "995fa974",
   "metadata": {
    "execution": {
     "iopub.execute_input": "2021-09-24T13:00:24.196239Z",
     "iopub.status.busy": "2021-09-24T13:00:24.195603Z",
     "iopub.status.idle": "2021-09-24T13:00:24.200561Z",
     "shell.execute_reply": "2021-09-24T13:00:24.200136Z",
     "shell.execute_reply.started": "2021-09-22T17:59:30.975668Z"
    },
    "papermill": {
     "duration": 0.582106,
     "end_time": "2021-09-24T13:00:24.200677",
     "exception": false,
     "start_time": "2021-09-24T13:00:23.618571",
     "status": "completed"
    },
    "tags": []
   },
   "outputs": [
    {
     "data": {
      "text/plain": [
       "array([[3.3322510e-14, 1.7275503e-13, 1.3483493e-16, ..., 3.8434680e-10,\n",
       "        2.0479313e-17, 1.0000000e+00],\n",
       "       [3.0946863e-11, 1.0828001e-25, 1.0000000e+00, ..., 1.3018993e-23,\n",
       "        1.2125670e-11, 1.8542919e-25],\n",
       "       [0.0000000e+00, 1.0000000e+00, 1.5687418e-33, ..., 0.0000000e+00,\n",
       "        0.0000000e+00, 0.0000000e+00],\n",
       "       ...,\n",
       "       [6.3370808e-19, 9.5696660e-30, 6.8192149e-34, ..., 8.7040159e-29,\n",
       "        1.0000000e+00, 2.0486981e-31],\n",
       "       [8.1633652e-35, 1.0000000e+00, 2.4972811e-31, ..., 0.0000000e+00,\n",
       "        1.7863633e-36, 0.0000000e+00],\n",
       "       [2.9489492e-12, 2.1909200e-17, 2.6205617e-14, ..., 2.1246688e-06,\n",
       "        4.1511705e-09, 1.0875164e-11]], dtype=float32)"
      ]
     },
     "execution_count": 19,
     "metadata": {},
     "output_type": "execute_result"
    }
   ],
   "source": [
    "Y_pred"
   ]
  },
  {
   "cell_type": "code",
   "execution_count": 20,
   "id": "2287531d",
   "metadata": {
    "execution": {
     "iopub.execute_input": "2021-09-24T13:00:25.348587Z",
     "iopub.status.busy": "2021-09-24T13:00:25.347720Z",
     "iopub.status.idle": "2021-09-24T13:00:25.373420Z",
     "shell.execute_reply": "2021-09-24T13:00:25.372788Z",
     "shell.execute_reply.started": "2021-09-22T17:59:30.987046Z"
    },
    "papermill": {
     "duration": 0.59725,
     "end_time": "2021-09-24T13:00:25.373565",
     "exception": false,
     "start_time": "2021-09-24T13:00:24.776315",
     "status": "completed"
    },
    "tags": []
   },
   "outputs": [
    {
     "name": "stdout",
     "output_type": "stream",
     "text": [
      "              precision    recall  f1-score   support\n",
      "\n",
      "           0       0.86      0.83      0.84      1000\n",
      "           1       0.98      0.97      0.98      1000\n",
      "           2       0.82      0.86      0.84      1000\n",
      "           3       0.91      0.87      0.89      1000\n",
      "           4       0.86      0.80      0.83      1000\n",
      "           5       0.97      0.97      0.97      1000\n",
      "           6       0.68      0.74      0.71      1000\n",
      "           7       0.96      0.96      0.96      1000\n",
      "           8       0.97      0.98      0.97      1000\n",
      "           9       0.96      0.96      0.96      1000\n",
      "\n",
      "    accuracy                           0.89     10000\n",
      "   macro avg       0.90      0.89      0.89     10000\n",
      "weighted avg       0.90      0.89      0.89     10000\n",
      "\n"
     ]
    }
   ],
   "source": [
    "Y_pred=Y_pred.argmax(axis=1)\n",
    "print(classification_report(test_labels,Y_pred))"
   ]
  },
  {
   "cell_type": "code",
   "execution_count": 21,
   "id": "1ce3c707",
   "metadata": {
    "execution": {
     "iopub.execute_input": "2021-09-24T13:00:26.515525Z",
     "iopub.status.busy": "2021-09-24T13:00:26.514627Z",
     "iopub.status.idle": "2021-09-24T13:00:26.544182Z",
     "shell.execute_reply": "2021-09-24T13:00:26.543725Z",
     "shell.execute_reply.started": "2021-09-22T17:59:31.019831Z"
    },
    "papermill": {
     "duration": 0.605995,
     "end_time": "2021-09-24T13:00:26.544305",
     "exception": false,
     "start_time": "2021-09-24T13:00:25.938310",
     "status": "completed"
    },
    "tags": []
   },
   "outputs": [],
   "source": [
    "#Simpan model\n",
    "model.save(\"CNN Monokrom.h5\")"
   ]
  },
  {
   "cell_type": "code",
   "execution_count": 22,
   "id": "c63f1967",
   "metadata": {
    "execution": {
     "iopub.execute_input": "2021-09-24T13:00:27.953602Z",
     "iopub.status.busy": "2021-09-24T13:00:27.952726Z",
     "iopub.status.idle": "2021-09-24T13:00:28.039285Z",
     "shell.execute_reply": "2021-09-24T13:00:28.038382Z",
     "shell.execute_reply.started": "2021-09-22T17:59:31.058804Z"
    },
    "papermill": {
     "duration": 0.931934,
     "end_time": "2021-09-24T13:00:28.039401",
     "exception": false,
     "start_time": "2021-09-24T13:00:27.107467",
     "status": "completed"
    },
    "tags": []
   },
   "outputs": [],
   "source": [
    "#Memuat (load) model \n",
    "model=load_model(\"CNN Monokrom.h5\")"
   ]
  },
  {
   "cell_type": "markdown",
   "id": "f92b1e1f",
   "metadata": {
    "papermill": {
     "duration": 0.564254,
     "end_time": "2021-09-24T13:00:29.175131",
     "exception": false,
     "start_time": "2021-09-24T13:00:28.610877",
     "status": "completed"
    },
    "tags": []
   },
   "source": [
    "### CNN-RF *Hybrid*"
   ]
  },
  {
   "cell_type": "code",
   "execution_count": 23,
   "id": "d43fbd28",
   "metadata": {
    "execution": {
     "iopub.execute_input": "2021-09-24T13:00:30.314272Z",
     "iopub.status.busy": "2021-09-24T13:00:30.313632Z",
     "iopub.status.idle": "2021-09-24T13:00:33.039178Z",
     "shell.execute_reply": "2021-09-24T13:00:33.039818Z",
     "shell.execute_reply.started": "2021-09-22T17:59:31.167345Z"
    },
    "papermill": {
     "duration": 3.296493,
     "end_time": "2021-09-24T13:00:33.039975",
     "exception": false,
     "start_time": "2021-09-24T13:00:29.743482",
     "status": "completed"
    },
    "tags": []
   },
   "outputs": [
    {
     "name": "stdout",
     "output_type": "stream",
     "text": [
      "(60000, 256)\n",
      "(10000, 256)\n"
     ]
    }
   ],
   "source": [
    "model_feat=Model(inputs=model.input,outputs=model.get_layer('dense').output)\n",
    "feat_train=model_feat.predict(train_images)\n",
    "print(feat_train.shape)\n",
    "\n",
    "feat_test=model_feat.predict(test_images)\n",
    "print(feat_test.shape)"
   ]
  },
  {
   "cell_type": "code",
   "execution_count": 24,
   "id": "2d9fd7c4",
   "metadata": {
    "execution": {
     "iopub.execute_input": "2021-09-24T13:00:34.182916Z",
     "iopub.status.busy": "2021-09-24T13:00:34.182330Z",
     "iopub.status.idle": "2021-09-24T13:00:34.317173Z",
     "shell.execute_reply": "2021-09-24T13:00:34.316649Z",
     "shell.execute_reply.started": "2021-09-22T18:01:04.835171Z"
    },
    "papermill": {
     "duration": 0.706113,
     "end_time": "2021-09-24T13:00:34.317321",
     "exception": false,
     "start_time": "2021-09-24T13:00:33.611208",
     "status": "completed"
    },
    "tags": []
   },
   "outputs": [],
   "source": [
    "from sklearn.ensemble import RandomForestClassifier"
   ]
  },
  {
   "cell_type": "code",
   "execution_count": 25,
   "id": "3b20a9bb",
   "metadata": {
    "execution": {
     "iopub.execute_input": "2021-09-24T13:00:35.447023Z",
     "iopub.status.busy": "2021-09-24T13:00:35.446175Z",
     "iopub.status.idle": "2021-09-24T13:01:13.503164Z",
     "shell.execute_reply": "2021-09-24T13:01:13.503617Z",
     "shell.execute_reply.started": "2021-09-22T18:02:54.841413Z"
    },
    "papermill": {
     "duration": 38.626013,
     "end_time": "2021-09-24T13:01:13.503766",
     "exception": false,
     "start_time": "2021-09-24T13:00:34.877753",
     "status": "completed"
    },
    "tags": []
   },
   "outputs": [
    {
     "data": {
      "text/plain": [
       "RandomForestClassifier()"
      ]
     },
     "execution_count": 25,
     "metadata": {},
     "output_type": "execute_result"
    }
   ],
   "source": [
    "rf=RandomForestClassifier()\n",
    "rf.fit(feat_train,train_labels)"
   ]
  },
  {
   "cell_type": "code",
   "execution_count": 26,
   "id": "67b34cf2",
   "metadata": {
    "execution": {
     "iopub.execute_input": "2021-09-24T13:01:15.119769Z",
     "iopub.status.busy": "2021-09-24T13:01:15.118761Z",
     "iopub.status.idle": "2021-09-24T13:01:15.306795Z",
     "shell.execute_reply": "2021-09-24T13:01:15.306308Z",
     "shell.execute_reply.started": "2021-09-22T18:03:42.035048Z"
    },
    "papermill": {
     "duration": 1.021344,
     "end_time": "2021-09-24T13:01:15.306928",
     "exception": false,
     "start_time": "2021-09-24T13:01:14.285584",
     "status": "completed"
    },
    "tags": []
   },
   "outputs": [],
   "source": [
    "Y_pred2=rf.predict(feat_test)"
   ]
  },
  {
   "cell_type": "code",
   "execution_count": 27,
   "id": "21345b61",
   "metadata": {
    "execution": {
     "iopub.execute_input": "2021-09-24T13:01:16.482740Z",
     "iopub.status.busy": "2021-09-24T13:01:16.481525Z",
     "iopub.status.idle": "2021-09-24T13:01:16.484801Z",
     "shell.execute_reply": "2021-09-24T13:01:16.485216Z",
     "shell.execute_reply.started": "2021-09-22T18:03:47.324182Z"
    },
    "papermill": {
     "duration": 0.612066,
     "end_time": "2021-09-24T13:01:16.485356",
     "exception": false,
     "start_time": "2021-09-24T13:01:15.873290",
     "status": "completed"
    },
    "tags": []
   },
   "outputs": [
    {
     "data": {
      "text/plain": [
       "array([9, 2, 1, ..., 8, 1, 5], dtype=uint8)"
      ]
     },
     "execution_count": 27,
     "metadata": {},
     "output_type": "execute_result"
    }
   ],
   "source": [
    "Y_pred2"
   ]
  },
  {
   "cell_type": "code",
   "execution_count": 28,
   "id": "c4919943",
   "metadata": {
    "execution": {
     "iopub.execute_input": "2021-09-24T13:01:17.632886Z",
     "iopub.status.busy": "2021-09-24T13:01:17.631976Z",
     "iopub.status.idle": "2021-09-24T13:01:17.655358Z",
     "shell.execute_reply": "2021-09-24T13:01:17.655983Z",
     "shell.execute_reply.started": "2021-09-22T18:04:04.30512Z"
    },
    "papermill": {
     "duration": 0.600439,
     "end_time": "2021-09-24T13:01:17.656192",
     "exception": false,
     "start_time": "2021-09-24T13:01:17.055753",
     "status": "completed"
    },
    "tags": []
   },
   "outputs": [
    {
     "name": "stdout",
     "output_type": "stream",
     "text": [
      "              precision    recall  f1-score   support\n",
      "\n",
      "           0       0.86      0.84      0.85      1000\n",
      "           1       0.99      0.98      0.98      1000\n",
      "           2       0.82      0.86      0.84      1000\n",
      "           3       0.90      0.89      0.90      1000\n",
      "           4       0.83      0.84      0.84      1000\n",
      "           5       0.98      0.97      0.97      1000\n",
      "           6       0.71      0.70      0.71      1000\n",
      "           7       0.95      0.97      0.96      1000\n",
      "           8       0.98      0.97      0.97      1000\n",
      "           9       0.96      0.95      0.96      1000\n",
      "\n",
      "    accuracy                           0.90     10000\n",
      "   macro avg       0.90      0.90      0.90     10000\n",
      "weighted avg       0.90      0.90      0.90     10000\n",
      "\n"
     ]
    }
   ],
   "source": [
    "print(classification_report(test_labels,Y_pred2))"
   ]
  },
  {
   "cell_type": "markdown",
   "id": "14169aa4",
   "metadata": {
    "papermill": {
     "duration": 0.56578,
     "end_time": "2021-09-24T13:01:18.818753",
     "exception": false,
     "start_time": "2021-09-24T13:01:18.252973",
     "status": "completed"
    },
    "tags": []
   },
   "source": [
    "## Berwarna"
   ]
  },
  {
   "cell_type": "code",
   "execution_count": 29,
   "id": "024b65cb",
   "metadata": {
    "execution": {
     "iopub.execute_input": "2021-09-24T13:01:19.993401Z",
     "iopub.status.busy": "2021-09-24T13:01:19.962471Z",
     "iopub.status.idle": "2021-09-24T13:01:21.868371Z",
     "shell.execute_reply": "2021-09-24T13:01:21.867816Z",
     "shell.execute_reply.started": "2021-09-24T12:33:21.328400Z"
    },
    "papermill": {
     "duration": 2.479121,
     "end_time": "2021-09-24T13:01:21.868498",
     "exception": false,
     "start_time": "2021-09-24T13:01:19.389377",
     "status": "completed"
    },
    "tags": []
   },
   "outputs": [
    {
     "name": "stdout",
     "output_type": "stream",
     "text": [
      "--2021-09-24 13:01:20--  https://storage.googleapis.com/mledu-datasets/cats_and_dogs_filtered.zip\r\n",
      "Resolving storage.googleapis.com (storage.googleapis.com)... 172.217.204.128, 173.194.214.128, 74.125.141.128, ...\r\n",
      "Connecting to storage.googleapis.com (storage.googleapis.com)|172.217.204.128|:443... connected.\r\n",
      "HTTP request sent, awaiting response... 200 OK\r\n",
      "Length: 68606236 (65M) [application/zip]\r\n",
      "Saving to: ‘/tmp/cats_and_dogs_filtered.zip’\r\n",
      "\r\n",
      "/tmp/cats_and_dogs_ 100%[===================>]  65.43M  73.2MB/s    in 0.9s    \r\n",
      "\r\n",
      "2021-09-24 13:01:21 (73.2 MB/s) - ‘/tmp/cats_and_dogs_filtered.zip’ saved [68606236/68606236]\r\n",
      "\r\n"
     ]
    }
   ],
   "source": [
    "#Credit to https://github.com/lmoroney/dlaicourse\n",
    "!wget --no-check-certificate \\\n",
    "    https://storage.googleapis.com/mledu-datasets/cats_and_dogs_filtered.zip \\\n",
    "    -O /tmp/cats_and_dogs_filtered.zip"
   ]
  },
  {
   "cell_type": "code",
   "execution_count": 30,
   "id": "896e9a1e",
   "metadata": {
    "execution": {
     "iopub.execute_input": "2021-09-24T13:01:23.256478Z",
     "iopub.status.busy": "2021-09-24T13:01:23.255596Z",
     "iopub.status.idle": "2021-09-24T13:01:23.257694Z",
     "shell.execute_reply": "2021-09-24T13:01:23.258157Z",
     "shell.execute_reply.started": "2021-09-24T12:33:36.339825Z"
    },
    "papermill": {
     "duration": 0.645355,
     "end_time": "2021-09-24T13:01:23.258305",
     "exception": false,
     "start_time": "2021-09-24T13:01:22.612950",
     "status": "completed"
    },
    "tags": []
   },
   "outputs": [],
   "source": [
    "import os\n",
    "import zipfile"
   ]
  },
  {
   "cell_type": "code",
   "execution_count": 31,
   "id": "6ae3e7db",
   "metadata": {
    "execution": {
     "iopub.execute_input": "2021-09-24T13:01:24.471112Z",
     "iopub.status.busy": "2021-09-24T13:01:24.470172Z",
     "iopub.status.idle": "2021-09-24T13:01:25.369951Z",
     "shell.execute_reply": "2021-09-24T13:01:25.369449Z",
     "shell.execute_reply.started": "2021-09-24T12:33:39.255387Z"
    },
    "papermill": {
     "duration": 1.488867,
     "end_time": "2021-09-24T13:01:25.370117",
     "exception": false,
     "start_time": "2021-09-24T13:01:23.881250",
     "status": "completed"
    },
    "tags": []
   },
   "outputs": [],
   "source": [
    "local_zip = '/tmp/cats_and_dogs_filtered.zip'\n",
    "zip_ref = zipfile.ZipFile(local_zip, 'r')\n",
    "zip_ref.extractall('/tmp')\n",
    "zip_ref.close()"
   ]
  },
  {
   "cell_type": "code",
   "execution_count": 32,
   "id": "660d7665",
   "metadata": {
    "execution": {
     "iopub.execute_input": "2021-09-24T13:01:26.516098Z",
     "iopub.status.busy": "2021-09-24T13:01:26.515163Z",
     "iopub.status.idle": "2021-09-24T13:01:26.517167Z",
     "shell.execute_reply": "2021-09-24T13:01:26.517589Z",
     "shell.execute_reply.started": "2021-09-24T12:33:41.585432Z"
    },
    "papermill": {
     "duration": 0.579432,
     "end_time": "2021-09-24T13:01:26.517727",
     "exception": false,
     "start_time": "2021-09-24T13:01:25.938295",
     "status": "completed"
    },
    "tags": []
   },
   "outputs": [],
   "source": [
    "base_dir = '/tmp/cats_and_dogs_filtered'\n",
    "train_dir = os.path.join(base_dir, 'train')\n",
    "validation_dir = os.path.join(base_dir, 'validation')"
   ]
  },
  {
   "cell_type": "code",
   "execution_count": 33,
   "id": "89d12147",
   "metadata": {
    "execution": {
     "iopub.execute_input": "2021-09-24T13:01:27.694685Z",
     "iopub.status.busy": "2021-09-24T13:01:27.693934Z",
     "iopub.status.idle": "2021-09-24T13:01:27.696646Z",
     "shell.execute_reply": "2021-09-24T13:01:27.696229Z",
     "shell.execute_reply.started": "2021-09-24T12:33:43.645187Z"
    },
    "papermill": {
     "duration": 0.575785,
     "end_time": "2021-09-24T13:01:27.696761",
     "exception": false,
     "start_time": "2021-09-24T13:01:27.120976",
     "status": "completed"
    },
    "tags": []
   },
   "outputs": [],
   "source": [
    "# Directory with our training cat pictures\n",
    "train_cats_dir = os.path.join(train_dir, 'cats')\n",
    "\n",
    "# Directory with our training dog pictures\n",
    "train_dogs_dir = os.path.join(train_dir, 'dogs')\n",
    "\n",
    "# Directory with our validation cat pictures\n",
    "validation_cats_dir = os.path.join(validation_dir, 'cats')\n",
    "\n",
    "# Directory with our validation dog pictures\n",
    "validation_dogs_dir = os.path.join(validation_dir, 'dogs')"
   ]
  },
  {
   "cell_type": "markdown",
   "id": "8fbe9a7f",
   "metadata": {
    "papermill": {
     "duration": 0.565662,
     "end_time": "2021-09-24T13:01:28.829257",
     "exception": false,
     "start_time": "2021-09-24T13:01:28.263595",
     "status": "completed"
    },
    "tags": []
   },
   "source": [
    "### *Baseline*"
   ]
  },
  {
   "cell_type": "code",
   "execution_count": 34,
   "id": "724f1c8a",
   "metadata": {
    "execution": {
     "iopub.execute_input": "2021-09-24T13:01:29.977602Z",
     "iopub.status.busy": "2021-09-24T13:01:29.975797Z",
     "iopub.status.idle": "2021-09-24T13:01:30.039898Z",
     "shell.execute_reply": "2021-09-24T13:01:30.040342Z",
     "shell.execute_reply.started": "2021-09-22T18:17:16.059458Z"
    },
    "papermill": {
     "duration": 0.641712,
     "end_time": "2021-09-24T13:01:30.040479",
     "exception": false,
     "start_time": "2021-09-24T13:01:29.398767",
     "status": "completed"
    },
    "tags": []
   },
   "outputs": [],
   "source": [
    "#Model CNN biasa (berwarna)\n",
    "inputs=Input(shape=(150,150,3))\n",
    "gambar=Conv2D(32, (3, 3), activation='relu', input_shape=(150,150,3))(inputs)\n",
    "gambar=MaxPooling2D(2, 2)(gambar)\n",
    "gambar=Conv2D(64, (3, 3), activation='relu')(gambar)\n",
    "gambar=MaxPooling2D(2, 2)(gambar)\n",
    "gambar=Conv2D(128, (3, 3), activation='relu')(gambar)\n",
    "gambar=MaxPooling2D(2, 2)(gambar)\n",
    "gambar=Conv2D(128, (3, 3), activation='relu')(gambar)\n",
    "gambar=MaxPooling2D(2, 2)(gambar)\n",
    "gambar=Flatten()(gambar)\n",
    "gambar=Dense(256, activation='relu')(gambar)\n",
    "output=Dense(1, activation='sigmoid')(gambar)\n",
    "model2=Model(inputs=[inputs],outputs=[output])\n",
    "\n",
    "model2.compile(loss=\"binary_crossentropy\", optimizer=Adam(learning_rate=1e-3), \n",
    "              metrics=[\"accuracy\"])"
   ]
  },
  {
   "cell_type": "code",
   "execution_count": 35,
   "id": "7ba2c582",
   "metadata": {
    "execution": {
     "iopub.execute_input": "2021-09-24T13:01:31.199600Z",
     "iopub.status.busy": "2021-09-24T13:01:31.198584Z",
     "iopub.status.idle": "2021-09-24T13:01:31.204139Z",
     "shell.execute_reply": "2021-09-24T13:01:31.203646Z",
     "shell.execute_reply.started": "2021-09-24T12:33:47.535485Z"
    },
    "papermill": {
     "duration": 0.591923,
     "end_time": "2021-09-24T13:01:31.204261",
     "exception": false,
     "start_time": "2021-09-24T13:01:30.612338",
     "status": "completed"
    },
    "tags": []
   },
   "outputs": [],
   "source": [
    "# All images will be rescaled by 1./255\n",
    "train_datagen = ImageDataGenerator(rescale=1./255)\n",
    "test_datagen = ImageDataGenerator(rescale=1./255)"
   ]
  },
  {
   "cell_type": "code",
   "execution_count": 36,
   "id": "cc6a3c43",
   "metadata": {
    "execution": {
     "iopub.execute_input": "2021-09-24T13:01:32.377551Z",
     "iopub.status.busy": "2021-09-24T13:01:32.376708Z",
     "iopub.status.idle": "2021-09-24T13:01:32.587374Z",
     "shell.execute_reply": "2021-09-24T13:01:32.587770Z",
     "shell.execute_reply.started": "2021-09-24T12:33:50.221869Z"
    },
    "papermill": {
     "duration": 0.801108,
     "end_time": "2021-09-24T13:01:32.587920",
     "exception": false,
     "start_time": "2021-09-24T13:01:31.786812",
     "status": "completed"
    },
    "tags": []
   },
   "outputs": [
    {
     "name": "stdout",
     "output_type": "stream",
     "text": [
      "Found 2000 images belonging to 2 classes.\n",
      "Found 1000 images belonging to 2 classes.\n"
     ]
    }
   ],
   "source": [
    "# Flow training images in batches of 10 using train_datagen generator\n",
    "train_generator = train_datagen.flow_from_directory(\n",
    "        train_dir,  # This is the source directory for training images\n",
    "        target_size=(150, 150),  # All images will be resized to 150x150\n",
    "        batch_size=10,\n",
    "        class_mode='binary')\n",
    "\n",
    "# Flow validation images in batches of 10 using test_datagen generator\n",
    "validation_generator = test_datagen.flow_from_directory(\n",
    "        validation_dir,\n",
    "        target_size=(150, 150),\n",
    "        batch_size=10,\n",
    "        class_mode='binary')"
   ]
  },
  {
   "cell_type": "code",
   "execution_count": 37,
   "id": "247a91e7",
   "metadata": {
    "execution": {
     "iopub.execute_input": "2021-09-24T13:01:33.960597Z",
     "iopub.status.busy": "2021-09-24T13:01:33.959753Z",
     "iopub.status.idle": "2021-09-24T13:16:35.068323Z",
     "shell.execute_reply": "2021-09-24T13:16:35.069069Z",
     "shell.execute_reply.started": "2021-09-22T18:18:25.778718Z"
    },
    "papermill": {
     "duration": 901.909973,
     "end_time": "2021-09-24T13:16:35.069227",
     "exception": false,
     "start_time": "2021-09-24T13:01:33.159254",
     "status": "completed"
    },
    "tags": []
   },
   "outputs": [
    {
     "name": "stdout",
     "output_type": "stream",
     "text": [
      "Epoch 1/100\n",
      "200/200 [==============================] - 9s 44ms/step - loss: 0.6996 - accuracy: 0.5042 - val_loss: 0.6933 - val_accuracy: 0.5000\n",
      "Epoch 2/100\n",
      "200/200 [==============================] - 9s 46ms/step - loss: 0.6937 - accuracy: 0.5172 - val_loss: 0.6793 - val_accuracy: 0.6120\n",
      "Epoch 3/100\n",
      "200/200 [==============================] - 9s 43ms/step - loss: 0.6810 - accuracy: 0.5849 - val_loss: 0.6366 - val_accuracy: 0.6520\n",
      "Epoch 4/100\n",
      "200/200 [==============================] - 9s 45ms/step - loss: 0.6256 - accuracy: 0.6511 - val_loss: 0.6766 - val_accuracy: 0.6430\n",
      "Epoch 5/100\n",
      "200/200 [==============================] - 9s 43ms/step - loss: 0.6207 - accuracy: 0.6571 - val_loss: 0.6448 - val_accuracy: 0.6700\n",
      "Epoch 6/100\n",
      "200/200 [==============================] - 9s 44ms/step - loss: 0.5613 - accuracy: 0.7022 - val_loss: 0.6026 - val_accuracy: 0.6770\n",
      "Epoch 7/100\n",
      "200/200 [==============================] - 9s 43ms/step - loss: 0.5147 - accuracy: 0.7408 - val_loss: 0.6144 - val_accuracy: 0.6890\n",
      "Epoch 8/100\n",
      "200/200 [==============================] - 9s 46ms/step - loss: 0.4422 - accuracy: 0.7949 - val_loss: 0.6398 - val_accuracy: 0.6900\n",
      "Epoch 9/100\n",
      "200/200 [==============================] - 9s 45ms/step - loss: 0.3288 - accuracy: 0.8635 - val_loss: 0.6996 - val_accuracy: 0.7000\n",
      "Epoch 10/100\n",
      "200/200 [==============================] - 9s 44ms/step - loss: 0.2801 - accuracy: 0.8645 - val_loss: 0.8886 - val_accuracy: 0.6880\n",
      "Epoch 11/100\n",
      "200/200 [==============================] - 9s 46ms/step - loss: 0.1684 - accuracy: 0.9286 - val_loss: 0.9341 - val_accuracy: 0.7030\n",
      "Epoch 12/100\n",
      "200/200 [==============================] - 9s 43ms/step - loss: 0.0955 - accuracy: 0.9662 - val_loss: 1.1819 - val_accuracy: 0.6570\n",
      "Epoch 13/100\n",
      "200/200 [==============================] - 9s 46ms/step - loss: 0.0867 - accuracy: 0.9676 - val_loss: 1.4570 - val_accuracy: 0.6650\n",
      "Epoch 14/100\n",
      "200/200 [==============================] - 9s 43ms/step - loss: 0.0885 - accuracy: 0.9788 - val_loss: 1.5540 - val_accuracy: 0.6680\n",
      "Epoch 15/100\n",
      "200/200 [==============================] - 9s 47ms/step - loss: 0.0491 - accuracy: 0.9799 - val_loss: 1.7693 - val_accuracy: 0.6780\n",
      "Epoch 16/100\n",
      "200/200 [==============================] - 9s 44ms/step - loss: 0.0151 - accuracy: 0.9961 - val_loss: 1.9261 - val_accuracy: 0.6960\n",
      "Epoch 17/100\n",
      "200/200 [==============================] - 9s 46ms/step - loss: 0.0708 - accuracy: 0.9773 - val_loss: 1.8412 - val_accuracy: 0.6730\n",
      "Epoch 18/100\n",
      "200/200 [==============================] - 9s 47ms/step - loss: 0.0295 - accuracy: 0.9917 - val_loss: 1.6690 - val_accuracy: 0.6800\n",
      "Epoch 19/100\n",
      "200/200 [==============================] - 9s 43ms/step - loss: 0.0265 - accuracy: 0.9933 - val_loss: 2.2163 - val_accuracy: 0.6990\n",
      "Epoch 20/100\n",
      "200/200 [==============================] - 9s 45ms/step - loss: 0.0040 - accuracy: 0.9986 - val_loss: 2.3373 - val_accuracy: 0.6960\n",
      "Epoch 21/100\n",
      "200/200 [==============================] - 9s 43ms/step - loss: 6.9212e-04 - accuracy: 1.0000 - val_loss: 2.4105 - val_accuracy: 0.7010\n",
      "Epoch 22/100\n",
      "200/200 [==============================] - 9s 45ms/step - loss: 3.2903e-04 - accuracy: 1.0000 - val_loss: 2.5290 - val_accuracy: 0.6990\n",
      "Epoch 23/100\n",
      "200/200 [==============================] - 8s 42ms/step - loss: 1.5730e-04 - accuracy: 1.0000 - val_loss: 2.6606 - val_accuracy: 0.7040\n",
      "Epoch 24/100\n",
      "200/200 [==============================] - 9s 45ms/step - loss: 1.1317e-04 - accuracy: 1.0000 - val_loss: 2.7465 - val_accuracy: 0.6990\n",
      "Epoch 25/100\n",
      "200/200 [==============================] - 9s 43ms/step - loss: 5.9154e-05 - accuracy: 1.0000 - val_loss: 2.7540 - val_accuracy: 0.6960\n",
      "Epoch 26/100\n",
      "200/200 [==============================] - 10s 48ms/step - loss: 4.9762e-05 - accuracy: 1.0000 - val_loss: 2.8889 - val_accuracy: 0.7000\n",
      "Epoch 27/100\n",
      "200/200 [==============================] - 8s 41ms/step - loss: 3.0779e-05 - accuracy: 1.0000 - val_loss: 2.9338 - val_accuracy: 0.6990\n",
      "Epoch 28/100\n",
      "200/200 [==============================] - 9s 45ms/step - loss: 2.7395e-05 - accuracy: 1.0000 - val_loss: 2.9925 - val_accuracy: 0.7010\n",
      "Epoch 29/100\n",
      "200/200 [==============================] - 10s 48ms/step - loss: 2.8392e-05 - accuracy: 1.0000 - val_loss: 3.0759 - val_accuracy: 0.7010\n",
      "Epoch 30/100\n",
      "200/200 [==============================] - 8s 42ms/step - loss: 1.6041e-05 - accuracy: 1.0000 - val_loss: 3.1360 - val_accuracy: 0.6970\n",
      "Epoch 31/100\n",
      "200/200 [==============================] - 9s 45ms/step - loss: 1.1505e-05 - accuracy: 1.0000 - val_loss: 3.1888 - val_accuracy: 0.7000\n",
      "Epoch 32/100\n",
      "200/200 [==============================] - 8s 42ms/step - loss: 1.0343e-05 - accuracy: 1.0000 - val_loss: 3.3028 - val_accuracy: 0.7050\n",
      "Epoch 33/100\n",
      "200/200 [==============================] - 9s 46ms/step - loss: 9.9915e-06 - accuracy: 1.0000 - val_loss: 3.3376 - val_accuracy: 0.7010\n",
      "Epoch 34/100\n",
      "200/200 [==============================] - 9s 43ms/step - loss: 6.1572e-06 - accuracy: 1.0000 - val_loss: 3.3923 - val_accuracy: 0.7010\n",
      "Epoch 35/100\n",
      "200/200 [==============================] - 9s 45ms/step - loss: 5.3639e-06 - accuracy: 1.0000 - val_loss: 3.4719 - val_accuracy: 0.7070\n",
      "Epoch 36/100\n",
      "200/200 [==============================] - 9s 43ms/step - loss: 4.4794e-06 - accuracy: 1.0000 - val_loss: 3.5156 - val_accuracy: 0.7040\n",
      "Epoch 37/100\n",
      "200/200 [==============================] - 10s 48ms/step - loss: 2.8139e-06 - accuracy: 1.0000 - val_loss: 3.6018 - val_accuracy: 0.7050\n",
      "Epoch 38/100\n",
      "200/200 [==============================] - 8s 42ms/step - loss: 3.1541e-06 - accuracy: 1.0000 - val_loss: 3.4954 - val_accuracy: 0.7080\n",
      "Epoch 39/100\n",
      "200/200 [==============================] - 9s 45ms/step - loss: 2.6073e-06 - accuracy: 1.0000 - val_loss: 3.6178 - val_accuracy: 0.7060\n",
      "Epoch 40/100\n",
      "200/200 [==============================] - 10s 48ms/step - loss: 1.8976e-06 - accuracy: 1.0000 - val_loss: 3.6765 - val_accuracy: 0.7090\n",
      "Epoch 41/100\n",
      "200/200 [==============================] - 9s 43ms/step - loss: 1.4456e-06 - accuracy: 1.0000 - val_loss: 3.7432 - val_accuracy: 0.7060\n",
      "Epoch 42/100\n",
      "200/200 [==============================] - 9s 43ms/step - loss: 1.2524e-06 - accuracy: 1.0000 - val_loss: 3.7765 - val_accuracy: 0.7080\n",
      "Epoch 43/100\n",
      "200/200 [==============================] - 9s 43ms/step - loss: 1.0973e-06 - accuracy: 1.0000 - val_loss: 3.8113 - val_accuracy: 0.7090\n",
      "Epoch 44/100\n",
      "200/200 [==============================] - 10s 48ms/step - loss: 1.1006e-06 - accuracy: 1.0000 - val_loss: 3.8550 - val_accuracy: 0.7090\n",
      "Epoch 45/100\n",
      "200/200 [==============================] - 9s 43ms/step - loss: 8.2637e-07 - accuracy: 1.0000 - val_loss: 3.9004 - val_accuracy: 0.7110\n",
      "Epoch 46/100\n",
      "200/200 [==============================] - 9s 45ms/step - loss: 7.2398e-07 - accuracy: 1.0000 - val_loss: 3.9221 - val_accuracy: 0.7110\n",
      "Epoch 47/100\n",
      "200/200 [==============================] - 9s 43ms/step - loss: 5.8209e-07 - accuracy: 1.0000 - val_loss: 3.9370 - val_accuracy: 0.7100\n",
      "Epoch 48/100\n",
      "200/200 [==============================] - 10s 49ms/step - loss: 4.7214e-07 - accuracy: 1.0000 - val_loss: 3.9543 - val_accuracy: 0.7090\n",
      "Epoch 49/100\n",
      "200/200 [==============================] - 8s 41ms/step - loss: 4.9007e-07 - accuracy: 1.0000 - val_loss: 3.9902 - val_accuracy: 0.7130\n",
      "Epoch 50/100\n",
      "200/200 [==============================] - 9s 45ms/step - loss: 4.3170e-07 - accuracy: 1.0000 - val_loss: 4.0066 - val_accuracy: 0.7100\n",
      "Epoch 51/100\n",
      "200/200 [==============================] - 9s 43ms/step - loss: 3.8014e-07 - accuracy: 1.0000 - val_loss: 4.0460 - val_accuracy: 0.7090\n",
      "Epoch 52/100\n",
      "200/200 [==============================] - 10s 49ms/step - loss: 3.8355e-07 - accuracy: 1.0000 - val_loss: 4.0748 - val_accuracy: 0.7120\n",
      "Epoch 53/100\n",
      "200/200 [==============================] - 8s 42ms/step - loss: 2.6275e-07 - accuracy: 1.0000 - val_loss: 4.1051 - val_accuracy: 0.7100\n",
      "Epoch 54/100\n",
      "200/200 [==============================] - 9s 44ms/step - loss: 2.6128e-07 - accuracy: 1.0000 - val_loss: 4.1186 - val_accuracy: 0.7110\n",
      "Epoch 55/100\n",
      "200/200 [==============================] - 9s 43ms/step - loss: 2.1873e-07 - accuracy: 1.0000 - val_loss: 4.1477 - val_accuracy: 0.7120\n",
      "Epoch 56/100\n",
      "200/200 [==============================] - 10s 51ms/step - loss: 2.1866e-07 - accuracy: 1.0000 - val_loss: 4.1798 - val_accuracy: 0.7100\n",
      "Epoch 57/100\n",
      "200/200 [==============================] - 9s 45ms/step - loss: 1.7971e-07 - accuracy: 1.0000 - val_loss: 4.1744 - val_accuracy: 0.7110\n",
      "Epoch 58/100\n",
      "200/200 [==============================] - 9s 43ms/step - loss: 2.2378e-07 - accuracy: 1.0000 - val_loss: 4.2198 - val_accuracy: 0.7100\n",
      "Epoch 59/100\n",
      "200/200 [==============================] - 8s 41ms/step - loss: 1.7006e-07 - accuracy: 1.0000 - val_loss: 4.2364 - val_accuracy: 0.7100\n",
      "Epoch 60/100\n",
      "200/200 [==============================] - 10s 50ms/step - loss: 1.5656e-07 - accuracy: 1.0000 - val_loss: 4.2550 - val_accuracy: 0.7130\n",
      "Epoch 61/100\n",
      "200/200 [==============================] - 9s 45ms/step - loss: 1.3033e-07 - accuracy: 1.0000 - val_loss: 4.2579 - val_accuracy: 0.7110\n",
      "Epoch 62/100\n",
      "200/200 [==============================] - 9s 43ms/step - loss: 1.2186e-07 - accuracy: 1.0000 - val_loss: 4.2860 - val_accuracy: 0.7110\n",
      "Epoch 63/100\n",
      "200/200 [==============================] - 9s 43ms/step - loss: 1.1418e-07 - accuracy: 1.0000 - val_loss: 4.3067 - val_accuracy: 0.7110\n",
      "Epoch 64/100\n",
      "200/200 [==============================] - 10s 50ms/step - loss: 9.3325e-08 - accuracy: 1.0000 - val_loss: 4.3279 - val_accuracy: 0.7090\n",
      "Epoch 65/100\n",
      "200/200 [==============================] - 9s 44ms/step - loss: 8.8656e-08 - accuracy: 1.0000 - val_loss: 4.3339 - val_accuracy: 0.7090\n",
      "Epoch 66/100\n",
      "200/200 [==============================] - 8s 42ms/step - loss: 7.7832e-08 - accuracy: 1.0000 - val_loss: 4.3519 - val_accuracy: 0.7100\n",
      "Epoch 67/100\n",
      "200/200 [==============================] - 8s 42ms/step - loss: 7.3386e-08 - accuracy: 1.0000 - val_loss: 4.3681 - val_accuracy: 0.7080\n",
      "Epoch 68/100\n",
      "200/200 [==============================] - 11s 53ms/step - loss: 6.6110e-08 - accuracy: 1.0000 - val_loss: 4.3937 - val_accuracy: 0.7100\n",
      "Epoch 69/100\n",
      "200/200 [==============================] - 8s 42ms/step - loss: 6.4567e-08 - accuracy: 1.0000 - val_loss: 4.3878 - val_accuracy: 0.7060\n",
      "Epoch 70/100\n",
      "200/200 [==============================] - 8s 42ms/step - loss: 5.5104e-08 - accuracy: 1.0000 - val_loss: 4.4235 - val_accuracy: 0.7090\n",
      "Epoch 71/100\n",
      "200/200 [==============================] - 8s 42ms/step - loss: 4.8506e-08 - accuracy: 1.0000 - val_loss: 4.4290 - val_accuracy: 0.7090\n",
      "Epoch 72/100\n",
      "200/200 [==============================] - 11s 54ms/step - loss: 4.5790e-08 - accuracy: 1.0000 - val_loss: 4.4550 - val_accuracy: 0.7090\n",
      "Epoch 73/100\n",
      "200/200 [==============================] - 9s 44ms/step - loss: 4.3696e-08 - accuracy: 1.0000 - val_loss: 4.4666 - val_accuracy: 0.7080\n",
      "Epoch 74/100\n",
      "200/200 [==============================] - 9s 43ms/step - loss: 4.3195e-08 - accuracy: 1.0000 - val_loss: 4.4812 - val_accuracy: 0.7080\n",
      "Epoch 75/100\n",
      "200/200 [==============================] - 8s 42ms/step - loss: 3.6497e-08 - accuracy: 1.0000 - val_loss: 4.4933 - val_accuracy: 0.7070\n",
      "Epoch 76/100\n",
      "200/200 [==============================] - 11s 54ms/step - loss: 3.6814e-08 - accuracy: 1.0000 - val_loss: 4.5151 - val_accuracy: 0.7070\n",
      "Epoch 77/100\n",
      "200/200 [==============================] - 8s 41ms/step - loss: 3.4208e-08 - accuracy: 1.0000 - val_loss: 4.5333 - val_accuracy: 0.7060\n",
      "Epoch 78/100\n",
      "200/200 [==============================] - 8s 42ms/step - loss: 2.8957e-08 - accuracy: 1.0000 - val_loss: 4.5499 - val_accuracy: 0.7090\n",
      "Epoch 79/100\n",
      "200/200 [==============================] - 9s 45ms/step - loss: 2.8192e-08 - accuracy: 1.0000 - val_loss: 4.5629 - val_accuracy: 0.7070\n",
      "Epoch 80/100\n",
      "200/200 [==============================] - 10s 52ms/step - loss: 2.4454e-08 - accuracy: 1.0000 - val_loss: 4.5634 - val_accuracy: 0.7070\n",
      "Epoch 81/100\n",
      "200/200 [==============================] - 8s 42ms/step - loss: 2.2579e-08 - accuracy: 1.0000 - val_loss: 4.5974 - val_accuracy: 0.7060\n",
      "Epoch 82/100\n",
      "200/200 [==============================] - 8s 42ms/step - loss: 2.1447e-08 - accuracy: 1.0000 - val_loss: 4.6068 - val_accuracy: 0.7070\n",
      "Epoch 83/100\n",
      "200/200 [==============================] - 9s 45ms/step - loss: 1.9437e-08 - accuracy: 1.0000 - val_loss: 4.6344 - val_accuracy: 0.7080\n",
      "Epoch 84/100\n",
      "200/200 [==============================] - 10s 52ms/step - loss: 1.8439e-08 - accuracy: 1.0000 - val_loss: 4.6508 - val_accuracy: 0.7070\n",
      "Epoch 85/100\n",
      "200/200 [==============================] - 8s 42ms/step - loss: 1.6450e-08 - accuracy: 1.0000 - val_loss: 4.6565 - val_accuracy: 0.7070\n",
      "Epoch 86/100\n",
      "200/200 [==============================] - 8s 42ms/step - loss: 1.5437e-08 - accuracy: 1.0000 - val_loss: 4.6667 - val_accuracy: 0.7080\n",
      "Epoch 87/100\n",
      "200/200 [==============================] - 9s 45ms/step - loss: 1.4458e-08 - accuracy: 1.0000 - val_loss: 4.6846 - val_accuracy: 0.7070\n",
      "Epoch 88/100\n",
      "200/200 [==============================] - 10s 51ms/step - loss: 1.2912e-08 - accuracy: 1.0000 - val_loss: 4.6972 - val_accuracy: 0.7070\n",
      "Epoch 89/100\n",
      "200/200 [==============================] - 9s 43ms/step - loss: 1.1708e-08 - accuracy: 1.0000 - val_loss: 4.7180 - val_accuracy: 0.7070\n",
      "Epoch 90/100\n",
      "200/200 [==============================] - 9s 45ms/step - loss: 1.1215e-08 - accuracy: 1.0000 - val_loss: 4.7264 - val_accuracy: 0.7080\n",
      "Epoch 91/100\n",
      "200/200 [==============================] - 9s 43ms/step - loss: 1.0112e-08 - accuracy: 1.0000 - val_loss: 4.7485 - val_accuracy: 0.7080\n",
      "Epoch 92/100\n",
      "200/200 [==============================] - 11s 53ms/step - loss: 9.3479e-09 - accuracy: 1.0000 - val_loss: 4.7583 - val_accuracy: 0.7080\n",
      "Epoch 93/100\n",
      "200/200 [==============================] - 8s 42ms/step - loss: 9.4342e-09 - accuracy: 1.0000 - val_loss: 4.7758 - val_accuracy: 0.7070\n",
      "Epoch 94/100\n",
      "200/200 [==============================] - 9s 44ms/step - loss: 8.4567e-09 - accuracy: 1.0000 - val_loss: 4.7961 - val_accuracy: 0.7070\n",
      "Epoch 95/100\n",
      "200/200 [==============================] - 9s 43ms/step - loss: 7.6996e-09 - accuracy: 1.0000 - val_loss: 4.8057 - val_accuracy: 0.7070\n",
      "Epoch 96/100\n",
      "200/200 [==============================] - 11s 54ms/step - loss: 6.9946e-09 - accuracy: 1.0000 - val_loss: 4.8283 - val_accuracy: 0.7040\n",
      "Epoch 97/100\n",
      "200/200 [==============================] - 9s 45ms/step - loss: 6.6891e-09 - accuracy: 1.0000 - val_loss: 4.8206 - val_accuracy: 0.7070\n",
      "Epoch 98/100\n",
      "200/200 [==============================] - 9s 43ms/step - loss: 6.7758e-09 - accuracy: 1.0000 - val_loss: 4.8505 - val_accuracy: 0.7040\n",
      "Epoch 99/100\n",
      "200/200 [==============================] - 8s 41ms/step - loss: 6.5032e-09 - accuracy: 1.0000 - val_loss: 4.8703 - val_accuracy: 0.7070\n",
      "Epoch 100/100\n",
      "200/200 [==============================] - 11s 54ms/step - loss: 5.5747e-09 - accuracy: 1.0000 - val_loss: 4.8863 - val_accuracy: 0.7070\n"
     ]
    }
   ],
   "source": [
    "history2=model2.fit(\n",
    "      train_generator,\n",
    "      epochs=100,\n",
    "      validation_data=validation_generator)"
   ]
  },
  {
   "cell_type": "code",
   "execution_count": 38,
   "id": "ab95f5d6",
   "metadata": {
    "execution": {
     "iopub.execute_input": "2021-09-24T13:16:42.264506Z",
     "iopub.status.busy": "2021-09-24T13:16:42.262933Z",
     "iopub.status.idle": "2021-09-24T13:16:42.726879Z",
     "shell.execute_reply": "2021-09-24T13:16:42.727302Z",
     "shell.execute_reply.started": "2021-09-22T18:32:44.416524Z"
    },
    "papermill": {
     "duration": 4.097599,
     "end_time": "2021-09-24T13:16:42.727470",
     "exception": false,
     "start_time": "2021-09-24T13:16:38.629871",
     "status": "completed"
    },
    "tags": []
   },
   "outputs": [
    {
     "data": {
      "text/plain": [
       "<Figure size 432x288 with 0 Axes>"
      ]
     },
     "execution_count": 38,
     "metadata": {},
     "output_type": "execute_result"
    },
    {
     "data": {
      "image/png": "[encoded data removed]",
      "text/plain": [
       "<Figure size 432x288 with 1 Axes>"
      ]
     },
     "metadata": {
      "needs_background": "light"
     },
     "output_type": "display_data"
    },
    {
     "data": {
      "image/png": "[encoded data removed]",
      "text/plain": [
       "<Figure size 432x288 with 1 Axes>"
      ]
     },
     "metadata": {
      "needs_background": "light"
     },
     "output_type": "display_data"
    },
    {
     "data": {
      "text/plain": [
       "<Figure size 432x288 with 0 Axes>"
      ]
     },
     "metadata": {},
     "output_type": "display_data"
    }
   ],
   "source": [
    "%matplotlib inline\n",
    "\n",
    "import matplotlib.image  as mpimg\n",
    "import matplotlib.pyplot as plt\n",
    "\n",
    "loss=history2.history['loss']\n",
    "val_loss=history2.history['val_loss']\n",
    "acc=history2.history['accuracy']\n",
    "val_acc=history2.history['val_accuracy']\n",
    "\n",
    "epochs=range(len(acc))\n",
    "\n",
    "plt.plot(epochs, loss, 'r', label = 'Training loss')\n",
    "plt.plot(epochs, val_loss, 'b', label ='Validation loss')\n",
    "plt.title('Training and validation loss')\n",
    "plt.legend()\n",
    "plt.figure()\n",
    "\n",
    "plt.plot(epochs, acc, 'r', label = 'Training Accuracy')\n",
    "plt.plot(epochs, val_acc, 'b', label ='Validation Accuracy')\n",
    "plt.title('Training and validation Accuracy')\n",
    "plt.legend()\n",
    "plt.figure()"
   ]
  },
  {
   "cell_type": "code",
   "execution_count": 39,
   "id": "0a7dafe7",
   "metadata": {
    "execution": {
     "iopub.execute_input": "2021-09-24T13:16:49.402094Z",
     "iopub.status.busy": "2021-09-24T13:16:49.401258Z",
     "iopub.status.idle": "2021-09-24T13:16:52.151738Z",
     "shell.execute_reply": "2021-09-24T13:16:52.152282Z",
     "shell.execute_reply.started": "2021-09-22T18:33:14.281193Z"
    },
    "papermill": {
     "duration": 6.200403,
     "end_time": "2021-09-24T13:16:52.152479",
     "exception": false,
     "start_time": "2021-09-24T13:16:45.952076",
     "status": "completed"
    },
    "tags": []
   },
   "outputs": [
    {
     "name": "stdout",
     "output_type": "stream",
     "text": [
      "100/100 [==============================] - 3s 27ms/step - loss: 4.8863 - accuracy: 0.7070\n",
      "loss :  4.88627290725708\n",
      "accuracy :  0.7070000171661377\n",
      "\n"
     ]
    }
   ],
   "source": [
    "test_eval2=model2.evaluate(validation_generator)\n",
    "for name, value in zip(model2.metrics_names, test_eval2):\n",
    "  print(name, ': ', value)\n",
    "print()"
   ]
  },
  {
   "cell_type": "code",
   "execution_count": 40,
   "id": "c0a8df40",
   "metadata": {
    "execution": {
     "iopub.execute_input": "2021-09-24T13:16:58.773166Z",
     "iopub.status.busy": "2021-09-24T13:16:58.772234Z",
     "iopub.status.idle": "2021-09-24T13:16:58.829838Z",
     "shell.execute_reply": "2021-09-24T13:16:58.829342Z",
     "shell.execute_reply.started": "2021-09-22T17:59:31.019831Z"
    },
    "papermill": {
     "duration": 3.483165,
     "end_time": "2021-09-24T13:16:58.829956",
     "exception": false,
     "start_time": "2021-09-24T13:16:55.346791",
     "status": "completed"
    },
    "tags": []
   },
   "outputs": [],
   "source": [
    "#Simpan model\n",
    "model2.save(\"CNN Berwarna.h5\")"
   ]
  },
  {
   "cell_type": "code",
   "execution_count": 41,
   "id": "1bff1349",
   "metadata": {
    "execution": {
     "iopub.execute_input": "2021-09-24T13:17:05.189834Z",
     "iopub.status.busy": "2021-09-24T13:17:05.188928Z",
     "iopub.status.idle": "2021-09-24T13:17:05.303695Z",
     "shell.execute_reply": "2021-09-24T13:17:05.303113Z",
     "shell.execute_reply.started": "2021-09-22T17:59:31.058804Z"
    },
    "papermill": {
     "duration": 3.295256,
     "end_time": "2021-09-24T13:17:05.303821",
     "exception": false,
     "start_time": "2021-09-24T13:17:02.008565",
     "status": "completed"
    },
    "tags": []
   },
   "outputs": [],
   "source": [
    "#Memuat (load) model \n",
    "model2=load_model(\"CNN Berwarna.h5\")"
   ]
  },
  {
   "cell_type": "markdown",
   "id": "37898112",
   "metadata": {
    "papermill": {
     "duration": 3.681803,
     "end_time": "2021-09-24T13:17:12.363619",
     "exception": false,
     "start_time": "2021-09-24T13:17:08.681816",
     "status": "completed"
    },
    "tags": []
   },
   "source": [
    "### Transfer Learning"
   ]
  },
  {
   "cell_type": "code",
   "execution_count": 42,
   "id": "5931b7fb",
   "metadata": {
    "execution": {
     "iopub.execute_input": "2021-09-24T13:17:18.725821Z",
     "iopub.status.busy": "2021-09-24T13:17:18.724941Z",
     "iopub.status.idle": "2021-09-24T13:17:18.726740Z",
     "shell.execute_reply": "2021-09-24T13:17:18.727212Z",
     "shell.execute_reply.started": "2021-09-24T12:33:55.451684Z"
    },
    "papermill": {
     "duration": 3.174211,
     "end_time": "2021-09-24T13:17:18.727349",
     "exception": false,
     "start_time": "2021-09-24T13:17:15.553138",
     "status": "completed"
    },
    "tags": []
   },
   "outputs": [],
   "source": [
    "from tensorflow.keras.applications import InceptionV3"
   ]
  },
  {
   "cell_type": "code",
   "execution_count": 43,
   "id": "35529d80",
   "metadata": {
    "execution": {
     "iopub.execute_input": "2021-09-24T13:17:25.322654Z",
     "iopub.status.busy": "2021-09-24T13:17:25.321813Z",
     "iopub.status.idle": "2021-09-24T13:17:27.873815Z",
     "shell.execute_reply": "2021-09-24T13:17:27.873263Z",
     "shell.execute_reply.started": "2021-09-24T12:33:58.159498Z"
    },
    "papermill": {
     "duration": 5.732624,
     "end_time": "2021-09-24T13:17:27.873950",
     "exception": false,
     "start_time": "2021-09-24T13:17:22.141326",
     "status": "completed"
    },
    "tags": []
   },
   "outputs": [
    {
     "name": "stdout",
     "output_type": "stream",
     "text": [
      "Downloading data from https://storage.googleapis.com/tensorflow/keras-applications/inception_v3/inception_v3_weights_tf_dim_ordering_tf_kernels_notop.h5\n",
      "87916544/87910968 [==============================] - 1s 0us/step\n"
     ]
    }
   ],
   "source": [
    "incept_model=InceptionV3(input_shape=(150,150,3),include_top=False)\n",
    "incept_model.trainable=False"
   ]
  },
  {
   "cell_type": "code",
   "execution_count": 44,
   "id": "f7e98048",
   "metadata": {
    "execution": {
     "iopub.execute_input": "2021-09-24T13:17:34.617924Z",
     "iopub.status.busy": "2021-09-24T13:17:34.614098Z",
     "iopub.status.idle": "2021-09-24T13:17:34.753905Z",
     "shell.execute_reply": "2021-09-24T13:17:34.753193Z",
     "shell.execute_reply.started": "2021-09-24T12:34:05.437027Z"
    },
    "papermill": {
     "duration": 3.404466,
     "end_time": "2021-09-24T13:17:34.754117",
     "exception": false,
     "start_time": "2021-09-24T13:17:31.349651",
     "status": "completed"
    },
    "tags": []
   },
   "outputs": [
    {
     "name": "stdout",
     "output_type": "stream",
     "text": [
      "Model: \"inception_v3\"\n",
      "__________________________________________________________________________________________________\n",
      "Layer (type)                    Output Shape         Param #     Connected to                     \n",
      "==================================================================================================\n",
      "input_3 (InputLayer)            [(None, 150, 150, 3) 0                                            \n",
      "__________________________________________________________________________________________________\n",
      "conv2d_7 (Conv2D)               (None, 74, 74, 32)   864         input_3[0][0]                    \n",
      "__________________________________________________________________________________________________\n",
      "batch_normalization (BatchNorma (None, 74, 74, 32)   96          conv2d_7[0][0]                   \n",
      "__________________________________________________________________________________________________\n",
      "activation (Activation)         (None, 74, 74, 32)   0           batch_normalization[0][0]        \n",
      "__________________________________________________________________________________________________\n",
      "conv2d_8 (Conv2D)               (None, 72, 72, 32)   9216        activation[0][0]                 \n",
      "__________________________________________________________________________________________________\n",
      "batch_normalization_1 (BatchNor (None, 72, 72, 32)   96          conv2d_8[0][0]                   \n",
      "__________________________________________________________________________________________________\n",
      "activation_1 (Activation)       (None, 72, 72, 32)   0           batch_normalization_1[0][0]      \n",
      "__________________________________________________________________________________________________\n",
      "conv2d_9 (Conv2D)               (None, 72, 72, 64)   18432       activation_1[0][0]               \n",
      "__________________________________________________________________________________________________\n",
      "batch_normalization_2 (BatchNor (None, 72, 72, 64)   192         conv2d_9[0][0]                   \n",
      "__________________________________________________________________________________________________\n",
      "activation_2 (Activation)       (None, 72, 72, 64)   0           batch_normalization_2[0][0]      \n",
      "__________________________________________________________________________________________________\n",
      "max_pooling2d_7 (MaxPooling2D)  (None, 35, 35, 64)   0           activation_2[0][0]               \n",
      "__________________________________________________________________________________________________\n",
      "conv2d_10 (Conv2D)              (None, 35, 35, 80)   5120        max_pooling2d_7[0][0]            \n",
      "__________________________________________________________________________________________________\n",
      "batch_normalization_3 (BatchNor (None, 35, 35, 80)   240         conv2d_10[0][0]                  \n",
      "__________________________________________________________________________________________________\n",
      "activation_3 (Activation)       (None, 35, 35, 80)   0           batch_normalization_3[0][0]      \n",
      "__________________________________________________________________________________________________\n",
      "conv2d_11 (Conv2D)              (None, 33, 33, 192)  138240      activation_3[0][0]               \n",
      "__________________________________________________________________________________________________\n",
      "batch_normalization_4 (BatchNor (None, 33, 33, 192)  576         conv2d_11[0][0]                  \n",
      "__________________________________________________________________________________________________\n",
      "activation_4 (Activation)       (None, 33, 33, 192)  0           batch_normalization_4[0][0]      \n",
      "__________________________________________________________________________________________________\n",
      "max_pooling2d_8 (MaxPooling2D)  (None, 16, 16, 192)  0           activation_4[0][0]               \n",
      "__________________________________________________________________________________________________\n",
      "conv2d_15 (Conv2D)              (None, 16, 16, 64)   12288       max_pooling2d_8[0][0]            \n",
      "__________________________________________________________________________________________________\n",
      "batch_normalization_8 (BatchNor (None, 16, 16, 64)   192         conv2d_15[0][0]                  \n",
      "__________________________________________________________________________________________________\n",
      "activation_8 (Activation)       (None, 16, 16, 64)   0           batch_normalization_8[0][0]      \n",
      "__________________________________________________________________________________________________\n",
      "conv2d_13 (Conv2D)              (None, 16, 16, 48)   9216        max_pooling2d_8[0][0]            \n",
      "__________________________________________________________________________________________________\n",
      "conv2d_16 (Conv2D)              (None, 16, 16, 96)   55296       activation_8[0][0]               \n",
      "__________________________________________________________________________________________________\n",
      "batch_normalization_6 (BatchNor (None, 16, 16, 48)   144         conv2d_13[0][0]                  \n",
      "__________________________________________________________________________________________________\n",
      "batch_normalization_9 (BatchNor (None, 16, 16, 96)   288         conv2d_16[0][0]                  \n",
      "__________________________________________________________________________________________________\n",
      "activation_6 (Activation)       (None, 16, 16, 48)   0           batch_normalization_6[0][0]      \n",
      "__________________________________________________________________________________________________\n",
      "activation_9 (Activation)       (None, 16, 16, 96)   0           batch_normalization_9[0][0]      \n",
      "__________________________________________________________________________________________________\n",
      "average_pooling2d (AveragePooli (None, 16, 16, 192)  0           max_pooling2d_8[0][0]            \n",
      "__________________________________________________________________________________________________\n",
      "conv2d_12 (Conv2D)              (None, 16, 16, 64)   12288       max_pooling2d_8[0][0]            \n",
      "__________________________________________________________________________________________________\n",
      "conv2d_14 (Conv2D)              (None, 16, 16, 64)   76800       activation_6[0][0]               \n",
      "__________________________________________________________________________________________________\n",
      "conv2d_17 (Conv2D)              (None, 16, 16, 96)   82944       activation_9[0][0]               \n",
      "__________________________________________________________________________________________________\n",
      "conv2d_18 (Conv2D)              (None, 16, 16, 32)   6144        average_pooling2d[0][0]          \n",
      "__________________________________________________________________________________________________\n",
      "batch_normalization_5 (BatchNor (None, 16, 16, 64)   192         conv2d_12[0][0]                  \n",
      "__________________________________________________________________________________________________\n",
      "batch_normalization_7 (BatchNor (None, 16, 16, 64)   192         conv2d_14[0][0]                  \n",
      "__________________________________________________________________________________________________\n",
      "batch_normalization_10 (BatchNo (None, 16, 16, 96)   288         conv2d_17[0][0]                  \n",
      "__________________________________________________________________________________________________\n",
      "batch_normalization_11 (BatchNo (None, 16, 16, 32)   96          conv2d_18[0][0]                  \n",
      "__________________________________________________________________________________________________\n",
      "activation_5 (Activation)       (None, 16, 16, 64)   0           batch_normalization_5[0][0]      \n",
      "__________________________________________________________________________________________________\n",
      "activation_7 (Activation)       (None, 16, 16, 64)   0           batch_normalization_7[0][0]      \n",
      "__________________________________________________________________________________________________\n",
      "activation_10 (Activation)      (None, 16, 16, 96)   0           batch_normalization_10[0][0]     \n",
      "__________________________________________________________________________________________________\n",
      "activation_11 (Activation)      (None, 16, 16, 32)   0           batch_normalization_11[0][0]     \n",
      "__________________________________________________________________________________________________\n",
      "mixed0 (Concatenate)            (None, 16, 16, 256)  0           activation_5[0][0]               \n",
      "                                                                 activation_7[0][0]               \n",
      "                                                                 activation_10[0][0]              \n",
      "                                                                 activation_11[0][0]              \n",
      "__________________________________________________________________________________________________\n",
      "conv2d_22 (Conv2D)              (None, 16, 16, 64)   16384       mixed0[0][0]                     \n",
      "__________________________________________________________________________________________________\n",
      "batch_normalization_15 (BatchNo (None, 16, 16, 64)   192         conv2d_22[0][0]                  \n",
      "__________________________________________________________________________________________________\n",
      "activation_15 (Activation)      (None, 16, 16, 64)   0           batch_normalization_15[0][0]     \n",
      "__________________________________________________________________________________________________\n",
      "conv2d_20 (Conv2D)              (None, 16, 16, 48)   12288       mixed0[0][0]                     \n",
      "__________________________________________________________________________________________________\n",
      "conv2d_23 (Conv2D)              (None, 16, 16, 96)   55296       activation_15[0][0]              \n",
      "__________________________________________________________________________________________________\n",
      "batch_normalization_13 (BatchNo (None, 16, 16, 48)   144         conv2d_20[0][0]                  \n",
      "__________________________________________________________________________________________________\n",
      "batch_normalization_16 (BatchNo (None, 16, 16, 96)   288         conv2d_23[0][0]                  \n",
      "__________________________________________________________________________________________________\n",
      "activation_13 (Activation)      (None, 16, 16, 48)   0           batch_normalization_13[0][0]     \n",
      "__________________________________________________________________________________________________\n",
      "activation_16 (Activation)      (None, 16, 16, 96)   0           batch_normalization_16[0][0]     \n",
      "__________________________________________________________________________________________________\n",
      "average_pooling2d_1 (AveragePoo (None, 16, 16, 256)  0           mixed0[0][0]                     \n",
      "__________________________________________________________________________________________________\n",
      "conv2d_19 (Conv2D)              (None, 16, 16, 64)   16384       mixed0[0][0]                     \n",
      "__________________________________________________________________________________________________\n",
      "conv2d_21 (Conv2D)              (None, 16, 16, 64)   76800       activation_13[0][0]              \n",
      "__________________________________________________________________________________________________\n",
      "conv2d_24 (Conv2D)              (None, 16, 16, 96)   82944       activation_16[0][0]              \n",
      "__________________________________________________________________________________________________\n",
      "conv2d_25 (Conv2D)              (None, 16, 16, 64)   16384       average_pooling2d_1[0][0]        \n",
      "__________________________________________________________________________________________________\n",
      "batch_normalization_12 (BatchNo (None, 16, 16, 64)   192         conv2d_19[0][0]                  \n",
      "__________________________________________________________________________________________________\n",
      "batch_normalization_14 (BatchNo (None, 16, 16, 64)   192         conv2d_21[0][0]                  \n",
      "__________________________________________________________________________________________________\n",
      "batch_normalization_17 (BatchNo (None, 16, 16, 96)   288         conv2d_24[0][0]                  \n",
      "__________________________________________________________________________________________________\n",
      "batch_normalization_18 (BatchNo (None, 16, 16, 64)   192         conv2d_25[0][0]                  \n",
      "__________________________________________________________________________________________________\n",
      "activation_12 (Activation)      (None, 16, 16, 64)   0           batch_normalization_12[0][0]     \n",
      "__________________________________________________________________________________________________\n",
      "activation_14 (Activation)      (None, 16, 16, 64)   0           batch_normalization_14[0][0]     \n",
      "__________________________________________________________________________________________________\n",
      "activation_17 (Activation)      (None, 16, 16, 96)   0           batch_normalization_17[0][0]     \n",
      "__________________________________________________________________________________________________\n",
      "activation_18 (Activation)      (None, 16, 16, 64)   0           batch_normalization_18[0][0]     \n",
      "__________________________________________________________________________________________________\n",
      "mixed1 (Concatenate)            (None, 16, 16, 288)  0           activation_12[0][0]              \n",
      "                                                                 activation_14[0][0]              \n",
      "                                                                 activation_17[0][0]              \n",
      "                                                                 activation_18[0][0]              \n",
      "__________________________________________________________________________________________________\n",
      "conv2d_29 (Conv2D)              (None, 16, 16, 64)   18432       mixed1[0][0]                     \n",
      "__________________________________________________________________________________________________\n",
      "batch_normalization_22 (BatchNo (None, 16, 16, 64)   192         conv2d_29[0][0]                  \n",
      "__________________________________________________________________________________________________\n",
      "activation_22 (Activation)      (None, 16, 16, 64)   0           batch_normalization_22[0][0]     \n",
      "__________________________________________________________________________________________________\n",
      "conv2d_27 (Conv2D)              (None, 16, 16, 48)   13824       mixed1[0][0]                     \n",
      "__________________________________________________________________________________________________\n",
      "conv2d_30 (Conv2D)              (None, 16, 16, 96)   55296       activation_22[0][0]              \n",
      "__________________________________________________________________________________________________\n",
      "batch_normalization_20 (BatchNo (None, 16, 16, 48)   144         conv2d_27[0][0]                  \n",
      "__________________________________________________________________________________________________\n",
      "batch_normalization_23 (BatchNo (None, 16, 16, 96)   288         conv2d_30[0][0]                  \n",
      "__________________________________________________________________________________________________\n",
      "activation_20 (Activation)      (None, 16, 16, 48)   0           batch_normalization_20[0][0]     \n",
      "__________________________________________________________________________________________________\n",
      "activation_23 (Activation)      (None, 16, 16, 96)   0           batch_normalization_23[0][0]     \n",
      "__________________________________________________________________________________________________\n",
      "average_pooling2d_2 (AveragePoo (None, 16, 16, 288)  0           mixed1[0][0]                     \n",
      "__________________________________________________________________________________________________\n",
      "conv2d_26 (Conv2D)              (None, 16, 16, 64)   18432       mixed1[0][0]                     \n",
      "__________________________________________________________________________________________________\n",
      "conv2d_28 (Conv2D)              (None, 16, 16, 64)   76800       activation_20[0][0]              \n",
      "__________________________________________________________________________________________________\n",
      "conv2d_31 (Conv2D)              (None, 16, 16, 96)   82944       activation_23[0][0]              \n",
      "__________________________________________________________________________________________________\n",
      "conv2d_32 (Conv2D)              (None, 16, 16, 64)   18432       average_pooling2d_2[0][0]        \n",
      "__________________________________________________________________________________________________\n",
      "batch_normalization_19 (BatchNo (None, 16, 16, 64)   192         conv2d_26[0][0]                  \n",
      "__________________________________________________________________________________________________\n",
      "batch_normalization_21 (BatchNo (None, 16, 16, 64)   192         conv2d_28[0][0]                  \n",
      "__________________________________________________________________________________________________\n",
      "batch_normalization_24 (BatchNo (None, 16, 16, 96)   288         conv2d_31[0][0]                  \n",
      "__________________________________________________________________________________________________\n",
      "batch_normalization_25 (BatchNo (None, 16, 16, 64)   192         conv2d_32[0][0]                  \n",
      "__________________________________________________________________________________________________\n",
      "activation_19 (Activation)      (None, 16, 16, 64)   0           batch_normalization_19[0][0]     \n",
      "__________________________________________________________________________________________________\n",
      "activation_21 (Activation)      (None, 16, 16, 64)   0           batch_normalization_21[0][0]     \n",
      "__________________________________________________________________________________________________\n",
      "activation_24 (Activation)      (None, 16, 16, 96)   0           batch_normalization_24[0][0]     \n",
      "__________________________________________________________________________________________________\n",
      "activation_25 (Activation)      (None, 16, 16, 64)   0           batch_normalization_25[0][0]     \n",
      "__________________________________________________________________________________________________\n",
      "mixed2 (Concatenate)            (None, 16, 16, 288)  0           activation_19[0][0]              \n",
      "                                                                 activation_21[0][0]              \n",
      "                                                                 activation_24[0][0]              \n",
      "                                                                 activation_25[0][0]              \n",
      "__________________________________________________________________________________________________\n",
      "conv2d_34 (Conv2D)              (None, 16, 16, 64)   18432       mixed2[0][0]                     \n",
      "__________________________________________________________________________________________________\n",
      "batch_normalization_27 (BatchNo (None, 16, 16, 64)   192         conv2d_34[0][0]                  \n",
      "__________________________________________________________________________________________________\n",
      "activation_27 (Activation)      (None, 16, 16, 64)   0           batch_normalization_27[0][0]     \n",
      "__________________________________________________________________________________________________\n",
      "conv2d_35 (Conv2D)              (None, 16, 16, 96)   55296       activation_27[0][0]              \n",
      "__________________________________________________________________________________________________\n",
      "batch_normalization_28 (BatchNo (None, 16, 16, 96)   288         conv2d_35[0][0]                  \n",
      "__________________________________________________________________________________________________\n",
      "activation_28 (Activation)      (None, 16, 16, 96)   0           batch_normalization_28[0][0]     \n",
      "__________________________________________________________________________________________________\n",
      "conv2d_33 (Conv2D)              (None, 7, 7, 384)    995328      mixed2[0][0]                     \n",
      "__________________________________________________________________________________________________\n",
      "conv2d_36 (Conv2D)              (None, 7, 7, 96)     82944       activation_28[0][0]              \n",
      "__________________________________________________________________________________________________\n",
      "batch_normalization_26 (BatchNo (None, 7, 7, 384)    1152        conv2d_33[0][0]                  \n",
      "__________________________________________________________________________________________________\n",
      "batch_normalization_29 (BatchNo (None, 7, 7, 96)     288         conv2d_36[0][0]                  \n",
      "__________________________________________________________________________________________________\n",
      "activation_26 (Activation)      (None, 7, 7, 384)    0           batch_normalization_26[0][0]     \n",
      "__________________________________________________________________________________________________\n",
      "activation_29 (Activation)      (None, 7, 7, 96)     0           batch_normalization_29[0][0]     \n",
      "__________________________________________________________________________________________________\n",
      "max_pooling2d_9 (MaxPooling2D)  (None, 7, 7, 288)    0           mixed2[0][0]                     \n",
      "__________________________________________________________________________________________________\n",
      "mixed3 (Concatenate)            (None, 7, 7, 768)    0           activation_26[0][0]              \n",
      "                                                                 activation_29[0][0]              \n",
      "                                                                 max_pooling2d_9[0][0]            \n",
      "__________________________________________________________________________________________________\n",
      "conv2d_41 (Conv2D)              (None, 7, 7, 128)    98304       mixed3[0][0]                     \n",
      "__________________________________________________________________________________________________\n",
      "batch_normalization_34 (BatchNo (None, 7, 7, 128)    384         conv2d_41[0][0]                  \n",
      "__________________________________________________________________________________________________\n",
      "activation_34 (Activation)      (None, 7, 7, 128)    0           batch_normalization_34[0][0]     \n",
      "__________________________________________________________________________________________________\n",
      "conv2d_42 (Conv2D)              (None, 7, 7, 128)    114688      activation_34[0][0]              \n",
      "__________________________________________________________________________________________________\n",
      "batch_normalization_35 (BatchNo (None, 7, 7, 128)    384         conv2d_42[0][0]                  \n",
      "__________________________________________________________________________________________________\n",
      "activation_35 (Activation)      (None, 7, 7, 128)    0           batch_normalization_35[0][0]     \n",
      "__________________________________________________________________________________________________\n",
      "conv2d_38 (Conv2D)              (None, 7, 7, 128)    98304       mixed3[0][0]                     \n",
      "__________________________________________________________________________________________________\n",
      "conv2d_43 (Conv2D)              (None, 7, 7, 128)    114688      activation_35[0][0]              \n",
      "__________________________________________________________________________________________________\n",
      "batch_normalization_31 (BatchNo (None, 7, 7, 128)    384         conv2d_38[0][0]                  \n",
      "__________________________________________________________________________________________________\n",
      "batch_normalization_36 (BatchNo (None, 7, 7, 128)    384         conv2d_43[0][0]                  \n",
      "__________________________________________________________________________________________________\n",
      "activation_31 (Activation)      (None, 7, 7, 128)    0           batch_normalization_31[0][0]     \n",
      "__________________________________________________________________________________________________\n",
      "activation_36 (Activation)      (None, 7, 7, 128)    0           batch_normalization_36[0][0]     \n",
      "__________________________________________________________________________________________________\n",
      "conv2d_39 (Conv2D)              (None, 7, 7, 128)    114688      activation_31[0][0]              \n",
      "__________________________________________________________________________________________________\n",
      "conv2d_44 (Conv2D)              (None, 7, 7, 128)    114688      activation_36[0][0]              \n",
      "__________________________________________________________________________________________________\n",
      "batch_normalization_32 (BatchNo (None, 7, 7, 128)    384         conv2d_39[0][0]                  \n",
      "__________________________________________________________________________________________________\n",
      "batch_normalization_37 (BatchNo (None, 7, 7, 128)    384         conv2d_44[0][0]                  \n",
      "__________________________________________________________________________________________________\n",
      "activation_32 (Activation)      (None, 7, 7, 128)    0           batch_normalization_32[0][0]     \n",
      "__________________________________________________________________________________________________\n",
      "activation_37 (Activation)      (None, 7, 7, 128)    0           batch_normalization_37[0][0]     \n",
      "__________________________________________________________________________________________________\n",
      "average_pooling2d_3 (AveragePoo (None, 7, 7, 768)    0           mixed3[0][0]                     \n",
      "__________________________________________________________________________________________________\n",
      "conv2d_37 (Conv2D)              (None, 7, 7, 192)    147456      mixed3[0][0]                     \n",
      "__________________________________________________________________________________________________\n",
      "conv2d_40 (Conv2D)              (None, 7, 7, 192)    172032      activation_32[0][0]              \n",
      "__________________________________________________________________________________________________\n",
      "conv2d_45 (Conv2D)              (None, 7, 7, 192)    172032      activation_37[0][0]              \n",
      "__________________________________________________________________________________________________\n",
      "conv2d_46 (Conv2D)              (None, 7, 7, 192)    147456      average_pooling2d_3[0][0]        \n",
      "__________________________________________________________________________________________________\n",
      "batch_normalization_30 (BatchNo (None, 7, 7, 192)    576         conv2d_37[0][0]                  \n",
      "__________________________________________________________________________________________________\n",
      "batch_normalization_33 (BatchNo (None, 7, 7, 192)    576         conv2d_40[0][0]                  \n",
      "__________________________________________________________________________________________________\n",
      "batch_normalization_38 (BatchNo (None, 7, 7, 192)    576         conv2d_45[0][0]                  \n",
      "__________________________________________________________________________________________________\n",
      "batch_normalization_39 (BatchNo (None, 7, 7, 192)    576         conv2d_46[0][0]                  \n",
      "__________________________________________________________________________________________________\n",
      "activation_30 (Activation)      (None, 7, 7, 192)    0           batch_normalization_30[0][0]     \n",
      "__________________________________________________________________________________________________\n",
      "activation_33 (Activation)      (None, 7, 7, 192)    0           batch_normalization_33[0][0]     \n",
      "__________________________________________________________________________________________________\n",
      "activation_38 (Activation)      (None, 7, 7, 192)    0           batch_normalization_38[0][0]     \n",
      "__________________________________________________________________________________________________\n",
      "activation_39 (Activation)      (None, 7, 7, 192)    0           batch_normalization_39[0][0]     \n",
      "__________________________________________________________________________________________________\n",
      "mixed4 (Concatenate)            (None, 7, 7, 768)    0           activation_30[0][0]              \n",
      "                                                                 activation_33[0][0]              \n",
      "                                                                 activation_38[0][0]              \n",
      "                                                                 activation_39[0][0]              \n",
      "__________________________________________________________________________________________________\n",
      "conv2d_51 (Conv2D)              (None, 7, 7, 160)    122880      mixed4[0][0]                     \n",
      "__________________________________________________________________________________________________\n",
      "batch_normalization_44 (BatchNo (None, 7, 7, 160)    480         conv2d_51[0][0]                  \n",
      "__________________________________________________________________________________________________\n",
      "activation_44 (Activation)      (None, 7, 7, 160)    0           batch_normalization_44[0][0]     \n",
      "__________________________________________________________________________________________________\n",
      "conv2d_52 (Conv2D)              (None, 7, 7, 160)    179200      activation_44[0][0]              \n",
      "__________________________________________________________________________________________________\n",
      "batch_normalization_45 (BatchNo (None, 7, 7, 160)    480         conv2d_52[0][0]                  \n",
      "__________________________________________________________________________________________________\n",
      "activation_45 (Activation)      (None, 7, 7, 160)    0           batch_normalization_45[0][0]     \n",
      "__________________________________________________________________________________________________\n",
      "conv2d_48 (Conv2D)              (None, 7, 7, 160)    122880      mixed4[0][0]                     \n",
      "__________________________________________________________________________________________________\n",
      "conv2d_53 (Conv2D)              (None, 7, 7, 160)    179200      activation_45[0][0]              \n",
      "__________________________________________________________________________________________________\n",
      "batch_normalization_41 (BatchNo (None, 7, 7, 160)    480         conv2d_48[0][0]                  \n",
      "__________________________________________________________________________________________________\n",
      "batch_normalization_46 (BatchNo (None, 7, 7, 160)    480         conv2d_53[0][0]                  \n",
      "__________________________________________________________________________________________________\n",
      "activation_41 (Activation)      (None, 7, 7, 160)    0           batch_normalization_41[0][0]     \n",
      "__________________________________________________________________________________________________\n",
      "activation_46 (Activation)      (None, 7, 7, 160)    0           batch_normalization_46[0][0]     \n",
      "__________________________________________________________________________________________________\n",
      "conv2d_49 (Conv2D)              (None, 7, 7, 160)    179200      activation_41[0][0]              \n",
      "__________________________________________________________________________________________________\n",
      "conv2d_54 (Conv2D)              (None, 7, 7, 160)    179200      activation_46[0][0]              \n",
      "__________________________________________________________________________________________________\n",
      "batch_normalization_42 (BatchNo (None, 7, 7, 160)    480         conv2d_49[0][0]                  \n",
      "__________________________________________________________________________________________________\n",
      "batch_normalization_47 (BatchNo (None, 7, 7, 160)    480         conv2d_54[0][0]                  \n",
      "__________________________________________________________________________________________________\n",
      "activation_42 (Activation)      (None, 7, 7, 160)    0           batch_normalization_42[0][0]     \n",
      "__________________________________________________________________________________________________\n",
      "activation_47 (Activation)      (None, 7, 7, 160)    0           batch_normalization_47[0][0]     \n",
      "__________________________________________________________________________________________________\n",
      "average_pooling2d_4 (AveragePoo (None, 7, 7, 768)    0           mixed4[0][0]                     \n",
      "__________________________________________________________________________________________________\n",
      "conv2d_47 (Conv2D)              (None, 7, 7, 192)    147456      mixed4[0][0]                     \n",
      "__________________________________________________________________________________________________\n",
      "conv2d_50 (Conv2D)              (None, 7, 7, 192)    215040      activation_42[0][0]              \n",
      "__________________________________________________________________________________________________\n",
      "conv2d_55 (Conv2D)              (None, 7, 7, 192)    215040      activation_47[0][0]              \n",
      "__________________________________________________________________________________________________\n",
      "conv2d_56 (Conv2D)              (None, 7, 7, 192)    147456      average_pooling2d_4[0][0]        \n",
      "__________________________________________________________________________________________________\n",
      "batch_normalization_40 (BatchNo (None, 7, 7, 192)    576         conv2d_47[0][0]                  \n",
      "__________________________________________________________________________________________________\n",
      "batch_normalization_43 (BatchNo (None, 7, 7, 192)    576         conv2d_50[0][0]                  \n",
      "__________________________________________________________________________________________________\n",
      "batch_normalization_48 (BatchNo (None, 7, 7, 192)    576         conv2d_55[0][0]                  \n",
      "__________________________________________________________________________________________________\n",
      "batch_normalization_49 (BatchNo (None, 7, 7, 192)    576         conv2d_56[0][0]                  \n",
      "__________________________________________________________________________________________________\n",
      "activation_40 (Activation)      (None, 7, 7, 192)    0           batch_normalization_40[0][0]     \n",
      "__________________________________________________________________________________________________\n",
      "activation_43 (Activation)      (None, 7, 7, 192)    0           batch_normalization_43[0][0]     \n",
      "__________________________________________________________________________________________________\n",
      "activation_48 (Activation)      (None, 7, 7, 192)    0           batch_normalization_48[0][0]     \n",
      "__________________________________________________________________________________________________\n",
      "activation_49 (Activation)      (None, 7, 7, 192)    0           batch_normalization_49[0][0]     \n",
      "__________________________________________________________________________________________________\n",
      "mixed5 (Concatenate)            (None, 7, 7, 768)    0           activation_40[0][0]              \n",
      "                                                                 activation_43[0][0]              \n",
      "                                                                 activation_48[0][0]              \n",
      "                                                                 activation_49[0][0]              \n",
      "__________________________________________________________________________________________________\n",
      "conv2d_61 (Conv2D)              (None, 7, 7, 160)    122880      mixed5[0][0]                     \n",
      "__________________________________________________________________________________________________\n",
      "batch_normalization_54 (BatchNo (None, 7, 7, 160)    480         conv2d_61[0][0]                  \n",
      "__________________________________________________________________________________________________\n",
      "activation_54 (Activation)      (None, 7, 7, 160)    0           batch_normalization_54[0][0]     \n",
      "__________________________________________________________________________________________________\n",
      "conv2d_62 (Conv2D)              (None, 7, 7, 160)    179200      activation_54[0][0]              \n",
      "__________________________________________________________________________________________________\n",
      "batch_normalization_55 (BatchNo (None, 7, 7, 160)    480         conv2d_62[0][0]                  \n",
      "__________________________________________________________________________________________________\n",
      "activation_55 (Activation)      (None, 7, 7, 160)    0           batch_normalization_55[0][0]     \n",
      "__________________________________________________________________________________________________\n",
      "conv2d_58 (Conv2D)              (None, 7, 7, 160)    122880      mixed5[0][0]                     \n",
      "__________________________________________________________________________________________________\n",
      "conv2d_63 (Conv2D)              (None, 7, 7, 160)    179200      activation_55[0][0]              \n",
      "__________________________________________________________________________________________________\n",
      "batch_normalization_51 (BatchNo (None, 7, 7, 160)    480         conv2d_58[0][0]                  \n",
      "__________________________________________________________________________________________________\n",
      "batch_normalization_56 (BatchNo (None, 7, 7, 160)    480         conv2d_63[0][0]                  \n",
      "__________________________________________________________________________________________________\n",
      "activation_51 (Activation)      (None, 7, 7, 160)    0           batch_normalization_51[0][0]     \n",
      "__________________________________________________________________________________________________\n",
      "activation_56 (Activation)      (None, 7, 7, 160)    0           batch_normalization_56[0][0]     \n",
      "__________________________________________________________________________________________________\n",
      "conv2d_59 (Conv2D)              (None, 7, 7, 160)    179200      activation_51[0][0]              \n",
      "__________________________________________________________________________________________________\n",
      "conv2d_64 (Conv2D)              (None, 7, 7, 160)    179200      activation_56[0][0]              \n",
      "__________________________________________________________________________________________________\n",
      "batch_normalization_52 (BatchNo (None, 7, 7, 160)    480         conv2d_59[0][0]                  \n",
      "__________________________________________________________________________________________________\n",
      "batch_normalization_57 (BatchNo (None, 7, 7, 160)    480         conv2d_64[0][0]                  \n",
      "__________________________________________________________________________________________________\n",
      "activation_52 (Activation)      (None, 7, 7, 160)    0           batch_normalization_52[0][0]     \n",
      "__________________________________________________________________________________________________\n",
      "activation_57 (Activation)      (None, 7, 7, 160)    0           batch_normalization_57[0][0]     \n",
      "__________________________________________________________________________________________________\n",
      "average_pooling2d_5 (AveragePoo (None, 7, 7, 768)    0           mixed5[0][0]                     \n",
      "__________________________________________________________________________________________________\n",
      "conv2d_57 (Conv2D)              (None, 7, 7, 192)    147456      mixed5[0][0]                     \n",
      "__________________________________________________________________________________________________\n",
      "conv2d_60 (Conv2D)              (None, 7, 7, 192)    215040      activation_52[0][0]              \n",
      "__________________________________________________________________________________________________\n",
      "conv2d_65 (Conv2D)              (None, 7, 7, 192)    215040      activation_57[0][0]              \n",
      "__________________________________________________________________________________________________\n",
      "conv2d_66 (Conv2D)              (None, 7, 7, 192)    147456      average_pooling2d_5[0][0]        \n",
      "__________________________________________________________________________________________________\n",
      "batch_normalization_50 (BatchNo (None, 7, 7, 192)    576         conv2d_57[0][0]                  \n",
      "__________________________________________________________________________________________________\n",
      "batch_normalization_53 (BatchNo (None, 7, 7, 192)    576         conv2d_60[0][0]                  \n",
      "__________________________________________________________________________________________________\n",
      "batch_normalization_58 (BatchNo (None, 7, 7, 192)    576         conv2d_65[0][0]                  \n",
      "__________________________________________________________________________________________________\n",
      "batch_normalization_59 (BatchNo (None, 7, 7, 192)    576         conv2d_66[0][0]                  \n",
      "__________________________________________________________________________________________________\n",
      "activation_50 (Activation)      (None, 7, 7, 192)    0           batch_normalization_50[0][0]     \n",
      "__________________________________________________________________________________________________\n",
      "activation_53 (Activation)      (None, 7, 7, 192)    0           batch_normalization_53[0][0]     \n",
      "__________________________________________________________________________________________________\n",
      "activation_58 (Activation)      (None, 7, 7, 192)    0           batch_normalization_58[0][0]     \n",
      "__________________________________________________________________________________________________\n",
      "activation_59 (Activation)      (None, 7, 7, 192)    0           batch_normalization_59[0][0]     \n",
      "__________________________________________________________________________________________________\n",
      "mixed6 (Concatenate)            (None, 7, 7, 768)    0           activation_50[0][0]              \n",
      "                                                                 activation_53[0][0]              \n",
      "                                                                 activation_58[0][0]              \n",
      "                                                                 activation_59[0][0]              \n",
      "__________________________________________________________________________________________________\n",
      "conv2d_71 (Conv2D)              (None, 7, 7, 192)    147456      mixed6[0][0]                     \n",
      "__________________________________________________________________________________________________\n",
      "batch_normalization_64 (BatchNo (None, 7, 7, 192)    576         conv2d_71[0][0]                  \n",
      "__________________________________________________________________________________________________\n",
      "activation_64 (Activation)      (None, 7, 7, 192)    0           batch_normalization_64[0][0]     \n",
      "__________________________________________________________________________________________________\n",
      "conv2d_72 (Conv2D)              (None, 7, 7, 192)    258048      activation_64[0][0]              \n",
      "__________________________________________________________________________________________________\n",
      "batch_normalization_65 (BatchNo (None, 7, 7, 192)    576         conv2d_72[0][0]                  \n",
      "__________________________________________________________________________________________________\n",
      "activation_65 (Activation)      (None, 7, 7, 192)    0           batch_normalization_65[0][0]     \n",
      "__________________________________________________________________________________________________\n",
      "conv2d_68 (Conv2D)              (None, 7, 7, 192)    147456      mixed6[0][0]                     \n",
      "__________________________________________________________________________________________________\n",
      "conv2d_73 (Conv2D)              (None, 7, 7, 192)    258048      activation_65[0][0]              \n",
      "__________________________________________________________________________________________________\n",
      "batch_normalization_61 (BatchNo (None, 7, 7, 192)    576         conv2d_68[0][0]                  \n",
      "__________________________________________________________________________________________________\n",
      "batch_normalization_66 (BatchNo (None, 7, 7, 192)    576         conv2d_73[0][0]                  \n",
      "__________________________________________________________________________________________________\n",
      "activation_61 (Activation)      (None, 7, 7, 192)    0           batch_normalization_61[0][0]     \n",
      "__________________________________________________________________________________________________\n",
      "activation_66 (Activation)      (None, 7, 7, 192)    0           batch_normalization_66[0][0]     \n",
      "__________________________________________________________________________________________________\n",
      "conv2d_69 (Conv2D)              (None, 7, 7, 192)    258048      activation_61[0][0]              \n",
      "__________________________________________________________________________________________________\n",
      "conv2d_74 (Conv2D)              (None, 7, 7, 192)    258048      activation_66[0][0]              \n",
      "__________________________________________________________________________________________________\n",
      "batch_normalization_62 (BatchNo (None, 7, 7, 192)    576         conv2d_69[0][0]                  \n",
      "__________________________________________________________________________________________________\n",
      "batch_normalization_67 (BatchNo (None, 7, 7, 192)    576         conv2d_74[0][0]                  \n",
      "__________________________________________________________________________________________________\n",
      "activation_62 (Activation)      (None, 7, 7, 192)    0           batch_normalization_62[0][0]     \n",
      "__________________________________________________________________________________________________\n",
      "activation_67 (Activation)      (None, 7, 7, 192)    0           batch_normalization_67[0][0]     \n",
      "__________________________________________________________________________________________________\n",
      "average_pooling2d_6 (AveragePoo (None, 7, 7, 768)    0           mixed6[0][0]                     \n",
      "__________________________________________________________________________________________________\n",
      "conv2d_67 (Conv2D)              (None, 7, 7, 192)    147456      mixed6[0][0]                     \n",
      "__________________________________________________________________________________________________\n",
      "conv2d_70 (Conv2D)              (None, 7, 7, 192)    258048      activation_62[0][0]              \n",
      "__________________________________________________________________________________________________\n",
      "conv2d_75 (Conv2D)              (None, 7, 7, 192)    258048      activation_67[0][0]              \n",
      "__________________________________________________________________________________________________\n",
      "conv2d_76 (Conv2D)              (None, 7, 7, 192)    147456      average_pooling2d_6[0][0]        \n",
      "__________________________________________________________________________________________________\n",
      "batch_normalization_60 (BatchNo (None, 7, 7, 192)    576         conv2d_67[0][0]                  \n",
      "__________________________________________________________________________________________________\n",
      "batch_normalization_63 (BatchNo (None, 7, 7, 192)    576         conv2d_70[0][0]                  \n",
      "__________________________________________________________________________________________________\n",
      "batch_normalization_68 (BatchNo (None, 7, 7, 192)    576         conv2d_75[0][0]                  \n",
      "__________________________________________________________________________________________________\n",
      "batch_normalization_69 (BatchNo (None, 7, 7, 192)    576         conv2d_76[0][0]                  \n",
      "__________________________________________________________________________________________________\n",
      "activation_60 (Activation)      (None, 7, 7, 192)    0           batch_normalization_60[0][0]     \n",
      "__________________________________________________________________________________________________\n",
      "activation_63 (Activation)      (None, 7, 7, 192)    0           batch_normalization_63[0][0]     \n",
      "__________________________________________________________________________________________________\n",
      "activation_68 (Activation)      (None, 7, 7, 192)    0           batch_normalization_68[0][0]     \n",
      "__________________________________________________________________________________________________\n",
      "activation_69 (Activation)      (None, 7, 7, 192)    0           batch_normalization_69[0][0]     \n",
      "__________________________________________________________________________________________________\n",
      "mixed7 (Concatenate)            (None, 7, 7, 768)    0           activation_60[0][0]              \n",
      "                                                                 activation_63[0][0]              \n",
      "                                                                 activation_68[0][0]              \n",
      "                                                                 activation_69[0][0]              \n",
      "__________________________________________________________________________________________________\n",
      "conv2d_79 (Conv2D)              (None, 7, 7, 192)    147456      mixed7[0][0]                     \n",
      "__________________________________________________________________________________________________\n",
      "batch_normalization_72 (BatchNo (None, 7, 7, 192)    576         conv2d_79[0][0]                  \n",
      "__________________________________________________________________________________________________\n",
      "activation_72 (Activation)      (None, 7, 7, 192)    0           batch_normalization_72[0][0]     \n",
      "__________________________________________________________________________________________________\n",
      "conv2d_80 (Conv2D)              (None, 7, 7, 192)    258048      activation_72[0][0]              \n",
      "__________________________________________________________________________________________________\n",
      "batch_normalization_73 (BatchNo (None, 7, 7, 192)    576         conv2d_80[0][0]                  \n",
      "__________________________________________________________________________________________________\n",
      "activation_73 (Activation)      (None, 7, 7, 192)    0           batch_normalization_73[0][0]     \n",
      "__________________________________________________________________________________________________\n",
      "conv2d_77 (Conv2D)              (None, 7, 7, 192)    147456      mixed7[0][0]                     \n",
      "__________________________________________________________________________________________________\n",
      "conv2d_81 (Conv2D)              (None, 7, 7, 192)    258048      activation_73[0][0]              \n",
      "__________________________________________________________________________________________________\n",
      "batch_normalization_70 (BatchNo (None, 7, 7, 192)    576         conv2d_77[0][0]                  \n",
      "__________________________________________________________________________________________________\n",
      "batch_normalization_74 (BatchNo (None, 7, 7, 192)    576         conv2d_81[0][0]                  \n",
      "__________________________________________________________________________________________________\n",
      "activation_70 (Activation)      (None, 7, 7, 192)    0           batch_normalization_70[0][0]     \n",
      "__________________________________________________________________________________________________\n",
      "activation_74 (Activation)      (None, 7, 7, 192)    0           batch_normalization_74[0][0]     \n",
      "__________________________________________________________________________________________________\n",
      "conv2d_78 (Conv2D)              (None, 3, 3, 320)    552960      activation_70[0][0]              \n",
      "__________________________________________________________________________________________________\n",
      "conv2d_82 (Conv2D)              (None, 3, 3, 192)    331776      activation_74[0][0]              \n",
      "__________________________________________________________________________________________________\n",
      "batch_normalization_71 (BatchNo (None, 3, 3, 320)    960         conv2d_78[0][0]                  \n",
      "__________________________________________________________________________________________________\n",
      "batch_normalization_75 (BatchNo (None, 3, 3, 192)    576         conv2d_82[0][0]                  \n",
      "__________________________________________________________________________________________________\n",
      "activation_71 (Activation)      (None, 3, 3, 320)    0           batch_normalization_71[0][0]     \n",
      "__________________________________________________________________________________________________\n",
      "activation_75 (Activation)      (None, 3, 3, 192)    0           batch_normalization_75[0][0]     \n",
      "__________________________________________________________________________________________________\n",
      "max_pooling2d_10 (MaxPooling2D) (None, 3, 3, 768)    0           mixed7[0][0]                     \n",
      "__________________________________________________________________________________________________\n",
      "mixed8 (Concatenate)            (None, 3, 3, 1280)   0           activation_71[0][0]              \n",
      "                                                                 activation_75[0][0]              \n",
      "                                                                 max_pooling2d_10[0][0]           \n",
      "__________________________________________________________________________________________________\n",
      "conv2d_87 (Conv2D)              (None, 3, 3, 448)    573440      mixed8[0][0]                     \n",
      "__________________________________________________________________________________________________\n",
      "batch_normalization_80 (BatchNo (None, 3, 3, 448)    1344        conv2d_87[0][0]                  \n",
      "__________________________________________________________________________________________________\n",
      "activation_80 (Activation)      (None, 3, 3, 448)    0           batch_normalization_80[0][0]     \n",
      "__________________________________________________________________________________________________\n",
      "conv2d_84 (Conv2D)              (None, 3, 3, 384)    491520      mixed8[0][0]                     \n",
      "__________________________________________________________________________________________________\n",
      "conv2d_88 (Conv2D)              (None, 3, 3, 384)    1548288     activation_80[0][0]              \n",
      "__________________________________________________________________________________________________\n",
      "batch_normalization_77 (BatchNo (None, 3, 3, 384)    1152        conv2d_84[0][0]                  \n",
      "__________________________________________________________________________________________________\n",
      "batch_normalization_81 (BatchNo (None, 3, 3, 384)    1152        conv2d_88[0][0]                  \n",
      "__________________________________________________________________________________________________\n",
      "activation_77 (Activation)      (None, 3, 3, 384)    0           batch_normalization_77[0][0]     \n",
      "__________________________________________________________________________________________________\n",
      "activation_81 (Activation)      (None, 3, 3, 384)    0           batch_normalization_81[0][0]     \n",
      "__________________________________________________________________________________________________\n",
      "conv2d_85 (Conv2D)              (None, 3, 3, 384)    442368      activation_77[0][0]              \n",
      "__________________________________________________________________________________________________\n",
      "conv2d_86 (Conv2D)              (None, 3, 3, 384)    442368      activation_77[0][0]              \n",
      "__________________________________________________________________________________________________\n",
      "conv2d_89 (Conv2D)              (None, 3, 3, 384)    442368      activation_81[0][0]              \n",
      "__________________________________________________________________________________________________\n",
      "conv2d_90 (Conv2D)              (None, 3, 3, 384)    442368      activation_81[0][0]              \n",
      "__________________________________________________________________________________________________\n",
      "average_pooling2d_7 (AveragePoo (None, 3, 3, 1280)   0           mixed8[0][0]                     \n",
      "__________________________________________________________________________________________________\n",
      "conv2d_83 (Conv2D)              (None, 3, 3, 320)    409600      mixed8[0][0]                     \n",
      "__________________________________________________________________________________________________\n",
      "batch_normalization_78 (BatchNo (None, 3, 3, 384)    1152        conv2d_85[0][0]                  \n",
      "__________________________________________________________________________________________________\n",
      "batch_normalization_79 (BatchNo (None, 3, 3, 384)    1152        conv2d_86[0][0]                  \n",
      "__________________________________________________________________________________________________\n",
      "batch_normalization_82 (BatchNo (None, 3, 3, 384)    1152        conv2d_89[0][0]                  \n",
      "__________________________________________________________________________________________________\n",
      "batch_normalization_83 (BatchNo (None, 3, 3, 384)    1152        conv2d_90[0][0]                  \n",
      "__________________________________________________________________________________________________\n",
      "conv2d_91 (Conv2D)              (None, 3, 3, 192)    245760      average_pooling2d_7[0][0]        \n",
      "__________________________________________________________________________________________________\n",
      "batch_normalization_76 (BatchNo (None, 3, 3, 320)    960         conv2d_83[0][0]                  \n",
      "__________________________________________________________________________________________________\n",
      "activation_78 (Activation)      (None, 3, 3, 384)    0           batch_normalization_78[0][0]     \n",
      "__________________________________________________________________________________________________\n",
      "activation_79 (Activation)      (None, 3, 3, 384)    0           batch_normalization_79[0][0]     \n",
      "__________________________________________________________________________________________________\n",
      "activation_82 (Activation)      (None, 3, 3, 384)    0           batch_normalization_82[0][0]     \n",
      "__________________________________________________________________________________________________\n",
      "activation_83 (Activation)      (None, 3, 3, 384)    0           batch_normalization_83[0][0]     \n",
      "__________________________________________________________________________________________________\n",
      "batch_normalization_84 (BatchNo (None, 3, 3, 192)    576         conv2d_91[0][0]                  \n",
      "__________________________________________________________________________________________________\n",
      "activation_76 (Activation)      (None, 3, 3, 320)    0           batch_normalization_76[0][0]     \n",
      "__________________________________________________________________________________________________\n",
      "mixed9_0 (Concatenate)          (None, 3, 3, 768)    0           activation_78[0][0]              \n",
      "                                                                 activation_79[0][0]              \n",
      "__________________________________________________________________________________________________\n",
      "concatenate (Concatenate)       (None, 3, 3, 768)    0           activation_82[0][0]              \n",
      "                                                                 activation_83[0][0]              \n",
      "__________________________________________________________________________________________________\n",
      "activation_84 (Activation)      (None, 3, 3, 192)    0           batch_normalization_84[0][0]     \n",
      "__________________________________________________________________________________________________\n",
      "mixed9 (Concatenate)            (None, 3, 3, 2048)   0           activation_76[0][0]              \n",
      "                                                                 mixed9_0[0][0]                   \n",
      "                                                                 concatenate[0][0]                \n",
      "                                                                 activation_84[0][0]              \n",
      "__________________________________________________________________________________________________\n",
      "conv2d_96 (Conv2D)              (None, 3, 3, 448)    917504      mixed9[0][0]                     \n",
      "__________________________________________________________________________________________________\n",
      "batch_normalization_89 (BatchNo (None, 3, 3, 448)    1344        conv2d_96[0][0]                  \n",
      "__________________________________________________________________________________________________\n",
      "activation_89 (Activation)      (None, 3, 3, 448)    0           batch_normalization_89[0][0]     \n",
      "__________________________________________________________________________________________________\n",
      "conv2d_93 (Conv2D)              (None, 3, 3, 384)    786432      mixed9[0][0]                     \n",
      "__________________________________________________________________________________________________\n",
      "conv2d_97 (Conv2D)              (None, 3, 3, 384)    1548288     activation_89[0][0]              \n",
      "__________________________________________________________________________________________________\n",
      "batch_normalization_86 (BatchNo (None, 3, 3, 384)    1152        conv2d_93[0][0]                  \n",
      "__________________________________________________________________________________________________\n",
      "batch_normalization_90 (BatchNo (None, 3, 3, 384)    1152        conv2d_97[0][0]                  \n",
      "__________________________________________________________________________________________________\n",
      "activation_86 (Activation)      (None, 3, 3, 384)    0           batch_normalization_86[0][0]     \n",
      "__________________________________________________________________________________________________\n",
      "activation_90 (Activation)      (None, 3, 3, 384)    0           batch_normalization_90[0][0]     \n",
      "__________________________________________________________________________________________________\n",
      "conv2d_94 (Conv2D)              (None, 3, 3, 384)    442368      activation_86[0][0]              \n",
      "__________________________________________________________________________________________________\n",
      "conv2d_95 (Conv2D)              (None, 3, 3, 384)    442368      activation_86[0][0]              \n",
      "__________________________________________________________________________________________________\n",
      "conv2d_98 (Conv2D)              (None, 3, 3, 384)    442368      activation_90[0][0]              \n",
      "__________________________________________________________________________________________________\n",
      "conv2d_99 (Conv2D)              (None, 3, 3, 384)    442368      activation_90[0][0]              \n",
      "__________________________________________________________________________________________________\n",
      "average_pooling2d_8 (AveragePoo (None, 3, 3, 2048)   0           mixed9[0][0]                     \n",
      "__________________________________________________________________________________________________\n",
      "conv2d_92 (Conv2D)              (None, 3, 3, 320)    655360      mixed9[0][0]                     \n",
      "__________________________________________________________________________________________________\n",
      "batch_normalization_87 (BatchNo (None, 3, 3, 384)    1152        conv2d_94[0][0]                  \n",
      "__________________________________________________________________________________________________\n",
      "batch_normalization_88 (BatchNo (None, 3, 3, 384)    1152        conv2d_95[0][0]                  \n",
      "__________________________________________________________________________________________________\n",
      "batch_normalization_91 (BatchNo (None, 3, 3, 384)    1152        conv2d_98[0][0]                  \n",
      "__________________________________________________________________________________________________\n",
      "batch_normalization_92 (BatchNo (None, 3, 3, 384)    1152        conv2d_99[0][0]                  \n",
      "__________________________________________________________________________________________________\n",
      "conv2d_100 (Conv2D)             (None, 3, 3, 192)    393216      average_pooling2d_8[0][0]        \n",
      "__________________________________________________________________________________________________\n",
      "batch_normalization_85 (BatchNo (None, 3, 3, 320)    960         conv2d_92[0][0]                  \n",
      "__________________________________________________________________________________________________\n",
      "activation_87 (Activation)      (None, 3, 3, 384)    0           batch_normalization_87[0][0]     \n",
      "__________________________________________________________________________________________________\n",
      "activation_88 (Activation)      (None, 3, 3, 384)    0           batch_normalization_88[0][0]     \n",
      "__________________________________________________________________________________________________\n",
      "activation_91 (Activation)      (None, 3, 3, 384)    0           batch_normalization_91[0][0]     \n",
      "__________________________________________________________________________________________________\n",
      "activation_92 (Activation)      (None, 3, 3, 384)    0           batch_normalization_92[0][0]     \n",
      "__________________________________________________________________________________________________\n",
      "batch_normalization_93 (BatchNo (None, 3, 3, 192)    576         conv2d_100[0][0]                 \n",
      "__________________________________________________________________________________________________\n",
      "activation_85 (Activation)      (None, 3, 3, 320)    0           batch_normalization_85[0][0]     \n",
      "__________________________________________________________________________________________________\n",
      "mixed9_1 (Concatenate)          (None, 3, 3, 768)    0           activation_87[0][0]              \n",
      "                                                                 activation_88[0][0]              \n",
      "__________________________________________________________________________________________________\n",
      "concatenate_1 (Concatenate)     (None, 3, 3, 768)    0           activation_91[0][0]              \n",
      "                                                                 activation_92[0][0]              \n",
      "__________________________________________________________________________________________________\n",
      "activation_93 (Activation)      (None, 3, 3, 192)    0           batch_normalization_93[0][0]     \n",
      "__________________________________________________________________________________________________\n",
      "mixed10 (Concatenate)           (None, 3, 3, 2048)   0           activation_85[0][0]              \n",
      "                                                                 mixed9_1[0][0]                   \n",
      "                                                                 concatenate_1[0][0]              \n",
      "                                                                 activation_93[0][0]              \n",
      "==================================================================================================\n",
      "Total params: 21,802,784\n",
      "Trainable params: 0\n",
      "Non-trainable params: 21,802,784\n",
      "__________________________________________________________________________________________________\n"
     ]
    }
   ],
   "source": [
    "incept_model.summary()"
   ]
  },
  {
   "cell_type": "code",
   "execution_count": 45,
   "id": "e64cf9c6",
   "metadata": {
    "execution": {
     "iopub.execute_input": "2021-09-24T13:17:41.178537Z",
     "iopub.status.busy": "2021-09-24T13:17:41.176881Z",
     "iopub.status.idle": "2021-09-24T13:17:41.181019Z",
     "shell.execute_reply": "2021-09-24T13:17:41.180337Z",
     "shell.execute_reply.started": "2021-09-24T12:34:15.180535Z"
    },
    "papermill": {
     "duration": 3.231568,
     "end_time": "2021-09-24T13:17:41.181185",
     "exception": false,
     "start_time": "2021-09-24T13:17:37.949617",
     "status": "completed"
    },
    "tags": []
   },
   "outputs": [
    {
     "name": "stdout",
     "output_type": "stream",
     "text": [
      "last layer output shape:  (None, 3, 3, 2048)\n"
     ]
    }
   ],
   "source": [
    "last_output=incept_model.get_layer('mixed10').output\n",
    "print('last layer output shape: ', incept_model.output_shape)"
   ]
  },
  {
   "cell_type": "code",
   "execution_count": 46,
   "id": "d770cab9",
   "metadata": {
    "execution": {
     "iopub.execute_input": "2021-09-24T13:17:48.288307Z",
     "iopub.status.busy": "2021-09-24T13:17:48.287358Z",
     "iopub.status.idle": "2021-09-24T13:17:48.324698Z",
     "shell.execute_reply": "2021-09-24T13:17:48.325126Z",
     "shell.execute_reply.started": "2021-09-24T12:34:18.758569Z"
    },
    "papermill": {
     "duration": 3.419336,
     "end_time": "2021-09-24T13:17:48.325279",
     "exception": false,
     "start_time": "2021-09-24T13:17:44.905943",
     "status": "completed"
    },
    "tags": []
   },
   "outputs": [
    {
     "data": {
      "text/plain": [
       "<bound method Model.summary of <tensorflow.python.keras.engine.functional.Functional object at 0x7fdd31bc67d0>>"
      ]
     },
     "execution_count": 46,
     "metadata": {},
     "output_type": "execute_result"
    }
   ],
   "source": [
    "# Flatten the output layer to 1 dimension\n",
    "x = layers.Flatten()(last_output)\n",
    "x = layers.Dense(512, activation='relu')(x)\n",
    "x = layers.Dropout(0.1)(x)                  \n",
    "x = layers.Dense(1, activation='sigmoid')(x)           \n",
    "\n",
    "model3 = Model(incept_model.input, x) \n",
    "model3.summary"
   ]
  },
  {
   "cell_type": "code",
   "execution_count": 47,
   "id": "7813eb20",
   "metadata": {
    "execution": {
     "iopub.execute_input": "2021-09-24T13:17:55.065349Z",
     "iopub.status.busy": "2021-09-24T13:17:55.064466Z",
     "iopub.status.idle": "2021-09-24T13:17:55.071620Z",
     "shell.execute_reply": "2021-09-24T13:17:55.071177Z",
     "shell.execute_reply.started": "2021-09-24T12:35:14.243840Z"
    },
    "papermill": {
     "duration": 3.530755,
     "end_time": "2021-09-24T13:17:55.071735",
     "exception": false,
     "start_time": "2021-09-24T13:17:51.540980",
     "status": "completed"
    },
    "tags": []
   },
   "outputs": [],
   "source": [
    "model3.compile(loss=\"binary_crossentropy\", optimizer=Adam(learning_rate=1e-3), \n",
    "              metrics=[\"accuracy\"])"
   ]
  },
  {
   "cell_type": "code",
   "execution_count": 48,
   "id": "56313ece",
   "metadata": {
    "execution": {
     "iopub.execute_input": "2021-09-24T13:18:01.444571Z",
     "iopub.status.busy": "2021-09-24T13:18:01.443680Z",
     "iopub.status.idle": "2021-09-24T13:36:25.038460Z",
     "shell.execute_reply": "2021-09-24T13:36:25.039106Z",
     "shell.execute_reply.started": "2021-09-24T12:37:23.981261Z"
    },
    "papermill": {
     "duration": 1106.784122,
     "end_time": "2021-09-24T13:36:25.039310",
     "exception": false,
     "start_time": "2021-09-24T13:17:58.255188",
     "status": "completed"
    },
    "tags": []
   },
   "outputs": [
    {
     "name": "stdout",
     "output_type": "stream",
     "text": [
      "Epoch 1/100\n",
      "200/200 [==============================] - 15s 56ms/step - loss: 4.9422 - accuracy: 0.8733 - val_loss: 0.5368 - val_accuracy: 0.9540\n",
      "Epoch 2/100\n",
      "200/200 [==============================] - 11s 54ms/step - loss: 0.3267 - accuracy: 0.9589 - val_loss: 0.6285 - val_accuracy: 0.9260\n",
      "Epoch 3/100\n",
      "200/200 [==============================] - 13s 64ms/step - loss: 0.1431 - accuracy: 0.9724 - val_loss: 0.2384 - val_accuracy: 0.9570\n",
      "Epoch 4/100\n",
      "200/200 [==============================] - 10s 52ms/step - loss: 0.0469 - accuracy: 0.9882 - val_loss: 0.2065 - val_accuracy: 0.9640\n",
      "Epoch 5/100\n",
      "200/200 [==============================] - 10s 52ms/step - loss: 0.0337 - accuracy: 0.9888 - val_loss: 0.2453 - val_accuracy: 0.9610\n",
      "Epoch 6/100\n",
      "200/200 [==============================] - 10s 51ms/step - loss: 0.0300 - accuracy: 0.9910 - val_loss: 0.1882 - val_accuracy: 0.9610\n",
      "Epoch 7/100\n",
      "200/200 [==============================] - 13s 67ms/step - loss: 0.0014 - accuracy: 1.0000 - val_loss: 0.2052 - val_accuracy: 0.9610\n",
      "Epoch 8/100\n",
      "200/200 [==============================] - 10s 50ms/step - loss: 7.7767e-04 - accuracy: 0.9999 - val_loss: 0.2893 - val_accuracy: 0.9540\n",
      "Epoch 9/100\n",
      "200/200 [==============================] - 10s 50ms/step - loss: 0.0290 - accuracy: 0.9928 - val_loss: 2.5817 - val_accuracy: 0.7840\n",
      "Epoch 10/100\n",
      "200/200 [==============================] - 10s 50ms/step - loss: 0.5308 - accuracy: 0.9478 - val_loss: 0.1538 - val_accuracy: 0.9610\n",
      "Epoch 11/100\n",
      "200/200 [==============================] - 11s 54ms/step - loss: 0.0246 - accuracy: 0.9897 - val_loss: 0.2227 - val_accuracy: 0.9580\n",
      "Epoch 12/100\n",
      "200/200 [==============================] - 10s 51ms/step - loss: 0.0169 - accuracy: 0.9936 - val_loss: 0.2371 - val_accuracy: 0.9560\n",
      "Epoch 13/100\n",
      "200/200 [==============================] - 13s 65ms/step - loss: 5.9899e-04 - accuracy: 1.0000 - val_loss: 0.3085 - val_accuracy: 0.9540\n",
      "Epoch 14/100\n",
      "200/200 [==============================] - 11s 54ms/step - loss: 0.0015 - accuracy: 1.0000 - val_loss: 0.2381 - val_accuracy: 0.9590\n",
      "Epoch 15/100\n",
      "200/200 [==============================] - 10s 51ms/step - loss: 6.4723e-04 - accuracy: 1.0000 - val_loss: 0.2829 - val_accuracy: 0.9550\n",
      "Epoch 16/100\n",
      "200/200 [==============================] - 10s 51ms/step - loss: 9.6738e-04 - accuracy: 1.0000 - val_loss: 0.2758 - val_accuracy: 0.9580\n",
      "Epoch 17/100\n",
      "200/200 [==============================] - 11s 54ms/step - loss: 1.1340e-04 - accuracy: 1.0000 - val_loss: 0.2639 - val_accuracy: 0.9600\n",
      "Epoch 18/100\n",
      "200/200 [==============================] - 10s 50ms/step - loss: 2.8571e-04 - accuracy: 1.0000 - val_loss: 0.2442 - val_accuracy: 0.9630\n",
      "Epoch 19/100\n",
      "200/200 [==============================] - 13s 63ms/step - loss: 0.0043 - accuracy: 0.9983 - val_loss: 0.4085 - val_accuracy: 0.9530\n",
      "Epoch 20/100\n",
      "200/200 [==============================] - 12s 58ms/step - loss: 0.1560 - accuracy: 0.9811 - val_loss: 0.2823 - val_accuracy: 0.9530\n",
      "Epoch 21/100\n",
      "200/200 [==============================] - 10s 51ms/step - loss: 0.1031 - accuracy: 0.9827 - val_loss: 0.3633 - val_accuracy: 0.9630\n",
      "Epoch 22/100\n",
      "200/200 [==============================] - 10s 50ms/step - loss: 0.1097 - accuracy: 0.9879 - val_loss: 0.3557 - val_accuracy: 0.9480\n",
      "Epoch 23/100\n",
      "200/200 [==============================] - 11s 53ms/step - loss: 0.0186 - accuracy: 0.9953 - val_loss: 0.2589 - val_accuracy: 0.9600\n",
      "Epoch 24/100\n",
      "200/200 [==============================] - 10s 50ms/step - loss: 0.0043 - accuracy: 0.9988 - val_loss: 0.2951 - val_accuracy: 0.9620\n",
      "Epoch 25/100\n",
      "200/200 [==============================] - 10s 52ms/step - loss: 0.0031 - accuracy: 0.9984 - val_loss: 0.3962 - val_accuracy: 0.9540\n",
      "Epoch 26/100\n",
      "200/200 [==============================] - 14s 71ms/step - loss: 0.0099 - accuracy: 0.9968 - val_loss: 0.2177 - val_accuracy: 0.9660\n",
      "Epoch 27/100\n",
      "200/200 [==============================] - 10s 51ms/step - loss: 0.0027 - accuracy: 0.9993 - val_loss: 0.3362 - val_accuracy: 0.9580\n",
      "Epoch 28/100\n",
      "200/200 [==============================] - 10s 49ms/step - loss: 3.2586e-04 - accuracy: 1.0000 - val_loss: 0.3140 - val_accuracy: 0.9590\n",
      "Epoch 29/100\n",
      "200/200 [==============================] - 11s 54ms/step - loss: 6.3533e-05 - accuracy: 1.0000 - val_loss: 0.3465 - val_accuracy: 0.9540\n",
      "Epoch 30/100\n",
      "200/200 [==============================] - 10s 51ms/step - loss: 1.6020e-04 - accuracy: 1.0000 - val_loss: 0.3305 - val_accuracy: 0.9570\n",
      "Epoch 31/100\n",
      "200/200 [==============================] - 10s 51ms/step - loss: 3.8249e-05 - accuracy: 1.0000 - val_loss: 0.3378 - val_accuracy: 0.9570\n",
      "Epoch 32/100\n",
      "200/200 [==============================] - 14s 72ms/step - loss: 2.0597e-05 - accuracy: 1.0000 - val_loss: 0.3347 - val_accuracy: 0.9570\n",
      "Epoch 33/100\n",
      "200/200 [==============================] - 10s 50ms/step - loss: 3.6605e-05 - accuracy: 1.0000 - val_loss: 0.3374 - val_accuracy: 0.9570\n",
      "Epoch 34/100\n",
      "200/200 [==============================] - 10s 50ms/step - loss: 8.3649e-06 - accuracy: 1.0000 - val_loss: 0.3440 - val_accuracy: 0.9570\n",
      "Epoch 35/100\n",
      "200/200 [==============================] - 11s 54ms/step - loss: 3.3236e-05 - accuracy: 1.0000 - val_loss: 0.3920 - val_accuracy: 0.9550\n",
      "Epoch 36/100\n",
      "200/200 [==============================] - 10s 51ms/step - loss: 0.2412 - accuracy: 0.9807 - val_loss: 1.0252 - val_accuracy: 0.9560\n",
      "Epoch 37/100\n",
      "200/200 [==============================] - 10s 51ms/step - loss: 0.4666 - accuracy: 0.9785 - val_loss: 1.1170 - val_accuracy: 0.9530\n",
      "Epoch 38/100\n",
      "200/200 [==============================] - 13s 65ms/step - loss: 0.0876 - accuracy: 0.9920 - val_loss: 1.0832 - val_accuracy: 0.9510\n",
      "Epoch 39/100\n",
      "200/200 [==============================] - 11s 56ms/step - loss: 0.0316 - accuracy: 0.9950 - val_loss: 0.6759 - val_accuracy: 0.9560\n",
      "Epoch 40/100\n",
      "200/200 [==============================] - 10s 50ms/step - loss: 0.0030 - accuracy: 0.9994 - val_loss: 0.7218 - val_accuracy: 0.9520\n",
      "Epoch 41/100\n",
      "200/200 [==============================] - 11s 54ms/step - loss: 0.0063 - accuracy: 0.9982 - val_loss: 0.6789 - val_accuracy: 0.9650\n",
      "Epoch 42/100\n",
      "200/200 [==============================] - 10s 51ms/step - loss: 0.0048 - accuracy: 0.9993 - val_loss: 0.5876 - val_accuracy: 0.9610\n",
      "Epoch 43/100\n",
      "200/200 [==============================] - 10s 51ms/step - loss: 0.0128 - accuracy: 0.9945 - val_loss: 0.6304 - val_accuracy: 0.9620\n",
      "Epoch 44/100\n",
      "200/200 [==============================] - 11s 55ms/step - loss: 0.0255 - accuracy: 0.9981 - val_loss: 0.6443 - val_accuracy: 0.9600\n",
      "Epoch 45/100\n",
      "200/200 [==============================] - 14s 68ms/step - loss: 0.0113 - accuracy: 0.9979 - val_loss: 0.4735 - val_accuracy: 0.9630\n",
      "Epoch 46/100\n",
      "200/200 [==============================] - 10s 50ms/step - loss: 0.0086 - accuracy: 0.9984 - val_loss: 0.6332 - val_accuracy: 0.9650\n",
      "Epoch 47/100\n",
      "200/200 [==============================] - 11s 54ms/step - loss: 0.0023 - accuracy: 0.9991 - val_loss: 0.6018 - val_accuracy: 0.9610\n",
      "Epoch 48/100\n",
      "200/200 [==============================] - 10s 50ms/step - loss: 0.0056 - accuracy: 0.9989 - val_loss: 0.8257 - val_accuracy: 0.9540\n",
      "Epoch 49/100\n",
      "200/200 [==============================] - 10s 51ms/step - loss: 0.0147 - accuracy: 0.9972 - val_loss: 0.5250 - val_accuracy: 0.9560\n",
      "Epoch 50/100\n",
      "200/200 [==============================] - 11s 55ms/step - loss: 4.6473e-05 - accuracy: 1.0000 - val_loss: 0.4861 - val_accuracy: 0.9600\n",
      "Epoch 51/100\n",
      "200/200 [==============================] - 14s 70ms/step - loss: 3.1614e-05 - accuracy: 1.0000 - val_loss: 0.4846 - val_accuracy: 0.9600\n",
      "Epoch 52/100\n",
      "200/200 [==============================] - 10s 50ms/step - loss: 0.0026 - accuracy: 0.9988 - val_loss: 0.6018 - val_accuracy: 0.9600\n",
      "Epoch 53/100\n",
      "200/200 [==============================] - 11s 55ms/step - loss: 0.0356 - accuracy: 0.9944 - val_loss: 0.7409 - val_accuracy: 0.9460\n",
      "Epoch 54/100\n",
      "200/200 [==============================] - 10s 51ms/step - loss: 0.0483 - accuracy: 0.9943 - val_loss: 0.5365 - val_accuracy: 0.9600\n",
      "Epoch 55/100\n",
      "200/200 [==============================] - 10s 51ms/step - loss: 0.0073 - accuracy: 0.9982 - val_loss: 0.9921 - val_accuracy: 0.9470\n",
      "Epoch 56/100\n",
      "200/200 [==============================] - 11s 53ms/step - loss: 0.0587 - accuracy: 0.9911 - val_loss: 0.5520 - val_accuracy: 0.9510\n",
      "Epoch 57/100\n",
      "200/200 [==============================] - 10s 50ms/step - loss: 0.0256 - accuracy: 0.9959 - val_loss: 0.3893 - val_accuracy: 0.9580\n",
      "Epoch 58/100\n",
      "200/200 [==============================] - 14s 70ms/step - loss: 0.0028 - accuracy: 0.9989 - val_loss: 0.5578 - val_accuracy: 0.9530\n",
      "Epoch 59/100\n",
      "200/200 [==============================] - 11s 53ms/step - loss: 0.0266 - accuracy: 0.9920 - val_loss: 0.7189 - val_accuracy: 0.9630\n",
      "Epoch 60/100\n",
      "200/200 [==============================] - 10s 51ms/step - loss: 0.0147 - accuracy: 0.9974 - val_loss: 0.5948 - val_accuracy: 0.9560\n",
      "Epoch 61/100\n",
      "200/200 [==============================] - 10s 50ms/step - loss: 0.0467 - accuracy: 0.9899 - val_loss: 0.5180 - val_accuracy: 0.9560\n",
      "Epoch 62/100\n",
      "200/200 [==============================] - 11s 53ms/step - loss: 0.0605 - accuracy: 0.9925 - val_loss: 0.5467 - val_accuracy: 0.9590\n",
      "Epoch 63/100\n",
      "200/200 [==============================] - 10s 50ms/step - loss: 9.5818e-04 - accuracy: 1.0000 - val_loss: 0.7663 - val_accuracy: 0.9520\n",
      "Epoch 64/100\n",
      "200/200 [==============================] - 14s 68ms/step - loss: 3.9745e-04 - accuracy: 1.0000 - val_loss: 0.7996 - val_accuracy: 0.9480\n",
      "Epoch 65/100\n",
      "200/200 [==============================] - 11s 57ms/step - loss: 0.0135 - accuracy: 0.9957 - val_loss: 1.3591 - val_accuracy: 0.9360\n",
      "Epoch 66/100\n",
      "200/200 [==============================] - 10s 51ms/step - loss: 0.1007 - accuracy: 0.9900 - val_loss: 1.2709 - val_accuracy: 0.9560\n",
      "Epoch 67/100\n",
      "200/200 [==============================] - 10s 50ms/step - loss: 0.0167 - accuracy: 0.9991 - val_loss: 0.8098 - val_accuracy: 0.9490\n",
      "Epoch 68/100\n",
      "200/200 [==============================] - 11s 53ms/step - loss: 3.4774e-04 - accuracy: 1.0000 - val_loss: 0.7204 - val_accuracy: 0.9540\n",
      "Epoch 69/100\n",
      "200/200 [==============================] - 10s 50ms/step - loss: 0.0021 - accuracy: 0.9990 - val_loss: 1.0749 - val_accuracy: 0.9530\n",
      "Epoch 70/100\n",
      "200/200 [==============================] - 10s 50ms/step - loss: 5.2278e-04 - accuracy: 1.0000 - val_loss: 0.7432 - val_accuracy: 0.9560\n",
      "Epoch 71/100\n",
      "200/200 [==============================] - 15s 75ms/step - loss: 0.0177 - accuracy: 0.9960 - val_loss: 1.0927 - val_accuracy: 0.9540\n",
      "Epoch 72/100\n",
      "200/200 [==============================] - 10s 51ms/step - loss: 0.0993 - accuracy: 0.9941 - val_loss: 1.1882 - val_accuracy: 0.9560\n",
      "Epoch 73/100\n",
      "200/200 [==============================] - 10s 51ms/step - loss: 0.0231 - accuracy: 0.9979 - val_loss: 0.9588 - val_accuracy: 0.9630\n",
      "Epoch 74/100\n",
      "200/200 [==============================] - 11s 55ms/step - loss: 0.0082 - accuracy: 0.9980 - val_loss: 1.1765 - val_accuracy: 0.9540\n",
      "Epoch 75/100\n",
      "200/200 [==============================] - 10s 51ms/step - loss: 3.8646e-06 - accuracy: 1.0000 - val_loss: 1.1666 - val_accuracy: 0.9550\n",
      "Epoch 76/100\n",
      "200/200 [==============================] - 10s 50ms/step - loss: 0.0079 - accuracy: 0.9980 - val_loss: 1.0105 - val_accuracy: 0.9610\n",
      "Epoch 77/100\n",
      "200/200 [==============================] - 14s 69ms/step - loss: 0.0192 - accuracy: 0.9979 - val_loss: 0.9939 - val_accuracy: 0.9580\n",
      "Epoch 78/100\n",
      "200/200 [==============================] - 12s 58ms/step - loss: 4.4516e-06 - accuracy: 1.0000 - val_loss: 0.9921 - val_accuracy: 0.9580\n",
      "Epoch 79/100\n",
      "200/200 [==============================] - 10s 52ms/step - loss: 0.0236 - accuracy: 0.9981 - val_loss: 0.9403 - val_accuracy: 0.9590\n",
      "Epoch 80/100\n",
      "200/200 [==============================] - 11s 54ms/step - loss: 1.2842e-04 - accuracy: 1.0000 - val_loss: 0.8401 - val_accuracy: 0.9590\n",
      "Epoch 81/100\n",
      "200/200 [==============================] - 10s 51ms/step - loss: 8.4810e-05 - accuracy: 1.0000 - val_loss: 0.8780 - val_accuracy: 0.9590\n",
      "Epoch 82/100\n",
      "200/200 [==============================] - 10s 51ms/step - loss: 0.0128 - accuracy: 0.9989 - val_loss: 0.7532 - val_accuracy: 0.9610\n",
      "Epoch 83/100\n",
      "200/200 [==============================] - 11s 56ms/step - loss: 5.6744e-04 - accuracy: 1.0000 - val_loss: 1.2380 - val_accuracy: 0.9540\n",
      "Epoch 84/100\n",
      "200/200 [==============================] - 15s 75ms/step - loss: 0.0069 - accuracy: 0.9995 - val_loss: 1.1725 - val_accuracy: 0.9590\n",
      "Epoch 85/100\n",
      "200/200 [==============================] - 10s 51ms/step - loss: 0.0292 - accuracy: 0.9956 - val_loss: 1.4087 - val_accuracy: 0.9560\n",
      "Epoch 86/100\n",
      "200/200 [==============================] - 11s 52ms/step - loss: 1.7044e-04 - accuracy: 1.0000 - val_loss: 0.8630 - val_accuracy: 0.9660\n",
      "Epoch 87/100\n",
      "200/200 [==============================] - 10s 52ms/step - loss: 6.7476e-04 - accuracy: 1.0000 - val_loss: 1.1914 - val_accuracy: 0.9560\n",
      "Epoch 88/100\n",
      "200/200 [==============================] - 10s 51ms/step - loss: 4.9307e-04 - accuracy: 0.9997 - val_loss: 1.4178 - val_accuracy: 0.9540\n",
      "Epoch 89/100\n",
      "200/200 [==============================] - 11s 55ms/step - loss: 9.0880e-05 - accuracy: 1.0000 - val_loss: 1.1986 - val_accuracy: 0.9640\n",
      "Epoch 90/100\n",
      "200/200 [==============================] - 14s 70ms/step - loss: 0.0368 - accuracy: 0.9952 - val_loss: 1.4107 - val_accuracy: 0.9640\n",
      "Epoch 91/100\n",
      "200/200 [==============================] - 12s 58ms/step - loss: 0.0519 - accuracy: 0.9927 - val_loss: 1.6015 - val_accuracy: 0.9630\n",
      "Epoch 92/100\n",
      "200/200 [==============================] - 10s 50ms/step - loss: 0.0257 - accuracy: 0.9981 - val_loss: 1.6813 - val_accuracy: 0.9570\n",
      "Epoch 93/100\n",
      "200/200 [==============================] - 10s 51ms/step - loss: 0.0548 - accuracy: 0.9964 - val_loss: 1.5737 - val_accuracy: 0.9580\n",
      "Epoch 94/100\n",
      "200/200 [==============================] - 11s 54ms/step - loss: 0.0186 - accuracy: 0.9988 - val_loss: 1.2808 - val_accuracy: 0.9660\n",
      "Epoch 95/100\n",
      "200/200 [==============================] - 10s 50ms/step - loss: 0.0054 - accuracy: 0.9998 - val_loss: 1.4099 - val_accuracy: 0.9560\n",
      "Epoch 96/100\n",
      "200/200 [==============================] - 10s 50ms/step - loss: 0.0206 - accuracy: 0.9972 - val_loss: 1.6725 - val_accuracy: 0.9550\n",
      "Epoch 97/100\n",
      "200/200 [==============================] - 16s 79ms/step - loss: 2.0071e-05 - accuracy: 1.0000 - val_loss: 1.4758 - val_accuracy: 0.9540\n",
      "Epoch 98/100\n",
      "200/200 [==============================] - 10s 51ms/step - loss: 2.3675e-06 - accuracy: 1.0000 - val_loss: 1.4637 - val_accuracy: 0.9550\n",
      "Epoch 99/100\n",
      "200/200 [==============================] - 10s 52ms/step - loss: 2.3050e-09 - accuracy: 1.0000 - val_loss: 1.4637 - val_accuracy: 0.9550\n",
      "Epoch 100/100\n",
      "200/200 [==============================] - 11s 53ms/step - loss: 0.0121 - accuracy: 0.9985 - val_loss: 1.2939 - val_accuracy: 0.9660\n"
     ]
    }
   ],
   "source": [
    "history3=model3.fit(\n",
    "      train_generator,\n",
    "      epochs=100,\n",
    "      validation_data=validation_generator)"
   ]
  },
  {
   "cell_type": "code",
   "execution_count": 49,
   "id": "d7775a7c",
   "metadata": {
    "execution": {
     "iopub.execute_input": "2021-09-24T13:36:37.390569Z",
     "iopub.status.busy": "2021-09-24T13:36:37.381542Z",
     "iopub.status.idle": "2021-09-24T13:36:37.735394Z",
     "shell.execute_reply": "2021-09-24T13:36:37.734961Z",
     "shell.execute_reply.started": "2021-09-24T12:56:09.751418Z"
    },
    "papermill": {
     "duration": 6.710963,
     "end_time": "2021-09-24T13:36:37.735511",
     "exception": false,
     "start_time": "2021-09-24T13:36:31.024548",
     "status": "completed"
    },
    "tags": []
   },
   "outputs": [
    {
     "data": {
      "text/plain": [
       "<Figure size 432x288 with 0 Axes>"
      ]
     },
     "execution_count": 49,
     "metadata": {},
     "output_type": "execute_result"
    },
    {
     "data": {
      "image/png": "[encoded data removed]",
      "text/plain": [
       "<Figure size 432x288 with 1 Axes>"
      ]
     },
     "metadata": {
      "needs_background": "light"
     },
     "output_type": "display_data"
    },
    {
     "data": {
      "image/png": "[encoded data removed]",
      "text/plain": [
       "<Figure size 432x288 with 1 Axes>"
      ]
     },
     "metadata": {
      "needs_background": "light"
     },
     "output_type": "display_data"
    },
    {
     "data": {
      "text/plain": [
       "<Figure size 432x288 with 0 Axes>"
      ]
     },
     "metadata": {},
     "output_type": "display_data"
    }
   ],
   "source": [
    "%matplotlib inline\n",
    "\n",
    "import matplotlib.image  as mpimg\n",
    "import matplotlib.pyplot as plt\n",
    "\n",
    "loss=history3.history['loss']\n",
    "val_loss=history3.history['val_loss']\n",
    "acc=history3.history['accuracy']\n",
    "val_acc=history3.history['val_accuracy']\n",
    "\n",
    "epochs=range(len(acc))\n",
    "\n",
    "plt.plot(epochs, loss, 'r', label = 'Training loss')\n",
    "plt.plot(epochs, val_loss, 'b', label ='Validation loss')\n",
    "plt.title('Training and validation loss')\n",
    "plt.legend()\n",
    "plt.figure()\n",
    "\n",
    "plt.plot(epochs, acc, 'r', label = 'Training Accuracy')\n",
    "plt.plot(epochs, val_acc, 'b', label ='Validation Accuracy')\n",
    "plt.title('Training and validation Accuracy')\n",
    "plt.legend()\n",
    "plt.figure()"
   ]
  },
  {
   "cell_type": "code",
   "execution_count": 50,
   "id": "431a1882",
   "metadata": {
    "execution": {
     "iopub.execute_input": "2021-09-24T13:36:50.154841Z",
     "iopub.status.busy": "2021-09-24T13:36:50.153991Z",
     "iopub.status.idle": "2021-09-24T13:36:53.537430Z",
     "shell.execute_reply": "2021-09-24T13:36:53.537810Z",
     "shell.execute_reply.started": "2021-09-24T12:56:18.186465Z"
    },
    "papermill": {
     "duration": 9.737432,
     "end_time": "2021-09-24T13:36:53.537960",
     "exception": false,
     "start_time": "2021-09-24T13:36:43.800528",
     "status": "completed"
    },
    "tags": []
   },
   "outputs": [
    {
     "name": "stdout",
     "output_type": "stream",
     "text": [
      "100/100 [==============================] - 3s 33ms/step - loss: 1.2939 - accuracy: 0.9660\n",
      "loss :  1.2939316034317017\n",
      "accuracy :  0.9660000205039978\n",
      "\n"
     ]
    }
   ],
   "source": [
    "test_eval3=model3.evaluate(validation_generator)\n",
    "for name, value in zip(model3.metrics_names, test_eval3):\n",
    "  print(name, ': ', value)\n",
    "print()"
   ]
  },
  {
   "cell_type": "code",
   "execution_count": 51,
   "id": "23a60370",
   "metadata": {
    "execution": {
     "iopub.execute_input": "2021-09-24T13:37:06.226445Z",
     "iopub.status.busy": "2021-09-24T13:37:06.221107Z",
     "iopub.status.idle": "2021-09-24T13:37:06.914134Z",
     "shell.execute_reply": "2021-09-24T13:37:06.913189Z",
     "shell.execute_reply.started": "2021-09-24T12:56:25.636857Z"
    },
    "papermill": {
     "duration": 6.732143,
     "end_time": "2021-09-24T13:37:06.914284",
     "exception": false,
     "start_time": "2021-09-24T13:37:00.182141",
     "status": "completed"
    },
    "tags": []
   },
   "outputs": [],
   "source": [
    "#Simpan model\n",
    "model3.save(\"CNN Transfer Learning.h5\")"
   ]
  },
  {
   "cell_type": "code",
   "execution_count": 52,
   "id": "47e1dff6",
   "metadata": {
    "execution": {
     "iopub.execute_input": "2021-09-24T13:37:19.446778Z",
     "iopub.status.busy": "2021-09-24T13:37:19.410979Z",
     "iopub.status.idle": "2021-09-24T13:37:21.464868Z",
     "shell.execute_reply": "2021-09-24T13:37:21.464121Z",
     "shell.execute_reply.started": "2021-09-24T12:57:15.710470Z"
    },
    "papermill": {
     "duration": 8.276687,
     "end_time": "2021-09-24T13:37:21.465018",
     "exception": false,
     "start_time": "2021-09-24T13:37:13.188331",
     "status": "completed"
    },
    "tags": []
   },
   "outputs": [],
   "source": [
    "#Memuat (load) model \n",
    "model3=load_model(\"CNN Transfer Learning.h5\")"
   ]
  }
 ],
 "metadata": {
  "kernelspec": {
   "display_name": "Python 3",
   "language": "python",
   "name": "python3"
  },
  "language_info": {
   "codemirror_mode": {
    "name": "ipython",
    "version": 3
   },
   "file_extension": ".py",
   "mimetype": "text/x-python",
   "name": "python",
   "nbconvert_exporter": "python",
   "pygments_lexer": "ipython3",
   "version": "3.7.10"
  },
  "papermill": {
   "default_parameters": {},
   "duration": 2376.587752,
   "end_time": "2021-09-24T13:37:30.896364",
   "environment_variables": {},
   "exception": null,
   "input_path": "__notebook__.ipynb",
   "output_path": "__notebook__.ipynb",
   "parameters": {},
   "start_time": "2021-09-24T12:57:54.308612",
   "version": "2.3.3"
  }
 },
 "nbformat": 4,
 "nbformat_minor": 5
}
