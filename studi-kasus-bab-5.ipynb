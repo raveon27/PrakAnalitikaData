{
 "cells": [
  {
   "cell_type": "markdown",
   "id": "42902b6e",
   "metadata": {
    "papermill": {
     "duration": 0.056345,
     "end_time": "2021-09-17T04:39:25.298553",
     "exception": false,
     "start_time": "2021-09-17T04:39:25.242208",
     "status": "completed"
    },
    "tags": []
   },
   "source": [
    "# Studi Kasus Bab 5"
   ]
  },
  {
   "cell_type": "code",
   "execution_count": 1,
   "id": "7a0fcc36",
   "metadata": {
    "_cell_guid": "b1076dfc-b9ad-4769-8c92-a6c4dae69d19",
    "_uuid": "8f2839f25d086af736a60e9eeb907d3b93b6e0e5",
    "execution": {
     "iopub.execute_input": "2021-09-17T04:39:25.423117Z",
     "iopub.status.busy": "2021-09-17T04:39:25.421847Z",
     "iopub.status.idle": "2021-09-17T04:39:32.101715Z",
     "shell.execute_reply": "2021-09-17T04:39:32.100835Z",
     "shell.execute_reply.started": "2021-09-17T04:36:04.137339Z"
    },
    "papermill": {
     "duration": 6.745236,
     "end_time": "2021-09-17T04:39:32.101942",
     "exception": false,
     "start_time": "2021-09-17T04:39:25.356706",
     "status": "completed"
    },
    "tags": []
   },
   "outputs": [
    {
     "name": "stderr",
     "output_type": "stream",
     "text": [
      "2021-09-17 04:39:27.044213: W tensorflow/stream_executor/platform/default/dso_loader.cc:60] Could not load dynamic library 'libcudart.so.11.0'; dlerror: libcudart.so.11.0: cannot open shared object file: No such file or directory; LD_LIBRARY_PATH: /opt/conda/lib\n",
      "2021-09-17 04:39:27.044360: I tensorflow/stream_executor/cuda/cudart_stub.cc:29] Ignore above cudart dlerror if you do not have a GPU set up on your machine.\n"
     ]
    }
   ],
   "source": [
    "import matplotlib.pyplot as plt\n",
    "import numpy as np\n",
    "import pandas as pd\n",
    "import seaborn as sns\n",
    "\n",
    "import matplotlib.pyplot as plt\n",
    "import numpy as np\n",
    "import pandas as pd\n",
    "import seaborn as sns\n",
    "\n",
    "from tensorflow import keras\n",
    "from tensorflow.random import set_seed\n",
    "from tensorflow.keras.layers import Input,Dense,concatenate,Dropout\n",
    "from tensorflow.keras.models import Model,load_model\n",
    "from tensorflow.keras.optimizers import SGD,Adam\n",
    "from tensorflow.keras.utils import plot_model\n",
    "from tensorflow.keras.metrics import MeanAbsoluteError,MeanSquaredError,Accuracy,Precision,Recall,CategoricalCrossentropy\n",
    "\n",
    "from sklearn.metrics import confusion_matrix,classification_report\n",
    "from sklearn.model_selection import train_test_split\n",
    "from sklearn.preprocessing import StandardScaler"
   ]
  },
  {
   "cell_type": "code",
   "execution_count": 2,
   "id": "b3347e57",
   "metadata": {
    "execution": {
     "iopub.execute_input": "2021-09-17T04:39:32.215331Z",
     "iopub.status.busy": "2021-09-17T04:39:32.214639Z",
     "iopub.status.idle": "2021-09-17T04:39:32.310732Z",
     "shell.execute_reply": "2021-09-17T04:39:32.310130Z",
     "shell.execute_reply.started": "2021-09-17T04:36:10.005558Z"
    },
    "papermill": {
     "duration": 0.154889,
     "end_time": "2021-09-17T04:39:32.310903",
     "exception": false,
     "start_time": "2021-09-17T04:39:32.156014",
     "status": "completed"
    },
    "tags": []
   },
   "outputs": [],
   "source": [
    "boston=pd.read_csv('../input/the-boston-houseprice-data/boston.csv')\n",
    "fullcov=pd.read_csv('../input/full-coverage/FullCoverage.csv')\n",
    "customer_train=pd.read_csv('../input/customer-segmentation/Customer_Train.csv')\n",
    "customer_test=pd.read_csv('../input/customer-segmentation/Customer_Test.csv')"
   ]
  },
  {
   "cell_type": "code",
   "execution_count": 3,
   "id": "95112e7b",
   "metadata": {
    "execution": {
     "iopub.execute_input": "2021-09-17T04:39:32.448048Z",
     "iopub.status.busy": "2021-09-17T04:39:32.441277Z",
     "iopub.status.idle": "2021-09-17T04:39:32.471932Z",
     "shell.execute_reply": "2021-09-17T04:39:32.472754Z",
     "shell.execute_reply.started": "2021-09-17T04:36:10.081627Z"
    },
    "papermill": {
     "duration": 0.108188,
     "end_time": "2021-09-17T04:39:32.473012",
     "exception": false,
     "start_time": "2021-09-17T04:39:32.364824",
     "status": "completed"
    },
    "tags": []
   },
   "outputs": [
    {
     "data": {
      "text/html": [
       "<div>\n",
       "<style scoped>\n",
       "    .dataframe tbody tr th:only-of-type {\n",
       "        vertical-align: middle;\n",
       "    }\n",
       "\n",
       "    .dataframe tbody tr th {\n",
       "        vertical-align: top;\n",
       "    }\n",
       "\n",
       "    .dataframe thead th {\n",
       "        text-align: right;\n",
       "    }\n",
       "</style>\n",
       "<table border=\"1\" class=\"dataframe\">\n",
       "  <thead>\n",
       "    <tr style=\"text-align: right;\">\n",
       "      <th></th>\n",
       "      <th>CRIM</th>\n",
       "      <th>ZN</th>\n",
       "      <th>INDUS</th>\n",
       "      <th>CHAS</th>\n",
       "      <th>NOX</th>\n",
       "      <th>RM</th>\n",
       "      <th>AGE</th>\n",
       "      <th>DIS</th>\n",
       "      <th>RAD</th>\n",
       "      <th>TAX</th>\n",
       "      <th>PTRATIO</th>\n",
       "      <th>B</th>\n",
       "      <th>LSTAT</th>\n",
       "      <th>MEDV</th>\n",
       "    </tr>\n",
       "  </thead>\n",
       "  <tbody>\n",
       "    <tr>\n",
       "      <th>0</th>\n",
       "      <td>0.00632</td>\n",
       "      <td>18.0</td>\n",
       "      <td>2.31</td>\n",
       "      <td>0</td>\n",
       "      <td>0.538</td>\n",
       "      <td>6.575</td>\n",
       "      <td>65.2</td>\n",
       "      <td>4.0900</td>\n",
       "      <td>1</td>\n",
       "      <td>296.0</td>\n",
       "      <td>15.3</td>\n",
       "      <td>396.90</td>\n",
       "      <td>4.98</td>\n",
       "      <td>24.0</td>\n",
       "    </tr>\n",
       "    <tr>\n",
       "      <th>1</th>\n",
       "      <td>0.02731</td>\n",
       "      <td>0.0</td>\n",
       "      <td>7.07</td>\n",
       "      <td>0</td>\n",
       "      <td>0.469</td>\n",
       "      <td>6.421</td>\n",
       "      <td>78.9</td>\n",
       "      <td>4.9671</td>\n",
       "      <td>2</td>\n",
       "      <td>242.0</td>\n",
       "      <td>17.8</td>\n",
       "      <td>396.90</td>\n",
       "      <td>9.14</td>\n",
       "      <td>21.6</td>\n",
       "    </tr>\n",
       "    <tr>\n",
       "      <th>2</th>\n",
       "      <td>0.02729</td>\n",
       "      <td>0.0</td>\n",
       "      <td>7.07</td>\n",
       "      <td>0</td>\n",
       "      <td>0.469</td>\n",
       "      <td>7.185</td>\n",
       "      <td>61.1</td>\n",
       "      <td>4.9671</td>\n",
       "      <td>2</td>\n",
       "      <td>242.0</td>\n",
       "      <td>17.8</td>\n",
       "      <td>392.83</td>\n",
       "      <td>4.03</td>\n",
       "      <td>34.7</td>\n",
       "    </tr>\n",
       "    <tr>\n",
       "      <th>3</th>\n",
       "      <td>0.03237</td>\n",
       "      <td>0.0</td>\n",
       "      <td>2.18</td>\n",
       "      <td>0</td>\n",
       "      <td>0.458</td>\n",
       "      <td>6.998</td>\n",
       "      <td>45.8</td>\n",
       "      <td>6.0622</td>\n",
       "      <td>3</td>\n",
       "      <td>222.0</td>\n",
       "      <td>18.7</td>\n",
       "      <td>394.63</td>\n",
       "      <td>2.94</td>\n",
       "      <td>33.4</td>\n",
       "    </tr>\n",
       "    <tr>\n",
       "      <th>4</th>\n",
       "      <td>0.06905</td>\n",
       "      <td>0.0</td>\n",
       "      <td>2.18</td>\n",
       "      <td>0</td>\n",
       "      <td>0.458</td>\n",
       "      <td>7.147</td>\n",
       "      <td>54.2</td>\n",
       "      <td>6.0622</td>\n",
       "      <td>3</td>\n",
       "      <td>222.0</td>\n",
       "      <td>18.7</td>\n",
       "      <td>396.90</td>\n",
       "      <td>5.33</td>\n",
       "      <td>36.2</td>\n",
       "    </tr>\n",
       "  </tbody>\n",
       "</table>\n",
       "</div>"
      ],
      "text/plain": [
       "      CRIM    ZN  INDUS  CHAS    NOX     RM   AGE     DIS  RAD    TAX  \\\n",
       "0  0.00632  18.0   2.31     0  0.538  6.575  65.2  4.0900    1  296.0   \n",
       "1  0.02731   0.0   7.07     0  0.469  6.421  78.9  4.9671    2  242.0   \n",
       "2  0.02729   0.0   7.07     0  0.469  7.185  61.1  4.9671    2  242.0   \n",
       "3  0.03237   0.0   2.18     0  0.458  6.998  45.8  6.0622    3  222.0   \n",
       "4  0.06905   0.0   2.18     0  0.458  7.147  54.2  6.0622    3  222.0   \n",
       "\n",
       "   PTRATIO       B  LSTAT  MEDV  \n",
       "0     15.3  396.90   4.98  24.0  \n",
       "1     17.8  396.90   9.14  21.6  \n",
       "2     17.8  392.83   4.03  34.7  \n",
       "3     18.7  394.63   2.94  33.4  \n",
       "4     18.7  396.90   5.33  36.2  "
      ]
     },
     "execution_count": 3,
     "metadata": {},
     "output_type": "execute_result"
    }
   ],
   "source": [
    "boston.head()"
   ]
  },
  {
   "cell_type": "code",
   "execution_count": 4,
   "id": "c6fcb9c4",
   "metadata": {
    "execution": {
     "iopub.execute_input": "2021-09-17T04:39:32.596686Z",
     "iopub.status.busy": "2021-09-17T04:39:32.596040Z",
     "iopub.status.idle": "2021-09-17T04:39:32.616628Z",
     "shell.execute_reply": "2021-09-17T04:39:32.617138Z",
     "shell.execute_reply.started": "2021-09-17T04:36:10.117982Z"
    },
    "papermill": {
     "duration": 0.085208,
     "end_time": "2021-09-17T04:39:32.617312",
     "exception": false,
     "start_time": "2021-09-17T04:39:32.532104",
     "status": "completed"
    },
    "tags": []
   },
   "outputs": [
    {
     "data": {
      "text/html": [
       "<div>\n",
       "<style scoped>\n",
       "    .dataframe tbody tr th:only-of-type {\n",
       "        vertical-align: middle;\n",
       "    }\n",
       "\n",
       "    .dataframe tbody tr th {\n",
       "        vertical-align: top;\n",
       "    }\n",
       "\n",
       "    .dataframe thead th {\n",
       "        text-align: right;\n",
       "    }\n",
       "</style>\n",
       "<table border=\"1\" class=\"dataframe\">\n",
       "  <thead>\n",
       "    <tr style=\"text-align: right;\">\n",
       "      <th></th>\n",
       "      <th>Gender</th>\n",
       "      <th>Ever_Married</th>\n",
       "      <th>Age</th>\n",
       "      <th>Graduated</th>\n",
       "      <th>Work_Experience</th>\n",
       "      <th>Spending_Score</th>\n",
       "      <th>Family_Size</th>\n",
       "      <th>Var_1</th>\n",
       "      <th>Segmentation</th>\n",
       "      <th>Profession_Artist</th>\n",
       "      <th>Profession_Doctor</th>\n",
       "      <th>Profession_Engineer</th>\n",
       "      <th>Profession_Entertainment</th>\n",
       "      <th>Profession_Executive</th>\n",
       "      <th>Profession_Healthcare</th>\n",
       "      <th>Profession_Homemaker</th>\n",
       "      <th>Profession_Lawyer</th>\n",
       "      <th>Profession_Marketing</th>\n",
       "    </tr>\n",
       "  </thead>\n",
       "  <tbody>\n",
       "    <tr>\n",
       "      <th>0</th>\n",
       "      <td>0</td>\n",
       "      <td>0</td>\n",
       "      <td>22</td>\n",
       "      <td>0</td>\n",
       "      <td>1.0</td>\n",
       "      <td>0</td>\n",
       "      <td>4.0</td>\n",
       "      <td>4</td>\n",
       "      <td>3</td>\n",
       "      <td>0</td>\n",
       "      <td>0</td>\n",
       "      <td>0</td>\n",
       "      <td>0</td>\n",
       "      <td>0</td>\n",
       "      <td>1</td>\n",
       "      <td>0</td>\n",
       "      <td>0</td>\n",
       "      <td>0</td>\n",
       "    </tr>\n",
       "    <tr>\n",
       "      <th>1</th>\n",
       "      <td>1</td>\n",
       "      <td>1</td>\n",
       "      <td>38</td>\n",
       "      <td>1</td>\n",
       "      <td>1.0</td>\n",
       "      <td>1</td>\n",
       "      <td>3.0</td>\n",
       "      <td>4</td>\n",
       "      <td>0</td>\n",
       "      <td>0</td>\n",
       "      <td>0</td>\n",
       "      <td>1</td>\n",
       "      <td>0</td>\n",
       "      <td>0</td>\n",
       "      <td>0</td>\n",
       "      <td>0</td>\n",
       "      <td>0</td>\n",
       "      <td>0</td>\n",
       "    </tr>\n",
       "    <tr>\n",
       "      <th>2</th>\n",
       "      <td>1</td>\n",
       "      <td>1</td>\n",
       "      <td>67</td>\n",
       "      <td>1</td>\n",
       "      <td>1.0</td>\n",
       "      <td>0</td>\n",
       "      <td>1.0</td>\n",
       "      <td>6</td>\n",
       "      <td>1</td>\n",
       "      <td>0</td>\n",
       "      <td>0</td>\n",
       "      <td>1</td>\n",
       "      <td>0</td>\n",
       "      <td>0</td>\n",
       "      <td>0</td>\n",
       "      <td>0</td>\n",
       "      <td>0</td>\n",
       "      <td>0</td>\n",
       "    </tr>\n",
       "    <tr>\n",
       "      <th>3</th>\n",
       "      <td>0</td>\n",
       "      <td>1</td>\n",
       "      <td>67</td>\n",
       "      <td>1</td>\n",
       "      <td>0.0</td>\n",
       "      <td>2</td>\n",
       "      <td>2.0</td>\n",
       "      <td>6</td>\n",
       "      <td>1</td>\n",
       "      <td>0</td>\n",
       "      <td>0</td>\n",
       "      <td>0</td>\n",
       "      <td>0</td>\n",
       "      <td>0</td>\n",
       "      <td>0</td>\n",
       "      <td>0</td>\n",
       "      <td>1</td>\n",
       "      <td>0</td>\n",
       "    </tr>\n",
       "    <tr>\n",
       "      <th>4</th>\n",
       "      <td>1</td>\n",
       "      <td>1</td>\n",
       "      <td>40</td>\n",
       "      <td>1</td>\n",
       "      <td>1.0</td>\n",
       "      <td>2</td>\n",
       "      <td>6.0</td>\n",
       "      <td>6</td>\n",
       "      <td>0</td>\n",
       "      <td>0</td>\n",
       "      <td>0</td>\n",
       "      <td>0</td>\n",
       "      <td>1</td>\n",
       "      <td>0</td>\n",
       "      <td>0</td>\n",
       "      <td>0</td>\n",
       "      <td>0</td>\n",
       "      <td>0</td>\n",
       "    </tr>\n",
       "  </tbody>\n",
       "</table>\n",
       "</div>"
      ],
      "text/plain": [
       "   Gender  Ever_Married  Age  Graduated  Work_Experience  Spending_Score  \\\n",
       "0       0             0   22          0              1.0               0   \n",
       "1       1             1   38          1              1.0               1   \n",
       "2       1             1   67          1              1.0               0   \n",
       "3       0             1   67          1              0.0               2   \n",
       "4       1             1   40          1              1.0               2   \n",
       "\n",
       "   Family_Size  Var_1  Segmentation  Profession_Artist  Profession_Doctor  \\\n",
       "0          4.0      4             3                  0                  0   \n",
       "1          3.0      4             0                  0                  0   \n",
       "2          1.0      6             1                  0                  0   \n",
       "3          2.0      6             1                  0                  0   \n",
       "4          6.0      6             0                  0                  0   \n",
       "\n",
       "   Profession_Engineer  Profession_Entertainment  Profession_Executive  \\\n",
       "0                    0                         0                     0   \n",
       "1                    1                         0                     0   \n",
       "2                    1                         0                     0   \n",
       "3                    0                         0                     0   \n",
       "4                    0                         1                     0   \n",
       "\n",
       "   Profession_Healthcare  Profession_Homemaker  Profession_Lawyer  \\\n",
       "0                      1                     0                  0   \n",
       "1                      0                     0                  0   \n",
       "2                      0                     0                  0   \n",
       "3                      0                     0                  1   \n",
       "4                      0                     0                  0   \n",
       "\n",
       "   Profession_Marketing  \n",
       "0                     0  \n",
       "1                     0  \n",
       "2                     0  \n",
       "3                     0  \n",
       "4                     0  "
      ]
     },
     "execution_count": 4,
     "metadata": {},
     "output_type": "execute_result"
    }
   ],
   "source": [
    "customer_train.head()"
   ]
  },
  {
   "cell_type": "code",
   "execution_count": 5,
   "id": "0b853ced",
   "metadata": {
    "execution": {
     "iopub.execute_input": "2021-09-17T04:39:32.751979Z",
     "iopub.status.busy": "2021-09-17T04:39:32.751269Z",
     "iopub.status.idle": "2021-09-17T04:39:32.766032Z",
     "shell.execute_reply": "2021-09-17T04:39:32.766554Z",
     "shell.execute_reply.started": "2021-09-17T04:36:10.135564Z"
    },
    "papermill": {
     "duration": 0.082508,
     "end_time": "2021-09-17T04:39:32.766802",
     "exception": false,
     "start_time": "2021-09-17T04:39:32.684294",
     "status": "completed"
    },
    "tags": []
   },
   "outputs": [
    {
     "data": {
      "text/html": [
       "<div>\n",
       "<style scoped>\n",
       "    .dataframe tbody tr th:only-of-type {\n",
       "        vertical-align: middle;\n",
       "    }\n",
       "\n",
       "    .dataframe tbody tr th {\n",
       "        vertical-align: top;\n",
       "    }\n",
       "\n",
       "    .dataframe thead th {\n",
       "        text-align: right;\n",
       "    }\n",
       "</style>\n",
       "<table border=\"1\" class=\"dataframe\">\n",
       "  <thead>\n",
       "    <tr style=\"text-align: right;\">\n",
       "      <th></th>\n",
       "      <th>age</th>\n",
       "      <th>seniority</th>\n",
       "      <th>men</th>\n",
       "      <th>urban</th>\n",
       "      <th>private</th>\n",
       "      <th>marital</th>\n",
       "      <th>y</th>\n",
       "    </tr>\n",
       "  </thead>\n",
       "  <tbody>\n",
       "    <tr>\n",
       "      <th>0</th>\n",
       "      <td>58</td>\n",
       "      <td>32</td>\n",
       "      <td>1</td>\n",
       "      <td>1</td>\n",
       "      <td>1</td>\n",
       "      <td>C</td>\n",
       "      <td>0</td>\n",
       "    </tr>\n",
       "    <tr>\n",
       "      <th>1</th>\n",
       "      <td>37</td>\n",
       "      <td>30</td>\n",
       "      <td>1</td>\n",
       "      <td>0</td>\n",
       "      <td>1</td>\n",
       "      <td>C</td>\n",
       "      <td>1</td>\n",
       "    </tr>\n",
       "    <tr>\n",
       "      <th>2</th>\n",
       "      <td>56</td>\n",
       "      <td>28</td>\n",
       "      <td>1</td>\n",
       "      <td>0</td>\n",
       "      <td>1</td>\n",
       "      <td>C</td>\n",
       "      <td>1</td>\n",
       "    </tr>\n",
       "    <tr>\n",
       "      <th>3</th>\n",
       "      <td>68</td>\n",
       "      <td>27</td>\n",
       "      <td>1</td>\n",
       "      <td>0</td>\n",
       "      <td>1</td>\n",
       "      <td>C</td>\n",
       "      <td>0</td>\n",
       "    </tr>\n",
       "    <tr>\n",
       "      <th>4</th>\n",
       "      <td>58</td>\n",
       "      <td>26</td>\n",
       "      <td>1</td>\n",
       "      <td>0</td>\n",
       "      <td>1</td>\n",
       "      <td>C</td>\n",
       "      <td>0</td>\n",
       "    </tr>\n",
       "  </tbody>\n",
       "</table>\n",
       "</div>"
      ],
      "text/plain": [
       "   age  seniority  men  urban  private marital  y\n",
       "0   58         32    1      1        1       C  0\n",
       "1   37         30    1      0        1       C  1\n",
       "2   56         28    1      0        1       C  1\n",
       "3   68         27    1      0        1       C  0\n",
       "4   58         26    1      0        1       C  0"
      ]
     },
     "execution_count": 5,
     "metadata": {},
     "output_type": "execute_result"
    }
   ],
   "source": [
    "fullcov.head()"
   ]
  },
  {
   "cell_type": "code",
   "execution_count": 6,
   "id": "2e065830",
   "metadata": {
    "execution": {
     "iopub.execute_input": "2021-09-17T04:39:32.887289Z",
     "iopub.status.busy": "2021-09-17T04:39:32.886381Z",
     "iopub.status.idle": "2021-09-17T04:39:32.911885Z",
     "shell.execute_reply": "2021-09-17T04:39:32.912901Z",
     "shell.execute_reply.started": "2021-09-17T04:36:10.152865Z"
    },
    "papermill": {
     "duration": 0.088564,
     "end_time": "2021-09-17T04:39:32.913150",
     "exception": false,
     "start_time": "2021-09-17T04:39:32.824586",
     "status": "completed"
    },
    "tags": []
   },
   "outputs": [
    {
     "name": "stdout",
     "output_type": "stream",
     "text": [
      "<class 'pandas.core.frame.DataFrame'>\n",
      "RangeIndex: 4000 entries, 0 to 3999\n",
      "Data columns (total 7 columns):\n",
      " #   Column     Non-Null Count  Dtype \n",
      "---  ------     --------------  ----- \n",
      " 0   age        4000 non-null   int64 \n",
      " 1   seniority  4000 non-null   int64 \n",
      " 2   men        4000 non-null   int64 \n",
      " 3   urban      4000 non-null   int64 \n",
      " 4   private    4000 non-null   int64 \n",
      " 5   marital    4000 non-null   object\n",
      " 6   y          4000 non-null   int64 \n",
      "dtypes: int64(6), object(1)\n",
      "memory usage: 218.9+ KB\n"
     ]
    }
   ],
   "source": [
    "fullcov.info()"
   ]
  },
  {
   "cell_type": "code",
   "execution_count": 7,
   "id": "1175831e",
   "metadata": {
    "execution": {
     "iopub.execute_input": "2021-09-17T04:39:33.030309Z",
     "iopub.status.busy": "2021-09-17T04:39:33.029564Z",
     "iopub.status.idle": "2021-09-17T04:39:33.041440Z",
     "shell.execute_reply": "2021-09-17T04:39:33.040904Z",
     "shell.execute_reply.started": "2021-09-17T04:36:10.181678Z"
    },
    "papermill": {
     "duration": 0.071517,
     "end_time": "2021-09-17T04:39:33.041591",
     "exception": false,
     "start_time": "2021-09-17T04:39:32.970074",
     "status": "completed"
    },
    "tags": []
   },
   "outputs": [
    {
     "name": "stdout",
     "output_type": "stream",
     "text": [
      "C    2973\n",
      "S     861\n",
      "O     166\n",
      "Name: marital, dtype: int64\n",
      "\n"
     ]
    }
   ],
   "source": [
    "fullcov_col=fullcov.select_dtypes('object')\n",
    "\n",
    "for i in fullcov_col:\n",
    "    print(fullcov[i].value_counts(), end=\"\\n\\n\")"
   ]
  },
  {
   "cell_type": "code",
   "execution_count": 8,
   "id": "9e6ee996",
   "metadata": {
    "execution": {
     "iopub.execute_input": "2021-09-17T04:39:33.165637Z",
     "iopub.status.busy": "2021-09-17T04:39:33.164903Z",
     "iopub.status.idle": "2021-09-17T04:39:33.170130Z",
     "shell.execute_reply": "2021-09-17T04:39:33.170690Z",
     "shell.execute_reply.started": "2021-09-17T04:36:10.193868Z"
    },
    "papermill": {
     "duration": 0.072142,
     "end_time": "2021-09-17T04:39:33.170902",
     "exception": false,
     "start_time": "2021-09-17T04:39:33.098760",
     "status": "completed"
    },
    "tags": []
   },
   "outputs": [],
   "source": [
    "fullcov_dummy=pd.get_dummies(fullcov)"
   ]
  },
  {
   "cell_type": "code",
   "execution_count": 9,
   "id": "cb1f5c78",
   "metadata": {
    "execution": {
     "iopub.execute_input": "2021-09-17T04:39:33.297835Z",
     "iopub.status.busy": "2021-09-17T04:39:33.296947Z",
     "iopub.status.idle": "2021-09-17T04:39:33.300425Z",
     "shell.execute_reply": "2021-09-17T04:39:33.300938Z",
     "shell.execute_reply.started": "2021-09-17T04:36:10.210613Z"
    },
    "papermill": {
     "duration": 0.071163,
     "end_time": "2021-09-17T04:39:33.301111",
     "exception": false,
     "start_time": "2021-09-17T04:39:33.229948",
     "status": "completed"
    },
    "tags": []
   },
   "outputs": [
    {
     "data": {
      "text/html": [
       "<div>\n",
       "<style scoped>\n",
       "    .dataframe tbody tr th:only-of-type {\n",
       "        vertical-align: middle;\n",
       "    }\n",
       "\n",
       "    .dataframe tbody tr th {\n",
       "        vertical-align: top;\n",
       "    }\n",
       "\n",
       "    .dataframe thead th {\n",
       "        text-align: right;\n",
       "    }\n",
       "</style>\n",
       "<table border=\"1\" class=\"dataframe\">\n",
       "  <thead>\n",
       "    <tr style=\"text-align: right;\">\n",
       "      <th></th>\n",
       "      <th>age</th>\n",
       "      <th>seniority</th>\n",
       "      <th>men</th>\n",
       "      <th>urban</th>\n",
       "      <th>private</th>\n",
       "      <th>y</th>\n",
       "      <th>marital_C</th>\n",
       "      <th>marital_O</th>\n",
       "      <th>marital_S</th>\n",
       "    </tr>\n",
       "  </thead>\n",
       "  <tbody>\n",
       "    <tr>\n",
       "      <th>0</th>\n",
       "      <td>58</td>\n",
       "      <td>32</td>\n",
       "      <td>1</td>\n",
       "      <td>1</td>\n",
       "      <td>1</td>\n",
       "      <td>0</td>\n",
       "      <td>1</td>\n",
       "      <td>0</td>\n",
       "      <td>0</td>\n",
       "    </tr>\n",
       "    <tr>\n",
       "      <th>1</th>\n",
       "      <td>37</td>\n",
       "      <td>30</td>\n",
       "      <td>1</td>\n",
       "      <td>0</td>\n",
       "      <td>1</td>\n",
       "      <td>1</td>\n",
       "      <td>1</td>\n",
       "      <td>0</td>\n",
       "      <td>0</td>\n",
       "    </tr>\n",
       "    <tr>\n",
       "      <th>2</th>\n",
       "      <td>56</td>\n",
       "      <td>28</td>\n",
       "      <td>1</td>\n",
       "      <td>0</td>\n",
       "      <td>1</td>\n",
       "      <td>1</td>\n",
       "      <td>1</td>\n",
       "      <td>0</td>\n",
       "      <td>0</td>\n",
       "    </tr>\n",
       "    <tr>\n",
       "      <th>3</th>\n",
       "      <td>68</td>\n",
       "      <td>27</td>\n",
       "      <td>1</td>\n",
       "      <td>0</td>\n",
       "      <td>1</td>\n",
       "      <td>0</td>\n",
       "      <td>1</td>\n",
       "      <td>0</td>\n",
       "      <td>0</td>\n",
       "    </tr>\n",
       "    <tr>\n",
       "      <th>4</th>\n",
       "      <td>58</td>\n",
       "      <td>26</td>\n",
       "      <td>1</td>\n",
       "      <td>0</td>\n",
       "      <td>1</td>\n",
       "      <td>0</td>\n",
       "      <td>1</td>\n",
       "      <td>0</td>\n",
       "      <td>0</td>\n",
       "    </tr>\n",
       "  </tbody>\n",
       "</table>\n",
       "</div>"
      ],
      "text/plain": [
       "   age  seniority  men  urban  private  y  marital_C  marital_O  marital_S\n",
       "0   58         32    1      1        1  0          1          0          0\n",
       "1   37         30    1      0        1  1          1          0          0\n",
       "2   56         28    1      0        1  1          1          0          0\n",
       "3   68         27    1      0        1  0          1          0          0\n",
       "4   58         26    1      0        1  0          1          0          0"
      ]
     },
     "execution_count": 9,
     "metadata": {},
     "output_type": "execute_result"
    }
   ],
   "source": [
    "fullcov_dummy.head()"
   ]
  },
  {
   "cell_type": "code",
   "execution_count": 10,
   "id": "602a33c9",
   "metadata": {
    "execution": {
     "iopub.execute_input": "2021-09-17T04:39:33.421237Z",
     "iopub.status.busy": "2021-09-17T04:39:33.420200Z",
     "iopub.status.idle": "2021-09-17T04:39:33.426796Z",
     "shell.execute_reply": "2021-09-17T04:39:33.426151Z",
     "shell.execute_reply.started": "2021-09-17T04:36:10.229513Z"
    },
    "papermill": {
     "duration": 0.069012,
     "end_time": "2021-09-17T04:39:33.426964",
     "exception": false,
     "start_time": "2021-09-17T04:39:33.357952",
     "status": "completed"
    },
    "tags": []
   },
   "outputs": [],
   "source": [
    "X=boston.drop(['MEDV'],axis=1)\n",
    "Y=boston['MEDV']"
   ]
  },
  {
   "cell_type": "code",
   "execution_count": 11,
   "id": "4fb21175",
   "metadata": {
    "execution": {
     "iopub.execute_input": "2021-09-17T04:39:33.545145Z",
     "iopub.status.busy": "2021-09-17T04:39:33.544109Z",
     "iopub.status.idle": "2021-09-17T04:39:33.551965Z",
     "shell.execute_reply": "2021-09-17T04:39:33.551426Z",
     "shell.execute_reply.started": "2021-09-17T04:36:10.237682Z"
    },
    "papermill": {
     "duration": 0.067496,
     "end_time": "2021-09-17T04:39:33.552115",
     "exception": false,
     "start_time": "2021-09-17T04:39:33.484619",
     "status": "completed"
    },
    "tags": []
   },
   "outputs": [],
   "source": [
    "X_trainc=customer_train.drop(['Segmentation'],axis=1)\n",
    "Y_trainc=customer_train['Segmentation']"
   ]
  },
  {
   "cell_type": "code",
   "execution_count": 12,
   "id": "4ce86b3f",
   "metadata": {
    "execution": {
     "iopub.execute_input": "2021-09-17T04:39:33.671032Z",
     "iopub.status.busy": "2021-09-17T04:39:33.670043Z",
     "iopub.status.idle": "2021-09-17T04:39:33.675265Z",
     "shell.execute_reply": "2021-09-17T04:39:33.675892Z",
     "shell.execute_reply.started": "2021-09-17T04:36:10.253470Z"
    },
    "papermill": {
     "duration": 0.066992,
     "end_time": "2021-09-17T04:39:33.676070",
     "exception": false,
     "start_time": "2021-09-17T04:39:33.609078",
     "status": "completed"
    },
    "tags": []
   },
   "outputs": [],
   "source": [
    "X_testc=customer_test.drop(['Segmentation'],axis=1)\n",
    "Y_testc=customer_test['Segmentation']"
   ]
  },
  {
   "cell_type": "code",
   "execution_count": 13,
   "id": "4cf73573",
   "metadata": {
    "execution": {
     "iopub.execute_input": "2021-09-17T04:39:33.792924Z",
     "iopub.status.busy": "2021-09-17T04:39:33.791902Z",
     "iopub.status.idle": "2021-09-17T04:39:33.798667Z",
     "shell.execute_reply": "2021-09-17T04:39:33.798153Z",
     "shell.execute_reply.started": "2021-09-17T04:36:10.262854Z"
    },
    "papermill": {
     "duration": 0.06644,
     "end_time": "2021-09-17T04:39:33.798815",
     "exception": false,
     "start_time": "2021-09-17T04:39:33.732375",
     "status": "completed"
    },
    "tags": []
   },
   "outputs": [],
   "source": [
    "Xcov=fullcov_dummy.drop(['y'],axis=1)\n",
    "Ycov=fullcov_dummy['y']"
   ]
  },
  {
   "cell_type": "code",
   "execution_count": 14,
   "id": "d0e8e65a",
   "metadata": {
    "execution": {
     "iopub.execute_input": "2021-09-17T04:39:33.920280Z",
     "iopub.status.busy": "2021-09-17T04:39:33.918621Z",
     "iopub.status.idle": "2021-09-17T04:39:33.923954Z",
     "shell.execute_reply": "2021-09-17T04:39:33.923288Z",
     "shell.execute_reply.started": "2021-09-17T04:36:10.275915Z"
    },
    "papermill": {
     "duration": 0.068874,
     "end_time": "2021-09-17T04:39:33.924096",
     "exception": false,
     "start_time": "2021-09-17T04:39:33.855222",
     "status": "completed"
    },
    "tags": []
   },
   "outputs": [],
   "source": [
    "#Untuk Data Regresi\n",
    "X_train,X_test,Y_train,Y_test=train_test_split(X,Y,test_size=0.3)"
   ]
  },
  {
   "cell_type": "code",
   "execution_count": 15,
   "id": "196fec97",
   "metadata": {
    "execution": {
     "iopub.execute_input": "2021-09-17T04:39:34.044159Z",
     "iopub.status.busy": "2021-09-17T04:39:34.043471Z",
     "iopub.status.idle": "2021-09-17T04:39:34.048392Z",
     "shell.execute_reply": "2021-09-17T04:39:34.047706Z",
     "shell.execute_reply.started": "2021-09-17T04:36:10.291591Z"
    },
    "papermill": {
     "duration": 0.067113,
     "end_time": "2021-09-17T04:39:34.048543",
     "exception": false,
     "start_time": "2021-09-17T04:39:33.981430",
     "status": "completed"
    },
    "tags": []
   },
   "outputs": [],
   "source": [
    "#Untuk Data Klasifikasi\n",
    "X_trainf,X_testf,Y_trainf,Y_testf=train_test_split(Xcov,Ycov,test_size=0.3)"
   ]
  },
  {
   "cell_type": "code",
   "execution_count": 16,
   "id": "a8af2e21",
   "metadata": {
    "execution": {
     "iopub.execute_input": "2021-09-17T04:39:34.167113Z",
     "iopub.status.busy": "2021-09-17T04:39:34.166364Z",
     "iopub.status.idle": "2021-09-17T04:39:34.175833Z",
     "shell.execute_reply": "2021-09-17T04:39:34.176413Z",
     "shell.execute_reply.started": "2021-09-17T04:36:10.305144Z"
    },
    "papermill": {
     "duration": 0.071104,
     "end_time": "2021-09-17T04:39:34.176590",
     "exception": false,
     "start_time": "2021-09-17T04:39:34.105486",
     "status": "completed"
    },
    "tags": []
   },
   "outputs": [],
   "source": [
    "reg_scaler=StandardScaler()\n",
    "X_train=reg_scaler.fit_transform(X_train)\n",
    "X_test=reg_scaler.transform(X_test)"
   ]
  },
  {
   "cell_type": "code",
   "execution_count": 17,
   "id": "a08c98bc",
   "metadata": {
    "execution": {
     "iopub.execute_input": "2021-09-17T04:39:34.294808Z",
     "iopub.status.busy": "2021-09-17T04:39:34.294144Z",
     "iopub.status.idle": "2021-09-17T04:39:34.307186Z",
     "shell.execute_reply": "2021-09-17T04:39:34.307674Z",
     "shell.execute_reply.started": "2021-09-17T04:36:10.321803Z"
    },
    "papermill": {
     "duration": 0.073431,
     "end_time": "2021-09-17T04:39:34.307930",
     "exception": false,
     "start_time": "2021-09-17T04:39:34.234499",
     "status": "completed"
    },
    "tags": []
   },
   "outputs": [],
   "source": [
    "#Untuk Klasifikasi Multiclass\n",
    "cls_scaler=StandardScaler()\n",
    "X_trainc=cls_scaler.fit_transform(X_trainc)\n",
    "X_testc=cls_scaler.transform(X_testc)"
   ]
  },
  {
   "cell_type": "code",
   "execution_count": 18,
   "id": "661da56c",
   "metadata": {
    "execution": {
     "iopub.execute_input": "2021-09-17T04:39:34.425730Z",
     "iopub.status.busy": "2021-09-17T04:39:34.425083Z",
     "iopub.status.idle": "2021-09-17T04:39:34.434492Z",
     "shell.execute_reply": "2021-09-17T04:39:34.435007Z",
     "shell.execute_reply.started": "2021-09-17T04:36:10.337309Z"
    },
    "papermill": {
     "duration": 0.070543,
     "end_time": "2021-09-17T04:39:34.435199",
     "exception": false,
     "start_time": "2021-09-17T04:39:34.364656",
     "status": "completed"
    },
    "tags": []
   },
   "outputs": [],
   "source": [
    "#Untuk Klasifikasi Biner\n",
    "clsb_scaler=StandardScaler()\n",
    "X_trainf=clsb_scaler.fit_transform(X_trainf)\n",
    "X_testf=clsb_scaler.transform(X_testf)"
   ]
  },
  {
   "cell_type": "code",
   "execution_count": 19,
   "id": "dee6ee4c",
   "metadata": {
    "execution": {
     "iopub.execute_input": "2021-09-17T04:39:34.552236Z",
     "iopub.status.busy": "2021-09-17T04:39:34.551426Z",
     "iopub.status.idle": "2021-09-17T04:39:34.554899Z",
     "shell.execute_reply": "2021-09-17T04:39:34.555421Z",
     "shell.execute_reply.started": "2021-09-17T04:36:10.350139Z"
    },
    "papermill": {
     "duration": 0.06389,
     "end_time": "2021-09-17T04:39:34.555599",
     "exception": false,
     "start_time": "2021-09-17T04:39:34.491709",
     "status": "completed"
    },
    "tags": []
   },
   "outputs": [],
   "source": [
    "np.random.seed(1234)\n",
    "set_seed(1234)"
   ]
  },
  {
   "cell_type": "markdown",
   "id": "15a4c635",
   "metadata": {
    "papermill": {
     "duration": 0.059022,
     "end_time": "2021-09-17T04:39:34.670988",
     "exception": false,
     "start_time": "2021-09-17T04:39:34.611966",
     "status": "completed"
    },
    "tags": []
   },
   "source": [
    "## Regresi"
   ]
  },
  {
   "cell_type": "code",
   "execution_count": 20,
   "id": "db0d6f5f",
   "metadata": {
    "execution": {
     "iopub.execute_input": "2021-09-17T04:39:34.788749Z",
     "iopub.status.busy": "2021-09-17T04:39:34.788113Z",
     "iopub.status.idle": "2021-09-17T04:39:35.098449Z",
     "shell.execute_reply": "2021-09-17T04:39:35.097718Z",
     "shell.execute_reply.started": "2021-09-17T04:36:10.355980Z"
    },
    "papermill": {
     "duration": 0.370942,
     "end_time": "2021-09-17T04:39:35.098601",
     "exception": false,
     "start_time": "2021-09-17T04:39:34.727659",
     "status": "completed"
    },
    "tags": []
   },
   "outputs": [
    {
     "name": "stderr",
     "output_type": "stream",
     "text": [
      "2021-09-17 04:39:34.817427: I tensorflow/compiler/jit/xla_cpu_device.cc:41] Not creating XLA devices, tf_xla_enable_xla_devices not set\n",
      "2021-09-17 04:39:34.819629: W tensorflow/stream_executor/platform/default/dso_loader.cc:60] Could not load dynamic library 'libcuda.so.1'; dlerror: libcuda.so.1: cannot open shared object file: No such file or directory; LD_LIBRARY_PATH: /opt/conda/lib\n",
      "2021-09-17 04:39:34.819663: W tensorflow/stream_executor/cuda/cuda_driver.cc:326] failed call to cuInit: UNKNOWN ERROR (303)\n",
      "2021-09-17 04:39:34.819688: I tensorflow/stream_executor/cuda/cuda_diagnostics.cc:156] kernel driver does not appear to be running on this host (0f2a1793c2cb): /proc/driver/nvidia/version does not exist\n",
      "2021-09-17 04:39:34.821049: I tensorflow/core/platform/cpu_feature_guard.cc:142] This TensorFlow binary is optimized with oneAPI Deep Neural Network Library (oneDNN) to use the following CPU instructions in performance-critical operations:  AVX2 FMA\n",
      "To enable them in other operations, rebuild TensorFlow with the appropriate compiler flags.\n",
      "2021-09-17 04:39:34.821626: I tensorflow/compiler/jit/xla_gpu_device.cc:99] Not creating XLA devices, tf_xla_enable_xla_devices not set\n"
     ]
    }
   ],
   "source": [
    "#Model MLP Regresi\n",
    "inputs=Input(shape=X_train.shape[1:])\n",
    "layers=Dense(10,activation='relu')(inputs)\n",
    "layers=Dense(10,activation='relu')(layers)\n",
    "output=Dense(1)(layers)\n",
    "model=Model(inputs=[inputs],outputs=[output])\n",
    "\n",
    "model.compile(loss=\"mean_squared_error\", optimizer=Adam(learning_rate=1e-3), \n",
    "              metrics=[MeanAbsoluteError(),MeanSquaredError()])"
   ]
  },
  {
   "cell_type": "code",
   "execution_count": 21,
   "id": "e5ffd5b5",
   "metadata": {
    "execution": {
     "iopub.execute_input": "2021-09-17T04:39:35.219702Z",
     "iopub.status.busy": "2021-09-17T04:39:35.218997Z",
     "iopub.status.idle": "2021-09-17T04:39:35.223372Z",
     "shell.execute_reply": "2021-09-17T04:39:35.223842Z",
     "shell.execute_reply.started": "2021-09-17T04:36:10.477122Z"
    },
    "papermill": {
     "duration": 0.068244,
     "end_time": "2021-09-17T04:39:35.224038",
     "exception": false,
     "start_time": "2021-09-17T04:39:35.155794",
     "status": "completed"
    },
    "tags": []
   },
   "outputs": [
    {
     "name": "stdout",
     "output_type": "stream",
     "text": [
      "Model: \"model\"\n",
      "_________________________________________________________________\n",
      "Layer (type)                 Output Shape              Param #   \n",
      "=================================================================\n",
      "input_1 (InputLayer)         [(None, 13)]              0         \n",
      "_________________________________________________________________\n",
      "dense (Dense)                (None, 10)                140       \n",
      "_________________________________________________________________\n",
      "dense_1 (Dense)              (None, 10)                110       \n",
      "_________________________________________________________________\n",
      "dense_2 (Dense)              (None, 1)                 11        \n",
      "=================================================================\n",
      "Total params: 261\n",
      "Trainable params: 261\n",
      "Non-trainable params: 0\n",
      "_________________________________________________________________\n"
     ]
    }
   ],
   "source": [
    "model.summary()"
   ]
  },
  {
   "cell_type": "code",
   "execution_count": 22,
   "id": "0215a014",
   "metadata": {
    "execution": {
     "iopub.execute_input": "2021-09-17T04:39:35.342607Z",
     "iopub.status.busy": "2021-09-17T04:39:35.341935Z",
     "iopub.status.idle": "2021-09-17T04:39:36.309708Z",
     "shell.execute_reply": "2021-09-17T04:39:36.309002Z",
     "shell.execute_reply.started": "2021-09-17T04:36:10.486443Z"
    },
    "papermill": {
     "duration": 1.028176,
     "end_time": "2021-09-17T04:39:36.309860",
     "exception": false,
     "start_time": "2021-09-17T04:39:35.281684",
     "status": "completed"
    },
    "tags": []
   },
   "outputs": [
    {
     "data": {
      "image/png": "[encoded data removed]",
      "text/plain": [
       "<IPython.core.display.Image object>"
      ]
     },
     "execution_count": 22,
     "metadata": {},
     "output_type": "execute_result"
    }
   ],
   "source": [
    "plot_model(model, \"Model MLP Regresi.png\", show_shapes=True)"
   ]
  },
  {
   "cell_type": "code",
   "execution_count": 23,
   "id": "0163cd31",
   "metadata": {
    "execution": {
     "iopub.execute_input": "2021-09-17T04:39:36.433396Z",
     "iopub.status.busy": "2021-09-17T04:39:36.432649Z",
     "iopub.status.idle": "2021-09-17T04:39:45.906146Z",
     "shell.execute_reply": "2021-09-17T04:39:45.906862Z",
     "shell.execute_reply.started": "2021-09-17T04:36:11.547414Z"
    },
    "papermill": {
     "duration": 9.538426,
     "end_time": "2021-09-17T04:39:45.907135",
     "exception": false,
     "start_time": "2021-09-17T04:39:36.368709",
     "status": "completed"
    },
    "tags": []
   },
   "outputs": [
    {
     "name": "stderr",
     "output_type": "stream",
     "text": [
      "2021-09-17 04:39:36.516248: I tensorflow/compiler/mlir/mlir_graph_optimization_pass.cc:116] None of the MLIR optimization passes are enabled (registered 2)\n",
      "2021-09-17 04:39:36.529225: I tensorflow/core/platform/profile_utils/cpu_utils.cc:112] CPU Frequency: 2199995000 Hz\n"
     ]
    },
    {
     "name": "stdout",
     "output_type": "stream",
     "text": [
      "Epoch 1/100\n",
      "12/12 [==============================] - 1s 57ms/step - loss: 630.7959 - mean_absolute_error: 22.9513 - mean_squared_error: 630.7959 - val_loss: 521.3954 - val_mean_absolute_error: 21.0850 - val_mean_squared_error: 521.3954\n",
      "Epoch 2/100\n",
      "12/12 [==============================] - 0s 7ms/step - loss: 603.3572 - mean_absolute_error: 22.5122 - mean_squared_error: 603.3572 - val_loss: 510.7291 - val_mean_absolute_error: 20.8362 - val_mean_squared_error: 510.7291\n",
      "Epoch 3/100\n",
      "12/12 [==============================] - 0s 8ms/step - loss: 585.7633 - mean_absolute_error: 22.3090 - mean_squared_error: 585.7633 - val_loss: 499.5076 - val_mean_absolute_error: 20.5751 - val_mean_squared_error: 499.5076\n",
      "Epoch 4/100\n",
      "12/12 [==============================] - 0s 8ms/step - loss: 550.5197 - mean_absolute_error: 21.6337 - mean_squared_error: 550.5197 - val_loss: 487.5206 - val_mean_absolute_error: 20.2936 - val_mean_squared_error: 487.5206\n",
      "Epoch 5/100\n",
      "12/12 [==============================] - 0s 7ms/step - loss: 546.0974 - mean_absolute_error: 21.3524 - mean_squared_error: 546.0974 - val_loss: 474.3692 - val_mean_absolute_error: 19.9853 - val_mean_squared_error: 474.3692\n",
      "Epoch 6/100\n",
      "12/12 [==============================] - 0s 7ms/step - loss: 553.3578 - mean_absolute_error: 21.5172 - mean_squared_error: 553.3578 - val_loss: 459.9841 - val_mean_absolute_error: 19.6436 - val_mean_squared_error: 459.9841\n",
      "Epoch 7/100\n",
      "12/12 [==============================] - 0s 7ms/step - loss: 534.9206 - mean_absolute_error: 21.2122 - mean_squared_error: 534.9206 - val_loss: 444.4881 - val_mean_absolute_error: 19.2595 - val_mean_squared_error: 444.4881\n",
      "Epoch 8/100\n",
      "12/12 [==============================] - 0s 7ms/step - loss: 486.9323 - mean_absolute_error: 20.2872 - mean_squared_error: 486.9323 - val_loss: 427.5606 - val_mean_absolute_error: 18.8389 - val_mean_squared_error: 427.5606\n",
      "Epoch 9/100\n",
      "12/12 [==============================] - 0s 7ms/step - loss: 470.7816 - mean_absolute_error: 19.7155 - mean_squared_error: 470.7816 - val_loss: 408.8759 - val_mean_absolute_error: 18.3586 - val_mean_squared_error: 408.8759\n",
      "Epoch 10/100\n",
      "12/12 [==============================] - 0s 7ms/step - loss: 436.5842 - mean_absolute_error: 19.1546 - mean_squared_error: 436.5842 - val_loss: 388.2116 - val_mean_absolute_error: 17.8163 - val_mean_squared_error: 388.2116\n",
      "Epoch 11/100\n",
      "12/12 [==============================] - 0s 7ms/step - loss: 440.0616 - mean_absolute_error: 19.0262 - mean_squared_error: 440.0616 - val_loss: 365.9875 - val_mean_absolute_error: 17.2148 - val_mean_squared_error: 365.9875\n",
      "Epoch 12/100\n",
      "12/12 [==============================] - 0s 7ms/step - loss: 410.2973 - mean_absolute_error: 18.1938 - mean_squared_error: 410.2973 - val_loss: 342.9886 - val_mean_absolute_error: 16.5574 - val_mean_squared_error: 342.9886\n",
      "Epoch 13/100\n",
      "12/12 [==============================] - 0s 7ms/step - loss: 373.5288 - mean_absolute_error: 17.3121 - mean_squared_error: 373.5288 - val_loss: 318.3003 - val_mean_absolute_error: 15.8366 - val_mean_squared_error: 318.3003\n",
      "Epoch 14/100\n",
      "12/12 [==============================] - 0s 7ms/step - loss: 334.4421 - mean_absolute_error: 16.3069 - mean_squared_error: 334.4421 - val_loss: 292.2669 - val_mean_absolute_error: 15.0499 - val_mean_squared_error: 292.2669\n",
      "Epoch 15/100\n",
      "12/12 [==============================] - 0s 7ms/step - loss: 328.6316 - mean_absolute_error: 15.9349 - mean_squared_error: 328.6316 - val_loss: 266.4324 - val_mean_absolute_error: 14.2340 - val_mean_squared_error: 266.4324\n",
      "Epoch 16/100\n",
      "12/12 [==============================] - 0s 7ms/step - loss: 287.5294 - mean_absolute_error: 14.8705 - mean_squared_error: 287.5294 - val_loss: 239.5422 - val_mean_absolute_error: 13.3304 - val_mean_squared_error: 239.5422\n",
      "Epoch 17/100\n",
      "12/12 [==============================] - 0s 7ms/step - loss: 268.1721 - mean_absolute_error: 14.1011 - mean_squared_error: 268.1721 - val_loss: 213.5359 - val_mean_absolute_error: 12.4216 - val_mean_squared_error: 213.5359\n",
      "Epoch 18/100\n",
      "12/12 [==============================] - 0s 7ms/step - loss: 251.9953 - mean_absolute_error: 13.6042 - mean_squared_error: 251.9953 - val_loss: 188.6740 - val_mean_absolute_error: 11.5607 - val_mean_squared_error: 188.6740\n",
      "Epoch 19/100\n",
      "12/12 [==============================] - 0s 7ms/step - loss: 210.1870 - mean_absolute_error: 12.1847 - mean_squared_error: 210.1870 - val_loss: 164.9833 - val_mean_absolute_error: 10.7393 - val_mean_squared_error: 164.9833\n",
      "Epoch 20/100\n",
      "12/12 [==============================] - 0s 7ms/step - loss: 179.5328 - mean_absolute_error: 10.8087 - mean_squared_error: 179.5328 - val_loss: 143.8813 - val_mean_absolute_error: 9.9824 - val_mean_squared_error: 143.8813\n",
      "Epoch 21/100\n",
      "12/12 [==============================] - 0s 7ms/step - loss: 155.6969 - mean_absolute_error: 10.0442 - mean_squared_error: 155.6969 - val_loss: 124.9838 - val_mean_absolute_error: 9.2821 - val_mean_squared_error: 124.9838\n",
      "Epoch 22/100\n",
      "12/12 [==============================] - 0s 7ms/step - loss: 145.3359 - mean_absolute_error: 9.5024 - mean_squared_error: 145.3359 - val_loss: 108.9646 - val_mean_absolute_error: 8.6121 - val_mean_squared_error: 108.9646\n",
      "Epoch 23/100\n",
      "12/12 [==============================] - 0s 7ms/step - loss: 122.5852 - mean_absolute_error: 8.6716 - mean_squared_error: 122.5852 - val_loss: 96.3883 - val_mean_absolute_error: 7.9963 - val_mean_squared_error: 96.3883\n",
      "Epoch 24/100\n",
      "12/12 [==============================] - 0s 7ms/step - loss: 94.9630 - mean_absolute_error: 7.8022 - mean_squared_error: 94.9630 - val_loss: 87.0659 - val_mean_absolute_error: 7.4906 - val_mean_squared_error: 87.0659\n",
      "Epoch 25/100\n",
      "12/12 [==============================] - 0s 7ms/step - loss: 93.5288 - mean_absolute_error: 7.4886 - mean_squared_error: 93.5288 - val_loss: 79.6754 - val_mean_absolute_error: 7.0784 - val_mean_squared_error: 79.6754\n",
      "Epoch 26/100\n",
      "12/12 [==============================] - 0s 7ms/step - loss: 77.9207 - mean_absolute_error: 6.8783 - mean_squared_error: 77.9207 - val_loss: 73.0860 - val_mean_absolute_error: 6.6944 - val_mean_squared_error: 73.0860\n",
      "Epoch 27/100\n",
      "12/12 [==============================] - 0s 7ms/step - loss: 75.5398 - mean_absolute_error: 6.5844 - mean_squared_error: 75.5398 - val_loss: 67.2724 - val_mean_absolute_error: 6.3890 - val_mean_squared_error: 67.2724\n",
      "Epoch 28/100\n",
      "12/12 [==============================] - 0s 7ms/step - loss: 71.0872 - mean_absolute_error: 6.6668 - mean_squared_error: 71.0872 - val_loss: 61.9568 - val_mean_absolute_error: 6.0927 - val_mean_squared_error: 61.9568\n",
      "Epoch 29/100\n",
      "12/12 [==============================] - 0s 7ms/step - loss: 70.5429 - mean_absolute_error: 6.3761 - mean_squared_error: 70.5429 - val_loss: 57.3422 - val_mean_absolute_error: 5.8157 - val_mean_squared_error: 57.3422\n",
      "Epoch 30/100\n",
      "12/12 [==============================] - 0s 7ms/step - loss: 60.1280 - mean_absolute_error: 5.8391 - mean_squared_error: 60.1280 - val_loss: 53.3073 - val_mean_absolute_error: 5.5616 - val_mean_squared_error: 53.3073\n",
      "Epoch 31/100\n",
      "12/12 [==============================] - 0s 7ms/step - loss: 55.0663 - mean_absolute_error: 5.7360 - mean_squared_error: 55.0663 - val_loss: 49.6952 - val_mean_absolute_error: 5.3188 - val_mean_squared_error: 49.6952\n",
      "Epoch 32/100\n",
      "12/12 [==============================] - 0s 7ms/step - loss: 55.1365 - mean_absolute_error: 5.7075 - mean_squared_error: 55.1365 - val_loss: 46.3257 - val_mean_absolute_error: 5.1154 - val_mean_squared_error: 46.3257\n",
      "Epoch 33/100\n",
      "12/12 [==============================] - 0s 7ms/step - loss: 46.7095 - mean_absolute_error: 5.2238 - mean_squared_error: 46.7095 - val_loss: 43.1026 - val_mean_absolute_error: 4.9307 - val_mean_squared_error: 43.1026\n",
      "Epoch 34/100\n",
      "12/12 [==============================] - 0s 7ms/step - loss: 47.6186 - mean_absolute_error: 5.3106 - mean_squared_error: 47.6186 - val_loss: 40.6677 - val_mean_absolute_error: 4.7665 - val_mean_squared_error: 40.6677\n",
      "Epoch 35/100\n",
      "12/12 [==============================] - 0s 7ms/step - loss: 40.4762 - mean_absolute_error: 4.8756 - mean_squared_error: 40.4762 - val_loss: 38.6438 - val_mean_absolute_error: 4.6217 - val_mean_squared_error: 38.6438\n",
      "Epoch 36/100\n",
      "12/12 [==============================] - 0s 7ms/step - loss: 39.0432 - mean_absolute_error: 4.8192 - mean_squared_error: 39.0432 - val_loss: 36.7224 - val_mean_absolute_error: 4.4523 - val_mean_squared_error: 36.7224\n",
      "Epoch 37/100\n",
      "12/12 [==============================] - 0s 7ms/step - loss: 37.7105 - mean_absolute_error: 4.7112 - mean_squared_error: 37.7105 - val_loss: 35.1514 - val_mean_absolute_error: 4.3305 - val_mean_squared_error: 35.1514\n",
      "Epoch 38/100\n",
      "12/12 [==============================] - 0s 7ms/step - loss: 36.8483 - mean_absolute_error: 4.7119 - mean_squared_error: 36.8483 - val_loss: 33.9279 - val_mean_absolute_error: 4.2572 - val_mean_squared_error: 33.9279\n",
      "Epoch 39/100\n",
      "12/12 [==============================] - 0s 7ms/step - loss: 41.0412 - mean_absolute_error: 4.8353 - mean_squared_error: 41.0412 - val_loss: 32.6320 - val_mean_absolute_error: 4.1733 - val_mean_squared_error: 32.6320\n",
      "Epoch 40/100\n",
      "12/12 [==============================] - 0s 7ms/step - loss: 32.5809 - mean_absolute_error: 4.3783 - mean_squared_error: 32.5809 - val_loss: 31.5820 - val_mean_absolute_error: 4.1038 - val_mean_squared_error: 31.5820\n",
      "Epoch 41/100\n",
      "12/12 [==============================] - 0s 7ms/step - loss: 37.4949 - mean_absolute_error: 4.4802 - mean_squared_error: 37.4949 - val_loss: 30.5847 - val_mean_absolute_error: 4.0121 - val_mean_squared_error: 30.5847\n",
      "Epoch 42/100\n",
      "12/12 [==============================] - 0s 7ms/step - loss: 28.6144 - mean_absolute_error: 4.1459 - mean_squared_error: 28.6144 - val_loss: 29.6354 - val_mean_absolute_error: 3.9263 - val_mean_squared_error: 29.6354\n",
      "Epoch 43/100\n",
      "12/12 [==============================] - 0s 7ms/step - loss: 29.6915 - mean_absolute_error: 4.1658 - mean_squared_error: 29.6915 - val_loss: 28.9000 - val_mean_absolute_error: 3.8682 - val_mean_squared_error: 28.9000\n",
      "Epoch 44/100\n",
      "12/12 [==============================] - 0s 7ms/step - loss: 29.0064 - mean_absolute_error: 4.1454 - mean_squared_error: 29.0064 - val_loss: 28.2101 - val_mean_absolute_error: 3.7950 - val_mean_squared_error: 28.2101\n",
      "Epoch 45/100\n",
      "12/12 [==============================] - 0s 7ms/step - loss: 27.3005 - mean_absolute_error: 3.9589 - mean_squared_error: 27.3005 - val_loss: 27.5590 - val_mean_absolute_error: 3.7467 - val_mean_squared_error: 27.5590\n",
      "Epoch 46/100\n",
      "12/12 [==============================] - 0s 7ms/step - loss: 23.4735 - mean_absolute_error: 3.6876 - mean_squared_error: 23.4735 - val_loss: 26.9844 - val_mean_absolute_error: 3.7110 - val_mean_squared_error: 26.9844\n",
      "Epoch 47/100\n",
      "12/12 [==============================] - 0s 7ms/step - loss: 29.9090 - mean_absolute_error: 4.0580 - mean_squared_error: 29.9090 - val_loss: 26.5896 - val_mean_absolute_error: 3.7058 - val_mean_squared_error: 26.5896\n",
      "Epoch 48/100\n",
      "12/12 [==============================] - 0s 7ms/step - loss: 28.3792 - mean_absolute_error: 3.9916 - mean_squared_error: 28.3792 - val_loss: 26.0098 - val_mean_absolute_error: 3.6667 - val_mean_squared_error: 26.0098\n",
      "Epoch 49/100\n",
      "12/12 [==============================] - 0s 7ms/step - loss: 26.5854 - mean_absolute_error: 3.7591 - mean_squared_error: 26.5854 - val_loss: 25.5317 - val_mean_absolute_error: 3.6170 - val_mean_squared_error: 25.5317\n",
      "Epoch 50/100\n",
      "12/12 [==============================] - 0s 7ms/step - loss: 26.6826 - mean_absolute_error: 4.0040 - mean_squared_error: 26.6826 - val_loss: 25.0181 - val_mean_absolute_error: 3.5446 - val_mean_squared_error: 25.0181\n",
      "Epoch 51/100\n",
      "12/12 [==============================] - 0s 7ms/step - loss: 27.4588 - mean_absolute_error: 3.8641 - mean_squared_error: 27.4588 - val_loss: 24.6425 - val_mean_absolute_error: 3.5082 - val_mean_squared_error: 24.6425\n",
      "Epoch 52/100\n",
      "12/12 [==============================] - 0s 7ms/step - loss: 22.1529 - mean_absolute_error: 3.6030 - mean_squared_error: 22.1529 - val_loss: 24.3901 - val_mean_absolute_error: 3.4952 - val_mean_squared_error: 24.3901\n",
      "Epoch 53/100\n",
      "12/12 [==============================] - 0s 7ms/step - loss: 24.4169 - mean_absolute_error: 3.8138 - mean_squared_error: 24.4169 - val_loss: 24.1154 - val_mean_absolute_error: 3.4746 - val_mean_squared_error: 24.1154\n",
      "Epoch 54/100\n",
      "12/12 [==============================] - 0s 7ms/step - loss: 27.1078 - mean_absolute_error: 3.7169 - mean_squared_error: 27.1078 - val_loss: 23.9102 - val_mean_absolute_error: 3.4745 - val_mean_squared_error: 23.9102\n",
      "Epoch 55/100\n",
      "12/12 [==============================] - 0s 7ms/step - loss: 23.1283 - mean_absolute_error: 3.7205 - mean_squared_error: 23.1283 - val_loss: 23.9437 - val_mean_absolute_error: 3.5285 - val_mean_squared_error: 23.9437\n",
      "Epoch 56/100\n",
      "12/12 [==============================] - 0s 7ms/step - loss: 22.5673 - mean_absolute_error: 3.5965 - mean_squared_error: 22.5673 - val_loss: 23.7175 - val_mean_absolute_error: 3.5134 - val_mean_squared_error: 23.7175\n",
      "Epoch 57/100\n",
      "12/12 [==============================] - 0s 7ms/step - loss: 25.3995 - mean_absolute_error: 3.7554 - mean_squared_error: 25.3995 - val_loss: 23.4428 - val_mean_absolute_error: 3.4922 - val_mean_squared_error: 23.4428\n",
      "Epoch 58/100\n",
      "12/12 [==============================] - 0s 7ms/step - loss: 25.1255 - mean_absolute_error: 3.5517 - mean_squared_error: 25.1255 - val_loss: 23.2173 - val_mean_absolute_error: 3.4708 - val_mean_squared_error: 23.2173\n",
      "Epoch 59/100\n",
      "12/12 [==============================] - 0s 7ms/step - loss: 29.7207 - mean_absolute_error: 3.9560 - mean_squared_error: 29.7207 - val_loss: 23.0313 - val_mean_absolute_error: 3.4633 - val_mean_squared_error: 23.0313\n",
      "Epoch 60/100\n",
      "12/12 [==============================] - 0s 7ms/step - loss: 23.9936 - mean_absolute_error: 3.5585 - mean_squared_error: 23.9936 - val_loss: 22.8475 - val_mean_absolute_error: 3.4541 - val_mean_squared_error: 22.8475\n",
      "Epoch 61/100\n",
      "12/12 [==============================] - 0s 7ms/step - loss: 21.6743 - mean_absolute_error: 3.4451 - mean_squared_error: 21.6743 - val_loss: 22.4852 - val_mean_absolute_error: 3.4120 - val_mean_squared_error: 22.4852\n",
      "Epoch 62/100\n",
      "12/12 [==============================] - 0s 7ms/step - loss: 23.1658 - mean_absolute_error: 3.5607 - mean_squared_error: 23.1658 - val_loss: 22.1769 - val_mean_absolute_error: 3.3813 - val_mean_squared_error: 22.1769\n",
      "Epoch 63/100\n",
      "12/12 [==============================] - 0s 7ms/step - loss: 25.1517 - mean_absolute_error: 3.5501 - mean_squared_error: 25.1517 - val_loss: 22.0649 - val_mean_absolute_error: 3.3836 - val_mean_squared_error: 22.0649\n",
      "Epoch 64/100\n",
      "12/12 [==============================] - 0s 7ms/step - loss: 22.7638 - mean_absolute_error: 3.5633 - mean_squared_error: 22.7638 - val_loss: 22.0818 - val_mean_absolute_error: 3.4072 - val_mean_squared_error: 22.0818\n",
      "Epoch 65/100\n",
      "12/12 [==============================] - 0s 7ms/step - loss: 22.7841 - mean_absolute_error: 3.5182 - mean_squared_error: 22.7841 - val_loss: 22.0889 - val_mean_absolute_error: 3.4222 - val_mean_squared_error: 22.0889\n",
      "Epoch 66/100\n",
      "12/12 [==============================] - 0s 7ms/step - loss: 19.4412 - mean_absolute_error: 3.2868 - mean_squared_error: 19.4412 - val_loss: 22.0181 - val_mean_absolute_error: 3.4235 - val_mean_squared_error: 22.0181\n",
      "Epoch 67/100\n",
      "12/12 [==============================] - 0s 7ms/step - loss: 24.6895 - mean_absolute_error: 3.5650 - mean_squared_error: 24.6895 - val_loss: 21.8671 - val_mean_absolute_error: 3.4175 - val_mean_squared_error: 21.8671\n",
      "Epoch 68/100\n",
      "12/12 [==============================] - 0s 7ms/step - loss: 21.7142 - mean_absolute_error: 3.4748 - mean_squared_error: 21.7142 - val_loss: 21.6370 - val_mean_absolute_error: 3.3929 - val_mean_squared_error: 21.6370\n",
      "Epoch 69/100\n",
      "12/12 [==============================] - 0s 7ms/step - loss: 22.0251 - mean_absolute_error: 3.5292 - mean_squared_error: 22.0251 - val_loss: 21.4744 - val_mean_absolute_error: 3.3817 - val_mean_squared_error: 21.4744\n",
      "Epoch 70/100\n",
      "12/12 [==============================] - 0s 7ms/step - loss: 18.4090 - mean_absolute_error: 3.2971 - mean_squared_error: 18.4090 - val_loss: 21.4304 - val_mean_absolute_error: 3.3903 - val_mean_squared_error: 21.4304\n",
      "Epoch 71/100\n",
      "12/12 [==============================] - 0s 7ms/step - loss: 21.9439 - mean_absolute_error: 3.4514 - mean_squared_error: 21.9439 - val_loss: 21.2907 - val_mean_absolute_error: 3.3819 - val_mean_squared_error: 21.2907\n",
      "Epoch 72/100\n",
      "12/12 [==============================] - 0s 7ms/step - loss: 19.0863 - mean_absolute_error: 3.2345 - mean_squared_error: 19.0863 - val_loss: 21.2016 - val_mean_absolute_error: 3.3820 - val_mean_squared_error: 21.2016\n",
      "Epoch 73/100\n",
      "12/12 [==============================] - 0s 7ms/step - loss: 20.8744 - mean_absolute_error: 3.3648 - mean_squared_error: 20.8744 - val_loss: 20.9380 - val_mean_absolute_error: 3.3515 - val_mean_squared_error: 20.9380\n",
      "Epoch 74/100\n",
      "12/12 [==============================] - 0s 7ms/step - loss: 19.8711 - mean_absolute_error: 3.4014 - mean_squared_error: 19.8711 - val_loss: 20.7187 - val_mean_absolute_error: 3.3251 - val_mean_squared_error: 20.7187\n",
      "Epoch 75/100\n",
      "12/12 [==============================] - 0s 7ms/step - loss: 21.0192 - mean_absolute_error: 3.3238 - mean_squared_error: 21.0192 - val_loss: 20.5012 - val_mean_absolute_error: 3.3001 - val_mean_squared_error: 20.5012\n",
      "Epoch 76/100\n",
      "12/12 [==============================] - 0s 7ms/step - loss: 21.2930 - mean_absolute_error: 3.4108 - mean_squared_error: 21.2930 - val_loss: 20.4068 - val_mean_absolute_error: 3.2983 - val_mean_squared_error: 20.4068\n",
      "Epoch 77/100\n",
      "12/12 [==============================] - 0s 7ms/step - loss: 23.1432 - mean_absolute_error: 3.3734 - mean_squared_error: 23.1432 - val_loss: 20.2927 - val_mean_absolute_error: 3.2920 - val_mean_squared_error: 20.2927\n",
      "Epoch 78/100\n",
      "12/12 [==============================] - 0s 7ms/step - loss: 20.2178 - mean_absolute_error: 3.3123 - mean_squared_error: 20.2178 - val_loss: 20.2718 - val_mean_absolute_error: 3.3055 - val_mean_squared_error: 20.2718\n",
      "Epoch 79/100\n",
      "12/12 [==============================] - 0s 7ms/step - loss: 22.7574 - mean_absolute_error: 3.4271 - mean_squared_error: 22.7574 - val_loss: 20.2441 - val_mean_absolute_error: 3.3108 - val_mean_squared_error: 20.2441\n",
      "Epoch 80/100\n",
      "12/12 [==============================] - 0s 7ms/step - loss: 24.1669 - mean_absolute_error: 3.3868 - mean_squared_error: 24.1669 - val_loss: 19.9106 - val_mean_absolute_error: 3.2592 - val_mean_squared_error: 19.9106\n",
      "Epoch 81/100\n",
      "12/12 [==============================] - 0s 7ms/step - loss: 18.5742 - mean_absolute_error: 3.1273 - mean_squared_error: 18.5742 - val_loss: 19.7780 - val_mean_absolute_error: 3.2515 - val_mean_squared_error: 19.7780\n",
      "Epoch 82/100\n",
      "12/12 [==============================] - 0s 7ms/step - loss: 18.0675 - mean_absolute_error: 3.1882 - mean_squared_error: 18.0675 - val_loss: 19.6568 - val_mean_absolute_error: 3.2444 - val_mean_squared_error: 19.6568\n",
      "Epoch 83/100\n",
      "12/12 [==============================] - 0s 7ms/step - loss: 18.3745 - mean_absolute_error: 3.2070 - mean_squared_error: 18.3745 - val_loss: 19.4733 - val_mean_absolute_error: 3.2207 - val_mean_squared_error: 19.4733\n",
      "Epoch 84/100\n",
      "12/12 [==============================] - 0s 7ms/step - loss: 19.5934 - mean_absolute_error: 3.1684 - mean_squared_error: 19.5934 - val_loss: 19.4463 - val_mean_absolute_error: 3.2318 - val_mean_squared_error: 19.4463\n",
      "Epoch 85/100\n",
      "12/12 [==============================] - 0s 7ms/step - loss: 16.6229 - mean_absolute_error: 3.0770 - mean_squared_error: 16.6229 - val_loss: 19.3041 - val_mean_absolute_error: 3.2163 - val_mean_squared_error: 19.3041\n",
      "Epoch 86/100\n",
      "12/12 [==============================] - 0s 7ms/step - loss: 18.5325 - mean_absolute_error: 3.2424 - mean_squared_error: 18.5325 - val_loss: 19.2026 - val_mean_absolute_error: 3.2095 - val_mean_squared_error: 19.2026\n",
      "Epoch 87/100\n",
      "12/12 [==============================] - 0s 7ms/step - loss: 21.8050 - mean_absolute_error: 3.3099 - mean_squared_error: 21.8050 - val_loss: 19.0544 - val_mean_absolute_error: 3.1952 - val_mean_squared_error: 19.0544\n",
      "Epoch 88/100\n",
      "12/12 [==============================] - 0s 7ms/step - loss: 19.1202 - mean_absolute_error: 3.1137 - mean_squared_error: 19.1202 - val_loss: 18.8855 - val_mean_absolute_error: 3.1750 - val_mean_squared_error: 18.8855\n",
      "Epoch 89/100\n",
      "12/12 [==============================] - 0s 7ms/step - loss: 15.2623 - mean_absolute_error: 2.9420 - mean_squared_error: 15.2623 - val_loss: 18.7234 - val_mean_absolute_error: 3.1561 - val_mean_squared_error: 18.7234\n",
      "Epoch 90/100\n",
      "12/12 [==============================] - 0s 7ms/step - loss: 15.3549 - mean_absolute_error: 3.0103 - mean_squared_error: 15.3549 - val_loss: 18.6605 - val_mean_absolute_error: 3.1556 - val_mean_squared_error: 18.6605\n",
      "Epoch 91/100\n",
      "12/12 [==============================] - 0s 7ms/step - loss: 15.1798 - mean_absolute_error: 2.8554 - mean_squared_error: 15.1798 - val_loss: 18.6403 - val_mean_absolute_error: 3.1627 - val_mean_squared_error: 18.6403\n",
      "Epoch 92/100\n",
      "12/12 [==============================] - 0s 7ms/step - loss: 16.1156 - mean_absolute_error: 3.0080 - mean_squared_error: 16.1156 - val_loss: 18.6304 - val_mean_absolute_error: 3.1712 - val_mean_squared_error: 18.6304\n",
      "Epoch 93/100\n",
      "12/12 [==============================] - 0s 7ms/step - loss: 15.2743 - mean_absolute_error: 2.9924 - mean_squared_error: 15.2743 - val_loss: 18.8436 - val_mean_absolute_error: 3.2216 - val_mean_squared_error: 18.8436\n",
      "Epoch 94/100\n",
      "12/12 [==============================] - 0s 7ms/step - loss: 17.9526 - mean_absolute_error: 3.2340 - mean_squared_error: 17.9526 - val_loss: 18.9127 - val_mean_absolute_error: 3.2362 - val_mean_squared_error: 18.9127\n",
      "Epoch 95/100\n",
      "12/12 [==============================] - 0s 7ms/step - loss: 14.9112 - mean_absolute_error: 2.9880 - mean_squared_error: 14.9112 - val_loss: 18.7368 - val_mean_absolute_error: 3.2136 - val_mean_squared_error: 18.7368\n",
      "Epoch 96/100\n",
      "12/12 [==============================] - 0s 7ms/step - loss: 18.5666 - mean_absolute_error: 3.1120 - mean_squared_error: 18.5666 - val_loss: 18.3756 - val_mean_absolute_error: 3.1663 - val_mean_squared_error: 18.3756\n",
      "Epoch 97/100\n",
      "12/12 [==============================] - 0s 7ms/step - loss: 18.7355 - mean_absolute_error: 2.9585 - mean_squared_error: 18.7355 - val_loss: 18.1591 - val_mean_absolute_error: 3.1377 - val_mean_squared_error: 18.1591\n",
      "Epoch 98/100\n",
      "12/12 [==============================] - 0s 7ms/step - loss: 18.0809 - mean_absolute_error: 3.0631 - mean_squared_error: 18.0809 - val_loss: 17.9734 - val_mean_absolute_error: 3.1115 - val_mean_squared_error: 17.9734\n",
      "Epoch 99/100\n",
      "12/12 [==============================] - 0s 7ms/step - loss: 18.9853 - mean_absolute_error: 3.2362 - mean_squared_error: 18.9853 - val_loss: 17.8279 - val_mean_absolute_error: 3.0897 - val_mean_squared_error: 17.8279\n",
      "Epoch 100/100\n",
      "12/12 [==============================] - 0s 7ms/step - loss: 14.3493 - mean_absolute_error: 2.8775 - mean_squared_error: 14.3493 - val_loss: 17.5898 - val_mean_absolute_error: 3.0508 - val_mean_squared_error: 17.5898\n"
     ]
    }
   ],
   "source": [
    "history=model.fit(X_train,Y_train,epochs=100,validation_data=(X_test,Y_test))"
   ]
  },
  {
   "cell_type": "code",
   "execution_count": 24,
   "id": "59e2942c",
   "metadata": {
    "execution": {
     "iopub.execute_input": "2021-09-17T04:39:46.183712Z",
     "iopub.status.busy": "2021-09-17T04:39:46.158033Z",
     "iopub.status.idle": "2021-09-17T04:39:46.851551Z",
     "shell.execute_reply": "2021-09-17T04:39:46.852159Z",
     "shell.execute_reply.started": "2021-09-17T04:36:19.989317Z"
    },
    "papermill": {
     "duration": 0.823777,
     "end_time": "2021-09-17T04:39:46.852367",
     "exception": false,
     "start_time": "2021-09-17T04:39:46.028590",
     "status": "completed"
    },
    "tags": []
   },
   "outputs": [
    {
     "data": {
      "text/plain": [
       "<Figure size 432x288 with 0 Axes>"
      ]
     },
     "execution_count": 24,
     "metadata": {},
     "output_type": "execute_result"
    },
    {
     "data": {
      "image/png": "[encoded data removed]",
      "text/plain": [
       "<Figure size 432x288 with 1 Axes>"
      ]
     },
     "metadata": {
      "needs_background": "light"
     },
     "output_type": "display_data"
    },
    {
     "data": {
      "image/png": "[encoded data removed]",
      "text/plain": [
       "<Figure size 432x288 with 1 Axes>"
      ]
     },
     "metadata": {
      "needs_background": "light"
     },
     "output_type": "display_data"
    },
    {
     "data": {
      "image/png": "[encoded data removed]",
      "text/plain": [
       "<Figure size 432x288 with 1 Axes>"
      ]
     },
     "metadata": {
      "needs_background": "light"
     },
     "output_type": "display_data"
    },
    {
     "data": {
      "text/plain": [
       "<Figure size 432x288 with 0 Axes>"
      ]
     },
     "metadata": {},
     "output_type": "display_data"
    }
   ],
   "source": [
    "%matplotlib inline\n",
    "\n",
    "import matplotlib.image  as mpimg\n",
    "import matplotlib.pyplot as plt\n",
    "\n",
    "loss=history.history['loss']\n",
    "val_loss=history.history['val_loss']\n",
    "mae=history.history['mean_absolute_error']\n",
    "val_mae=history.history['val_mean_absolute_error']\n",
    "mse=history.history['mean_squared_error']\n",
    "val_mse=history.history['val_mean_squared_error']\n",
    "\n",
    "epochs=range(len(loss))\n",
    "\n",
    "plt.plot(epochs, loss, 'r', label = 'Training loss')\n",
    "plt.plot(epochs, val_loss, 'b', label ='Validation loss')\n",
    "plt.title('Training and validation loss')\n",
    "plt.legend()\n",
    "plt.figure()\n",
    "\n",
    "plt.plot(epochs, mae, 'r', label = 'Training MAE')\n",
    "plt.plot(epochs, val_mae, 'b', label ='Validation MAE')\n",
    "plt.title('Training and validation MAE')\n",
    "plt.legend()\n",
    "plt.figure()\n",
    "\n",
    "plt.plot(epochs, mse, 'r', label = 'Training MSE')\n",
    "plt.plot(epochs, val_mse, 'b', label ='Validation MSE')\n",
    "plt.title('Training and validation MSE')\n",
    "plt.legend()\n",
    "plt.figure()"
   ]
  },
  {
   "cell_type": "code",
   "execution_count": 25,
   "id": "44dc9b89",
   "metadata": {
    "execution": {
     "iopub.execute_input": "2021-09-17T04:39:47.107149Z",
     "iopub.status.busy": "2021-09-17T04:39:47.106093Z",
     "iopub.status.idle": "2021-09-17T04:39:47.166030Z",
     "shell.execute_reply": "2021-09-17T04:39:47.165435Z",
     "shell.execute_reply.started": "2021-09-17T04:36:20.720237Z"
    },
    "papermill": {
     "duration": 0.189856,
     "end_time": "2021-09-17T04:39:47.166177",
     "exception": false,
     "start_time": "2021-09-17T04:39:46.976321",
     "status": "completed"
    },
    "tags": []
   },
   "outputs": [
    {
     "name": "stdout",
     "output_type": "stream",
     "text": [
      "5/5 [==============================] - 0s 1ms/step - loss: 17.5898 - mean_absolute_error: 3.0508 - mean_squared_error: 17.5898\n",
      "loss :  17.58979034423828\n",
      "mean_absolute_error :  3.050837516784668\n",
      "mean_squared_error :  17.58979034423828\n",
      "\n"
     ]
    }
   ],
   "source": [
    "test_eval=model.evaluate(X_test, Y_test)\n",
    "for name, value in zip(model.metrics_names, test_eval):\n",
    "  print(name, ': ', value)\n",
    "print()"
   ]
  },
  {
   "cell_type": "code",
   "execution_count": 26,
   "id": "00f84dcb",
   "metadata": {
    "execution": {
     "iopub.execute_input": "2021-09-17T04:39:47.421989Z",
     "iopub.status.busy": "2021-09-17T04:39:47.420929Z",
     "iopub.status.idle": "2021-09-17T04:39:47.542579Z",
     "shell.execute_reply": "2021-09-17T04:39:47.541820Z",
     "shell.execute_reply.started": "2021-09-17T04:36:20.781609Z"
    },
    "papermill": {
     "duration": 0.251218,
     "end_time": "2021-09-17T04:39:47.542736",
     "exception": false,
     "start_time": "2021-09-17T04:39:47.291518",
     "status": "completed"
    },
    "tags": []
   },
   "outputs": [],
   "source": [
    "Y_pred=model.predict(X_test)"
   ]
  },
  {
   "cell_type": "code",
   "execution_count": 27,
   "id": "84989a3f",
   "metadata": {
    "execution": {
     "iopub.execute_input": "2021-09-17T04:39:47.802700Z",
     "iopub.status.busy": "2021-09-17T04:39:47.801377Z",
     "iopub.status.idle": "2021-09-17T04:39:47.820328Z",
     "shell.execute_reply": "2021-09-17T04:39:47.819663Z",
     "shell.execute_reply.started": "2021-09-17T04:36:20.899767Z"
    },
    "papermill": {
     "duration": 0.15296,
     "end_time": "2021-09-17T04:39:47.820479",
     "exception": false,
     "start_time": "2021-09-17T04:39:47.667519",
     "status": "completed"
    },
    "tags": []
   },
   "outputs": [],
   "source": [
    "#Simpan model\n",
    "model.save(\"MLP Regresi.h5\")"
   ]
  },
  {
   "cell_type": "code",
   "execution_count": 28,
   "id": "0c581305",
   "metadata": {
    "execution": {
     "iopub.execute_input": "2021-09-17T04:39:48.076188Z",
     "iopub.status.busy": "2021-09-17T04:39:48.075024Z",
     "iopub.status.idle": "2021-09-17T04:39:48.224371Z",
     "shell.execute_reply": "2021-09-17T04:39:48.223632Z",
     "shell.execute_reply.started": "2021-09-17T04:36:20.931097Z"
    },
    "papermill": {
     "duration": 0.277301,
     "end_time": "2021-09-17T04:39:48.224517",
     "exception": false,
     "start_time": "2021-09-17T04:39:47.947216",
     "status": "completed"
    },
    "tags": []
   },
   "outputs": [],
   "source": [
    "#Memuat (load) model \n",
    "model=load_model(\"MLP Regresi.h5\")\n",
    "Y_pred=model.predict(X_test)"
   ]
  },
  {
   "cell_type": "markdown",
   "id": "f2230eec",
   "metadata": {
    "papermill": {
     "duration": 0.122873,
     "end_time": "2021-09-17T04:39:48.470996",
     "exception": false,
     "start_time": "2021-09-17T04:39:48.348123",
     "status": "completed"
    },
    "tags": []
   },
   "source": [
    "## Klasifikasi Biner"
   ]
  },
  {
   "cell_type": "code",
   "execution_count": 29,
   "id": "f2d4730a",
   "metadata": {
    "execution": {
     "iopub.execute_input": "2021-09-17T04:39:48.730770Z",
     "iopub.status.busy": "2021-09-17T04:39:48.729692Z",
     "iopub.status.idle": "2021-09-17T04:39:48.778189Z",
     "shell.execute_reply": "2021-09-17T04:39:48.778681Z",
     "shell.execute_reply.started": "2021-09-17T04:36:21.076467Z"
    },
    "papermill": {
     "duration": 0.184865,
     "end_time": "2021-09-17T04:39:48.778902",
     "exception": false,
     "start_time": "2021-09-17T04:39:48.594037",
     "status": "completed"
    },
    "tags": []
   },
   "outputs": [],
   "source": [
    "#Model MLP Klasifikasi Biner\n",
    "inputs=Input(shape=X_trainf.shape[1:])\n",
    "layers=Dense(20,activation='relu')(inputs)\n",
    "layers=Dense(10,activation='relu')(layers)\n",
    "output=Dense(1,activation='sigmoid')(layers)\n",
    "model2=Model(inputs=[inputs],outputs=[output])\n",
    "\n",
    "model2.compile(loss=\"binary_crossentropy\", optimizer=Adam(learning_rate=1e-3), \n",
    "              metrics=[\"accuracy\",Precision(),Recall()])"
   ]
  },
  {
   "cell_type": "code",
   "execution_count": 30,
   "id": "8b69963d",
   "metadata": {
    "execution": {
     "iopub.execute_input": "2021-09-17T04:39:49.066399Z",
     "iopub.status.busy": "2021-09-17T04:39:49.062569Z",
     "iopub.status.idle": "2021-09-17T04:39:49.070731Z",
     "shell.execute_reply": "2021-09-17T04:39:49.071235Z",
     "shell.execute_reply.started": "2021-09-17T04:36:21.129455Z"
    },
    "papermill": {
     "duration": 0.163255,
     "end_time": "2021-09-17T04:39:49.071431",
     "exception": false,
     "start_time": "2021-09-17T04:39:48.908176",
     "status": "completed"
    },
    "tags": []
   },
   "outputs": [
    {
     "name": "stdout",
     "output_type": "stream",
     "text": [
      "Model: \"model_1\"\n",
      "_________________________________________________________________\n",
      "Layer (type)                 Output Shape              Param #   \n",
      "=================================================================\n",
      "input_2 (InputLayer)         [(None, 8)]               0         \n",
      "_________________________________________________________________\n",
      "dense_3 (Dense)              (None, 20)                180       \n",
      "_________________________________________________________________\n",
      "dense_4 (Dense)              (None, 10)                210       \n",
      "_________________________________________________________________\n",
      "dense_5 (Dense)              (None, 1)                 11        \n",
      "=================================================================\n",
      "Total params: 401\n",
      "Trainable params: 401\n",
      "Non-trainable params: 0\n",
      "_________________________________________________________________\n"
     ]
    }
   ],
   "source": [
    "model2.summary()"
   ]
  },
  {
   "cell_type": "code",
   "execution_count": 31,
   "id": "f5aceaca",
   "metadata": {
    "execution": {
     "iopub.execute_input": "2021-09-17T04:39:49.324144Z",
     "iopub.status.busy": "2021-09-17T04:39:49.323439Z",
     "iopub.status.idle": "2021-09-17T04:39:49.426457Z",
     "shell.execute_reply": "2021-09-17T04:39:49.427003Z",
     "shell.execute_reply.started": "2021-09-17T04:36:21.138139Z"
    },
    "papermill": {
     "duration": 0.231208,
     "end_time": "2021-09-17T04:39:49.427188",
     "exception": false,
     "start_time": "2021-09-17T04:39:49.195980",
     "status": "completed"
    },
    "tags": []
   },
   "outputs": [
    {
     "data": {
      "image/png": "[encoded data removed]",
      "text/plain": [
       "<IPython.core.display.Image object>"
      ]
     },
     "execution_count": 31,
     "metadata": {},
     "output_type": "execute_result"
    }
   ],
   "source": [
    "plot_model(model2, \"Model MLP Klasifikasi Biner.png\", show_shapes=True)"
   ]
  },
  {
   "cell_type": "code",
   "execution_count": 32,
   "id": "1dac28bc",
   "metadata": {
    "execution": {
     "iopub.execute_input": "2021-09-17T04:39:49.687538Z",
     "iopub.status.busy": "2021-09-17T04:39:49.683511Z",
     "iopub.status.idle": "2021-09-17T04:40:12.911933Z",
     "shell.execute_reply": "2021-09-17T04:40:12.911341Z",
     "shell.execute_reply.started": "2021-09-17T04:36:21.243473Z"
    },
    "papermill": {
     "duration": 23.358874,
     "end_time": "2021-09-17T04:40:12.912102",
     "exception": false,
     "start_time": "2021-09-17T04:39:49.553228",
     "status": "completed"
    },
    "tags": []
   },
   "outputs": [
    {
     "name": "stdout",
     "output_type": "stream",
     "text": [
      "Epoch 1/100\n",
      "88/88 [==============================] - 1s 7ms/step - loss: 0.6879 - accuracy: 0.5383 - precision: 0.3643 - recall: 0.3963 - val_loss: 0.5997 - val_accuracy: 0.6742 - val_precision: 0.5851 - val_recall: 0.2600\n",
      "Epoch 2/100\n",
      "88/88 [==============================] - 0s 2ms/step - loss: 0.5774 - accuracy: 0.6776 - precision: 0.5530 - recall: 0.2454 - val_loss: 0.5670 - val_accuracy: 0.6692 - val_precision: 0.5546 - val_recall: 0.3121\n",
      "Epoch 3/100\n",
      "88/88 [==============================] - 0s 2ms/step - loss: 0.5362 - accuracy: 0.6954 - precision: 0.5811 - recall: 0.3235 - val_loss: 0.5522 - val_accuracy: 0.6883 - val_precision: 0.5793 - val_recall: 0.4232\n",
      "Epoch 4/100\n",
      "88/88 [==============================] - 0s 3ms/step - loss: 0.5273 - accuracy: 0.6962 - precision: 0.5716 - recall: 0.4317 - val_loss: 0.5435 - val_accuracy: 0.7050 - val_precision: 0.5940 - val_recall: 0.5154\n",
      "Epoch 5/100\n",
      "88/88 [==============================] - 0s 2ms/step - loss: 0.5079 - accuracy: 0.7283 - precision: 0.6185 - recall: 0.5536 - val_loss: 0.5389 - val_accuracy: 0.7008 - val_precision: 0.5833 - val_recall: 0.5296\n",
      "Epoch 6/100\n",
      "88/88 [==============================] - 0s 2ms/step - loss: 0.5030 - accuracy: 0.7241 - precision: 0.5992 - recall: 0.5440 - val_loss: 0.5370 - val_accuracy: 0.7000 - val_precision: 0.5818 - val_recall: 0.5296\n",
      "Epoch 7/100\n",
      "88/88 [==============================] - 0s 2ms/step - loss: 0.4969 - accuracy: 0.7219 - precision: 0.6027 - recall: 0.5958 - val_loss: 0.5349 - val_accuracy: 0.7008 - val_precision: 0.5821 - val_recall: 0.5366\n",
      "Epoch 8/100\n",
      "88/88 [==============================] - 0s 2ms/step - loss: 0.4893 - accuracy: 0.7237 - precision: 0.5874 - recall: 0.5824 - val_loss: 0.5334 - val_accuracy: 0.7025 - val_precision: 0.5782 - val_recall: 0.5768\n",
      "Epoch 9/100\n",
      "88/88 [==============================] - 0s 3ms/step - loss: 0.4897 - accuracy: 0.7383 - precision: 0.6142 - recall: 0.6526 - val_loss: 0.5312 - val_accuracy: 0.6975 - val_precision: 0.5701 - val_recall: 0.5768\n",
      "Epoch 10/100\n",
      "88/88 [==============================] - 0s 3ms/step - loss: 0.5019 - accuracy: 0.7273 - precision: 0.6116 - recall: 0.6439 - val_loss: 0.5310 - val_accuracy: 0.6983 - val_precision: 0.5711 - val_recall: 0.5792\n",
      "Epoch 11/100\n",
      "88/88 [==============================] - 0s 2ms/step - loss: 0.4978 - accuracy: 0.7287 - precision: 0.5998 - recall: 0.6508 - val_loss: 0.5284 - val_accuracy: 0.7092 - val_precision: 0.5787 - val_recall: 0.6430\n",
      "Epoch 12/100\n",
      "88/88 [==============================] - 0s 2ms/step - loss: 0.4937 - accuracy: 0.7284 - precision: 0.5860 - recall: 0.6453 - val_loss: 0.5297 - val_accuracy: 0.7000 - val_precision: 0.5724 - val_recall: 0.5887\n",
      "Epoch 13/100\n",
      "88/88 [==============================] - 0s 2ms/step - loss: 0.4948 - accuracy: 0.7343 - precision: 0.6072 - recall: 0.6670 - val_loss: 0.5284 - val_accuracy: 0.7100 - val_precision: 0.5789 - val_recall: 0.6501\n",
      "Epoch 14/100\n",
      "88/88 [==============================] - 0s 2ms/step - loss: 0.4913 - accuracy: 0.7220 - precision: 0.5619 - recall: 0.6768 - val_loss: 0.5279 - val_accuracy: 0.7058 - val_precision: 0.5726 - val_recall: 0.6525\n",
      "Epoch 15/100\n",
      "88/88 [==============================] - 0s 2ms/step - loss: 0.4984 - accuracy: 0.7365 - precision: 0.6058 - recall: 0.7135 - val_loss: 0.5283 - val_accuracy: 0.7025 - val_precision: 0.5727 - val_recall: 0.6147\n",
      "Epoch 16/100\n",
      "88/88 [==============================] - 0s 2ms/step - loss: 0.4692 - accuracy: 0.7515 - precision: 0.6282 - recall: 0.7243 - val_loss: 0.5268 - val_accuracy: 0.7075 - val_precision: 0.5738 - val_recall: 0.6619\n",
      "Epoch 17/100\n",
      "88/88 [==============================] - 0s 2ms/step - loss: 0.4630 - accuracy: 0.7484 - precision: 0.6028 - recall: 0.7235 - val_loss: 0.5254 - val_accuracy: 0.7125 - val_precision: 0.5774 - val_recall: 0.6879\n",
      "Epoch 18/100\n",
      "88/88 [==============================] - 0s 2ms/step - loss: 0.5021 - accuracy: 0.7268 - precision: 0.6023 - recall: 0.7346 - val_loss: 0.5261 - val_accuracy: 0.7025 - val_precision: 0.5711 - val_recall: 0.6265\n",
      "Epoch 19/100\n",
      "88/88 [==============================] - 0s 2ms/step - loss: 0.4745 - accuracy: 0.7341 - precision: 0.5935 - recall: 0.6805 - val_loss: 0.5233 - val_accuracy: 0.7075 - val_precision: 0.5750 - val_recall: 0.6525\n",
      "Epoch 20/100\n",
      "88/88 [==============================] - 0s 2ms/step - loss: 0.4708 - accuracy: 0.7484 - precision: 0.6121 - recall: 0.7219 - val_loss: 0.5234 - val_accuracy: 0.7100 - val_precision: 0.5737 - val_recall: 0.6903\n",
      "Epoch 21/100\n",
      "88/88 [==============================] - 0s 2ms/step - loss: 0.4937 - accuracy: 0.7255 - precision: 0.5885 - recall: 0.7122 - val_loss: 0.5227 - val_accuracy: 0.7150 - val_precision: 0.5805 - val_recall: 0.6903\n",
      "Epoch 22/100\n",
      "88/88 [==============================] - 0s 2ms/step - loss: 0.4773 - accuracy: 0.7418 - precision: 0.5967 - recall: 0.7366 - val_loss: 0.5218 - val_accuracy: 0.7125 - val_precision: 0.5780 - val_recall: 0.6832\n",
      "Epoch 23/100\n",
      "88/88 [==============================] - 0s 2ms/step - loss: 0.4740 - accuracy: 0.7461 - precision: 0.6043 - recall: 0.7292 - val_loss: 0.5235 - val_accuracy: 0.7125 - val_precision: 0.5819 - val_recall: 0.6548\n",
      "Epoch 24/100\n",
      "88/88 [==============================] - 0s 2ms/step - loss: 0.4848 - accuracy: 0.7243 - precision: 0.5802 - recall: 0.7013 - val_loss: 0.5208 - val_accuracy: 0.7133 - val_precision: 0.5782 - val_recall: 0.6903\n",
      "Epoch 25/100\n",
      "88/88 [==============================] - 0s 2ms/step - loss: 0.4819 - accuracy: 0.7404 - precision: 0.6094 - recall: 0.7623 - val_loss: 0.5197 - val_accuracy: 0.7158 - val_precision: 0.5792 - val_recall: 0.7092\n",
      "Epoch 26/100\n",
      "88/88 [==============================] - 0s 2ms/step - loss: 0.4804 - accuracy: 0.7426 - precision: 0.6147 - recall: 0.7414 - val_loss: 0.5192 - val_accuracy: 0.7117 - val_precision: 0.5778 - val_recall: 0.6761\n",
      "Epoch 27/100\n",
      "88/88 [==============================] - 0s 2ms/step - loss: 0.4728 - accuracy: 0.7396 - precision: 0.5946 - recall: 0.7433 - val_loss: 0.5183 - val_accuracy: 0.7150 - val_precision: 0.5786 - val_recall: 0.7045\n",
      "Epoch 28/100\n",
      "88/88 [==============================] - 0s 2ms/step - loss: 0.4804 - accuracy: 0.7319 - precision: 0.5692 - recall: 0.7284 - val_loss: 0.5172 - val_accuracy: 0.7225 - val_precision: 0.5849 - val_recall: 0.7329\n",
      "Epoch 29/100\n",
      "88/88 [==============================] - 0s 2ms/step - loss: 0.4786 - accuracy: 0.7352 - precision: 0.5857 - recall: 0.7342 - val_loss: 0.5176 - val_accuracy: 0.7192 - val_precision: 0.5833 - val_recall: 0.7116\n",
      "Epoch 30/100\n",
      "88/88 [==============================] - 0s 2ms/step - loss: 0.4735 - accuracy: 0.7414 - precision: 0.6147 - recall: 0.7464 - val_loss: 0.5177 - val_accuracy: 0.7108 - val_precision: 0.5795 - val_recall: 0.6548\n",
      "Epoch 31/100\n",
      "88/88 [==============================] - 0s 2ms/step - loss: 0.4704 - accuracy: 0.7430 - precision: 0.5974 - recall: 0.7311 - val_loss: 0.5154 - val_accuracy: 0.7183 - val_precision: 0.5822 - val_recall: 0.7116\n",
      "Epoch 32/100\n",
      "88/88 [==============================] - 0s 2ms/step - loss: 0.4663 - accuracy: 0.7412 - precision: 0.5973 - recall: 0.7300 - val_loss: 0.5171 - val_accuracy: 0.7158 - val_precision: 0.5807 - val_recall: 0.6974\n",
      "Epoch 33/100\n",
      "88/88 [==============================] - 0s 2ms/step - loss: 0.4699 - accuracy: 0.7478 - precision: 0.5904 - recall: 0.7679 - val_loss: 0.5147 - val_accuracy: 0.7233 - val_precision: 0.5835 - val_recall: 0.7518\n",
      "Epoch 34/100\n",
      "88/88 [==============================] - 0s 2ms/step - loss: 0.4794 - accuracy: 0.7307 - precision: 0.5724 - recall: 0.7288 - val_loss: 0.5157 - val_accuracy: 0.7192 - val_precision: 0.5802 - val_recall: 0.7352\n",
      "Epoch 35/100\n",
      "88/88 [==============================] - 0s 2ms/step - loss: 0.4709 - accuracy: 0.7408 - precision: 0.5957 - recall: 0.7424 - val_loss: 0.5144 - val_accuracy: 0.7192 - val_precision: 0.5817 - val_recall: 0.7234\n",
      "Epoch 36/100\n",
      "88/88 [==============================] - 0s 2ms/step - loss: 0.4728 - accuracy: 0.7411 - precision: 0.5956 - recall: 0.7453 - val_loss: 0.5146 - val_accuracy: 0.7183 - val_precision: 0.5786 - val_recall: 0.7400\n",
      "Epoch 37/100\n",
      "88/88 [==============================] - 0s 2ms/step - loss: 0.4702 - accuracy: 0.7371 - precision: 0.5827 - recall: 0.7738 - val_loss: 0.5134 - val_accuracy: 0.7242 - val_precision: 0.5846 - val_recall: 0.7518\n",
      "Epoch 38/100\n",
      "88/88 [==============================] - 0s 2ms/step - loss: 0.4508 - accuracy: 0.7629 - precision: 0.6226 - recall: 0.7593 - val_loss: 0.5127 - val_accuracy: 0.7233 - val_precision: 0.5847 - val_recall: 0.7423\n",
      "Epoch 39/100\n",
      "88/88 [==============================] - 0s 2ms/step - loss: 0.4767 - accuracy: 0.7406 - precision: 0.6130 - recall: 0.7662 - val_loss: 0.5124 - val_accuracy: 0.7233 - val_precision: 0.5863 - val_recall: 0.7305\n",
      "Epoch 40/100\n",
      "88/88 [==============================] - 0s 2ms/step - loss: 0.4679 - accuracy: 0.7461 - precision: 0.6011 - recall: 0.7564 - val_loss: 0.5146 - val_accuracy: 0.7208 - val_precision: 0.5843 - val_recall: 0.7210\n",
      "Epoch 41/100\n",
      "88/88 [==============================] - 0s 2ms/step - loss: 0.4814 - accuracy: 0.7270 - precision: 0.5833 - recall: 0.7482 - val_loss: 0.5134 - val_accuracy: 0.7233 - val_precision: 0.5850 - val_recall: 0.7400\n",
      "Epoch 42/100\n",
      "88/88 [==============================] - 0s 3ms/step - loss: 0.4748 - accuracy: 0.7389 - precision: 0.5905 - recall: 0.7580 - val_loss: 0.5131 - val_accuracy: 0.7217 - val_precision: 0.5805 - val_recall: 0.7589\n",
      "Epoch 43/100\n",
      "88/88 [==============================] - 0s 2ms/step - loss: 0.4713 - accuracy: 0.7446 - precision: 0.5965 - recall: 0.7733 - val_loss: 0.5117 - val_accuracy: 0.7217 - val_precision: 0.5808 - val_recall: 0.7565\n",
      "Epoch 44/100\n",
      "88/88 [==============================] - 0s 2ms/step - loss: 0.4810 - accuracy: 0.7316 - precision: 0.5873 - recall: 0.7621 - val_loss: 0.5125 - val_accuracy: 0.7242 - val_precision: 0.5849 - val_recall: 0.7494\n",
      "Epoch 45/100\n",
      "88/88 [==============================] - 0s 2ms/step - loss: 0.4587 - accuracy: 0.7398 - precision: 0.5678 - recall: 0.7424 - val_loss: 0.5106 - val_accuracy: 0.7233 - val_precision: 0.5832 - val_recall: 0.7541\n",
      "Epoch 46/100\n",
      "88/88 [==============================] - 0s 2ms/step - loss: 0.4717 - accuracy: 0.7415 - precision: 0.5950 - recall: 0.7913 - val_loss: 0.5105 - val_accuracy: 0.7242 - val_precision: 0.5858 - val_recall: 0.7423\n",
      "Epoch 47/100\n",
      "88/88 [==============================] - 0s 2ms/step - loss: 0.4629 - accuracy: 0.7530 - precision: 0.6036 - recall: 0.7702 - val_loss: 0.5096 - val_accuracy: 0.7258 - val_precision: 0.5867 - val_recall: 0.7518\n",
      "Epoch 48/100\n",
      "88/88 [==============================] - 0s 2ms/step - loss: 0.4532 - accuracy: 0.7564 - precision: 0.6155 - recall: 0.7684 - val_loss: 0.5099 - val_accuracy: 0.7233 - val_precision: 0.5854 - val_recall: 0.7376\n",
      "Epoch 49/100\n",
      "88/88 [==============================] - 0s 2ms/step - loss: 0.4593 - accuracy: 0.7434 - precision: 0.5906 - recall: 0.7611 - val_loss: 0.5108 - val_accuracy: 0.7225 - val_precision: 0.5836 - val_recall: 0.7423\n",
      "Epoch 50/100\n",
      "88/88 [==============================] - 0s 2ms/step - loss: 0.4599 - accuracy: 0.7555 - precision: 0.6131 - recall: 0.7833 - val_loss: 0.5092 - val_accuracy: 0.7258 - val_precision: 0.5851 - val_recall: 0.7636\n",
      "Epoch 51/100\n",
      "88/88 [==============================] - 0s 2ms/step - loss: 0.4591 - accuracy: 0.7561 - precision: 0.6111 - recall: 0.8067 - val_loss: 0.5099 - val_accuracy: 0.7233 - val_precision: 0.5820 - val_recall: 0.7636\n",
      "Epoch 52/100\n",
      "88/88 [==============================] - 0s 2ms/step - loss: 0.4572 - accuracy: 0.7566 - precision: 0.6067 - recall: 0.7831 - val_loss: 0.5087 - val_accuracy: 0.7242 - val_precision: 0.5846 - val_recall: 0.7518\n",
      "Epoch 53/100\n",
      "88/88 [==============================] - 0s 2ms/step - loss: 0.4588 - accuracy: 0.7529 - precision: 0.6066 - recall: 0.7740 - val_loss: 0.5086 - val_accuracy: 0.7250 - val_precision: 0.5850 - val_recall: 0.7565\n",
      "Epoch 54/100\n",
      "88/88 [==============================] - 0s 2ms/step - loss: 0.4630 - accuracy: 0.7419 - precision: 0.5820 - recall: 0.7666 - val_loss: 0.5099 - val_accuracy: 0.7208 - val_precision: 0.5800 - val_recall: 0.7541\n",
      "Epoch 55/100\n",
      "88/88 [==============================] - 0s 2ms/step - loss: 0.4623 - accuracy: 0.7587 - precision: 0.6235 - recall: 0.7918 - val_loss: 0.5092 - val_accuracy: 0.7217 - val_precision: 0.5823 - val_recall: 0.7447\n",
      "Epoch 56/100\n",
      "88/88 [==============================] - 0s 2ms/step - loss: 0.4517 - accuracy: 0.7567 - precision: 0.6008 - recall: 0.7861 - val_loss: 0.5072 - val_accuracy: 0.7267 - val_precision: 0.5838 - val_recall: 0.7825\n",
      "Epoch 57/100\n",
      "88/88 [==============================] - 0s 2ms/step - loss: 0.4724 - accuracy: 0.7494 - precision: 0.6034 - recall: 0.7949 - val_loss: 0.5092 - val_accuracy: 0.7267 - val_precision: 0.5856 - val_recall: 0.7683\n",
      "Epoch 58/100\n",
      "88/88 [==============================] - 0s 2ms/step - loss: 0.4551 - accuracy: 0.7473 - precision: 0.5886 - recall: 0.8139 - val_loss: 0.5080 - val_accuracy: 0.7217 - val_precision: 0.5808 - val_recall: 0.7565\n",
      "Epoch 59/100\n",
      "88/88 [==============================] - 0s 2ms/step - loss: 0.4852 - accuracy: 0.7338 - precision: 0.5899 - recall: 0.7878 - val_loss: 0.5086 - val_accuracy: 0.7250 - val_precision: 0.5844 - val_recall: 0.7612\n",
      "Epoch 60/100\n",
      "88/88 [==============================] - 0s 2ms/step - loss: 0.4701 - accuracy: 0.7419 - precision: 0.5893 - recall: 0.7829 - val_loss: 0.5072 - val_accuracy: 0.7258 - val_precision: 0.5842 - val_recall: 0.7707\n",
      "Epoch 61/100\n",
      "88/88 [==============================] - 0s 2ms/step - loss: 0.4656 - accuracy: 0.7421 - precision: 0.5823 - recall: 0.7640 - val_loss: 0.5079 - val_accuracy: 0.7258 - val_precision: 0.5845 - val_recall: 0.7683\n",
      "Epoch 62/100\n",
      "88/88 [==============================] - 0s 2ms/step - loss: 0.4655 - accuracy: 0.7519 - precision: 0.6038 - recall: 0.7787 - val_loss: 0.5098 - val_accuracy: 0.7225 - val_precision: 0.5827 - val_recall: 0.7494\n",
      "Epoch 63/100\n",
      "88/88 [==============================] - 0s 3ms/step - loss: 0.4729 - accuracy: 0.7509 - precision: 0.6163 - recall: 0.7978 - val_loss: 0.5111 - val_accuracy: 0.7200 - val_precision: 0.5813 - val_recall: 0.7352\n",
      "Epoch 64/100\n",
      "88/88 [==============================] - 0s 3ms/step - loss: 0.4747 - accuracy: 0.7479 - precision: 0.6037 - recall: 0.7922 - val_loss: 0.5130 - val_accuracy: 0.7208 - val_precision: 0.5821 - val_recall: 0.7376\n",
      "Epoch 65/100\n",
      "88/88 [==============================] - 0s 3ms/step - loss: 0.4669 - accuracy: 0.7523 - precision: 0.6058 - recall: 0.7719 - val_loss: 0.5080 - val_accuracy: 0.7283 - val_precision: 0.5877 - val_recall: 0.7683\n",
      "Epoch 66/100\n",
      "88/88 [==============================] - 0s 3ms/step - loss: 0.4466 - accuracy: 0.7538 - precision: 0.5951 - recall: 0.8086 - val_loss: 0.5072 - val_accuracy: 0.7275 - val_precision: 0.5866 - val_recall: 0.7683\n",
      "Epoch 67/100\n",
      "88/88 [==============================] - 0s 2ms/step - loss: 0.4530 - accuracy: 0.7592 - precision: 0.6147 - recall: 0.8119 - val_loss: 0.5061 - val_accuracy: 0.7233 - val_precision: 0.5832 - val_recall: 0.7541\n",
      "Epoch 68/100\n",
      "88/88 [==============================] - 0s 2ms/step - loss: 0.4605 - accuracy: 0.7539 - precision: 0.6085 - recall: 0.7940 - val_loss: 0.5091 - val_accuracy: 0.7250 - val_precision: 0.5847 - val_recall: 0.7589\n",
      "Epoch 69/100\n",
      "88/88 [==============================] - 0s 2ms/step - loss: 0.4567 - accuracy: 0.7526 - precision: 0.5974 - recall: 0.7881 - val_loss: 0.5083 - val_accuracy: 0.7283 - val_precision: 0.5887 - val_recall: 0.7612\n",
      "Epoch 70/100\n",
      "88/88 [==============================] - 0s 2ms/step - loss: 0.4507 - accuracy: 0.7650 - precision: 0.6225 - recall: 0.8151 - val_loss: 0.5071 - val_accuracy: 0.7275 - val_precision: 0.5873 - val_recall: 0.7636\n",
      "Epoch 71/100\n",
      "88/88 [==============================] - 0s 3ms/step - loss: 0.4563 - accuracy: 0.7456 - precision: 0.5863 - recall: 0.7903 - val_loss: 0.5070 - val_accuracy: 0.7275 - val_precision: 0.5854 - val_recall: 0.7778\n",
      "Epoch 72/100\n",
      "88/88 [==============================] - 0s 2ms/step - loss: 0.4604 - accuracy: 0.7503 - precision: 0.6008 - recall: 0.8130 - val_loss: 0.5096 - val_accuracy: 0.7283 - val_precision: 0.5883 - val_recall: 0.7636\n",
      "Epoch 73/100\n",
      "88/88 [==============================] - 0s 2ms/step - loss: 0.4656 - accuracy: 0.7550 - precision: 0.6122 - recall: 0.8045 - val_loss: 0.5115 - val_accuracy: 0.7200 - val_precision: 0.5819 - val_recall: 0.7305\n",
      "Epoch 74/100\n",
      "88/88 [==============================] - 0s 2ms/step - loss: 0.4654 - accuracy: 0.7458 - precision: 0.5889 - recall: 0.7705 - val_loss: 0.5092 - val_accuracy: 0.7267 - val_precision: 0.5841 - val_recall: 0.7801\n",
      "Epoch 75/100\n",
      "88/88 [==============================] - 0s 2ms/step - loss: 0.4498 - accuracy: 0.7589 - precision: 0.5962 - recall: 0.8108 - val_loss: 0.5076 - val_accuracy: 0.7275 - val_precision: 0.5842 - val_recall: 0.7872\n",
      "Epoch 76/100\n",
      "88/88 [==============================] - 0s 2ms/step - loss: 0.4626 - accuracy: 0.7457 - precision: 0.5843 - recall: 0.8263 - val_loss: 0.5063 - val_accuracy: 0.7283 - val_precision: 0.5871 - val_recall: 0.7730\n",
      "Epoch 77/100\n",
      "88/88 [==============================] - 0s 2ms/step - loss: 0.4557 - accuracy: 0.7572 - precision: 0.6094 - recall: 0.8301 - val_loss: 0.5080 - val_accuracy: 0.7250 - val_precision: 0.5847 - val_recall: 0.7589\n",
      "Epoch 78/100\n",
      "88/88 [==============================] - 0s 3ms/step - loss: 0.4570 - accuracy: 0.7521 - precision: 0.6121 - recall: 0.8079 - val_loss: 0.5066 - val_accuracy: 0.7258 - val_precision: 0.5848 - val_recall: 0.7660\n",
      "Epoch 79/100\n",
      "88/88 [==============================] - 0s 3ms/step - loss: 0.4547 - accuracy: 0.7584 - precision: 0.6171 - recall: 0.7952 - val_loss: 0.5073 - val_accuracy: 0.7258 - val_precision: 0.5842 - val_recall: 0.7707\n",
      "Epoch 80/100\n",
      "88/88 [==============================] - 0s 3ms/step - loss: 0.4585 - accuracy: 0.7517 - precision: 0.6041 - recall: 0.7933 - val_loss: 0.5060 - val_accuracy: 0.7267 - val_precision: 0.5868 - val_recall: 0.7589\n",
      "Epoch 81/100\n",
      "88/88 [==============================] - 0s 3ms/step - loss: 0.4660 - accuracy: 0.7445 - precision: 0.5941 - recall: 0.7740 - val_loss: 0.5087 - val_accuracy: 0.7275 - val_precision: 0.5882 - val_recall: 0.7565\n",
      "Epoch 82/100\n",
      "88/88 [==============================] - 0s 3ms/step - loss: 0.4528 - accuracy: 0.7557 - precision: 0.6071 - recall: 0.8108 - val_loss: 0.5080 - val_accuracy: 0.7250 - val_precision: 0.5860 - val_recall: 0.7494\n",
      "Epoch 83/100\n",
      "88/88 [==============================] - 0s 2ms/step - loss: 0.4684 - accuracy: 0.7534 - precision: 0.6202 - recall: 0.7816 - val_loss: 0.5099 - val_accuracy: 0.7250 - val_precision: 0.5835 - val_recall: 0.7683\n",
      "Epoch 84/100\n",
      "88/88 [==============================] - 0s 3ms/step - loss: 0.4600 - accuracy: 0.7520 - precision: 0.6012 - recall: 0.7955 - val_loss: 0.5078 - val_accuracy: 0.7267 - val_precision: 0.5844 - val_recall: 0.7778\n",
      "Epoch 85/100\n",
      "88/88 [==============================] - 0s 3ms/step - loss: 0.4765 - accuracy: 0.7480 - precision: 0.6098 - recall: 0.8165 - val_loss: 0.5100 - val_accuracy: 0.7250 - val_precision: 0.5850 - val_recall: 0.7565\n",
      "Epoch 86/100\n",
      "88/88 [==============================] - 0s 3ms/step - loss: 0.4516 - accuracy: 0.7651 - precision: 0.6340 - recall: 0.8096 - val_loss: 0.5071 - val_accuracy: 0.7258 - val_precision: 0.5851 - val_recall: 0.7636\n",
      "Epoch 87/100\n",
      "88/88 [==============================] - 0s 2ms/step - loss: 0.4672 - accuracy: 0.7501 - precision: 0.6076 - recall: 0.8076 - val_loss: 0.5070 - val_accuracy: 0.7333 - val_precision: 0.5905 - val_recall: 0.7943\n",
      "Epoch 88/100\n",
      "88/88 [==============================] - 0s 3ms/step - loss: 0.4489 - accuracy: 0.7623 - precision: 0.6180 - recall: 0.8335 - val_loss: 0.5064 - val_accuracy: 0.7300 - val_precision: 0.5886 - val_recall: 0.7778\n",
      "Epoch 89/100\n",
      "88/88 [==============================] - 0s 2ms/step - loss: 0.4620 - accuracy: 0.7560 - precision: 0.6090 - recall: 0.8087 - val_loss: 0.5068 - val_accuracy: 0.7283 - val_precision: 0.5871 - val_recall: 0.7730\n",
      "Epoch 90/100\n",
      "88/88 [==============================] - 0s 3ms/step - loss: 0.4555 - accuracy: 0.7567 - precision: 0.6020 - recall: 0.7918 - val_loss: 0.5074 - val_accuracy: 0.7283 - val_precision: 0.5868 - val_recall: 0.7754\n",
      "Epoch 91/100\n",
      "88/88 [==============================] - 0s 3ms/step - loss: 0.4430 - accuracy: 0.7680 - precision: 0.6145 - recall: 0.8020 - val_loss: 0.5083 - val_accuracy: 0.7300 - val_precision: 0.5867 - val_recall: 0.7920\n",
      "Epoch 92/100\n",
      "88/88 [==============================] - 0s 3ms/step - loss: 0.4617 - accuracy: 0.7552 - precision: 0.6069 - recall: 0.8058 - val_loss: 0.5067 - val_accuracy: 0.7292 - val_precision: 0.5888 - val_recall: 0.7683\n",
      "Epoch 93/100\n",
      "88/88 [==============================] - 0s 2ms/step - loss: 0.4589 - accuracy: 0.7507 - precision: 0.5928 - recall: 0.7878 - val_loss: 0.5082 - val_accuracy: 0.7292 - val_precision: 0.5872 - val_recall: 0.7801\n",
      "Epoch 94/100\n",
      "88/88 [==============================] - 0s 2ms/step - loss: 0.4513 - accuracy: 0.7711 - precision: 0.6406 - recall: 0.8339 - val_loss: 0.5088 - val_accuracy: 0.7267 - val_precision: 0.5872 - val_recall: 0.7565\n",
      "Epoch 95/100\n",
      "88/88 [==============================] - 0s 2ms/step - loss: 0.4612 - accuracy: 0.7531 - precision: 0.6172 - recall: 0.7716 - val_loss: 0.5056 - val_accuracy: 0.7292 - val_precision: 0.5878 - val_recall: 0.7754\n",
      "Epoch 96/100\n",
      "88/88 [==============================] - 0s 2ms/step - loss: 0.4448 - accuracy: 0.7558 - precision: 0.6170 - recall: 0.7926 - val_loss: 0.5064 - val_accuracy: 0.7267 - val_precision: 0.5872 - val_recall: 0.7565\n",
      "Epoch 97/100\n",
      "88/88 [==============================] - 0s 2ms/step - loss: 0.4624 - accuracy: 0.7457 - precision: 0.5953 - recall: 0.7951 - val_loss: 0.5068 - val_accuracy: 0.7283 - val_precision: 0.5871 - val_recall: 0.7730\n",
      "Epoch 98/100\n",
      "88/88 [==============================] - 0s 2ms/step - loss: 0.4578 - accuracy: 0.7609 - precision: 0.6001 - recall: 0.8060 - val_loss: 0.5071 - val_accuracy: 0.7292 - val_precision: 0.5878 - val_recall: 0.7754\n",
      "Epoch 99/100\n",
      "88/88 [==============================] - 0s 2ms/step - loss: 0.4627 - accuracy: 0.7565 - precision: 0.6012 - recall: 0.8089 - val_loss: 0.5110 - val_accuracy: 0.7267 - val_precision: 0.5856 - val_recall: 0.7683\n",
      "Epoch 100/100\n",
      "88/88 [==============================] - 0s 2ms/step - loss: 0.4429 - accuracy: 0.7702 - precision: 0.6189 - recall: 0.8275 - val_loss: 0.5048 - val_accuracy: 0.7283 - val_precision: 0.5874 - val_recall: 0.7707\n"
     ]
    }
   ],
   "source": [
    "history2=model2.fit(X_trainf,Y_trainf,epochs=100,validation_data=(X_testf,Y_testf))"
   ]
  },
  {
   "cell_type": "code",
   "execution_count": 33,
   "id": "9cba02d1",
   "metadata": {
    "execution": {
     "iopub.execute_input": "2021-09-17T04:40:13.454737Z",
     "iopub.status.busy": "2021-09-17T04:40:13.431037Z",
     "iopub.status.idle": "2021-09-17T04:40:14.346958Z",
     "shell.execute_reply": "2021-09-17T04:40:14.346310Z",
     "shell.execute_reply.started": "2021-09-17T04:36:42.670988Z"
    },
    "papermill": {
     "duration": 1.184562,
     "end_time": "2021-09-17T04:40:14.347106",
     "exception": false,
     "start_time": "2021-09-17T04:40:13.162544",
     "status": "completed"
    },
    "tags": []
   },
   "outputs": [
    {
     "data": {
      "text/plain": [
       "<Figure size 432x288 with 0 Axes>"
      ]
     },
     "execution_count": 33,
     "metadata": {},
     "output_type": "execute_result"
    },
    {
     "data": {
      "image/png": "[encoded data removed]",
      "text/plain": [
       "<Figure size 432x288 with 1 Axes>"
      ]
     },
     "metadata": {
      "needs_background": "light"
     },
     "output_type": "display_data"
    },
    {
     "data": {
      "image/png": "[encoded data removed]",
      "text/plain": [
       "<Figure size 432x288 with 1 Axes>"
      ]
     },
     "metadata": {
      "needs_background": "light"
     },
     "output_type": "display_data"
    },
    {
     "data": {
      "image/png": "[encoded data removed]",
      "text/plain": [
       "<Figure size 432x288 with 1 Axes>"
      ]
     },
     "metadata": {
      "needs_background": "light"
     },
     "output_type": "display_data"
    },
    {
     "data": {
      "image/png": "[encoded data removed]",
      "text/plain": [
       "<Figure size 432x288 with 1 Axes>"
      ]
     },
     "metadata": {
      "needs_background": "light"
     },
     "output_type": "display_data"
    },
    {
     "data": {
      "text/plain": [
       "<Figure size 432x288 with 0 Axes>"
      ]
     },
     "metadata": {},
     "output_type": "display_data"
    }
   ],
   "source": [
    "%matplotlib inline\n",
    "\n",
    "import matplotlib.image  as mpimg\n",
    "import matplotlib.pyplot as plt\n",
    "\n",
    "loss=history2.history['loss']\n",
    "val_loss=history2.history['val_loss']\n",
    "acc=history2.history['accuracy']\n",
    "val_acc=history2.history['val_accuracy']\n",
    "prec=history2.history['precision']\n",
    "val_prec=history2.history['val_precision']\n",
    "rec=history2.history['recall']\n",
    "val_rec=history2.history['val_recall']\n",
    "\n",
    "epochs=range(len(acc))\n",
    "\n",
    "plt.plot(epochs, loss, 'r', label = 'Training loss')\n",
    "plt.plot(epochs, val_loss, 'b', label ='Validation loss')\n",
    "plt.title('Training and validation loss')\n",
    "plt.legend()\n",
    "plt.figure()\n",
    "\n",
    "plt.plot(epochs, acc, 'r', label = 'Training Accuracy')\n",
    "plt.plot(epochs, val_acc, 'b', label ='Validation Accuracy')\n",
    "plt.title('Training and validation Accuracy')\n",
    "plt.legend()\n",
    "plt.figure()\n",
    "\n",
    "plt.plot(epochs, prec, 'r', label = 'Training Precision')\n",
    "plt.plot(epochs, val_prec, 'b', label ='Validation Precision')\n",
    "plt.title('Training and validation Precision')\n",
    "plt.legend()\n",
    "plt.figure()\n",
    "\n",
    "plt.plot(epochs, rec, 'r', label = 'Training Recall')\n",
    "plt.plot(epochs, val_rec, 'b', label ='Validation Recall')\n",
    "plt.title('Training and validation Recall')\n",
    "plt.legend()\n",
    "plt.figure()"
   ]
  },
  {
   "cell_type": "code",
   "execution_count": 34,
   "id": "4517baf0",
   "metadata": {
    "execution": {
     "iopub.execute_input": "2021-09-17T04:40:14.855989Z",
     "iopub.status.busy": "2021-09-17T04:40:14.855152Z",
     "iopub.status.idle": "2021-09-17T04:40:14.952631Z",
     "shell.execute_reply": "2021-09-17T04:40:14.953185Z",
     "shell.execute_reply.started": "2021-09-17T04:36:43.577786Z"
    },
    "papermill": {
     "duration": 0.354176,
     "end_time": "2021-09-17T04:40:14.953379",
     "exception": false,
     "start_time": "2021-09-17T04:40:14.599203",
     "status": "completed"
    },
    "tags": []
   },
   "outputs": [
    {
     "name": "stdout",
     "output_type": "stream",
     "text": [
      "38/38 [==============================] - 0s 1ms/step - loss: 0.5048 - accuracy: 0.7283 - precision: 0.5874 - recall: 0.7707\n",
      "loss :  0.5048016905784607\n",
      "accuracy :  0.7283333539962769\n",
      "precision :  0.5873873829841614\n",
      "recall :  0.7706855535507202\n",
      "\n"
     ]
    }
   ],
   "source": [
    "test2_eval=model2.evaluate(X_testf, Y_testf)\n",
    "for name, value in zip(model2.metrics_names, test2_eval):\n",
    "  print(name, ': ', value)\n",
    "print()"
   ]
  },
  {
   "cell_type": "code",
   "execution_count": 35,
   "id": "f7697300",
   "metadata": {
    "execution": {
     "iopub.execute_input": "2021-09-17T04:40:15.467038Z",
     "iopub.status.busy": "2021-09-17T04:40:15.466330Z",
     "iopub.status.idle": "2021-09-17T04:40:15.553509Z",
     "shell.execute_reply": "2021-09-17T04:40:15.554050Z",
     "shell.execute_reply.started": "2021-09-17T04:36:43.671694Z"
    },
    "papermill": {
     "duration": 0.346598,
     "end_time": "2021-09-17T04:40:15.554254",
     "exception": false,
     "start_time": "2021-09-17T04:40:15.207656",
     "status": "completed"
    },
    "tags": []
   },
   "outputs": [],
   "source": [
    "Y_predf=model2.predict(X_testf)"
   ]
  },
  {
   "cell_type": "code",
   "execution_count": 36,
   "id": "064e719a",
   "metadata": {
    "execution": {
     "iopub.execute_input": "2021-09-17T04:40:16.124953Z",
     "iopub.status.busy": "2021-09-17T04:40:16.124078Z",
     "iopub.status.idle": "2021-09-17T04:40:16.127955Z",
     "shell.execute_reply": "2021-09-17T04:40:16.127401Z",
     "shell.execute_reply.started": "2021-09-17T04:36:43.760537Z"
    },
    "papermill": {
     "duration": 0.264111,
     "end_time": "2021-09-17T04:40:16.128100",
     "exception": false,
     "start_time": "2021-09-17T04:40:15.863989",
     "status": "completed"
    },
    "tags": []
   },
   "outputs": [
    {
     "data": {
      "text/plain": [
       "array([[0.60163224],\n",
       "       [0.63277984],\n",
       "       [0.10667378],\n",
       "       ...,\n",
       "       [0.5847155 ],\n",
       "       [0.06304872],\n",
       "       [0.0493319 ]], dtype=float32)"
      ]
     },
     "execution_count": 36,
     "metadata": {},
     "output_type": "execute_result"
    }
   ],
   "source": [
    "Y_predf"
   ]
  },
  {
   "cell_type": "code",
   "execution_count": 37,
   "id": "c95300fe",
   "metadata": {
    "execution": {
     "iopub.execute_input": "2021-09-17T04:40:16.638532Z",
     "iopub.status.busy": "2021-09-17T04:40:16.637605Z",
     "iopub.status.idle": "2021-09-17T04:40:16.641954Z",
     "shell.execute_reply": "2021-09-17T04:40:16.641283Z",
     "shell.execute_reply.started": "2021-09-17T04:36:43.768144Z"
    },
    "papermill": {
     "duration": 0.263127,
     "end_time": "2021-09-17T04:40:16.642098",
     "exception": false,
     "start_time": "2021-09-17T04:40:16.378971",
     "status": "completed"
    },
    "tags": []
   },
   "outputs": [
    {
     "data": {
      "text/plain": [
       "array([[1.],\n",
       "       [1.],\n",
       "       [0.],\n",
       "       ...,\n",
       "       [1.],\n",
       "       [0.],\n",
       "       [0.]])"
      ]
     },
     "execution_count": 37,
     "metadata": {},
     "output_type": "execute_result"
    }
   ],
   "source": [
    "y_predf=np.zeros(Y_predf.shape)\n",
    "y_predf[Y_predf>0.5]=1\n",
    "y_predf=np.array(y_predf)\n",
    "y_predf"
   ]
  },
  {
   "cell_type": "code",
   "execution_count": 38,
   "id": "b8a2b38e",
   "metadata": {
    "execution": {
     "iopub.execute_input": "2021-09-17T04:40:17.158199Z",
     "iopub.status.busy": "2021-09-17T04:40:17.157505Z",
     "iopub.status.idle": "2021-09-17T04:40:17.169227Z",
     "shell.execute_reply": "2021-09-17T04:40:17.169694Z",
     "shell.execute_reply.started": "2021-09-17T04:36:43.783150Z"
    },
    "papermill": {
     "duration": 0.272245,
     "end_time": "2021-09-17T04:40:17.169933",
     "exception": false,
     "start_time": "2021-09-17T04:40:16.897688",
     "status": "completed"
    },
    "tags": []
   },
   "outputs": [
    {
     "name": "stdout",
     "output_type": "stream",
     "text": [
      "              precision    recall  f1-score   support\n",
      "\n",
      "           0       0.85      0.71      0.77       777\n",
      "           1       0.59      0.77      0.67       423\n",
      "\n",
      "    accuracy                           0.73      1200\n",
      "   macro avg       0.72      0.74      0.72      1200\n",
      "weighted avg       0.76      0.73      0.73      1200\n",
      "\n"
     ]
    }
   ],
   "source": [
    "print(classification_report(Y_testf,y_predf))"
   ]
  },
  {
   "cell_type": "code",
   "execution_count": 39,
   "id": "06bdb070",
   "metadata": {
    "execution": {
     "iopub.execute_input": "2021-09-17T04:40:17.685223Z",
     "iopub.status.busy": "2021-09-17T04:40:17.684195Z",
     "iopub.status.idle": "2021-09-17T04:40:17.692219Z",
     "shell.execute_reply": "2021-09-17T04:40:17.691640Z",
     "shell.execute_reply.started": "2021-09-17T04:36:43.805268Z"
    },
    "papermill": {
     "duration": 0.270197,
     "end_time": "2021-09-17T04:40:17.692377",
     "exception": false,
     "start_time": "2021-09-17T04:40:17.422180",
     "status": "completed"
    },
    "tags": []
   },
   "outputs": [],
   "source": [
    "prediksi=pd.DataFrame(y_predf)\n",
    "prediksi.rename(columns={0:'y'}, inplace=True)\n",
    "prediksi=prediksi.astype(int)\n",
    "prediksi.to_csv('Hasil Prediksi MLP Klasifikasi Biner.csv',index=False)"
   ]
  },
  {
   "cell_type": "code",
   "execution_count": 40,
   "id": "a68e3af5",
   "metadata": {
    "execution": {
     "iopub.execute_input": "2021-09-17T04:40:18.216473Z",
     "iopub.status.busy": "2021-09-17T04:40:18.207653Z",
     "iopub.status.idle": "2021-09-17T04:40:18.226014Z",
     "shell.execute_reply": "2021-09-17T04:40:18.225450Z",
     "shell.execute_reply.started": "2021-09-17T04:36:43.820540Z"
    },
    "papermill": {
     "duration": 0.279882,
     "end_time": "2021-09-17T04:40:18.226171",
     "exception": false,
     "start_time": "2021-09-17T04:40:17.946289",
     "status": "completed"
    },
    "tags": []
   },
   "outputs": [],
   "source": [
    "#Simpan model\n",
    "model2.save(\"MLP Klasifikasi Biner.h5\")"
   ]
  },
  {
   "cell_type": "code",
   "execution_count": 41,
   "id": "c12aac91",
   "metadata": {
    "execution": {
     "iopub.execute_input": "2021-09-17T04:40:18.745431Z",
     "iopub.status.busy": "2021-09-17T04:40:18.744744Z",
     "iopub.status.idle": "2021-09-17T04:40:18.899636Z",
     "shell.execute_reply": "2021-09-17T04:40:18.900311Z",
     "shell.execute_reply.started": "2021-09-17T04:36:43.842725Z"
    },
    "papermill": {
     "duration": 0.421991,
     "end_time": "2021-09-17T04:40:18.900497",
     "exception": false,
     "start_time": "2021-09-17T04:40:18.478506",
     "status": "completed"
    },
    "tags": []
   },
   "outputs": [],
   "source": [
    "#Memuat (load) model \n",
    "model2=load_model(\"MLP Klasifikasi Biner.h5\")\n",
    "Y_predf=model2.predict(X_testf)"
   ]
  },
  {
   "cell_type": "code",
   "execution_count": 42,
   "id": "bd6922ff",
   "metadata": {
    "execution": {
     "iopub.execute_input": "2021-09-17T04:40:19.413768Z",
     "iopub.status.busy": "2021-09-17T04:40:19.413105Z",
     "iopub.status.idle": "2021-09-17T04:40:19.465836Z",
     "shell.execute_reply": "2021-09-17T04:40:19.466379Z",
     "shell.execute_reply.started": "2021-09-17T04:36:43.998909Z"
    },
    "papermill": {
     "duration": 0.309924,
     "end_time": "2021-09-17T04:40:19.466573",
     "exception": false,
     "start_time": "2021-09-17T04:40:19.156649",
     "status": "completed"
    },
    "tags": []
   },
   "outputs": [],
   "source": [
    "#Model MLP Klasifikasi Biner (Alternatif)\n",
    "inputs=Input(shape=X_trainf.shape[1:])\n",
    "layers1=Dense(20,activation='relu')(inputs)\n",
    "layers2=Dense(10,activation='relu')(layers1)\n",
    "concat=concatenate([inputs,layers1,layers2])\n",
    "output=Dense(1,activation='sigmoid')(concat)\n",
    "model2_1=Model(inputs=[inputs],outputs=[output])\n",
    "\n",
    "model2_1.compile(loss=\"binary_crossentropy\", optimizer=Adam(learning_rate=1e-3), \n",
    "              metrics=[\"accuracy\",Precision(),Recall()])"
   ]
  },
  {
   "cell_type": "code",
   "execution_count": 43,
   "id": "f34ae4d5",
   "metadata": {
    "execution": {
     "iopub.execute_input": "2021-09-17T04:40:19.990620Z",
     "iopub.status.busy": "2021-09-17T04:40:19.988978Z",
     "iopub.status.idle": "2021-09-17T04:40:19.998333Z",
     "shell.execute_reply": "2021-09-17T04:40:19.998817Z",
     "shell.execute_reply.started": "2021-09-17T04:36:44.053563Z"
    },
    "papermill": {
     "duration": 0.272865,
     "end_time": "2021-09-17T04:40:19.999004",
     "exception": false,
     "start_time": "2021-09-17T04:40:19.726139",
     "status": "completed"
    },
    "tags": []
   },
   "outputs": [
    {
     "name": "stdout",
     "output_type": "stream",
     "text": [
      "Model: \"model_2\"\n",
      "__________________________________________________________________________________________________\n",
      "Layer (type)                    Output Shape         Param #     Connected to                     \n",
      "==================================================================================================\n",
      "input_3 (InputLayer)            [(None, 8)]          0                                            \n",
      "__________________________________________________________________________________________________\n",
      "dense_6 (Dense)                 (None, 20)           180         input_3[0][0]                    \n",
      "__________________________________________________________________________________________________\n",
      "dense_7 (Dense)                 (None, 10)           210         dense_6[0][0]                    \n",
      "__________________________________________________________________________________________________\n",
      "concatenate (Concatenate)       (None, 38)           0           input_3[0][0]                    \n",
      "                                                                 dense_6[0][0]                    \n",
      "                                                                 dense_7[0][0]                    \n",
      "__________________________________________________________________________________________________\n",
      "dense_8 (Dense)                 (None, 1)            39          concatenate[0][0]                \n",
      "==================================================================================================\n",
      "Total params: 429\n",
      "Trainable params: 429\n",
      "Non-trainable params: 0\n",
      "__________________________________________________________________________________________________\n"
     ]
    }
   ],
   "source": [
    "model2_1.summary()"
   ]
  },
  {
   "cell_type": "code",
   "execution_count": 44,
   "id": "64a532ea",
   "metadata": {
    "execution": {
     "iopub.execute_input": "2021-09-17T04:40:20.512174Z",
     "iopub.status.busy": "2021-09-17T04:40:20.511508Z",
     "iopub.status.idle": "2021-09-17T04:40:20.636211Z",
     "shell.execute_reply": "2021-09-17T04:40:20.636709Z",
     "shell.execute_reply.started": "2021-09-17T04:36:44.064290Z"
    },
    "papermill": {
     "duration": 0.384719,
     "end_time": "2021-09-17T04:40:20.636913",
     "exception": false,
     "start_time": "2021-09-17T04:40:20.252194",
     "status": "completed"
    },
    "tags": []
   },
   "outputs": [
    {
     "data": {
      "image/png": "[encoded data removed]",
      "text/plain": [
       "<IPython.core.display.Image object>"
      ]
     },
     "execution_count": 44,
     "metadata": {},
     "output_type": "execute_result"
    }
   ],
   "source": [
    "plot_model(model2_1, \"Model MLP 2 Klasifikasi Biner.png\", show_shapes=True)"
   ]
  },
  {
   "cell_type": "code",
   "execution_count": 45,
   "id": "ec439992",
   "metadata": {
    "execution": {
     "iopub.execute_input": "2021-09-17T04:40:21.157854Z",
     "iopub.status.busy": "2021-09-17T04:40:21.157216Z",
     "iopub.status.idle": "2021-09-17T04:40:44.026622Z",
     "shell.execute_reply": "2021-09-17T04:40:44.025679Z",
     "shell.execute_reply.started": "2021-09-17T04:36:44.189675Z"
    },
    "papermill": {
     "duration": 23.129823,
     "end_time": "2021-09-17T04:40:44.026855",
     "exception": false,
     "start_time": "2021-09-17T04:40:20.897032",
     "status": "completed"
    },
    "tags": []
   },
   "outputs": [
    {
     "name": "stdout",
     "output_type": "stream",
     "text": [
      "Epoch 1/100\n",
      "88/88 [==============================] - 1s 7ms/step - loss: 0.6930 - accuracy: 0.6277 - precision_1: 0.4620 - recall_1: 0.5271 - val_loss: 0.6096 - val_accuracy: 0.6750 - val_precision_1: 0.5527 - val_recall_1: 0.4090\n",
      "Epoch 2/100\n",
      "88/88 [==============================] - 0s 2ms/step - loss: 0.5672 - accuracy: 0.7009 - precision_1: 0.5914 - recall_1: 0.3769 - val_loss: 0.5750 - val_accuracy: 0.6783 - val_precision_1: 0.5546 - val_recall_1: 0.4444\n",
      "Epoch 3/100\n",
      "88/88 [==============================] - 0s 2ms/step - loss: 0.5380 - accuracy: 0.7133 - precision_1: 0.5918 - recall_1: 0.4654 - val_loss: 0.5624 - val_accuracy: 0.6917 - val_precision_1: 0.5718 - val_recall_1: 0.4988\n",
      "Epoch 4/100\n",
      "88/88 [==============================] - 0s 2ms/step - loss: 0.5241 - accuracy: 0.7195 - precision_1: 0.5989 - recall_1: 0.5346 - val_loss: 0.5589 - val_accuracy: 0.6900 - val_precision_1: 0.5623 - val_recall_1: 0.5437\n",
      "Epoch 5/100\n",
      "88/88 [==============================] - 0s 2ms/step - loss: 0.5112 - accuracy: 0.7286 - precision_1: 0.6127 - recall_1: 0.5757 - val_loss: 0.5528 - val_accuracy: 0.6925 - val_precision_1: 0.5714 - val_recall_1: 0.5106\n",
      "Epoch 6/100\n",
      "88/88 [==============================] - 0s 2ms/step - loss: 0.5070 - accuracy: 0.7224 - precision_1: 0.5995 - recall_1: 0.5278 - val_loss: 0.5503 - val_accuracy: 0.6892 - val_precision_1: 0.5658 - val_recall_1: 0.5083\n",
      "Epoch 7/100\n",
      "88/88 [==============================] - 0s 2ms/step - loss: 0.4979 - accuracy: 0.7309 - precision_1: 0.6202 - recall_1: 0.5895 - val_loss: 0.5469 - val_accuracy: 0.6858 - val_precision_1: 0.5612 - val_recall_1: 0.4988\n",
      "Epoch 8/100\n",
      "88/88 [==============================] - 0s 2ms/step - loss: 0.4940 - accuracy: 0.7276 - precision_1: 0.5986 - recall_1: 0.5609 - val_loss: 0.5451 - val_accuracy: 0.6933 - val_precision_1: 0.5663 - val_recall_1: 0.5556\n",
      "Epoch 9/100\n",
      "88/88 [==============================] - 0s 2ms/step - loss: 0.4934 - accuracy: 0.7346 - precision_1: 0.6152 - recall_1: 0.6218 - val_loss: 0.5417 - val_accuracy: 0.6883 - val_precision_1: 0.5602 - val_recall_1: 0.5390\n",
      "Epoch 10/100\n",
      "88/88 [==============================] - 0s 2ms/step - loss: 0.5077 - accuracy: 0.7215 - precision_1: 0.6127 - recall_1: 0.5971 - val_loss: 0.5413 - val_accuracy: 0.6842 - val_precision_1: 0.5564 - val_recall_1: 0.5130\n",
      "Epoch 11/100\n",
      "88/88 [==============================] - 0s 2ms/step - loss: 0.5024 - accuracy: 0.7261 - precision_1: 0.6070 - recall_1: 0.5920 - val_loss: 0.5370 - val_accuracy: 0.6950 - val_precision_1: 0.5664 - val_recall_1: 0.5745\n",
      "Epoch 12/100\n",
      "88/88 [==============================] - 0s 2ms/step - loss: 0.5011 - accuracy: 0.7210 - precision_1: 0.5828 - recall_1: 0.5903 - val_loss: 0.5369 - val_accuracy: 0.6900 - val_precision_1: 0.5627 - val_recall_1: 0.5414\n",
      "Epoch 13/100\n",
      "88/88 [==============================] - 0s 2ms/step - loss: 0.4972 - accuracy: 0.7261 - precision_1: 0.6035 - recall_1: 0.6193 - val_loss: 0.5364 - val_accuracy: 0.7042 - val_precision_1: 0.5752 - val_recall_1: 0.6147\n",
      "Epoch 14/100\n",
      "88/88 [==============================] - 0s 2ms/step - loss: 0.4974 - accuracy: 0.7179 - precision_1: 0.5623 - recall_1: 0.6187 - val_loss: 0.5350 - val_accuracy: 0.7092 - val_precision_1: 0.5801 - val_recall_1: 0.6336\n",
      "Epoch 15/100\n",
      "88/88 [==============================] - 0s 2ms/step - loss: 0.5057 - accuracy: 0.7318 - precision_1: 0.6049 - recall_1: 0.6802 - val_loss: 0.5339 - val_accuracy: 0.6925 - val_precision_1: 0.5637 - val_recall_1: 0.5650\n",
      "Epoch 16/100\n",
      "88/88 [==============================] - 0s 2ms/step - loss: 0.4771 - accuracy: 0.7354 - precision_1: 0.6195 - recall_1: 0.6532 - val_loss: 0.5326 - val_accuracy: 0.7025 - val_precision_1: 0.5733 - val_recall_1: 0.6099\n",
      "Epoch 17/100\n",
      "88/88 [==============================] - 0s 2ms/step - loss: 0.4675 - accuracy: 0.7361 - precision_1: 0.5937 - recall_1: 0.6648 - val_loss: 0.5319 - val_accuracy: 0.7050 - val_precision_1: 0.5748 - val_recall_1: 0.6265\n",
      "Epoch 18/100\n",
      "88/88 [==============================] - 0s 2ms/step - loss: 0.5091 - accuracy: 0.7252 - precision_1: 0.6068 - recall_1: 0.6962 - val_loss: 0.5306 - val_accuracy: 0.6967 - val_precision_1: 0.5684 - val_recall_1: 0.5792\n",
      "Epoch 19/100\n",
      "88/88 [==============================] - 0s 2ms/step - loss: 0.4806 - accuracy: 0.7291 - precision_1: 0.5945 - recall_1: 0.6275 - val_loss: 0.5283 - val_accuracy: 0.7042 - val_precision_1: 0.5742 - val_recall_1: 0.6217\n",
      "Epoch 20/100\n",
      "88/88 [==============================] - 0s 2ms/step - loss: 0.4784 - accuracy: 0.7433 - precision_1: 0.6129 - recall_1: 0.6791 - val_loss: 0.5282 - val_accuracy: 0.7125 - val_precision_1: 0.5816 - val_recall_1: 0.6572\n",
      "Epoch 21/100\n",
      "88/88 [==============================] - 0s 2ms/step - loss: 0.4989 - accuracy: 0.7281 - precision_1: 0.5957 - recall_1: 0.6880 - val_loss: 0.5272 - val_accuracy: 0.7125 - val_precision_1: 0.5802 - val_recall_1: 0.6667\n",
      "Epoch 22/100\n",
      "88/88 [==============================] - 0s 2ms/step - loss: 0.4850 - accuracy: 0.7351 - precision_1: 0.5936 - recall_1: 0.6888 - val_loss: 0.5267 - val_accuracy: 0.7033 - val_precision_1: 0.5717 - val_recall_1: 0.6312\n",
      "Epoch 23/100\n",
      "88/88 [==============================] - 0s 2ms/step - loss: 0.4825 - accuracy: 0.7500 - precision_1: 0.6159 - recall_1: 0.7021 - val_loss: 0.5267 - val_accuracy: 0.6967 - val_precision_1: 0.5669 - val_recall_1: 0.5910\n",
      "Epoch 24/100\n",
      "88/88 [==============================] - 0s 2ms/step - loss: 0.4911 - accuracy: 0.7212 - precision_1: 0.5802 - recall_1: 0.6697 - val_loss: 0.5258 - val_accuracy: 0.7133 - val_precision_1: 0.5788 - val_recall_1: 0.6856\n",
      "Epoch 25/100\n",
      "88/88 [==============================] - 0s 2ms/step - loss: 0.4871 - accuracy: 0.7412 - precision_1: 0.6137 - recall_1: 0.7437 - val_loss: 0.5252 - val_accuracy: 0.7175 - val_precision_1: 0.5833 - val_recall_1: 0.6950\n",
      "Epoch 26/100\n",
      "88/88 [==============================] - 0s 2ms/step - loss: 0.4885 - accuracy: 0.7395 - precision_1: 0.6165 - recall_1: 0.7081 - val_loss: 0.5231 - val_accuracy: 0.7075 - val_precision_1: 0.5753 - val_recall_1: 0.6501\n",
      "Epoch 27/100\n",
      "88/88 [==============================] - 0s 2ms/step - loss: 0.4793 - accuracy: 0.7344 - precision_1: 0.5917 - recall_1: 0.7141 - val_loss: 0.5226 - val_accuracy: 0.7117 - val_precision_1: 0.5756 - val_recall_1: 0.6927\n",
      "Epoch 28/100\n",
      "88/88 [==============================] - 0s 2ms/step - loss: 0.4850 - accuracy: 0.7245 - precision_1: 0.5642 - recall_1: 0.6792 - val_loss: 0.5235 - val_accuracy: 0.7175 - val_precision_1: 0.5789 - val_recall_1: 0.7281\n",
      "Epoch 29/100\n",
      "88/88 [==============================] - 0s 2ms/step - loss: 0.4851 - accuracy: 0.7361 - precision_1: 0.5860 - recall_1: 0.7423 - val_loss: 0.5213 - val_accuracy: 0.7175 - val_precision_1: 0.5827 - val_recall_1: 0.6998\n",
      "Epoch 30/100\n",
      "88/88 [==============================] - 0s 2ms/step - loss: 0.4787 - accuracy: 0.7499 - precision_1: 0.6249 - recall_1: 0.7538 - val_loss: 0.5212 - val_accuracy: 0.6992 - val_precision_1: 0.5680 - val_recall_1: 0.6123\n",
      "Epoch 31/100\n",
      "88/88 [==============================] - 0s 2ms/step - loss: 0.4743 - accuracy: 0.7380 - precision_1: 0.5955 - recall_1: 0.6968 - val_loss: 0.5194 - val_accuracy: 0.7200 - val_precision_1: 0.5845 - val_recall_1: 0.7116\n",
      "Epoch 32/100\n",
      "88/88 [==============================] - 0s 2ms/step - loss: 0.4743 - accuracy: 0.7464 - precision_1: 0.6071 - recall_1: 0.7161 - val_loss: 0.5210 - val_accuracy: 0.7108 - val_precision_1: 0.5760 - val_recall_1: 0.6809\n",
      "Epoch 33/100\n",
      "88/88 [==============================] - 0s 3ms/step - loss: 0.4750 - accuracy: 0.7436 - precision_1: 0.5888 - recall_1: 0.7368 - val_loss: 0.5194 - val_accuracy: 0.7217 - val_precision_1: 0.5832 - val_recall_1: 0.7376\n",
      "Epoch 34/100\n",
      "88/88 [==============================] - 0s 2ms/step - loss: 0.4867 - accuracy: 0.7357 - precision_1: 0.5787 - recall_1: 0.7378 - val_loss: 0.5192 - val_accuracy: 0.7200 - val_precision_1: 0.5807 - val_recall_1: 0.7400\n",
      "Epoch 35/100\n",
      "88/88 [==============================] - 0s 2ms/step - loss: 0.4766 - accuracy: 0.7431 - precision_1: 0.5988 - recall_1: 0.7413 - val_loss: 0.5176 - val_accuracy: 0.7192 - val_precision_1: 0.5833 - val_recall_1: 0.7116\n",
      "Epoch 36/100\n",
      "88/88 [==============================] - 0s 2ms/step - loss: 0.4766 - accuracy: 0.7470 - precision_1: 0.6031 - recall_1: 0.7510 - val_loss: 0.5188 - val_accuracy: 0.7183 - val_precision_1: 0.5788 - val_recall_1: 0.7376\n",
      "Epoch 37/100\n",
      "88/88 [==============================] - 0s 3ms/step - loss: 0.4737 - accuracy: 0.7343 - precision_1: 0.5807 - recall_1: 0.7614 - val_loss: 0.5171 - val_accuracy: 0.7208 - val_precision_1: 0.5818 - val_recall_1: 0.7400\n",
      "Epoch 38/100\n",
      "88/88 [==============================] - 0s 2ms/step - loss: 0.4588 - accuracy: 0.7617 - precision_1: 0.6241 - recall_1: 0.7427 - val_loss: 0.5163 - val_accuracy: 0.7258 - val_precision_1: 0.5877 - val_recall_1: 0.7447\n",
      "Epoch 39/100\n",
      "88/88 [==============================] - 0s 2ms/step - loss: 0.4824 - accuracy: 0.7512 - precision_1: 0.6266 - recall_1: 0.7702 - val_loss: 0.5147 - val_accuracy: 0.7225 - val_precision_1: 0.5862 - val_recall_1: 0.7234\n",
      "Epoch 40/100\n",
      "88/88 [==============================] - 0s 2ms/step - loss: 0.4773 - accuracy: 0.7452 - precision_1: 0.5993 - recall_1: 0.7577 - val_loss: 0.5166 - val_accuracy: 0.7133 - val_precision_1: 0.5788 - val_recall_1: 0.6856\n",
      "Epoch 41/100\n",
      "88/88 [==============================] - 0s 2ms/step - loss: 0.4866 - accuracy: 0.7351 - precision_1: 0.5923 - recall_1: 0.7588 - val_loss: 0.5150 - val_accuracy: 0.7233 - val_precision_1: 0.5870 - val_recall_1: 0.7258\n",
      "Epoch 42/100\n",
      "88/88 [==============================] - 0s 2ms/step - loss: 0.4795 - accuracy: 0.7416 - precision_1: 0.5945 - recall_1: 0.7560 - val_loss: 0.5152 - val_accuracy: 0.7233 - val_precision_1: 0.5817 - val_recall_1: 0.7660\n",
      "Epoch 43/100\n",
      "88/88 [==============================] - 0s 2ms/step - loss: 0.4736 - accuracy: 0.7439 - precision_1: 0.5973 - recall_1: 0.7596 - val_loss: 0.5153 - val_accuracy: 0.7217 - val_precision_1: 0.5808 - val_recall_1: 0.7565\n",
      "Epoch 44/100\n",
      "88/88 [==============================] - 0s 2ms/step - loss: 0.4856 - accuracy: 0.7316 - precision_1: 0.5873 - recall_1: 0.7632 - val_loss: 0.5134 - val_accuracy: 0.7192 - val_precision_1: 0.5808 - val_recall_1: 0.7305\n",
      "Epoch 45/100\n",
      "88/88 [==============================] - 0s 2ms/step - loss: 0.4663 - accuracy: 0.7384 - precision_1: 0.5675 - recall_1: 0.7291 - val_loss: 0.5123 - val_accuracy: 0.7242 - val_precision_1: 0.5833 - val_recall_1: 0.7612\n",
      "Epoch 46/100\n",
      "88/88 [==============================] - 0s 2ms/step - loss: 0.4794 - accuracy: 0.7386 - precision_1: 0.5910 - recall_1: 0.7965 - val_loss: 0.5115 - val_accuracy: 0.7225 - val_precision_1: 0.5833 - val_recall_1: 0.7447\n",
      "Epoch 47/100\n",
      "88/88 [==============================] - 0s 2ms/step - loss: 0.4684 - accuracy: 0.7559 - precision_1: 0.6047 - recall_1: 0.7885 - val_loss: 0.5106 - val_accuracy: 0.7217 - val_precision_1: 0.5826 - val_recall_1: 0.7423\n",
      "Epoch 48/100\n",
      "88/88 [==============================] - 0s 2ms/step - loss: 0.4551 - accuracy: 0.7524 - precision_1: 0.6099 - recall_1: 0.7671 - val_loss: 0.5112 - val_accuracy: 0.7175 - val_precision_1: 0.5808 - val_recall_1: 0.7139\n",
      "Epoch 49/100\n",
      "88/88 [==============================] - 0s 2ms/step - loss: 0.4618 - accuracy: 0.7459 - precision_1: 0.5945 - recall_1: 0.7580 - val_loss: 0.5113 - val_accuracy: 0.7225 - val_precision_1: 0.5849 - val_recall_1: 0.7329\n",
      "Epoch 50/100\n",
      "88/88 [==============================] - 0s 3ms/step - loss: 0.4636 - accuracy: 0.7568 - precision_1: 0.6168 - recall_1: 0.7733 - val_loss: 0.5120 - val_accuracy: 0.7242 - val_precision_1: 0.5824 - val_recall_1: 0.7683\n",
      "Epoch 51/100\n",
      "88/88 [==============================] - 0s 2ms/step - loss: 0.4622 - accuracy: 0.7576 - precision_1: 0.6128 - recall_1: 0.8089 - val_loss: 0.5123 - val_accuracy: 0.7225 - val_precision_1: 0.5821 - val_recall_1: 0.7541\n",
      "Epoch 52/100\n",
      "88/88 [==============================] - 0s 2ms/step - loss: 0.4634 - accuracy: 0.7555 - precision_1: 0.6071 - recall_1: 0.7711 - val_loss: 0.5103 - val_accuracy: 0.7225 - val_precision_1: 0.5821 - val_recall_1: 0.7541\n",
      "Epoch 53/100\n",
      "88/88 [==============================] - 0s 2ms/step - loss: 0.4659 - accuracy: 0.7547 - precision_1: 0.6087 - recall_1: 0.7753 - val_loss: 0.5114 - val_accuracy: 0.7258 - val_precision_1: 0.5836 - val_recall_1: 0.7754\n",
      "Epoch 54/100\n",
      "88/88 [==============================] - 0s 2ms/step - loss: 0.4663 - accuracy: 0.7456 - precision_1: 0.5870 - recall_1: 0.7664 - val_loss: 0.5127 - val_accuracy: 0.7250 - val_precision_1: 0.5835 - val_recall_1: 0.7683\n",
      "Epoch 55/100\n",
      "88/88 [==============================] - 0s 2ms/step - loss: 0.4654 - accuracy: 0.7599 - precision_1: 0.6226 - recall_1: 0.8030 - val_loss: 0.5099 - val_accuracy: 0.7233 - val_precision_1: 0.5844 - val_recall_1: 0.7447\n",
      "Epoch 56/100\n",
      "88/88 [==============================] - 0s 2ms/step - loss: 0.4545 - accuracy: 0.7531 - precision_1: 0.5991 - recall_1: 0.7628 - val_loss: 0.5096 - val_accuracy: 0.7267 - val_precision_1: 0.5832 - val_recall_1: 0.7872\n",
      "Epoch 57/100\n",
      "88/88 [==============================] - 0s 2ms/step - loss: 0.4774 - accuracy: 0.7454 - precision_1: 0.5986 - recall_1: 0.7915 - val_loss: 0.5115 - val_accuracy: 0.7242 - val_precision_1: 0.5830 - val_recall_1: 0.7636\n",
      "Epoch 58/100\n",
      "88/88 [==============================] - 0s 2ms/step - loss: 0.4576 - accuracy: 0.7445 - precision_1: 0.5863 - recall_1: 0.8039 - val_loss: 0.5096 - val_accuracy: 0.7225 - val_precision_1: 0.5821 - val_recall_1: 0.7541\n",
      "Epoch 59/100\n",
      "88/88 [==============================] - 0s 2ms/step - loss: 0.4899 - accuracy: 0.7388 - precision_1: 0.5983 - recall_1: 0.7751 - val_loss: 0.5106 - val_accuracy: 0.7233 - val_precision_1: 0.5814 - val_recall_1: 0.7683\n",
      "Epoch 60/100\n",
      "88/88 [==============================] - 0s 2ms/step - loss: 0.4726 - accuracy: 0.7417 - precision_1: 0.5887 - recall_1: 0.7852 - val_loss: 0.5082 - val_accuracy: 0.7267 - val_precision_1: 0.5841 - val_recall_1: 0.7801\n",
      "Epoch 61/100\n",
      "88/88 [==============================] - 0s 2ms/step - loss: 0.4712 - accuracy: 0.7410 - precision_1: 0.5823 - recall_1: 0.7539 - val_loss: 0.5088 - val_accuracy: 0.7275 - val_precision_1: 0.5863 - val_recall_1: 0.7707\n",
      "Epoch 62/100\n",
      "88/88 [==============================] - 0s 2ms/step - loss: 0.4694 - accuracy: 0.7532 - precision_1: 0.6064 - recall_1: 0.7737 - val_loss: 0.5092 - val_accuracy: 0.7233 - val_precision_1: 0.5850 - val_recall_1: 0.7400\n",
      "Epoch 63/100\n",
      "88/88 [==============================] - 0s 2ms/step - loss: 0.4766 - accuracy: 0.7483 - precision_1: 0.6143 - recall_1: 0.7897 - val_loss: 0.5112 - val_accuracy: 0.7233 - val_precision_1: 0.5863 - val_recall_1: 0.7305\n",
      "Epoch 64/100\n",
      "88/88 [==============================] - 0s 2ms/step - loss: 0.4817 - accuracy: 0.7475 - precision_1: 0.6065 - recall_1: 0.7723 - val_loss: 0.5107 - val_accuracy: 0.7183 - val_precision_1: 0.5806 - val_recall_1: 0.7234\n",
      "Epoch 65/100\n",
      "88/88 [==============================] - 0s 2ms/step - loss: 0.4695 - accuracy: 0.7536 - precision_1: 0.6066 - recall_1: 0.7783 - val_loss: 0.5082 - val_accuracy: 0.7267 - val_precision_1: 0.5862 - val_recall_1: 0.7636\n",
      "Epoch 66/100\n",
      "88/88 [==============================] - 0s 3ms/step - loss: 0.4490 - accuracy: 0.7553 - precision_1: 0.5985 - recall_1: 0.7993 - val_loss: 0.5072 - val_accuracy: 0.7258 - val_precision_1: 0.5845 - val_recall_1: 0.7683\n",
      "Epoch 67/100\n",
      "88/88 [==============================] - 0s 3ms/step - loss: 0.4564 - accuracy: 0.7591 - precision_1: 0.6178 - recall_1: 0.7942 - val_loss: 0.5065 - val_accuracy: 0.7217 - val_precision_1: 0.5832 - val_recall_1: 0.7376\n",
      "Epoch 68/100\n",
      "88/88 [==============================] - 0s 3ms/step - loss: 0.4641 - accuracy: 0.7566 - precision_1: 0.6120 - recall_1: 0.7962 - val_loss: 0.5101 - val_accuracy: 0.7242 - val_precision_1: 0.5833 - val_recall_1: 0.7612\n",
      "Epoch 69/100\n",
      "88/88 [==============================] - 0s 2ms/step - loss: 0.4627 - accuracy: 0.7542 - precision_1: 0.6002 - recall_1: 0.7874 - val_loss: 0.5084 - val_accuracy: 0.7258 - val_precision_1: 0.5855 - val_recall_1: 0.7612\n",
      "Epoch 70/100\n",
      "88/88 [==============================] - 0s 2ms/step - loss: 0.4560 - accuracy: 0.7686 - precision_1: 0.6274 - recall_1: 0.8166 - val_loss: 0.5086 - val_accuracy: 0.7275 - val_precision_1: 0.5870 - val_recall_1: 0.7660\n",
      "Epoch 71/100\n",
      "88/88 [==============================] - 0s 2ms/step - loss: 0.4604 - accuracy: 0.7482 - precision_1: 0.5916 - recall_1: 0.7795 - val_loss: 0.5073 - val_accuracy: 0.7267 - val_precision_1: 0.5862 - val_recall_1: 0.7636\n",
      "Epoch 72/100\n",
      "88/88 [==============================] - 0s 2ms/step - loss: 0.4629 - accuracy: 0.7505 - precision_1: 0.6018 - recall_1: 0.8087 - val_loss: 0.5087 - val_accuracy: 0.7200 - val_precision_1: 0.5798 - val_recall_1: 0.7470\n",
      "Epoch 73/100\n",
      "88/88 [==============================] - 0s 2ms/step - loss: 0.4685 - accuracy: 0.7526 - precision_1: 0.6099 - recall_1: 0.8020 - val_loss: 0.5089 - val_accuracy: 0.7175 - val_precision_1: 0.5837 - val_recall_1: 0.6927\n",
      "Epoch 74/100\n",
      "88/88 [==============================] - 0s 2ms/step - loss: 0.4683 - accuracy: 0.7462 - precision_1: 0.5928 - recall_1: 0.7464 - val_loss: 0.5089 - val_accuracy: 0.7225 - val_precision_1: 0.5806 - val_recall_1: 0.7660\n",
      "Epoch 75/100\n",
      "88/88 [==============================] - 0s 2ms/step - loss: 0.4527 - accuracy: 0.7575 - precision_1: 0.5998 - recall_1: 0.7739 - val_loss: 0.5096 - val_accuracy: 0.7283 - val_precision_1: 0.5835 - val_recall_1: 0.8014\n",
      "Epoch 76/100\n",
      "88/88 [==============================] - 0s 2ms/step - loss: 0.4681 - accuracy: 0.7435 - precision_1: 0.5832 - recall_1: 0.8141 - val_loss: 0.5073 - val_accuracy: 0.7267 - val_precision_1: 0.5847 - val_recall_1: 0.7754\n",
      "Epoch 77/100\n",
      "88/88 [==============================] - 0s 2ms/step - loss: 0.4587 - accuracy: 0.7595 - precision_1: 0.6119 - recall_1: 0.8351 - val_loss: 0.5083 - val_accuracy: 0.7233 - val_precision_1: 0.5857 - val_recall_1: 0.7352\n",
      "Epoch 78/100\n",
      "88/88 [==============================] - 0s 2ms/step - loss: 0.4607 - accuracy: 0.7578 - precision_1: 0.6176 - recall_1: 0.8197 - val_loss: 0.5057 - val_accuracy: 0.7217 - val_precision_1: 0.5808 - val_recall_1: 0.7565\n",
      "Epoch 79/100\n",
      "88/88 [==============================] - 0s 2ms/step - loss: 0.4596 - accuracy: 0.7623 - precision_1: 0.6203 - recall_1: 0.8061 - val_loss: 0.5057 - val_accuracy: 0.7258 - val_precision_1: 0.5848 - val_recall_1: 0.7660\n",
      "Epoch 80/100\n",
      "88/88 [==============================] - 0s 2ms/step - loss: 0.4592 - accuracy: 0.7533 - precision_1: 0.6060 - recall_1: 0.7940 - val_loss: 0.5053 - val_accuracy: 0.7267 - val_precision_1: 0.5872 - val_recall_1: 0.7565\n",
      "Epoch 81/100\n",
      "88/88 [==============================] - 0s 2ms/step - loss: 0.4715 - accuracy: 0.7466 - precision_1: 0.5980 - recall_1: 0.7655 - val_loss: 0.5080 - val_accuracy: 0.7217 - val_precision_1: 0.5838 - val_recall_1: 0.7329\n",
      "Epoch 82/100\n",
      "88/88 [==============================] - 0s 2ms/step - loss: 0.4559 - accuracy: 0.7501 - precision_1: 0.6038 - recall_1: 0.7793 - val_loss: 0.5075 - val_accuracy: 0.7225 - val_precision_1: 0.5846 - val_recall_1: 0.7352\n",
      "Epoch 83/100\n",
      "88/88 [==============================] - 0s 2ms/step - loss: 0.4732 - accuracy: 0.7555 - precision_1: 0.6232 - recall_1: 0.7808 - val_loss: 0.5090 - val_accuracy: 0.7233 - val_precision_1: 0.5817 - val_recall_1: 0.7660\n",
      "Epoch 84/100\n",
      "88/88 [==============================] - 0s 2ms/step - loss: 0.4624 - accuracy: 0.7572 - precision_1: 0.6091 - recall_1: 0.7902 - val_loss: 0.5080 - val_accuracy: 0.7275 - val_precision_1: 0.5842 - val_recall_1: 0.7872\n",
      "Epoch 85/100\n",
      "88/88 [==============================] - 0s 2ms/step - loss: 0.4797 - accuracy: 0.7460 - precision_1: 0.6089 - recall_1: 0.8055 - val_loss: 0.5101 - val_accuracy: 0.7250 - val_precision_1: 0.5872 - val_recall_1: 0.7400\n",
      "Epoch 86/100\n",
      "88/88 [==============================] - 0s 2ms/step - loss: 0.4540 - accuracy: 0.7652 - precision_1: 0.6360 - recall_1: 0.8009 - val_loss: 0.5059 - val_accuracy: 0.7217 - val_precision_1: 0.5854 - val_recall_1: 0.7210\n",
      "Epoch 87/100\n",
      "88/88 [==============================] - 0s 2ms/step - loss: 0.4697 - accuracy: 0.7458 - precision_1: 0.6048 - recall_1: 0.7915 - val_loss: 0.5055 - val_accuracy: 0.7283 - val_precision_1: 0.5849 - val_recall_1: 0.7896\n",
      "Epoch 88/100\n",
      "88/88 [==============================] - 0s 2ms/step - loss: 0.4539 - accuracy: 0.7620 - precision_1: 0.6205 - recall_1: 0.8188 - val_loss: 0.5043 - val_accuracy: 0.7283 - val_precision_1: 0.5858 - val_recall_1: 0.7825\n",
      "Epoch 89/100\n",
      "88/88 [==============================] - 0s 2ms/step - loss: 0.4672 - accuracy: 0.7481 - precision_1: 0.6020 - recall_1: 0.7893 - val_loss: 0.5035 - val_accuracy: 0.7267 - val_precision_1: 0.5872 - val_recall_1: 0.7565\n",
      "Epoch 90/100\n",
      "88/88 [==============================] - 0s 2ms/step - loss: 0.4580 - accuracy: 0.7548 - precision_1: 0.6034 - recall_1: 0.7653 - val_loss: 0.5067 - val_accuracy: 0.7292 - val_precision_1: 0.5872 - val_recall_1: 0.7801\n",
      "Epoch 91/100\n",
      "88/88 [==============================] - 0s 2ms/step - loss: 0.4445 - accuracy: 0.7703 - precision_1: 0.6178 - recall_1: 0.7984 - val_loss: 0.5062 - val_accuracy: 0.7308 - val_precision_1: 0.5865 - val_recall_1: 0.8014\n",
      "Epoch 92/100\n",
      "88/88 [==============================] - 0s 2ms/step - loss: 0.4651 - accuracy: 0.7537 - precision_1: 0.6071 - recall_1: 0.7936 - val_loss: 0.5059 - val_accuracy: 0.7242 - val_precision_1: 0.5852 - val_recall_1: 0.7470\n",
      "Epoch 93/100\n",
      "88/88 [==============================] - 0s 2ms/step - loss: 0.4635 - accuracy: 0.7439 - precision_1: 0.5866 - recall_1: 0.7644 - val_loss: 0.5079 - val_accuracy: 0.7233 - val_precision_1: 0.5805 - val_recall_1: 0.7754\n",
      "Epoch 94/100\n",
      "88/88 [==============================] - 0s 2ms/step - loss: 0.4544 - accuracy: 0.7654 - precision_1: 0.6356 - recall_1: 0.8213 - val_loss: 0.5081 - val_accuracy: 0.7217 - val_precision_1: 0.5854 - val_recall_1: 0.7210\n",
      "Epoch 95/100\n",
      "88/88 [==============================] - 0s 2ms/step - loss: 0.4649 - accuracy: 0.7518 - precision_1: 0.6184 - recall_1: 0.7582 - val_loss: 0.5039 - val_accuracy: 0.7233 - val_precision_1: 0.5867 - val_recall_1: 0.7281\n",
      "Epoch 96/100\n",
      "88/88 [==============================] - 0s 2ms/step - loss: 0.4471 - accuracy: 0.7574 - precision_1: 0.6220 - recall_1: 0.7785 - val_loss: 0.5043 - val_accuracy: 0.7217 - val_precision_1: 0.5848 - val_recall_1: 0.7258\n",
      "Epoch 97/100\n",
      "88/88 [==============================] - 0s 2ms/step - loss: 0.4663 - accuracy: 0.7441 - precision_1: 0.5971 - recall_1: 0.7672 - val_loss: 0.5038 - val_accuracy: 0.7242 - val_precision_1: 0.5833 - val_recall_1: 0.7612\n",
      "Epoch 98/100\n",
      "88/88 [==============================] - 0s 3ms/step - loss: 0.4618 - accuracy: 0.7598 - precision_1: 0.6023 - recall_1: 0.7828 - val_loss: 0.5049 - val_accuracy: 0.7250 - val_precision_1: 0.5844 - val_recall_1: 0.7612\n",
      "Epoch 99/100\n",
      "88/88 [==============================] - 0s 2ms/step - loss: 0.4672 - accuracy: 0.7565 - precision_1: 0.6024 - recall_1: 0.8007 - val_loss: 0.5071 - val_accuracy: 0.7258 - val_precision_1: 0.5861 - val_recall_1: 0.7565\n",
      "Epoch 100/100\n",
      "88/88 [==============================] - 0s 3ms/step - loss: 0.4445 - accuracy: 0.7738 - precision_1: 0.6253 - recall_1: 0.8202 - val_loss: 0.5034 - val_accuracy: 0.7308 - val_precision_1: 0.5903 - val_recall_1: 0.7730\n"
     ]
    }
   ],
   "source": [
    "history2_1=model2_1.fit(X_trainf,Y_trainf,epochs=100,validation_data=(X_testf,Y_testf))"
   ]
  },
  {
   "cell_type": "code",
   "execution_count": 46,
   "id": "394ee73b",
   "metadata": {
    "execution": {
     "iopub.execute_input": "2021-09-17T04:40:44.808339Z",
     "iopub.status.busy": "2021-09-17T04:40:44.807606Z",
     "iopub.status.idle": "2021-09-17T04:40:46.002125Z",
     "shell.execute_reply": "2021-09-17T04:40:46.002580Z",
     "shell.execute_reply.started": "2021-09-17T04:37:06.047324Z"
    },
    "papermill": {
     "duration": 1.591902,
     "end_time": "2021-09-17T04:40:46.002760",
     "exception": false,
     "start_time": "2021-09-17T04:40:44.410858",
     "status": "completed"
    },
    "tags": []
   },
   "outputs": [
    {
     "data": {
      "text/plain": [
       "<Figure size 432x288 with 0 Axes>"
      ]
     },
     "execution_count": 46,
     "metadata": {},
     "output_type": "execute_result"
    },
    {
     "data": {
      "image/png": "[encoded data removed]",
      "text/plain": [
       "<Figure size 432x288 with 1 Axes>"
      ]
     },
     "metadata": {
      "needs_background": "light"
     },
     "output_type": "display_data"
    },
    {
     "data": {
      "image/png": "[encoded data removed]",
      "text/plain": [
       "<Figure size 432x288 with 1 Axes>"
      ]
     },
     "metadata": {
      "needs_background": "light"
     },
     "output_type": "display_data"
    },
    {
     "data": {
      "image/png": "[encoded data removed]",
      "text/plain": [
       "<Figure size 432x288 with 1 Axes>"
      ]
     },
     "metadata": {
      "needs_background": "light"
     },
     "output_type": "display_data"
    },
    {
     "data": {
      "image/png": "[encoded data removed]",
      "text/plain": [
       "<Figure size 432x288 with 1 Axes>"
      ]
     },
     "metadata": {
      "needs_background": "light"
     },
     "output_type": "display_data"
    },
    {
     "data": {
      "text/plain": [
       "<Figure size 432x288 with 0 Axes>"
      ]
     },
     "metadata": {},
     "output_type": "display_data"
    }
   ],
   "source": [
    "%matplotlib inline\n",
    "\n",
    "import matplotlib.image  as mpimg\n",
    "import matplotlib.pyplot as plt\n",
    "\n",
    "loss=history2_1.history['loss']\n",
    "val_loss=history2_1.history['val_loss']\n",
    "acc=history2_1.history['accuracy']\n",
    "val_acc=history2_1.history['val_accuracy']\n",
    "prec=history2_1.history['precision_1']\n",
    "val_prec=history2_1.history['val_precision_1']\n",
    "rec=history2_1.history['recall_1']\n",
    "val_rec=history2_1.history['val_recall_1']\n",
    "\n",
    "epochs=range(len(acc))\n",
    "\n",
    "plt.plot(epochs, loss, 'r', label = 'Training loss')\n",
    "plt.plot(epochs, val_loss, 'b', label ='Validation loss')\n",
    "plt.title('Training and validation loss')\n",
    "plt.legend()\n",
    "plt.figure()\n",
    "\n",
    "plt.plot(epochs, acc, 'r', label = 'Training Accuracy')\n",
    "plt.plot(epochs, val_acc, 'b', label ='Validation Accuracy')\n",
    "plt.title('Training and validation Accuracy')\n",
    "plt.legend()\n",
    "plt.figure()\n",
    "\n",
    "plt.plot(epochs, prec, 'r', label = 'Training Precision')\n",
    "plt.plot(epochs, val_prec, 'b', label ='Validation Precision')\n",
    "plt.title('Training and validation Precision')\n",
    "plt.legend()\n",
    "plt.figure()\n",
    "\n",
    "plt.plot(epochs, rec, 'r', label = 'Training Recall')\n",
    "plt.plot(epochs, val_rec, 'b', label ='Validation Recall')\n",
    "plt.title('Training and validation Recall')\n",
    "plt.legend()\n",
    "plt.figure()"
   ]
  },
  {
   "cell_type": "code",
   "execution_count": 47,
   "id": "0ad1a720",
   "metadata": {
    "execution": {
     "iopub.execute_input": "2021-09-17T04:40:46.774374Z",
     "iopub.status.busy": "2021-09-17T04:40:46.773293Z",
     "iopub.status.idle": "2021-09-17T04:40:46.871520Z",
     "shell.execute_reply": "2021-09-17T04:40:46.872638Z",
     "shell.execute_reply.started": "2021-09-17T04:37:07.272716Z"
    },
    "papermill": {
     "duration": 0.486577,
     "end_time": "2021-09-17T04:40:46.872836",
     "exception": false,
     "start_time": "2021-09-17T04:40:46.386259",
     "status": "completed"
    },
    "tags": []
   },
   "outputs": [
    {
     "name": "stdout",
     "output_type": "stream",
     "text": [
      "38/38 [==============================] - 0s 1ms/step - loss: 0.5034 - accuracy: 0.7308 - precision_1: 0.5903 - recall_1: 0.7730\n",
      "loss :  0.5034288763999939\n",
      "accuracy :  0.7308333516120911\n",
      "precision_1 :  0.590252697467804\n",
      "recall_1 :  0.7730496525764465\n",
      "\n"
     ]
    }
   ],
   "source": [
    "test2_1_eval=model2_1.evaluate(X_testf, Y_testf)\n",
    "for name, value in zip(model2_1.metrics_names, test2_1_eval):\n",
    "  print(name, ': ', value)\n",
    "print()"
   ]
  },
  {
   "cell_type": "code",
   "execution_count": 48,
   "id": "6528c738",
   "metadata": {
    "execution": {
     "iopub.execute_input": "2021-09-17T04:40:47.649428Z",
     "iopub.status.busy": "2021-09-17T04:40:47.648374Z",
     "iopub.status.idle": "2021-09-17T04:40:47.746247Z",
     "shell.execute_reply": "2021-09-17T04:40:47.745529Z",
     "shell.execute_reply.started": "2021-09-17T04:37:07.374163Z"
    },
    "papermill": {
     "duration": 0.488237,
     "end_time": "2021-09-17T04:40:47.746409",
     "exception": false,
     "start_time": "2021-09-17T04:40:47.258172",
     "status": "completed"
    },
    "tags": []
   },
   "outputs": [],
   "source": [
    "Y_predf=model2_1.predict(X_testf)"
   ]
  },
  {
   "cell_type": "code",
   "execution_count": 49,
   "id": "976e7e19",
   "metadata": {
    "execution": {
     "iopub.execute_input": "2021-09-17T04:40:48.521959Z",
     "iopub.status.busy": "2021-09-17T04:40:48.521136Z",
     "iopub.status.idle": "2021-09-17T04:40:48.524956Z",
     "shell.execute_reply": "2021-09-17T04:40:48.524448Z",
     "shell.execute_reply.started": "2021-09-17T04:37:07.475183Z"
    },
    "papermill": {
     "duration": 0.393745,
     "end_time": "2021-09-17T04:40:48.525101",
     "exception": false,
     "start_time": "2021-09-17T04:40:48.131356",
     "status": "completed"
    },
    "tags": []
   },
   "outputs": [
    {
     "data": {
      "text/plain": [
       "array([[0.58903646],\n",
       "       [0.6245886 ],\n",
       "       [0.09477866],\n",
       "       ...,\n",
       "       [0.58040947],\n",
       "       [0.04487476],\n",
       "       [0.05769083]], dtype=float32)"
      ]
     },
     "execution_count": 49,
     "metadata": {},
     "output_type": "execute_result"
    }
   ],
   "source": [
    "Y_predf"
   ]
  },
  {
   "cell_type": "code",
   "execution_count": 50,
   "id": "b12fadfd",
   "metadata": {
    "execution": {
     "iopub.execute_input": "2021-09-17T04:40:49.303504Z",
     "iopub.status.busy": "2021-09-17T04:40:49.302604Z",
     "iopub.status.idle": "2021-09-17T04:40:49.307981Z",
     "shell.execute_reply": "2021-09-17T04:40:49.307420Z",
     "shell.execute_reply.started": "2021-09-17T04:37:07.484506Z"
    },
    "papermill": {
     "duration": 0.401144,
     "end_time": "2021-09-17T04:40:49.308124",
     "exception": false,
     "start_time": "2021-09-17T04:40:48.906980",
     "status": "completed"
    },
    "tags": []
   },
   "outputs": [
    {
     "data": {
      "text/plain": [
       "array([[1.],\n",
       "       [1.],\n",
       "       [0.],\n",
       "       ...,\n",
       "       [1.],\n",
       "       [0.],\n",
       "       [0.]])"
      ]
     },
     "execution_count": 50,
     "metadata": {},
     "output_type": "execute_result"
    }
   ],
   "source": [
    "y_predf=np.zeros(Y_predf.shape)\n",
    "y_predf[Y_predf>0.5]=1\n",
    "y_predf=np.array(y_predf)\n",
    "y_predf"
   ]
  },
  {
   "cell_type": "code",
   "execution_count": 51,
   "id": "5532dd65",
   "metadata": {
    "execution": {
     "iopub.execute_input": "2021-09-17T04:40:50.092111Z",
     "iopub.status.busy": "2021-09-17T04:40:50.090985Z",
     "iopub.status.idle": "2021-09-17T04:40:50.104063Z",
     "shell.execute_reply": "2021-09-17T04:40:50.103052Z",
     "shell.execute_reply.started": "2021-09-17T04:37:07.496636Z"
    },
    "papermill": {
     "duration": 0.405957,
     "end_time": "2021-09-17T04:40:50.104269",
     "exception": false,
     "start_time": "2021-09-17T04:40:49.698312",
     "status": "completed"
    },
    "tags": []
   },
   "outputs": [
    {
     "name": "stdout",
     "output_type": "stream",
     "text": [
      "              precision    recall  f1-score   support\n",
      "\n",
      "           0       0.85      0.71      0.77       777\n",
      "           1       0.59      0.77      0.67       423\n",
      "\n",
      "    accuracy                           0.73      1200\n",
      "   macro avg       0.72      0.74      0.72      1200\n",
      "weighted avg       0.76      0.73      0.74      1200\n",
      "\n"
     ]
    }
   ],
   "source": [
    "print(classification_report(Y_testf,y_predf))"
   ]
  },
  {
   "cell_type": "code",
   "execution_count": 52,
   "id": "ae77fd19",
   "metadata": {
    "execution": {
     "iopub.execute_input": "2021-09-17T04:40:50.891198Z",
     "iopub.status.busy": "2021-09-17T04:40:50.888715Z",
     "iopub.status.idle": "2021-09-17T04:40:50.894532Z",
     "shell.execute_reply": "2021-09-17T04:40:50.893833Z",
     "shell.execute_reply.started": "2021-09-17T04:37:07.514584Z"
    },
    "papermill": {
     "duration": 0.402509,
     "end_time": "2021-09-17T04:40:50.894678",
     "exception": false,
     "start_time": "2021-09-17T04:40:50.492169",
     "status": "completed"
    },
    "tags": []
   },
   "outputs": [],
   "source": [
    "prediksi=pd.DataFrame(y_predf)\n",
    "prediksi.rename(columns={0:'y'}, inplace=True)\n",
    "prediksi=prediksi.astype(int)\n",
    "prediksi.to_csv('Hasil Prediksi MLP 2 Klasifikasi Biner.csv',index=False)"
   ]
  },
  {
   "cell_type": "code",
   "execution_count": 53,
   "id": "b483de0d",
   "metadata": {
    "execution": {
     "iopub.execute_input": "2021-09-17T04:40:51.687572Z",
     "iopub.status.busy": "2021-09-17T04:40:51.680565Z",
     "iopub.status.idle": "2021-09-17T04:40:51.698049Z",
     "shell.execute_reply": "2021-09-17T04:40:51.698545Z",
     "shell.execute_reply.started": "2021-09-17T04:37:07.525711Z"
    },
    "papermill": {
     "duration": 0.41324,
     "end_time": "2021-09-17T04:40:51.698733",
     "exception": false,
     "start_time": "2021-09-17T04:40:51.285493",
     "status": "completed"
    },
    "tags": []
   },
   "outputs": [],
   "source": [
    "#Simpan model\n",
    "model2_1.save(\"MLP 2 Klasifikasi Biner.h5\")"
   ]
  },
  {
   "cell_type": "code",
   "execution_count": 54,
   "id": "b2e9a465",
   "metadata": {
    "execution": {
     "iopub.execute_input": "2021-09-17T04:40:52.476199Z",
     "iopub.status.busy": "2021-09-17T04:40:52.475487Z",
     "iopub.status.idle": "2021-09-17T04:40:52.617398Z",
     "shell.execute_reply": "2021-09-17T04:40:52.617954Z",
     "shell.execute_reply.started": "2021-09-17T04:37:07.553556Z"
    },
    "papermill": {
     "duration": 0.530469,
     "end_time": "2021-09-17T04:40:52.618163",
     "exception": false,
     "start_time": "2021-09-17T04:40:52.087694",
     "status": "completed"
    },
    "tags": []
   },
   "outputs": [],
   "source": [
    "#Memuat (load) model \n",
    "model2_1=load_model(\"MLP 2 Klasifikasi Biner.h5\")\n",
    "Y_predf=model2.predict(X_testf)"
   ]
  },
  {
   "cell_type": "markdown",
   "id": "48f5c81a",
   "metadata": {
    "papermill": {
     "duration": 0.384603,
     "end_time": "2021-09-17T04:40:53.396811",
     "exception": false,
     "start_time": "2021-09-17T04:40:53.012208",
     "status": "completed"
    },
    "tags": []
   },
   "source": [
    "## Klasifikasi *Multiclass*"
   ]
  },
  {
   "cell_type": "code",
   "execution_count": 55,
   "id": "e2ae7606",
   "metadata": {
    "execution": {
     "iopub.execute_input": "2021-09-17T04:40:54.177986Z",
     "iopub.status.busy": "2021-09-17T04:40:54.177304Z",
     "iopub.status.idle": "2021-09-17T04:40:54.218268Z",
     "shell.execute_reply": "2021-09-17T04:40:54.218807Z",
     "shell.execute_reply.started": "2021-09-17T04:37:07.691939Z"
    },
    "papermill": {
     "duration": 0.43322,
     "end_time": "2021-09-17T04:40:54.219003",
     "exception": false,
     "start_time": "2021-09-17T04:40:53.785783",
     "status": "completed"
    },
    "tags": []
   },
   "outputs": [],
   "source": [
    "#Model MLP Klasifikasi Multiclass\n",
    "inputs=Input(shape=X_trainc.shape[1:])\n",
    "layers=Dense(50,activation='relu')(inputs)\n",
    "layers=Dense(25,activation='relu')(layers)\n",
    "output=Dense(4,activation='softmax')(layers)\n",
    "model3=Model(inputs=[inputs],outputs=[output])\n",
    "\n",
    "model3.compile(loss=\"sparse_categorical_crossentropy\", optimizer=Adam(learning_rate=1e-3), \n",
    "              metrics=[\"accuracy\"])"
   ]
  },
  {
   "cell_type": "code",
   "execution_count": 56,
   "id": "f8d7951e",
   "metadata": {
    "execution": {
     "iopub.execute_input": "2021-09-17T04:40:55.062450Z",
     "iopub.status.busy": "2021-09-17T04:40:55.061723Z",
     "iopub.status.idle": "2021-09-17T04:40:55.071646Z",
     "shell.execute_reply": "2021-09-17T04:40:55.072275Z",
     "shell.execute_reply.started": "2021-09-17T04:37:07.733066Z"
    },
    "papermill": {
     "duration": 0.472083,
     "end_time": "2021-09-17T04:40:55.072470",
     "exception": false,
     "start_time": "2021-09-17T04:40:54.600387",
     "status": "completed"
    },
    "tags": []
   },
   "outputs": [
    {
     "name": "stdout",
     "output_type": "stream",
     "text": [
      "Model: \"model_3\"\n",
      "_________________________________________________________________\n",
      "Layer (type)                 Output Shape              Param #   \n",
      "=================================================================\n",
      "input_4 (InputLayer)         [(None, 17)]              0         \n",
      "_________________________________________________________________\n",
      "dense_9 (Dense)              (None, 50)                900       \n",
      "_________________________________________________________________\n",
      "dense_10 (Dense)             (None, 25)                1275      \n",
      "_________________________________________________________________\n",
      "dense_11 (Dense)             (None, 4)                 104       \n",
      "=================================================================\n",
      "Total params: 2,279\n",
      "Trainable params: 2,279\n",
      "Non-trainable params: 0\n",
      "_________________________________________________________________\n"
     ]
    }
   ],
   "source": [
    "model3.summary()"
   ]
  },
  {
   "cell_type": "code",
   "execution_count": 57,
   "id": "aba398f7",
   "metadata": {
    "execution": {
     "iopub.execute_input": "2021-09-17T04:40:55.844803Z",
     "iopub.status.busy": "2021-09-17T04:40:55.844122Z",
     "iopub.status.idle": "2021-09-17T04:40:55.956921Z",
     "shell.execute_reply": "2021-09-17T04:40:55.957469Z",
     "shell.execute_reply.started": "2021-09-17T04:37:07.742816Z"
    },
    "papermill": {
     "duration": 0.500088,
     "end_time": "2021-09-17T04:40:55.957648",
     "exception": false,
     "start_time": "2021-09-17T04:40:55.457560",
     "status": "completed"
    },
    "tags": []
   },
   "outputs": [
    {
     "data": {
      "image/png": "[encoded data removed]",
      "text/plain": [
       "<IPython.core.display.Image object>"
      ]
     },
     "execution_count": 57,
     "metadata": {},
     "output_type": "execute_result"
    }
   ],
   "source": [
    "plot_model(model3, \"Model MLP Klasifikasi Multiclass.png\", show_shapes=True)"
   ]
  },
  {
   "cell_type": "code",
   "execution_count": 58,
   "id": "4c340ebc",
   "metadata": {
    "execution": {
     "iopub.execute_input": "2021-09-17T04:40:56.738806Z",
     "iopub.status.busy": "2021-09-17T04:40:56.738121Z",
     "iopub.status.idle": "2021-09-17T04:41:42.724111Z",
     "shell.execute_reply": "2021-09-17T04:41:42.724657Z",
     "shell.execute_reply.started": "2021-09-17T04:37:07.858574Z"
    },
    "papermill": {
     "duration": 46.380591,
     "end_time": "2021-09-17T04:41:42.724841",
     "exception": false,
     "start_time": "2021-09-17T04:40:56.344250",
     "status": "completed"
    },
    "tags": []
   },
   "outputs": [
    {
     "name": "stdout",
     "output_type": "stream",
     "text": [
      "Epoch 1/100\n",
      "253/253 [==============================] - 1s 2ms/step - loss: 1.2578 - accuracy: 0.4289 - val_loss: 1.5393 - val_accuracy: 0.3281\n",
      "Epoch 2/100\n",
      "253/253 [==============================] - 0s 2ms/step - loss: 1.1060 - accuracy: 0.5134 - val_loss: 1.5592 - val_accuracy: 0.3285\n",
      "Epoch 3/100\n",
      "253/253 [==============================] - 0s 2ms/step - loss: 1.0800 - accuracy: 0.5272 - val_loss: 1.5453 - val_accuracy: 0.3441\n",
      "Epoch 4/100\n",
      "253/253 [==============================] - 0s 2ms/step - loss: 1.0706 - accuracy: 0.5351 - val_loss: 1.5923 - val_accuracy: 0.3342\n",
      "Epoch 5/100\n",
      "253/253 [==============================] - 0s 2ms/step - loss: 1.0696 - accuracy: 0.5394 - val_loss: 1.5788 - val_accuracy: 0.3338\n",
      "Epoch 6/100\n",
      "253/253 [==============================] - 0s 2ms/step - loss: 1.0545 - accuracy: 0.5384 - val_loss: 1.5858 - val_accuracy: 0.3232\n",
      "Epoch 7/100\n",
      "253/253 [==============================] - 0s 2ms/step - loss: 1.0553 - accuracy: 0.5441 - val_loss: 1.5832 - val_accuracy: 0.3331\n",
      "Epoch 8/100\n",
      "253/253 [==============================] - 0s 2ms/step - loss: 1.0515 - accuracy: 0.5458 - val_loss: 1.5858 - val_accuracy: 0.3392\n",
      "Epoch 9/100\n",
      "253/253 [==============================] - 0s 2ms/step - loss: 1.0360 - accuracy: 0.5491 - val_loss: 1.5997 - val_accuracy: 0.3338\n",
      "Epoch 10/100\n",
      "253/253 [==============================] - 0s 2ms/step - loss: 1.0360 - accuracy: 0.5593 - val_loss: 1.6245 - val_accuracy: 0.3300\n",
      "Epoch 11/100\n",
      "253/253 [==============================] - 0s 2ms/step - loss: 1.0278 - accuracy: 0.5494 - val_loss: 1.6090 - val_accuracy: 0.3331\n",
      "Epoch 12/100\n",
      "253/253 [==============================] - 0s 2ms/step - loss: 1.0371 - accuracy: 0.5503 - val_loss: 1.6448 - val_accuracy: 0.3354\n",
      "Epoch 13/100\n",
      "253/253 [==============================] - 0s 2ms/step - loss: 1.0376 - accuracy: 0.5495 - val_loss: 1.6373 - val_accuracy: 0.3319\n",
      "Epoch 14/100\n",
      "253/253 [==============================] - 0s 2ms/step - loss: 1.0276 - accuracy: 0.5529 - val_loss: 1.6213 - val_accuracy: 0.3369\n",
      "Epoch 15/100\n",
      "253/253 [==============================] - 0s 2ms/step - loss: 1.0250 - accuracy: 0.5564 - val_loss: 1.6686 - val_accuracy: 0.3331\n",
      "Epoch 16/100\n",
      "253/253 [==============================] - 0s 2ms/step - loss: 1.0130 - accuracy: 0.5723 - val_loss: 1.6414 - val_accuracy: 0.3342\n",
      "Epoch 17/100\n",
      "253/253 [==============================] - 0s 2ms/step - loss: 1.0101 - accuracy: 0.5630 - val_loss: 1.6244 - val_accuracy: 0.3418\n",
      "Epoch 18/100\n",
      "253/253 [==============================] - 0s 2ms/step - loss: 1.0104 - accuracy: 0.5597 - val_loss: 1.6565 - val_accuracy: 0.3293\n",
      "Epoch 19/100\n",
      "253/253 [==============================] - 0s 2ms/step - loss: 1.0019 - accuracy: 0.5656 - val_loss: 1.6158 - val_accuracy: 0.3392\n",
      "Epoch 20/100\n",
      "253/253 [==============================] - 0s 2ms/step - loss: 1.0161 - accuracy: 0.5611 - val_loss: 1.6875 - val_accuracy: 0.3304\n",
      "Epoch 21/100\n",
      "253/253 [==============================] - 0s 2ms/step - loss: 0.9959 - accuracy: 0.5661 - val_loss: 1.6861 - val_accuracy: 0.3270\n",
      "Epoch 22/100\n",
      "253/253 [==============================] - 0s 2ms/step - loss: 1.0000 - accuracy: 0.5639 - val_loss: 1.6542 - val_accuracy: 0.3236\n",
      "Epoch 23/100\n",
      "253/253 [==============================] - 0s 2ms/step - loss: 1.0120 - accuracy: 0.5620 - val_loss: 1.6866 - val_accuracy: 0.3331\n",
      "Epoch 24/100\n",
      "253/253 [==============================] - 0s 2ms/step - loss: 1.0012 - accuracy: 0.5689 - val_loss: 1.6808 - val_accuracy: 0.3354\n",
      "Epoch 25/100\n",
      "253/253 [==============================] - 1s 2ms/step - loss: 1.0058 - accuracy: 0.5577 - val_loss: 1.6844 - val_accuracy: 0.3350\n",
      "Epoch 26/100\n",
      "253/253 [==============================] - 0s 2ms/step - loss: 1.0011 - accuracy: 0.5632 - val_loss: 1.7025 - val_accuracy: 0.3430\n",
      "Epoch 27/100\n",
      "253/253 [==============================] - 0s 2ms/step - loss: 0.9900 - accuracy: 0.5679 - val_loss: 1.7143 - val_accuracy: 0.3179\n",
      "Epoch 28/100\n",
      "253/253 [==============================] - 0s 2ms/step - loss: 0.9977 - accuracy: 0.5625 - val_loss: 1.7183 - val_accuracy: 0.3258\n",
      "Epoch 29/100\n",
      "253/253 [==============================] - 0s 2ms/step - loss: 0.9976 - accuracy: 0.5653 - val_loss: 1.7164 - val_accuracy: 0.3262\n",
      "Epoch 30/100\n",
      "253/253 [==============================] - 0s 2ms/step - loss: 0.9872 - accuracy: 0.5709 - val_loss: 1.7351 - val_accuracy: 0.3297\n",
      "Epoch 31/100\n",
      "253/253 [==============================] - 0s 2ms/step - loss: 0.9891 - accuracy: 0.5671 - val_loss: 1.7191 - val_accuracy: 0.3285\n",
      "Epoch 32/100\n",
      "253/253 [==============================] - 0s 2ms/step - loss: 0.9827 - accuracy: 0.5690 - val_loss: 1.7098 - val_accuracy: 0.3304\n",
      "Epoch 33/100\n",
      "253/253 [==============================] - 0s 2ms/step - loss: 0.9708 - accuracy: 0.5770 - val_loss: 1.6897 - val_accuracy: 0.3373\n",
      "Epoch 34/100\n",
      "253/253 [==============================] - 0s 2ms/step - loss: 0.9908 - accuracy: 0.5704 - val_loss: 1.7117 - val_accuracy: 0.3350\n",
      "Epoch 35/100\n",
      "253/253 [==============================] - 0s 2ms/step - loss: 0.9822 - accuracy: 0.5764 - val_loss: 1.7433 - val_accuracy: 0.3270\n",
      "Epoch 36/100\n",
      "253/253 [==============================] - 0s 2ms/step - loss: 0.9843 - accuracy: 0.5716 - val_loss: 1.7387 - val_accuracy: 0.3194\n",
      "Epoch 37/100\n",
      "253/253 [==============================] - 0s 2ms/step - loss: 0.9782 - accuracy: 0.5787 - val_loss: 1.7083 - val_accuracy: 0.3323\n",
      "Epoch 38/100\n",
      "253/253 [==============================] - 0s 2ms/step - loss: 0.9622 - accuracy: 0.5919 - val_loss: 1.7123 - val_accuracy: 0.3300\n",
      "Epoch 39/100\n",
      "253/253 [==============================] - 0s 2ms/step - loss: 0.9706 - accuracy: 0.5803 - val_loss: 1.7229 - val_accuracy: 0.3304\n",
      "Epoch 40/100\n",
      "253/253 [==============================] - 0s 2ms/step - loss: 0.9750 - accuracy: 0.5753 - val_loss: 1.7672 - val_accuracy: 0.3190\n",
      "Epoch 41/100\n",
      "253/253 [==============================] - 0s 2ms/step - loss: 0.9800 - accuracy: 0.5770 - val_loss: 1.7193 - val_accuracy: 0.3319\n",
      "Epoch 42/100\n",
      "253/253 [==============================] - 0s 2ms/step - loss: 0.9687 - accuracy: 0.5812 - val_loss: 1.7181 - val_accuracy: 0.3357\n",
      "Epoch 43/100\n",
      "253/253 [==============================] - 0s 2ms/step - loss: 0.9719 - accuracy: 0.5797 - val_loss: 1.7638 - val_accuracy: 0.3205\n",
      "Epoch 44/100\n",
      "253/253 [==============================] - 0s 2ms/step - loss: 0.9673 - accuracy: 0.5811 - val_loss: 1.7788 - val_accuracy: 0.3228\n",
      "Epoch 45/100\n",
      "253/253 [==============================] - 0s 2ms/step - loss: 0.9637 - accuracy: 0.5799 - val_loss: 1.7246 - val_accuracy: 0.3327\n",
      "Epoch 46/100\n",
      "253/253 [==============================] - 0s 2ms/step - loss: 0.9623 - accuracy: 0.5897 - val_loss: 1.7809 - val_accuracy: 0.3270\n",
      "Epoch 47/100\n",
      "253/253 [==============================] - 0s 2ms/step - loss: 0.9802 - accuracy: 0.5683 - val_loss: 1.7842 - val_accuracy: 0.3198\n",
      "Epoch 48/100\n",
      "253/253 [==============================] - 0s 2ms/step - loss: 0.9741 - accuracy: 0.5760 - val_loss: 1.8015 - val_accuracy: 0.3342\n",
      "Epoch 49/100\n",
      "253/253 [==============================] - 0s 2ms/step - loss: 0.9557 - accuracy: 0.5800 - val_loss: 1.7320 - val_accuracy: 0.3213\n",
      "Epoch 50/100\n",
      "253/253 [==============================] - 0s 2ms/step - loss: 0.9768 - accuracy: 0.5752 - val_loss: 1.8089 - val_accuracy: 0.3266\n",
      "Epoch 51/100\n",
      "253/253 [==============================] - 0s 2ms/step - loss: 0.9772 - accuracy: 0.5736 - val_loss: 1.7285 - val_accuracy: 0.3217\n",
      "Epoch 52/100\n",
      "253/253 [==============================] - 0s 2ms/step - loss: 0.9694 - accuracy: 0.5793 - val_loss: 1.7768 - val_accuracy: 0.3270\n",
      "Epoch 53/100\n",
      "253/253 [==============================] - 0s 2ms/step - loss: 0.9522 - accuracy: 0.5826 - val_loss: 1.7765 - val_accuracy: 0.3099\n",
      "Epoch 54/100\n",
      "253/253 [==============================] - 0s 2ms/step - loss: 0.9477 - accuracy: 0.5915 - val_loss: 1.7632 - val_accuracy: 0.3274\n",
      "Epoch 55/100\n",
      "253/253 [==============================] - 0s 2ms/step - loss: 0.9630 - accuracy: 0.5803 - val_loss: 1.7935 - val_accuracy: 0.3182\n",
      "Epoch 56/100\n",
      "253/253 [==============================] - 0s 2ms/step - loss: 0.9705 - accuracy: 0.5681 - val_loss: 1.7851 - val_accuracy: 0.3198\n",
      "Epoch 57/100\n",
      "253/253 [==============================] - 0s 2ms/step - loss: 0.9664 - accuracy: 0.5763 - val_loss: 1.7801 - val_accuracy: 0.3289\n",
      "Epoch 58/100\n",
      "253/253 [==============================] - 0s 2ms/step - loss: 0.9492 - accuracy: 0.5822 - val_loss: 1.7630 - val_accuracy: 0.3289\n",
      "Epoch 59/100\n",
      "253/253 [==============================] - 0s 2ms/step - loss: 0.9703 - accuracy: 0.5774 - val_loss: 1.7990 - val_accuracy: 0.3190\n",
      "Epoch 60/100\n",
      "253/253 [==============================] - 0s 2ms/step - loss: 0.9593 - accuracy: 0.5808 - val_loss: 1.8114 - val_accuracy: 0.3201\n",
      "Epoch 61/100\n",
      "253/253 [==============================] - 0s 2ms/step - loss: 0.9601 - accuracy: 0.5804 - val_loss: 1.8132 - val_accuracy: 0.3076\n",
      "Epoch 62/100\n",
      "253/253 [==============================] - 0s 2ms/step - loss: 0.9554 - accuracy: 0.5845 - val_loss: 1.7721 - val_accuracy: 0.3186\n",
      "Epoch 63/100\n",
      "253/253 [==============================] - 0s 2ms/step - loss: 0.9480 - accuracy: 0.5891 - val_loss: 1.7692 - val_accuracy: 0.3133\n",
      "Epoch 64/100\n",
      "253/253 [==============================] - 0s 2ms/step - loss: 0.9650 - accuracy: 0.5731 - val_loss: 1.8124 - val_accuracy: 0.3198\n",
      "Epoch 65/100\n",
      "253/253 [==============================] - 0s 2ms/step - loss: 0.9670 - accuracy: 0.5721 - val_loss: 1.7846 - val_accuracy: 0.3278\n",
      "Epoch 66/100\n",
      "253/253 [==============================] - 0s 2ms/step - loss: 0.9508 - accuracy: 0.5891 - val_loss: 1.8090 - val_accuracy: 0.3140\n",
      "Epoch 67/100\n",
      "253/253 [==============================] - 0s 2ms/step - loss: 0.9616 - accuracy: 0.5753 - val_loss: 1.8178 - val_accuracy: 0.3156\n",
      "Epoch 68/100\n",
      "253/253 [==============================] - 0s 2ms/step - loss: 0.9509 - accuracy: 0.5878 - val_loss: 1.7681 - val_accuracy: 0.3232\n",
      "Epoch 69/100\n",
      "253/253 [==============================] - 0s 2ms/step - loss: 0.9609 - accuracy: 0.5753 - val_loss: 1.8408 - val_accuracy: 0.3148\n",
      "Epoch 70/100\n",
      "253/253 [==============================] - 0s 2ms/step - loss: 0.9585 - accuracy: 0.5795 - val_loss: 1.8582 - val_accuracy: 0.3194\n",
      "Epoch 71/100\n",
      "253/253 [==============================] - 0s 2ms/step - loss: 0.9523 - accuracy: 0.5833 - val_loss: 1.8480 - val_accuracy: 0.3258\n",
      "Epoch 72/100\n",
      "253/253 [==============================] - 0s 2ms/step - loss: 0.9458 - accuracy: 0.5849 - val_loss: 1.7936 - val_accuracy: 0.3251\n",
      "Epoch 73/100\n",
      "253/253 [==============================] - 0s 2ms/step - loss: 0.9526 - accuracy: 0.5840 - val_loss: 1.8052 - val_accuracy: 0.3232\n",
      "Epoch 74/100\n",
      "253/253 [==============================] - 0s 2ms/step - loss: 0.9362 - accuracy: 0.5957 - val_loss: 1.8319 - val_accuracy: 0.3102\n",
      "Epoch 75/100\n",
      "253/253 [==============================] - 0s 2ms/step - loss: 0.9413 - accuracy: 0.5861 - val_loss: 1.7939 - val_accuracy: 0.3099\n",
      "Epoch 76/100\n",
      "253/253 [==============================] - 0s 2ms/step - loss: 0.9512 - accuracy: 0.5893 - val_loss: 1.8188 - val_accuracy: 0.3072\n",
      "Epoch 77/100\n",
      "253/253 [==============================] - 0s 2ms/step - loss: 0.9511 - accuracy: 0.5819 - val_loss: 1.7978 - val_accuracy: 0.3194\n",
      "Epoch 78/100\n",
      "253/253 [==============================] - 0s 2ms/step - loss: 0.9419 - accuracy: 0.5971 - val_loss: 1.8349 - val_accuracy: 0.3171\n",
      "Epoch 79/100\n",
      "253/253 [==============================] - 0s 2ms/step - loss: 0.9440 - accuracy: 0.5861 - val_loss: 1.8019 - val_accuracy: 0.3102\n",
      "Epoch 80/100\n",
      "253/253 [==============================] - 0s 2ms/step - loss: 0.9358 - accuracy: 0.5916 - val_loss: 1.8733 - val_accuracy: 0.3137\n",
      "Epoch 81/100\n",
      "253/253 [==============================] - 0s 2ms/step - loss: 0.9413 - accuracy: 0.5861 - val_loss: 1.8203 - val_accuracy: 0.3175\n",
      "Epoch 82/100\n",
      "253/253 [==============================] - 0s 2ms/step - loss: 0.9499 - accuracy: 0.5830 - val_loss: 1.8494 - val_accuracy: 0.3148\n",
      "Epoch 83/100\n",
      "253/253 [==============================] - 0s 2ms/step - loss: 0.9373 - accuracy: 0.5895 - val_loss: 1.8557 - val_accuracy: 0.3099\n",
      "Epoch 84/100\n",
      "253/253 [==============================] - 0s 2ms/step - loss: 0.9384 - accuracy: 0.5882 - val_loss: 1.8318 - val_accuracy: 0.3110\n",
      "Epoch 85/100\n",
      "253/253 [==============================] - 0s 2ms/step - loss: 0.9471 - accuracy: 0.5859 - val_loss: 1.8349 - val_accuracy: 0.3236\n",
      "Epoch 86/100\n",
      "253/253 [==============================] - 0s 2ms/step - loss: 0.9429 - accuracy: 0.5830 - val_loss: 1.8223 - val_accuracy: 0.3121\n",
      "Epoch 87/100\n",
      "253/253 [==============================] - 0s 2ms/step - loss: 0.9418 - accuracy: 0.5841 - val_loss: 1.8737 - val_accuracy: 0.3144\n",
      "Epoch 88/100\n",
      "253/253 [==============================] - 0s 2ms/step - loss: 0.9238 - accuracy: 0.5953 - val_loss: 1.8457 - val_accuracy: 0.3232\n",
      "Epoch 89/100\n",
      "253/253 [==============================] - 0s 2ms/step - loss: 0.9377 - accuracy: 0.5871 - val_loss: 1.8460 - val_accuracy: 0.3110\n",
      "Epoch 90/100\n",
      "253/253 [==============================] - 0s 2ms/step - loss: 0.9324 - accuracy: 0.5938 - val_loss: 1.8330 - val_accuracy: 0.3194\n",
      "Epoch 91/100\n",
      "253/253 [==============================] - 0s 2ms/step - loss: 0.9452 - accuracy: 0.5929 - val_loss: 1.8401 - val_accuracy: 0.3076\n",
      "Epoch 92/100\n",
      "253/253 [==============================] - 0s 2ms/step - loss: 0.9352 - accuracy: 0.5893 - val_loss: 1.8522 - val_accuracy: 0.3061\n",
      "Epoch 93/100\n",
      "253/253 [==============================] - 0s 2ms/step - loss: 0.9386 - accuracy: 0.5876 - val_loss: 1.8708 - val_accuracy: 0.3080\n",
      "Epoch 94/100\n",
      "253/253 [==============================] - 0s 2ms/step - loss: 0.9204 - accuracy: 0.5954 - val_loss: 1.8539 - val_accuracy: 0.3102\n",
      "Epoch 95/100\n",
      "253/253 [==============================] - 0s 2ms/step - loss: 0.9341 - accuracy: 0.5924 - val_loss: 1.8732 - val_accuracy: 0.3140\n",
      "Epoch 96/100\n",
      "253/253 [==============================] - 0s 2ms/step - loss: 0.9361 - accuracy: 0.5892 - val_loss: 1.8155 - val_accuracy: 0.3289\n",
      "Epoch 97/100\n",
      "253/253 [==============================] - 0s 2ms/step - loss: 0.9288 - accuracy: 0.5925 - val_loss: 1.9501 - val_accuracy: 0.3137\n",
      "Epoch 98/100\n",
      "253/253 [==============================] - 0s 2ms/step - loss: 0.9376 - accuracy: 0.5884 - val_loss: 1.8880 - val_accuracy: 0.3110\n",
      "Epoch 99/100\n",
      "253/253 [==============================] - 0s 2ms/step - loss: 0.9292 - accuracy: 0.5997 - val_loss: 1.8656 - val_accuracy: 0.3121\n",
      "Epoch 100/100\n",
      "253/253 [==============================] - 0s 2ms/step - loss: 0.9365 - accuracy: 0.5899 - val_loss: 1.8622 - val_accuracy: 0.3163\n"
     ]
    }
   ],
   "source": [
    "history3=model3.fit(X_trainc,Y_trainc,epochs=100,validation_data=(X_testc,Y_testc))"
   ]
  },
  {
   "cell_type": "code",
   "execution_count": 59,
   "id": "5790e06b",
   "metadata": {
    "execution": {
     "iopub.execute_input": "2021-09-17T04:41:44.028157Z",
     "iopub.status.busy": "2021-09-17T04:41:44.005918Z",
     "iopub.status.idle": "2021-09-17T04:41:44.470284Z",
     "shell.execute_reply": "2021-09-17T04:41:44.469623Z",
     "shell.execute_reply.started": "2021-09-17T04:37:50.265691Z"
    },
    "papermill": {
     "duration": 1.107241,
     "end_time": "2021-09-17T04:41:44.470434",
     "exception": false,
     "start_time": "2021-09-17T04:41:43.363193",
     "status": "completed"
    },
    "tags": []
   },
   "outputs": [
    {
     "data": {
      "text/plain": [
       "<Figure size 432x288 with 0 Axes>"
      ]
     },
     "execution_count": 59,
     "metadata": {},
     "output_type": "execute_result"
    },
    {
     "data": {
      "image/png": "[encoded data removed]",
      "text/plain": [
       "<Figure size 432x288 with 1 Axes>"
      ]
     },
     "metadata": {
      "needs_background": "light"
     },
     "output_type": "display_data"
    },
    {
     "data": {
      "image/png": "[encoded data removed]",
      "text/plain": [
       "<Figure size 432x288 with 1 Axes>"
      ]
     },
     "metadata": {
      "needs_background": "light"
     },
     "output_type": "display_data"
    },
    {
     "data": {
      "text/plain": [
       "<Figure size 432x288 with 0 Axes>"
      ]
     },
     "metadata": {},
     "output_type": "display_data"
    }
   ],
   "source": [
    "loss=history3.history['loss']\n",
    "val_loss=history3.history['val_loss']\n",
    "acc=history3.history['accuracy']\n",
    "val_acc=history3.history['val_accuracy']\n",
    "\n",
    "epochs=range(len(acc))\n",
    "\n",
    "plt.plot(epochs, loss, 'r', label = 'Training loss')\n",
    "plt.plot(epochs, val_loss, 'b', label ='Validation loss')\n",
    "plt.title('Training and validation loss')\n",
    "plt.legend()\n",
    "plt.figure()\n",
    "\n",
    "plt.plot(epochs, acc, 'r', label = 'Training Accuracy')\n",
    "plt.plot(epochs, val_acc, 'b', label ='Validation Accuracy')\n",
    "plt.title('Training and validation Accuracy')\n",
    "plt.legend()\n",
    "plt.figure()"
   ]
  },
  {
   "cell_type": "code",
   "execution_count": 60,
   "id": "b7e91a46",
   "metadata": {
    "execution": {
     "iopub.execute_input": "2021-09-17T04:41:45.769259Z",
     "iopub.status.busy": "2021-09-17T04:41:45.768554Z",
     "iopub.status.idle": "2021-09-17T04:41:45.900855Z",
     "shell.execute_reply": "2021-09-17T04:41:45.900293Z",
     "shell.execute_reply.started": "2021-09-17T04:37:50.714521Z"
    },
    "papermill": {
     "duration": 0.788556,
     "end_time": "2021-09-17T04:41:45.901034",
     "exception": false,
     "start_time": "2021-09-17T04:41:45.112478",
     "status": "completed"
    },
    "tags": []
   },
   "outputs": [
    {
     "name": "stdout",
     "output_type": "stream",
     "text": [
      "83/83 [==============================] - 0s 964us/step - loss: 1.8622 - accuracy: 0.3163\n",
      "loss :  1.8621686697006226\n",
      "accuracy :  0.3163304030895233\n",
      "\n"
     ]
    }
   ],
   "source": [
    "test3_eval=model3.evaluate(X_testc, Y_testc)\n",
    "for name, value in zip(model3.metrics_names, test3_eval):\n",
    "  print(name, ': ', value)\n",
    "print()"
   ]
  },
  {
   "cell_type": "code",
   "execution_count": 61,
   "id": "ab809740",
   "metadata": {
    "execution": {
     "iopub.execute_input": "2021-09-17T04:41:47.204498Z",
     "iopub.status.busy": "2021-09-17T04:41:47.203502Z",
     "iopub.status.idle": "2021-09-17T04:41:47.326411Z",
     "shell.execute_reply": "2021-09-17T04:41:47.327042Z",
     "shell.execute_reply.started": "2021-09-17T04:37:50.837813Z"
    },
    "papermill": {
     "duration": 0.775651,
     "end_time": "2021-09-17T04:41:47.327228",
     "exception": false,
     "start_time": "2021-09-17T04:41:46.551577",
     "status": "completed"
    },
    "tags": []
   },
   "outputs": [],
   "source": [
    "Y_predc=model3.predict(X_testc)"
   ]
  },
  {
   "cell_type": "code",
   "execution_count": 62,
   "id": "5c9e8a6d",
   "metadata": {
    "execution": {
     "iopub.execute_input": "2021-09-17T04:41:48.612107Z",
     "iopub.status.busy": "2021-09-17T04:41:48.611365Z",
     "iopub.status.idle": "2021-09-17T04:41:48.616351Z",
     "shell.execute_reply": "2021-09-17T04:41:48.617018Z",
     "shell.execute_reply.started": "2021-09-17T04:37:50.959274Z"
    },
    "papermill": {
     "duration": 0.647362,
     "end_time": "2021-09-17T04:41:48.617206",
     "exception": false,
     "start_time": "2021-09-17T04:41:47.969844",
     "status": "completed"
    },
    "tags": []
   },
   "outputs": [
    {
     "data": {
      "text/plain": [
       "array([[0.52577543, 0.24262348, 0.09823419, 0.13336688],\n",
       "       [0.13681896, 0.45766845, 0.224885  , 0.18062754],\n",
       "       [0.16186722, 0.3542902 , 0.45936513, 0.02447754],\n",
       "       ...,\n",
       "       [0.7286912 , 0.03846022, 0.01867679, 0.21417174],\n",
       "       [0.2616363 , 0.5299895 , 0.1988687 , 0.00950551],\n",
       "       [0.21459554, 0.02727622, 0.08170644, 0.67642176]], dtype=float32)"
      ]
     },
     "execution_count": 62,
     "metadata": {},
     "output_type": "execute_result"
    }
   ],
   "source": [
    "Y_predc"
   ]
  },
  {
   "cell_type": "code",
   "execution_count": 63,
   "id": "2fb6cffd",
   "metadata": {
    "execution": {
     "iopub.execute_input": "2021-09-17T04:41:49.909558Z",
     "iopub.status.busy": "2021-09-17T04:41:49.908457Z",
     "iopub.status.idle": "2021-09-17T04:41:49.915088Z",
     "shell.execute_reply": "2021-09-17T04:41:49.914466Z",
     "shell.execute_reply.started": "2021-09-17T04:37:50.968021Z"
    },
    "papermill": {
     "duration": 0.652146,
     "end_time": "2021-09-17T04:41:49.915247",
     "exception": false,
     "start_time": "2021-09-17T04:41:49.263101",
     "status": "completed"
    },
    "tags": []
   },
   "outputs": [],
   "source": [
    "y_predc=Y_predc.argmax(axis=1)"
   ]
  },
  {
   "cell_type": "code",
   "execution_count": 64,
   "id": "ad913e9b",
   "metadata": {
    "execution": {
     "iopub.execute_input": "2021-09-17T04:41:51.220719Z",
     "iopub.status.busy": "2021-09-17T04:41:51.219677Z",
     "iopub.status.idle": "2021-09-17T04:41:51.233044Z",
     "shell.execute_reply": "2021-09-17T04:41:51.233729Z",
     "shell.execute_reply.started": "2021-09-17T04:37:50.978226Z"
    },
    "papermill": {
     "duration": 0.663331,
     "end_time": "2021-09-17T04:41:51.234003",
     "exception": false,
     "start_time": "2021-09-17T04:41:50.570672",
     "status": "completed"
    },
    "tags": []
   },
   "outputs": [
    {
     "name": "stdout",
     "output_type": "stream",
     "text": [
      "              precision    recall  f1-score   support\n",
      "\n",
      "           0       0.35      0.26      0.30       846\n",
      "           1       0.23      0.25      0.24       550\n",
      "           2       0.24      0.30      0.27       472\n",
      "           3       0.41      0.44      0.43       759\n",
      "\n",
      "    accuracy                           0.32      2627\n",
      "   macro avg       0.31      0.31      0.31      2627\n",
      "weighted avg       0.32      0.32      0.32      2627\n",
      "\n"
     ]
    }
   ],
   "source": [
    "print(classification_report(Y_testc,y_predc))"
   ]
  },
  {
   "cell_type": "code",
   "execution_count": 65,
   "id": "9787a849",
   "metadata": {
    "execution": {
     "iopub.execute_input": "2021-09-17T04:41:52.573239Z",
     "iopub.status.busy": "2021-09-17T04:41:52.572459Z",
     "iopub.status.idle": "2021-09-17T04:41:52.590385Z",
     "shell.execute_reply": "2021-09-17T04:41:52.589719Z",
     "shell.execute_reply.started": "2021-09-17T04:37:50.998946Z"
    },
    "papermill": {
     "duration": 0.711973,
     "end_time": "2021-09-17T04:41:52.590535",
     "exception": false,
     "start_time": "2021-09-17T04:41:51.878562",
     "status": "completed"
    },
    "tags": []
   },
   "outputs": [],
   "source": [
    "#Simpan model\n",
    "model3.save(\"MLP Klasifikasi Multiclass.h5\")"
   ]
  },
  {
   "cell_type": "code",
   "execution_count": 66,
   "id": "6379e735",
   "metadata": {
    "execution": {
     "iopub.execute_input": "2021-09-17T04:41:53.874545Z",
     "iopub.status.busy": "2021-09-17T04:41:53.873826Z",
     "iopub.status.idle": "2021-09-17T04:41:54.062048Z",
     "shell.execute_reply": "2021-09-17T04:41:54.061449Z",
     "shell.execute_reply.started": "2021-09-17T04:37:51.022657Z"
    },
    "papermill": {
     "duration": 0.82662,
     "end_time": "2021-09-17T04:41:54.062213",
     "exception": false,
     "start_time": "2021-09-17T04:41:53.235593",
     "status": "completed"
    },
    "tags": []
   },
   "outputs": [],
   "source": [
    "#Memuat (load) model \n",
    "model3=load_model(\"MLP Klasifikasi Multiclass.h5\")\n",
    "Y_predc=model3.predict(X_testc)"
   ]
  }
 ],
 "metadata": {
  "kernelspec": {
   "display_name": "Python 3",
   "language": "python",
   "name": "python3"
  },
  "language_info": {
   "codemirror_mode": {
    "name": "ipython",
    "version": 3
   },
   "file_extension": ".py",
   "mimetype": "text/x-python",
   "name": "python",
   "nbconvert_exporter": "python",
   "pygments_lexer": "ipython3",
   "version": "3.7.10"
  },
  "papermill": {
   "default_parameters": {},
   "duration": 161.224291,
   "end_time": "2021-09-17T04:41:57.964972",
   "environment_variables": {},
   "exception": null,
   "input_path": "__notebook__.ipynb",
   "output_path": "__notebook__.ipynb",
   "parameters": {},
   "start_time": "2021-09-17T04:39:16.740681",
   "version": "2.3.3"
  }
 },
 "nbformat": 4,
 "nbformat_minor": 5
}
