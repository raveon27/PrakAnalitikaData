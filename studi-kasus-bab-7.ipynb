{
 "cells": [
  {
   "cell_type": "code",
   "execution_count": 1,
   "id": "907dbb6c",
   "metadata": {
    "_cell_guid": "b1076dfc-b9ad-4769-8c92-a6c4dae69d19",
    "_uuid": "8f2839f25d086af736a60e9eeb907d3b93b6e0e5",
    "execution": {
     "iopub.execute_input": "2021-10-22T09:05:28.444744Z",
     "iopub.status.busy": "2021-10-22T09:05:28.443254Z",
     "iopub.status.idle": "2021-10-22T09:05:34.339793Z",
     "shell.execute_reply": "2021-10-22T09:05:34.338539Z",
     "shell.execute_reply.started": "2021-10-13T16:04:45.74963Z"
    },
    "papermill": {
     "duration": 5.921037,
     "end_time": "2021-10-22T09:05:34.340005",
     "exception": false,
     "start_time": "2021-10-22T09:05:28.418968",
     "status": "completed"
    },
    "tags": []
   },
   "outputs": [
    {
     "name": "stderr",
     "output_type": "stream",
     "text": [
      "2021-10-22 09:05:29.960514: I tensorflow/stream_executor/platform/default/dso_loader.cc:49] Successfully opened dynamic library libcudart.so.11.0\n"
     ]
    }
   ],
   "source": [
    "import matplotlib.pyplot as plt\n",
    "import numpy as np\n",
    "import pandas as pd\n",
    "import seaborn as sns\n",
    "\n",
    "from sklearn.metrics import confusion_matrix,classification_report\n",
    "\n",
    "import tensorflow_datasets as tfds\n",
    "from tensorflow.keras.layers import Input,Dense,concatenate,Dropout,Conv1D,Bidirectional,Embedding,LSTM,SimpleRNN,GlobalAveragePooling1D\n",
    "from tensorflow.keras.models import Model,load_model\n",
    "from tensorflow.keras.optimizers import Adam\n",
    "from tensorflow.keras.utils import plot_model\n",
    "from tensorflow.keras.preprocessing.text import Tokenizer\n",
    "from tensorflow.keras.preprocessing.sequence import pad_sequences\n",
    "from tensorflow.keras.metrics import Precision, Recall"
   ]
  },
  {
   "cell_type": "code",
   "execution_count": 2,
   "id": "d08b4ff0",
   "metadata": {
    "execution": {
     "iopub.execute_input": "2021-10-22T09:05:34.394297Z",
     "iopub.status.busy": "2021-10-22T09:05:34.393358Z",
     "iopub.status.idle": "2021-10-22T09:06:32.534302Z",
     "shell.execute_reply": "2021-10-22T09:06:32.534774Z",
     "shell.execute_reply.started": "2021-10-13T15:41:21.761825Z"
    },
    "papermill": {
     "duration": 58.171183,
     "end_time": "2021-10-22T09:06:32.534996",
     "exception": false,
     "start_time": "2021-10-22T09:05:34.363813",
     "status": "completed"
    },
    "tags": []
   },
   "outputs": [
    {
     "name": "stdout",
     "output_type": "stream",
     "text": [
      "\u001b[1mDownloading and preparing dataset imdb_reviews/plain_text/1.0.0 (download: 80.23 MiB, generated: Unknown size, total: 80.23 MiB) to /root/tensorflow_datasets/imdb_reviews/plain_text/1.0.0...\u001b[0m\n"
     ]
    },
    {
     "data": {
      "application/vnd.jupyter.widget-view+json": {
       "model_id": "2fcf1f753f234c48a9901cbcacf6c4c4",
       "version_major": 2,
       "version_minor": 0
      },
      "text/plain": [
       "Dl Completed...: 0 url [00:00, ? url/s]"
      ]
     },
     "metadata": {},
     "output_type": "display_data"
    },
    {
     "data": {
      "application/vnd.jupyter.widget-view+json": {
       "model_id": "4ef35161f69f47058e3543a51643071b",
       "version_major": 2,
       "version_minor": 0
      },
      "text/plain": [
       "Dl Size...: 0 MiB [00:00, ? MiB/s]"
      ]
     },
     "metadata": {},
     "output_type": "display_data"
    },
    {
     "name": "stdout",
     "output_type": "stream",
     "text": [
      "\n",
      "\n"
     ]
    },
    {
     "data": {
      "application/vnd.jupyter.widget-view+json": {
       "model_id": "d34921c3f83c430da3b2e93dbdb229d9",
       "version_major": 2,
       "version_minor": 0
      },
      "text/plain": [
       "0 examples [00:00, ? examples/s]"
      ]
     },
     "metadata": {},
     "output_type": "display_data"
    },
    {
     "name": "stdout",
     "output_type": "stream",
     "text": [
      "Shuffling and writing examples to /root/tensorflow_datasets/imdb_reviews/plain_text/1.0.0.incompleteAOL2N5/imdb_reviews-train.tfrecord\n"
     ]
    },
    {
     "data": {
      "application/vnd.jupyter.widget-view+json": {
       "model_id": "ac44f4d59d15469eabd19ff83fed6510",
       "version_major": 2,
       "version_minor": 0
      },
      "text/plain": [
       "  0%|          | 0/25000 [00:00<?, ? examples/s]"
      ]
     },
     "metadata": {},
     "output_type": "display_data"
    },
    {
     "data": {
      "application/vnd.jupyter.widget-view+json": {
       "model_id": "b8e286c480c64340955ef6c7c3157c42",
       "version_major": 2,
       "version_minor": 0
      },
      "text/plain": [
       "0 examples [00:00, ? examples/s]"
      ]
     },
     "metadata": {},
     "output_type": "display_data"
    },
    {
     "name": "stdout",
     "output_type": "stream",
     "text": [
      "Shuffling and writing examples to /root/tensorflow_datasets/imdb_reviews/plain_text/1.0.0.incompleteAOL2N5/imdb_reviews-test.tfrecord\n"
     ]
    },
    {
     "data": {
      "application/vnd.jupyter.widget-view+json": {
       "model_id": "1d9bf8ef90e04acdae855df2661997cb",
       "version_major": 2,
       "version_minor": 0
      },
      "text/plain": [
       "  0%|          | 0/25000 [00:00<?, ? examples/s]"
      ]
     },
     "metadata": {},
     "output_type": "display_data"
    },
    {
     "data": {
      "application/vnd.jupyter.widget-view+json": {
       "model_id": "2d02b6f304b6453ea41c1d610008dfdf",
       "version_major": 2,
       "version_minor": 0
      },
      "text/plain": [
       "0 examples [00:00, ? examples/s]"
      ]
     },
     "metadata": {},
     "output_type": "display_data"
    },
    {
     "name": "stdout",
     "output_type": "stream",
     "text": [
      "Shuffling and writing examples to /root/tensorflow_datasets/imdb_reviews/plain_text/1.0.0.incompleteAOL2N5/imdb_reviews-unsupervised.tfrecord\n"
     ]
    },
    {
     "data": {
      "application/vnd.jupyter.widget-view+json": {
       "model_id": "f3dd846a8d9c4ccfb2d46d4d06a0ca88",
       "version_major": 2,
       "version_minor": 0
      },
      "text/plain": [
       "  0%|          | 0/50000 [00:00<?, ? examples/s]"
      ]
     },
     "metadata": {},
     "output_type": "display_data"
    },
    {
     "name": "stdout",
     "output_type": "stream",
     "text": [
      "\u001b[1mDataset imdb_reviews downloaded and prepared to /root/tensorflow_datasets/imdb_reviews/plain_text/1.0.0. Subsequent calls will reuse this data.\u001b[0m\n"
     ]
    },
    {
     "name": "stderr",
     "output_type": "stream",
     "text": [
      "2021-10-22 09:06:30.777172: I tensorflow/compiler/jit/xla_cpu_device.cc:41] Not creating XLA devices, tf_xla_enable_xla_devices not set\n",
      "2021-10-22 09:06:30.780723: I tensorflow/stream_executor/platform/default/dso_loader.cc:49] Successfully opened dynamic library libcuda.so.1\n",
      "2021-10-22 09:06:30.831276: I tensorflow/stream_executor/cuda/cuda_gpu_executor.cc:941] successful NUMA node read from SysFS had negative value (-1), but there must be at least one NUMA node, so returning NUMA node zero\n",
      "2021-10-22 09:06:30.831899: I tensorflow/core/common_runtime/gpu/gpu_device.cc:1720] Found device 0 with properties: \n",
      "pciBusID: 0000:00:04.0 name: Tesla P100-PCIE-16GB computeCapability: 6.0\n",
      "coreClock: 1.3285GHz coreCount: 56 deviceMemorySize: 15.90GiB deviceMemoryBandwidth: 681.88GiB/s\n",
      "2021-10-22 09:06:30.831973: I tensorflow/stream_executor/platform/default/dso_loader.cc:49] Successfully opened dynamic library libcudart.so.11.0\n",
      "2021-10-22 09:06:30.859540: I tensorflow/stream_executor/platform/default/dso_loader.cc:49] Successfully opened dynamic library libcublas.so.11\n",
      "2021-10-22 09:06:30.859651: I tensorflow/stream_executor/platform/default/dso_loader.cc:49] Successfully opened dynamic library libcublasLt.so.11\n",
      "2021-10-22 09:06:30.874762: I tensorflow/stream_executor/platform/default/dso_loader.cc:49] Successfully opened dynamic library libcufft.so.10\n",
      "2021-10-22 09:06:30.883703: I tensorflow/stream_executor/platform/default/dso_loader.cc:49] Successfully opened dynamic library libcurand.so.10\n",
      "2021-10-22 09:06:30.908618: I tensorflow/stream_executor/platform/default/dso_loader.cc:49] Successfully opened dynamic library libcusolver.so.10\n",
      "2021-10-22 09:06:30.916578: I tensorflow/stream_executor/platform/default/dso_loader.cc:49] Successfully opened dynamic library libcusparse.so.11\n",
      "2021-10-22 09:06:30.920996: I tensorflow/stream_executor/platform/default/dso_loader.cc:49] Successfully opened dynamic library libcudnn.so.8\n",
      "2021-10-22 09:06:30.921180: I tensorflow/stream_executor/cuda/cuda_gpu_executor.cc:941] successful NUMA node read from SysFS had negative value (-1), but there must be at least one NUMA node, so returning NUMA node zero\n",
      "2021-10-22 09:06:30.921916: I tensorflow/stream_executor/cuda/cuda_gpu_executor.cc:941] successful NUMA node read from SysFS had negative value (-1), but there must be at least one NUMA node, so returning NUMA node zero\n",
      "2021-10-22 09:06:30.923432: I tensorflow/core/common_runtime/gpu/gpu_device.cc:1862] Adding visible gpu devices: 0\n",
      "2021-10-22 09:06:30.925174: I tensorflow/core/platform/cpu_feature_guard.cc:142] This TensorFlow binary is optimized with oneAPI Deep Neural Network Library (oneDNN) to use the following CPU instructions in performance-critical operations:  AVX2 AVX512F FMA\n",
      "To enable them in other operations, rebuild TensorFlow with the appropriate compiler flags.\n",
      "2021-10-22 09:06:30.926259: I tensorflow/compiler/jit/xla_gpu_device.cc:99] Not creating XLA devices, tf_xla_enable_xla_devices not set\n",
      "2021-10-22 09:06:30.926430: I tensorflow/stream_executor/cuda/cuda_gpu_executor.cc:941] successful NUMA node read from SysFS had negative value (-1), but there must be at least one NUMA node, so returning NUMA node zero\n",
      "2021-10-22 09:06:30.927041: I tensorflow/core/common_runtime/gpu/gpu_device.cc:1720] Found device 0 with properties: \n",
      "pciBusID: 0000:00:04.0 name: Tesla P100-PCIE-16GB computeCapability: 6.0\n",
      "coreClock: 1.3285GHz coreCount: 56 deviceMemorySize: 15.90GiB deviceMemoryBandwidth: 681.88GiB/s\n",
      "2021-10-22 09:06:30.927105: I tensorflow/stream_executor/platform/default/dso_loader.cc:49] Successfully opened dynamic library libcudart.so.11.0\n",
      "2021-10-22 09:06:30.927136: I tensorflow/stream_executor/platform/default/dso_loader.cc:49] Successfully opened dynamic library libcublas.so.11\n",
      "2021-10-22 09:06:30.927158: I tensorflow/stream_executor/platform/default/dso_loader.cc:49] Successfully opened dynamic library libcublasLt.so.11\n",
      "2021-10-22 09:06:30.927180: I tensorflow/stream_executor/platform/default/dso_loader.cc:49] Successfully opened dynamic library libcufft.so.10\n",
      "2021-10-22 09:06:30.927202: I tensorflow/stream_executor/platform/default/dso_loader.cc:49] Successfully opened dynamic library libcurand.so.10\n",
      "2021-10-22 09:06:30.927223: I tensorflow/stream_executor/platform/default/dso_loader.cc:49] Successfully opened dynamic library libcusolver.so.10\n",
      "2021-10-22 09:06:30.927246: I tensorflow/stream_executor/platform/default/dso_loader.cc:49] Successfully opened dynamic library libcusparse.so.11\n",
      "2021-10-22 09:06:30.927268: I tensorflow/stream_executor/platform/default/dso_loader.cc:49] Successfully opened dynamic library libcudnn.so.8\n",
      "2021-10-22 09:06:30.927366: I tensorflow/stream_executor/cuda/cuda_gpu_executor.cc:941] successful NUMA node read from SysFS had negative value (-1), but there must be at least one NUMA node, so returning NUMA node zero\n",
      "2021-10-22 09:06:30.928023: I tensorflow/stream_executor/cuda/cuda_gpu_executor.cc:941] successful NUMA node read from SysFS had negative value (-1), but there must be at least one NUMA node, so returning NUMA node zero\n",
      "2021-10-22 09:06:30.928559: I tensorflow/core/common_runtime/gpu/gpu_device.cc:1862] Adding visible gpu devices: 0\n",
      "2021-10-22 09:06:30.929740: I tensorflow/stream_executor/platform/default/dso_loader.cc:49] Successfully opened dynamic library libcudart.so.11.0\n",
      "2021-10-22 09:06:32.399450: I tensorflow/core/common_runtime/gpu/gpu_device.cc:1261] Device interconnect StreamExecutor with strength 1 edge matrix:\n",
      "2021-10-22 09:06:32.399498: I tensorflow/core/common_runtime/gpu/gpu_device.cc:1267]      0 \n",
      "2021-10-22 09:06:32.399509: I tensorflow/core/common_runtime/gpu/gpu_device.cc:1280] 0:   N \n",
      "2021-10-22 09:06:32.401810: I tensorflow/stream_executor/cuda/cuda_gpu_executor.cc:941] successful NUMA node read from SysFS had negative value (-1), but there must be at least one NUMA node, so returning NUMA node zero\n",
      "2021-10-22 09:06:32.402507: I tensorflow/stream_executor/cuda/cuda_gpu_executor.cc:941] successful NUMA node read from SysFS had negative value (-1), but there must be at least one NUMA node, so returning NUMA node zero\n",
      "2021-10-22 09:06:32.403158: I tensorflow/stream_executor/cuda/cuda_gpu_executor.cc:941] successful NUMA node read from SysFS had negative value (-1), but there must be at least one NUMA node, so returning NUMA node zero\n",
      "2021-10-22 09:06:32.403757: I tensorflow/core/common_runtime/gpu/gpu_device.cc:1406] Created TensorFlow device (/job:localhost/replica:0/task:0/device:GPU:0 with 14957 MB memory) -> physical GPU (device: 0, name: Tesla P100-PCIE-16GB, pci bus id: 0000:00:04.0, compute capability: 6.0)\n"
     ]
    }
   ],
   "source": [
    "imdb,info=tfds.load(\"imdb_reviews\", with_info=True, as_supervised=True)"
   ]
  },
  {
   "cell_type": "code",
   "execution_count": 3,
   "id": "d96d2723",
   "metadata": {
    "execution": {
     "iopub.execute_input": "2021-10-22T09:06:32.592584Z",
     "iopub.status.busy": "2021-10-22T09:06:32.591724Z",
     "iopub.status.idle": "2021-10-22T09:06:44.165817Z",
     "shell.execute_reply": "2021-10-22T09:06:44.164679Z",
     "shell.execute_reply.started": "2021-10-13T15:42:25.139826Z"
    },
    "papermill": {
     "duration": 11.604825,
     "end_time": "2021-10-22T09:06:44.166035",
     "exception": false,
     "start_time": "2021-10-22T09:06:32.561210",
     "status": "completed"
    },
    "tags": []
   },
   "outputs": [
    {
     "name": "stderr",
     "output_type": "stream",
     "text": [
      "2021-10-22 09:06:32.629380: I tensorflow/compiler/mlir/mlir_graph_optimization_pass.cc:116] None of the MLIR optimization passes are enabled (registered 2)\n",
      "2021-10-22 09:06:32.633590: I tensorflow/core/platform/profile_utils/cpu_utils.cc:112] CPU Frequency: 2000134999 Hz\n"
     ]
    }
   ],
   "source": [
    "train_data, test_data = imdb['train'], imdb['test']\n",
    "\n",
    "training_sentences = []\n",
    "training_labels = []\n",
    "\n",
    "testing_sentences = []\n",
    "testing_labels = []\n",
    "\n",
    "for s,l in train_data:\n",
    "    training_sentences.append(str(s.numpy()))\n",
    "    training_labels.append(l.numpy())\n",
    "\n",
    "for s,l in test_data:\n",
    "    testing_sentences.append(str(s.numpy()))\n",
    "    testing_labels.append(l.numpy())\n",
    "\n",
    "training_labels_final=np.array(training_labels)\n",
    "testing_labels_final=np.array(testing_labels)"
   ]
  },
  {
   "cell_type": "code",
   "execution_count": 4,
   "id": "997c3ced",
   "metadata": {
    "execution": {
     "iopub.execute_input": "2021-10-22T09:06:44.227251Z",
     "iopub.status.busy": "2021-10-22T09:06:44.226483Z",
     "iopub.status.idle": "2021-10-22T09:06:44.229463Z",
     "shell.execute_reply": "2021-10-22T09:06:44.229021Z",
     "shell.execute_reply.started": "2021-10-13T15:42:36.321669Z"
    },
    "papermill": {
     "duration": 0.034638,
     "end_time": "2021-10-22T09:06:44.229578",
     "exception": false,
     "start_time": "2021-10-22T09:06:44.194940",
     "status": "completed"
    },
    "tags": []
   },
   "outputs": [],
   "source": [
    "vocab_size=10000 # Banyak kata/token\n",
    "embedding_dim=16 # Ukuran/dimensi vektor embedding\n",
    "max_length=120 # Jumlah maksimum kata dalam satu observasi\n",
    "trunc_type='post' # Jika jumlah kata melebihi max_length, maka kata-kata dari akhir kalimat akan dihapus sampai max_length tercapai\n",
    "oov_tok=\"<OOV>\" # Jika terdapat kata yang tidak muncul pada data latih, maka kata tersebut akan diganti menjadi OOV"
   ]
  },
  {
   "cell_type": "code",
   "execution_count": 5,
   "id": "d62c6903",
   "metadata": {
    "execution": {
     "iopub.execute_input": "2021-10-22T09:06:44.321567Z",
     "iopub.status.busy": "2021-10-22T09:06:44.296572Z",
     "iopub.status.idle": "2021-10-22T09:06:56.089951Z",
     "shell.execute_reply": "2021-10-22T09:06:56.089418Z",
     "shell.execute_reply.started": "2021-10-13T15:42:36.327101Z"
    },
    "papermill": {
     "duration": 11.833853,
     "end_time": "2021-10-22T09:06:56.090095",
     "exception": false,
     "start_time": "2021-10-22T09:06:44.256242",
     "status": "completed"
    },
    "tags": []
   },
   "outputs": [],
   "source": [
    "tokenizer = Tokenizer(num_words = vocab_size, oov_token=oov_tok)\n",
    "tokenizer.fit_on_texts(training_sentences)\n",
    "word_index = tokenizer.word_index\n",
    "sequences = tokenizer.texts_to_sequences(training_sentences)\n",
    "padded = pad_sequences(sequences,maxlen=max_length, truncating=trunc_type)\n",
    "\n",
    "testing_sequences = tokenizer.texts_to_sequences(testing_sentences)\n",
    "testing_padded = pad_sequences(testing_sequences,maxlen=max_length)"
   ]
  },
  {
   "cell_type": "code",
   "execution_count": 6,
   "id": "b31ebd7c",
   "metadata": {
    "execution": {
     "iopub.execute_input": "2021-10-22T09:06:56.178459Z",
     "iopub.status.busy": "2021-10-22T09:06:56.176740Z",
     "iopub.status.idle": "2021-10-22T09:06:56.181096Z",
     "shell.execute_reply": "2021-10-22T09:06:56.180472Z",
     "shell.execute_reply.started": "2021-10-13T15:42:49.193233Z"
    },
    "papermill": {
     "duration": 0.065981,
     "end_time": "2021-10-22T09:06:56.181251",
     "exception": false,
     "start_time": "2021-10-22T09:06:56.115270",
     "status": "completed"
    },
    "tags": []
   },
   "outputs": [
    {
     "name": "stdout",
     "output_type": "stream",
     "text": [
      "? ? ? ? ? ? ? b'i have been known to fall asleep during films but this is usually due to a combination of things including really tired being warm and comfortable on the <OOV> and having just eaten a lot however on this occasion i fell asleep because the film was rubbish the plot development was constant constantly slow and boring things seemed to happen but with no explanation of what was causing them or why i admit i may have missed part of the film but i watched the majority of it and everything just seemed to happen of its own <OOV> without any real concern for anything else i cant recommend this film at all '\n",
      "b'I have been known to fall asleep during films, but this is usually due to a combination of things including, really tired, being warm and comfortable on the sette and having just eaten a lot. However on this occasion I fell asleep because the film was rubbish. The plot development was constant. Constantly slow and boring. Things seemed to happen, but with no explanation of what was causing them or why. I admit, I may have missed part of the film, but i watched the majority of it and everything just seemed to happen of its own accord without any real concern for anything else. I cant recommend this film at all.'\n"
     ]
    }
   ],
   "source": [
    "reverse_word_index = dict([(value, key) for (key, value) in word_index.items()])\n",
    "\n",
    "def decode_review(text):\n",
    "    return ' '.join([reverse_word_index.get(i, '?') for i in text])\n",
    "\n",
    "print(decode_review(padded[1]))\n",
    "print(training_sentences[1])"
   ]
  },
  {
   "cell_type": "code",
   "execution_count": 7,
   "id": "58411ac9",
   "metadata": {
    "execution": {
     "iopub.execute_input": "2021-10-22T09:06:56.236158Z",
     "iopub.status.busy": "2021-10-22T09:06:56.235622Z",
     "iopub.status.idle": "2021-10-22T09:06:56.526092Z",
     "shell.execute_reply": "2021-10-22T09:06:56.525465Z",
     "shell.execute_reply.started": "2021-10-13T15:42:49.242425Z"
    },
    "papermill": {
     "duration": 0.318613,
     "end_time": "2021-10-22T09:06:56.526218",
     "exception": false,
     "start_time": "2021-10-22T09:06:56.207605",
     "status": "completed"
    },
    "tags": []
   },
   "outputs": [],
   "source": [
    "prec = Precision(name='prec')\n",
    "rec = Recall(name='rec')"
   ]
  },
  {
   "cell_type": "markdown",
   "id": "b50bb2b2",
   "metadata": {
    "papermill": {
     "duration": 0.025023,
     "end_time": "2021-10-22T09:06:56.576291",
     "exception": false,
     "start_time": "2021-10-22T09:06:56.551268",
     "status": "completed"
    },
    "tags": []
   },
   "source": [
    "# RNN"
   ]
  },
  {
   "cell_type": "code",
   "execution_count": 8,
   "id": "d56d7252",
   "metadata": {
    "execution": {
     "iopub.execute_input": "2021-10-22T09:06:56.637594Z",
     "iopub.status.busy": "2021-10-22T09:06:56.637065Z",
     "iopub.status.idle": "2021-10-22T09:06:56.796934Z",
     "shell.execute_reply": "2021-10-22T09:06:56.796388Z",
     "shell.execute_reply.started": "2021-10-13T15:42:49.559136Z"
    },
    "papermill": {
     "duration": 0.195658,
     "end_time": "2021-10-22T09:06:56.797090",
     "exception": false,
     "start_time": "2021-10-22T09:06:56.601432",
     "status": "completed"
    },
    "tags": []
   },
   "outputs": [],
   "source": [
    "inputs=Input(shape=(max_length,))\n",
    "layer=Embedding(vocab_size,embedding_dim,input_length=max_length,trainable=False)(inputs)\n",
    "layer=Dropout(0.05)(layer)\n",
    "layer=Bidirectional(SimpleRNN(32))(layer)\n",
    "layer=Dense(6,activation='relu')(layer)\n",
    "output=Dense(1,activation='sigmoid')(layer)\n",
    "\n",
    "model = Model(inputs=[inputs], outputs=[output])\n",
    "adam = Adam(lr=0.001, decay=1e-5)\n",
    "\n",
    "model.compile(loss='binary_crossentropy', optimizer=adam, metrics=['acc',prec,rec])"
   ]
  },
  {
   "cell_type": "code",
   "execution_count": 9,
   "id": "b7a0c6f7",
   "metadata": {
    "execution": {
     "iopub.execute_input": "2021-10-22T09:06:56.852093Z",
     "iopub.status.busy": "2021-10-22T09:06:56.851267Z",
     "iopub.status.idle": "2021-10-22T09:06:56.857765Z",
     "shell.execute_reply": "2021-10-22T09:06:56.858313Z",
     "shell.execute_reply.started": "2021-10-13T15:42:49.728595Z"
    },
    "papermill": {
     "duration": 0.035702,
     "end_time": "2021-10-22T09:06:56.858496",
     "exception": false,
     "start_time": "2021-10-22T09:06:56.822794",
     "status": "completed"
    },
    "tags": []
   },
   "outputs": [
    {
     "name": "stdout",
     "output_type": "stream",
     "text": [
      "Model: \"model\"\n",
      "_________________________________________________________________\n",
      "Layer (type)                 Output Shape              Param #   \n",
      "=================================================================\n",
      "input_1 (InputLayer)         [(None, 120)]             0         \n",
      "_________________________________________________________________\n",
      "embedding (Embedding)        (None, 120, 16)           160000    \n",
      "_________________________________________________________________\n",
      "dropout (Dropout)            (None, 120, 16)           0         \n",
      "_________________________________________________________________\n",
      "bidirectional (Bidirectional (None, 64)                3136      \n",
      "_________________________________________________________________\n",
      "dense (Dense)                (None, 6)                 390       \n",
      "_________________________________________________________________\n",
      "dense_1 (Dense)              (None, 1)                 7         \n",
      "=================================================================\n",
      "Total params: 163,533\n",
      "Trainable params: 3,533\n",
      "Non-trainable params: 160,000\n",
      "_________________________________________________________________\n"
     ]
    }
   ],
   "source": [
    "model.summary()"
   ]
  },
  {
   "cell_type": "code",
   "execution_count": 10,
   "id": "a2660aca",
   "metadata": {
    "execution": {
     "iopub.execute_input": "2021-10-22T09:06:56.915189Z",
     "iopub.status.busy": "2021-10-22T09:06:56.914372Z",
     "iopub.status.idle": "2021-10-22T09:06:57.797307Z",
     "shell.execute_reply": "2021-10-22T09:06:57.797687Z",
     "shell.execute_reply.started": "2021-10-13T15:42:49.740811Z"
    },
    "papermill": {
     "duration": 0.913315,
     "end_time": "2021-10-22T09:06:57.797867",
     "exception": false,
     "start_time": "2021-10-22T09:06:56.884552",
     "status": "completed"
    },
    "tags": []
   },
   "outputs": [
    {
     "data": {
      "image/png": "[encoded data removed]",
      "text/plain": [
       "<IPython.core.display.Image object>"
      ]
     },
     "execution_count": 10,
     "metadata": {},
     "output_type": "execute_result"
    }
   ],
   "source": [
    "plot_model(model, to_file='RNN model.png', show_shapes=True)"
   ]
  },
  {
   "cell_type": "code",
   "execution_count": 11,
   "id": "7911bbe3",
   "metadata": {
    "execution": {
     "iopub.execute_input": "2021-10-22T09:06:57.860547Z",
     "iopub.status.busy": "2021-10-22T09:06:57.859925Z",
     "iopub.status.idle": "2021-10-22T09:25:11.303711Z",
     "shell.execute_reply": "2021-10-22T09:25:11.304219Z",
     "shell.execute_reply.started": "2021-10-13T15:42:50.572634Z"
    },
    "papermill": {
     "duration": 1093.477288,
     "end_time": "2021-10-22T09:25:11.304399",
     "exception": false,
     "start_time": "2021-10-22T09:06:57.827111",
     "status": "completed"
    },
    "tags": []
   },
   "outputs": [
    {
     "name": "stdout",
     "output_type": "stream",
     "text": [
      "Epoch 1/20\n"
     ]
    },
    {
     "name": "stderr",
     "output_type": "stream",
     "text": [
      "2021-10-22 09:06:59.388253: I tensorflow/stream_executor/platform/default/dso_loader.cc:49] Successfully opened dynamic library libcublas.so.11\n"
     ]
    },
    {
     "name": "stdout",
     "output_type": "stream",
     "text": [
      "  1/500 [..............................] - ETA: 20:36 - loss: 0.6958 - acc: 0.4600 - prec: 0.2667 - rec: 0.2000"
     ]
    },
    {
     "name": "stderr",
     "output_type": "stream",
     "text": [
      "2021-10-22 09:07:00.251904: I tensorflow/stream_executor/platform/default/dso_loader.cc:49] Successfully opened dynamic library libcublasLt.so.11\n"
     ]
    },
    {
     "name": "stdout",
     "output_type": "stream",
     "text": [
      "500/500 [==============================] - 56s 107ms/step - loss: 0.6950 - acc: 0.5068 - prec: 0.5028 - rec: 0.4000 - val_loss: 0.6930 - val_acc: 0.5031 - val_prec: 0.5018 - val_rec: 0.8708\n",
      "Epoch 2/20\n",
      "500/500 [==============================] - 54s 108ms/step - loss: 0.6931 - acc: 0.5082 - prec: 0.5060 - rec: 0.8735 - val_loss: 0.6932 - val_acc: 0.5000 - val_prec: 0.5000 - val_rec: 1.0000\n",
      "Epoch 3/20\n",
      "500/500 [==============================] - 54s 107ms/step - loss: 0.6932 - acc: 0.4975 - prec: 0.4979 - rec: 0.9893 - val_loss: 0.6931 - val_acc: 0.5000 - val_prec: 0.5000 - val_rec: 1.0000\n",
      "Epoch 4/20\n",
      "500/500 [==============================] - 53s 106ms/step - loss: 0.6932 - acc: 0.4920 - prec: 0.4910 - rec: 0.5034 - val_loss: 0.6931 - val_acc: 0.5000 - val_prec: 0.0000e+00 - val_rec: 0.0000e+00\n",
      "Epoch 5/20\n",
      "500/500 [==============================] - 54s 107ms/step - loss: 0.6932 - acc: 0.4928 - prec: 0.4583 - rec: 0.3921 - val_loss: 0.6931 - val_acc: 0.5000 - val_prec: 0.5000 - val_rec: 1.0000\n",
      "Epoch 6/20\n",
      "500/500 [==============================] - 54s 107ms/step - loss: 0.6932 - acc: 0.4915 - prec: 0.4931 - rec: 0.6261 - val_loss: 0.6931 - val_acc: 0.5000 - val_prec: 0.5000 - val_rec: 1.0000\n",
      "Epoch 7/20\n",
      "500/500 [==============================] - 54s 107ms/step - loss: 0.6932 - acc: 0.4975 - prec: 0.4841 - rec: 0.1900 - val_loss: 0.6932 - val_acc: 0.5000 - val_prec: 0.5000 - val_rec: 1.0000\n",
      "Epoch 8/20\n",
      "500/500 [==============================] - 54s 108ms/step - loss: 0.6932 - acc: 0.5001 - prec: 0.5004 - rec: 0.6921 - val_loss: 0.6931 - val_acc: 0.5000 - val_prec: 0.0000e+00 - val_rec: 0.0000e+00\n",
      "Epoch 9/20\n",
      "500/500 [==============================] - 55s 110ms/step - loss: 0.6932 - acc: 0.5008 - prec: 0.3962 - rec: 0.3386 - val_loss: 0.6931 - val_acc: 0.5000 - val_prec: 0.0000e+00 - val_rec: 0.0000e+00\n",
      "Epoch 10/20\n",
      "500/500 [==============================] - 54s 107ms/step - loss: 0.6932 - acc: 0.5035 - prec: 0.2451 - rec: 0.1211 - val_loss: 0.6931 - val_acc: 0.5000 - val_prec: 0.5000 - val_rec: 1.0000\n",
      "Epoch 11/20\n",
      "500/500 [==============================] - 55s 111ms/step - loss: 0.6932 - acc: 0.5000 - prec: 0.4999 - rec: 0.7916 - val_loss: 0.6931 - val_acc: 0.5000 - val_prec: 0.5000 - val_rec: 1.0000\n",
      "Epoch 12/20\n",
      "500/500 [==============================] - 55s 111ms/step - loss: 0.6932 - acc: 0.4954 - prec: 0.4924 - rec: 0.4956 - val_loss: 0.6931 - val_acc: 0.5000 - val_prec: 0.5000 - val_rec: 1.0000\n",
      "Epoch 13/20\n",
      "500/500 [==============================] - 54s 108ms/step - loss: 0.6932 - acc: 0.5027 - prec: 0.5029 - rec: 0.8837 - val_loss: 0.6931 - val_acc: 0.5000 - val_prec: 0.5000 - val_rec: 1.0000\n",
      "Epoch 14/20\n",
      "500/500 [==============================] - 56s 112ms/step - loss: 0.6932 - acc: 0.5038 - prec: 0.5040 - rec: 0.9671 - val_loss: 0.6931 - val_acc: 0.5000 - val_prec: 0.0000e+00 - val_rec: 0.0000e+00\n",
      "Epoch 15/20\n",
      "500/500 [==============================] - 55s 109ms/step - loss: 0.6931 - acc: 0.5072 - prec: 0.1505 - rec: 0.0448 - val_loss: 0.6931 - val_acc: 0.5000 - val_prec: 0.5000 - val_rec: 1.0000\n",
      "Epoch 16/20\n",
      "500/500 [==============================] - 57s 113ms/step - loss: 0.6932 - acc: 0.4972 - prec: 0.4989 - rec: 0.8898 - val_loss: 0.6932 - val_acc: 0.5000 - val_prec: 0.0000e+00 - val_rec: 0.0000e+00\n",
      "Epoch 17/20\n",
      "500/500 [==============================] - 54s 108ms/step - loss: 0.6932 - acc: 0.5010 - prec: 0.1727 - rec: 0.0688 - val_loss: 0.6931 - val_acc: 0.5000 - val_prec: 0.5000 - val_rec: 1.0000\n",
      "Epoch 18/20\n",
      "500/500 [==============================] - 57s 114ms/step - loss: 0.6932 - acc: 0.4978 - prec: 0.4928 - rec: 0.4209 - val_loss: 0.6931 - val_acc: 0.5000 - val_prec: 0.5000 - val_rec: 1.0000\n",
      "Epoch 19/20\n",
      "500/500 [==============================] - 53s 106ms/step - loss: 0.6932 - acc: 0.4993 - prec: 0.4964 - rec: 0.5091 - val_loss: 0.6931 - val_acc: 0.5000 - val_prec: 0.5000 - val_rec: 1.0000\n",
      "Epoch 20/20\n",
      "500/500 [==============================] - 58s 116ms/step - loss: 0.6932 - acc: 0.4954 - prec: 0.4830 - rec: 0.2579 - val_loss: 0.6931 - val_acc: 0.5000 - val_prec: 0.5000 - val_rec: 1.0000\n"
     ]
    }
   ],
   "source": [
    "EPOCHS=20\n",
    "hist=model.fit(padded,training_labels_final,\n",
    "               batch_size=50,\n",
    "               epochs=EPOCHS,\n",
    "               validation_data=(testing_padded,testing_labels_final))"
   ]
  },
  {
   "cell_type": "code",
   "execution_count": 12,
   "id": "722ad091",
   "metadata": {
    "execution": {
     "iopub.execute_input": "2021-10-22T09:25:16.493516Z",
     "iopub.status.busy": "2021-10-22T09:25:16.491883Z",
     "iopub.status.idle": "2021-10-22T09:25:16.494190Z",
     "shell.execute_reply": "2021-10-22T09:25:16.494593Z",
     "shell.execute_reply.started": "2021-10-13T16:01:25.041132Z"
    },
    "papermill": {
     "duration": 2.587041,
     "end_time": "2021-10-22T09:25:16.494728",
     "exception": false,
     "start_time": "2021-10-22T09:25:13.907687",
     "status": "completed"
    },
    "tags": []
   },
   "outputs": [],
   "source": [
    "def plot_ax(axes, metrics, title, epochs):\n",
    "    val_met = 'val_' + metrics\n",
    "    axes.plot(hist.history[metrics], c='blue', linewidth=1.5)\n",
    "    axes.plot(hist.history[val_met], c='orange', linewidth=1.5)\n",
    "    axes.set_title(title)\n",
    "    axes.set_xticks(range(0, epochs, epochs // 10))\n",
    "    axes.legend([metrics, val_met], loc='best')\n",
    "    axes.set_ylabel(metrics)\n",
    "    axes.grid()"
   ]
  },
  {
   "cell_type": "code",
   "execution_count": 13,
   "id": "37cc0f16",
   "metadata": {
    "execution": {
     "iopub.execute_input": "2021-10-22T09:25:22.502224Z",
     "iopub.status.busy": "2021-10-22T09:25:22.501443Z",
     "iopub.status.idle": "2021-10-22T09:25:23.117670Z",
     "shell.execute_reply": "2021-10-22T09:25:23.118099Z",
     "shell.execute_reply.started": "2021-10-13T16:01:25.054243Z"
    },
    "papermill": {
     "duration": 4.04809,
     "end_time": "2021-10-22T09:25:23.118248",
     "exception": false,
     "start_time": "2021-10-22T09:25:19.070158",
     "status": "completed"
    },
    "tags": []
   },
   "outputs": [
    {
     "data": {
      "image/png": "[encoded data removed]",
      "text/plain": [
       "<Figure size 1008x504 with 4 Axes>"
      ]
     },
     "metadata": {
      "needs_background": "light"
     },
     "output_type": "display_data"
    }
   ],
   "source": [
    "fig, ax = plt.subplots(2, 2, sharex=True, figsize=(20, 10))\n",
    "fig.set_size_inches(14., 7.)\n",
    "plot_ax(ax[0][0], 'loss', 'Loss', EPOCHS)\n",
    "plot_ax(ax[0][1], 'acc', 'Akurasi', EPOCHS)\n",
    "plot_ax(ax[1][0], 'prec', 'Presisi', EPOCHS)\n",
    "plot_ax(ax[1][1], 'rec', 'Recall', EPOCHS)\n",
    "fig = plt.gcf()\n",
    "plt.suptitle('Grafik Setiap Ukuran Evaluasi (RNN model)\\n(sumbu x adalah epoch)')\n",
    "plt.show()"
   ]
  },
  {
   "cell_type": "code",
   "execution_count": 14,
   "id": "76be7d96",
   "metadata": {
    "execution": {
     "iopub.execute_input": "2021-10-22T09:25:28.316049Z",
     "iopub.status.busy": "2021-10-22T09:25:28.315199Z",
     "iopub.status.idle": "2021-10-22T09:25:38.762339Z",
     "shell.execute_reply": "2021-10-22T09:25:38.761757Z",
     "shell.execute_reply.started": "2021-10-13T16:01:25.801564Z"
    },
    "papermill": {
     "duration": 13.056004,
     "end_time": "2021-10-22T09:25:38.762464",
     "exception": false,
     "start_time": "2021-10-22T09:25:25.706460",
     "status": "completed"
    },
    "tags": []
   },
   "outputs": [],
   "source": [
    "testing_labels_pred=model.predict(testing_padded)"
   ]
  },
  {
   "cell_type": "code",
   "execution_count": 15,
   "id": "fee193fe",
   "metadata": {
    "execution": {
     "iopub.execute_input": "2021-10-22T09:25:44.268000Z",
     "iopub.status.busy": "2021-10-22T09:25:44.267362Z",
     "iopub.status.idle": "2021-10-22T09:25:44.270533Z",
     "shell.execute_reply": "2021-10-22T09:25:44.271045Z",
     "shell.execute_reply.started": "2021-10-13T16:01:51.249398Z"
    },
    "papermill": {
     "duration": 2.902061,
     "end_time": "2021-10-22T09:25:44.271201",
     "exception": false,
     "start_time": "2021-10-22T09:25:41.369140",
     "status": "completed"
    },
    "tags": []
   },
   "outputs": [
    {
     "data": {
      "text/plain": [
       "array([[0.5012029],\n",
       "       [0.5012029],\n",
       "       [0.5012029],\n",
       "       ...,\n",
       "       [0.5012029],\n",
       "       [0.5012029],\n",
       "       [0.5012029]], dtype=float32)"
      ]
     },
     "execution_count": 15,
     "metadata": {},
     "output_type": "execute_result"
    }
   ],
   "source": [
    "testing_labels_pred"
   ]
  },
  {
   "cell_type": "code",
   "execution_count": 16,
   "id": "a54530ee",
   "metadata": {
    "execution": {
     "iopub.execute_input": "2021-10-22T09:25:49.469190Z",
     "iopub.status.busy": "2021-10-22T09:25:49.468356Z",
     "iopub.status.idle": "2021-10-22T09:25:49.474226Z",
     "shell.execute_reply": "2021-10-22T09:25:49.475086Z",
     "shell.execute_reply.started": "2021-10-13T16:02:50.198539Z"
    },
    "papermill": {
     "duration": 2.5868,
     "end_time": "2021-10-22T09:25:49.475390",
     "exception": false,
     "start_time": "2021-10-22T09:25:46.888590",
     "status": "completed"
    },
    "tags": []
   },
   "outputs": [
    {
     "data": {
      "text/plain": [
       "array([[1.],\n",
       "       [1.],\n",
       "       [1.],\n",
       "       ...,\n",
       "       [1.],\n",
       "       [1.],\n",
       "       [1.]])"
      ]
     },
     "execution_count": 16,
     "metadata": {},
     "output_type": "execute_result"
    }
   ],
   "source": [
    "Testing_labels_pred=np.zeros(testing_labels_pred.shape)\n",
    "Testing_labels_pred[testing_labels_pred>0.5]=1\n",
    "Testing_labels_pred=np.array(Testing_labels_pred)\n",
    "Testing_labels_pred"
   ]
  },
  {
   "cell_type": "code",
   "execution_count": 17,
   "id": "cb14aa21",
   "metadata": {
    "execution": {
     "iopub.execute_input": "2021-10-22T09:25:55.447713Z",
     "iopub.status.busy": "2021-10-22T09:25:55.446788Z",
     "iopub.status.idle": "2021-10-22T09:25:55.495844Z",
     "shell.execute_reply": "2021-10-22T09:25:55.496367Z",
     "shell.execute_reply.started": "2021-10-13T16:03:13.540416Z"
    },
    "papermill": {
     "duration": 3.132417,
     "end_time": "2021-10-22T09:25:55.496543",
     "exception": false,
     "start_time": "2021-10-22T09:25:52.364126",
     "status": "completed"
    },
    "tags": []
   },
   "outputs": [
    {
     "name": "stdout",
     "output_type": "stream",
     "text": [
      "              precision    recall  f1-score   support\n",
      "\n",
      "           0       0.00      0.00      0.00     12500\n",
      "           1       0.50      1.00      0.67     12500\n",
      "\n",
      "    accuracy                           0.50     25000\n",
      "   macro avg       0.25      0.50      0.33     25000\n",
      "weighted avg       0.25      0.50      0.33     25000\n",
      "\n"
     ]
    },
    {
     "name": "stderr",
     "output_type": "stream",
     "text": [
      "/opt/conda/lib/python3.7/site-packages/sklearn/metrics/_classification.py:1221: UndefinedMetricWarning: Precision and F-score are ill-defined and being set to 0.0 in labels with no predicted samples. Use `zero_division` parameter to control this behavior.\n",
      "  _warn_prf(average, modifier, msg_start, len(result))\n"
     ]
    }
   ],
   "source": [
    "print(classification_report(testing_labels_final,Testing_labels_pred))"
   ]
  },
  {
   "cell_type": "markdown",
   "id": "022b0112",
   "metadata": {
    "papermill": {
     "duration": 2.632107,
     "end_time": "2021-10-22T09:26:00.785324",
     "exception": false,
     "start_time": "2021-10-22T09:25:58.153217",
     "status": "completed"
    },
    "tags": []
   },
   "source": [
    "# CNN"
   ]
  },
  {
   "cell_type": "code",
   "execution_count": 18,
   "id": "74719b72",
   "metadata": {
    "execution": {
     "iopub.execute_input": "2021-10-22T09:26:06.360197Z",
     "iopub.status.busy": "2021-10-22T09:26:06.359281Z",
     "iopub.status.idle": "2021-10-22T09:26:06.412217Z",
     "shell.execute_reply": "2021-10-22T09:26:06.411595Z",
     "shell.execute_reply.started": "2021-10-13T16:04:57.278677Z"
    },
    "papermill": {
     "duration": 2.96486,
     "end_time": "2021-10-22T09:26:06.412339",
     "exception": false,
     "start_time": "2021-10-22T09:26:03.447479",
     "status": "completed"
    },
    "tags": []
   },
   "outputs": [],
   "source": [
    "inputs=Input(shape=(max_length,))\n",
    "layer=Embedding(vocab_size,embedding_dim,input_length=max_length,trainable=False)(inputs)\n",
    "layer=Dropout(0.05)(layer)\n",
    "layer=Conv1D(128,5,activation='relu')(layer)\n",
    "layer=GlobalAveragePooling1D()(layer)\n",
    "layer=Dense(6,activation='relu')(layer)\n",
    "output=Dense(1,activation='sigmoid')(layer)\n",
    "\n",
    "model2 = Model(inputs=[inputs], outputs=[output])\n",
    "adam = Adam(lr=0.001, decay=1e-5)\n",
    "\n",
    "model2.compile(loss='binary_crossentropy', optimizer=adam, metrics=['acc',prec,rec])"
   ]
  },
  {
   "cell_type": "code",
   "execution_count": 19,
   "id": "991fcbcd",
   "metadata": {
    "execution": {
     "iopub.execute_input": "2021-10-22T09:26:11.671367Z",
     "iopub.status.busy": "2021-10-22T09:26:11.670159Z",
     "iopub.status.idle": "2021-10-22T09:26:11.676279Z",
     "shell.execute_reply": "2021-10-22T09:26:11.677144Z",
     "shell.execute_reply.started": "2021-10-13T16:05:00.211212Z"
    },
    "papermill": {
     "duration": 2.634957,
     "end_time": "2021-10-22T09:26:11.677346",
     "exception": false,
     "start_time": "2021-10-22T09:26:09.042389",
     "status": "completed"
    },
    "tags": []
   },
   "outputs": [
    {
     "name": "stdout",
     "output_type": "stream",
     "text": [
      "Model: \"model_1\"\n",
      "_________________________________________________________________\n",
      "Layer (type)                 Output Shape              Param #   \n",
      "=================================================================\n",
      "input_2 (InputLayer)         [(None, 120)]             0         \n",
      "_________________________________________________________________\n",
      "embedding_1 (Embedding)      (None, 120, 16)           160000    \n",
      "_________________________________________________________________\n",
      "dropout_1 (Dropout)          (None, 120, 16)           0         \n",
      "_________________________________________________________________\n",
      "conv1d (Conv1D)              (None, 116, 128)          10368     \n",
      "_________________________________________________________________\n",
      "global_average_pooling1d (Gl (None, 128)               0         \n",
      "_________________________________________________________________\n",
      "dense_2 (Dense)              (None, 6)                 774       \n",
      "_________________________________________________________________\n",
      "dense_3 (Dense)              (None, 1)                 7         \n",
      "=================================================================\n",
      "Total params: 171,149\n",
      "Trainable params: 11,149\n",
      "Non-trainable params: 160,000\n",
      "_________________________________________________________________\n"
     ]
    }
   ],
   "source": [
    "model2.summary()"
   ]
  },
  {
   "cell_type": "code",
   "execution_count": 20,
   "id": "1d0cd3de",
   "metadata": {
    "execution": {
     "iopub.execute_input": "2021-10-22T09:26:17.152464Z",
     "iopub.status.busy": "2021-10-22T09:26:17.150013Z",
     "iopub.status.idle": "2021-10-22T09:26:17.313628Z",
     "shell.execute_reply": "2021-10-22T09:26:17.314151Z",
     "shell.execute_reply.started": "2021-10-13T16:05:02.765037Z"
    },
    "papermill": {
     "duration": 3.045102,
     "end_time": "2021-10-22T09:26:17.314304",
     "exception": false,
     "start_time": "2021-10-22T09:26:14.269202",
     "status": "completed"
    },
    "tags": []
   },
   "outputs": [
    {
     "data": {
      "image/png": "[encoded data removed]",
      "text/plain": [
       "<IPython.core.display.Image object>"
      ]
     },
     "execution_count": 20,
     "metadata": {},
     "output_type": "execute_result"
    }
   ],
   "source": [
    "plot_model(model2, to_file='CNN model.png', show_shapes=True)"
   ]
  },
  {
   "cell_type": "code",
   "execution_count": 21,
   "id": "f536efcf",
   "metadata": {
    "execution": {
     "iopub.execute_input": "2021-10-22T09:26:22.559746Z",
     "iopub.status.busy": "2021-10-22T09:26:22.558858Z",
     "iopub.status.idle": "2021-10-22T09:27:43.106783Z",
     "shell.execute_reply": "2021-10-22T09:27:43.107379Z",
     "shell.execute_reply.started": "2021-10-13T16:05:09.153421Z"
    },
    "papermill": {
     "duration": 83.172693,
     "end_time": "2021-10-22T09:27:43.107567",
     "exception": false,
     "start_time": "2021-10-22T09:26:19.934874",
     "status": "completed"
    },
    "tags": []
   },
   "outputs": [
    {
     "name": "stdout",
     "output_type": "stream",
     "text": [
      "Epoch 1/20\n"
     ]
    },
    {
     "name": "stderr",
     "output_type": "stream",
     "text": [
      "2021-10-22 09:26:23.698153: I tensorflow/stream_executor/platform/default/dso_loader.cc:49] Successfully opened dynamic library libcudnn.so.8\n"
     ]
    },
    {
     "name": "stdout",
     "output_type": "stream",
     "text": [
      "500/500 [==============================] - 10s 7ms/step - loss: 0.6923 - acc: 0.5139 - prec: 0.5035 - rec: 0.8316 - val_loss: 0.6863 - val_acc: 0.5663 - val_prec: 0.5685 - val_rec: 0.5502\n",
      "Epoch 2/20\n",
      "500/500 [==============================] - 3s 6ms/step - loss: 0.6856 - acc: 0.5539 - prec: 0.5570 - rec: 0.4802 - val_loss: 0.6810 - val_acc: 0.5705 - val_prec: 0.5572 - val_rec: 0.6867\n",
      "Epoch 3/20\n",
      "500/500 [==============================] - 4s 7ms/step - loss: 0.6814 - acc: 0.5593 - prec: 0.5601 - rec: 0.5917 - val_loss: 0.6781 - val_acc: 0.5770 - val_prec: 0.5687 - val_rec: 0.6377\n",
      "Epoch 4/20\n",
      "500/500 [==============================] - 3s 7ms/step - loss: 0.6797 - acc: 0.5661 - prec: 0.5649 - rec: 0.5738 - val_loss: 0.6769 - val_acc: 0.5786 - val_prec: 0.5673 - val_rec: 0.6626\n",
      "Epoch 5/20\n",
      "500/500 [==============================] - 3s 7ms/step - loss: 0.6770 - acc: 0.5791 - prec: 0.5774 - rec: 0.5818 - val_loss: 0.6760 - val_acc: 0.5791 - val_prec: 0.5669 - val_rec: 0.6699\n",
      "Epoch 6/20\n",
      "500/500 [==============================] - 4s 7ms/step - loss: 0.6778 - acc: 0.5680 - prec: 0.5658 - rec: 0.5823 - val_loss: 0.6754 - val_acc: 0.5787 - val_prec: 0.5636 - val_rec: 0.6972\n",
      "Epoch 7/20\n",
      "500/500 [==============================] - 3s 7ms/step - loss: 0.6759 - acc: 0.5815 - prec: 0.5805 - rec: 0.5611 - val_loss: 0.6731 - val_acc: 0.5861 - val_prec: 0.5715 - val_rec: 0.6884\n",
      "Epoch 8/20\n",
      "500/500 [==============================] - 6s 12ms/step - loss: 0.6764 - acc: 0.5750 - prec: 0.5747 - rec: 0.5965 - val_loss: 0.6706 - val_acc: 0.5942 - val_prec: 0.5832 - val_rec: 0.6600\n",
      "Epoch 9/20\n",
      "500/500 [==============================] - 4s 8ms/step - loss: 0.6750 - acc: 0.5788 - prec: 0.5809 - rec: 0.5986 - val_loss: 0.6694 - val_acc: 0.5907 - val_prec: 0.6121 - val_rec: 0.4954\n",
      "Epoch 10/20\n",
      "500/500 [==============================] - 3s 7ms/step - loss: 0.6712 - acc: 0.5834 - prec: 0.5840 - rec: 0.5901 - val_loss: 0.6689 - val_acc: 0.5890 - val_prec: 0.5658 - val_rec: 0.7652\n",
      "Epoch 11/20\n",
      "500/500 [==============================] - 3s 7ms/step - loss: 0.6688 - acc: 0.5946 - prec: 0.5925 - rec: 0.6069 - val_loss: 0.6633 - val_acc: 0.6064 - val_prec: 0.5934 - val_rec: 0.6758\n",
      "Epoch 12/20\n",
      "500/500 [==============================] - 4s 7ms/step - loss: 0.6657 - acc: 0.6008 - prec: 0.6001 - rec: 0.5959 - val_loss: 0.6599 - val_acc: 0.6140 - val_prec: 0.6188 - val_rec: 0.5939\n",
      "Epoch 13/20\n",
      "500/500 [==============================] - 3s 7ms/step - loss: 0.6639 - acc: 0.6023 - prec: 0.6048 - rec: 0.6088 - val_loss: 0.6564 - val_acc: 0.6161 - val_prec: 0.6072 - val_rec: 0.6577\n",
      "Epoch 14/20\n",
      "500/500 [==============================] - 3s 7ms/step - loss: 0.6590 - acc: 0.6121 - prec: 0.6079 - rec: 0.6333 - val_loss: 0.6525 - val_acc: 0.6222 - val_prec: 0.6162 - val_rec: 0.6483\n",
      "Epoch 15/20\n",
      "500/500 [==============================] - 4s 7ms/step - loss: 0.6528 - acc: 0.6181 - prec: 0.6149 - rec: 0.6250 - val_loss: 0.6485 - val_acc: 0.6269 - val_prec: 0.6276 - val_rec: 0.6241\n",
      "Epoch 16/20\n",
      "500/500 [==============================] - 3s 7ms/step - loss: 0.6484 - acc: 0.6287 - prec: 0.6271 - rec: 0.6287 - val_loss: 0.6445 - val_acc: 0.6324 - val_prec: 0.6204 - val_rec: 0.6822\n",
      "Epoch 17/20\n",
      "500/500 [==============================] - 4s 8ms/step - loss: 0.6469 - acc: 0.6249 - prec: 0.6229 - rec: 0.6276 - val_loss: 0.6408 - val_acc: 0.6372 - val_prec: 0.6190 - val_rec: 0.7137\n",
      "Epoch 18/20\n",
      "500/500 [==============================] - 5s 11ms/step - loss: 0.6400 - acc: 0.6406 - prec: 0.6391 - rec: 0.6377 - val_loss: 0.6359 - val_acc: 0.6431 - val_prec: 0.6456 - val_rec: 0.6346\n",
      "Epoch 19/20\n",
      "500/500 [==============================] - 4s 8ms/step - loss: 0.6341 - acc: 0.6459 - prec: 0.6439 - rec: 0.6687 - val_loss: 0.6336 - val_acc: 0.6444 - val_prec: 0.6210 - val_rec: 0.7414\n",
      "Epoch 20/20\n",
      "500/500 [==============================] - 4s 7ms/step - loss: 0.6305 - acc: 0.6464 - prec: 0.6439 - rec: 0.6460 - val_loss: 0.6284 - val_acc: 0.6494 - val_prec: 0.6649 - val_rec: 0.6023\n"
     ]
    }
   ],
   "source": [
    "EPOCHS=20\n",
    "hist=model2.fit(padded,training_labels_final,\n",
    "               batch_size=50,\n",
    "               epochs=EPOCHS,\n",
    "               validation_data=(testing_padded,testing_labels_final))"
   ]
  },
  {
   "cell_type": "code",
   "execution_count": 22,
   "id": "ac79e473",
   "metadata": {
    "execution": {
     "iopub.execute_input": "2021-10-22T09:27:48.804502Z",
     "iopub.status.busy": "2021-10-22T09:27:48.802885Z",
     "iopub.status.idle": "2021-10-22T09:27:48.805151Z",
     "shell.execute_reply": "2021-10-22T09:27:48.805561Z",
     "shell.execute_reply.started": "2021-10-13T16:01:25.041132Z"
    },
    "papermill": {
     "duration": 2.867033,
     "end_time": "2021-10-22T09:27:48.805700",
     "exception": false,
     "start_time": "2021-10-22T09:27:45.938667",
     "status": "completed"
    },
    "tags": []
   },
   "outputs": [],
   "source": [
    "def plot_ax(axes, metrics, title, epochs):\n",
    "    val_met = 'val_' + metrics\n",
    "    axes.plot(hist.history[metrics], c='blue', linewidth=1.5)\n",
    "    axes.plot(hist.history[val_met], c='orange', linewidth=1.5)\n",
    "    axes.set_title(title)\n",
    "    axes.set_xticks(range(0, epochs, epochs // 10))\n",
    "    axes.legend([metrics, val_met], loc='best')\n",
    "    axes.set_ylabel(metrics)\n",
    "    axes.grid()"
   ]
  },
  {
   "cell_type": "code",
   "execution_count": 23,
   "id": "5a8a4fee",
   "metadata": {
    "execution": {
     "iopub.execute_input": "2021-10-22T09:27:54.718773Z",
     "iopub.status.busy": "2021-10-22T09:27:54.717905Z",
     "iopub.status.idle": "2021-10-22T09:27:55.302296Z",
     "shell.execute_reply": "2021-10-22T09:27:55.302717Z",
     "shell.execute_reply.started": "2021-10-13T16:01:25.054243Z"
    },
    "papermill": {
     "duration": 3.691152,
     "end_time": "2021-10-22T09:27:55.302880",
     "exception": false,
     "start_time": "2021-10-22T09:27:51.611728",
     "status": "completed"
    },
    "tags": []
   },
   "outputs": [
    {
     "data": {
      "image/png": "[encoded data removed]",
      "text/plain": [
       "<Figure size 1008x504 with 4 Axes>"
      ]
     },
     "metadata": {
      "needs_background": "light"
     },
     "output_type": "display_data"
    }
   ],
   "source": [
    "fig, ax = plt.subplots(2, 2, sharex=True, figsize=(20, 10))\n",
    "fig.set_size_inches(14., 7.)\n",
    "plot_ax(ax[0][0], 'loss', 'Loss', EPOCHS)\n",
    "plot_ax(ax[0][1], 'acc', 'Akurasi', EPOCHS)\n",
    "plot_ax(ax[1][0], 'prec', 'Presisi', EPOCHS)\n",
    "plot_ax(ax[1][1], 'rec', 'Recall', EPOCHS)\n",
    "fig = plt.gcf()\n",
    "plt.suptitle('Grafik Setiap Ukuran Evaluasi (CNN model)\\n(sumbu x adalah epoch)')\n",
    "plt.show()"
   ]
  },
  {
   "cell_type": "code",
   "execution_count": 24,
   "id": "75a64610",
   "metadata": {
    "execution": {
     "iopub.execute_input": "2021-10-22T09:28:01.425225Z",
     "iopub.status.busy": "2021-10-22T09:28:01.424406Z",
     "iopub.status.idle": "2021-10-22T09:28:02.363130Z",
     "shell.execute_reply": "2021-10-22T09:28:02.362207Z",
     "shell.execute_reply.started": "2021-10-13T16:01:25.801564Z"
    },
    "papermill": {
     "duration": 4.254796,
     "end_time": "2021-10-22T09:28:02.363277",
     "exception": false,
     "start_time": "2021-10-22T09:27:58.108481",
     "status": "completed"
    },
    "tags": []
   },
   "outputs": [],
   "source": [
    "testing_labels_pred2=model2.predict(testing_padded)"
   ]
  },
  {
   "cell_type": "code",
   "execution_count": 25,
   "id": "475f2acd",
   "metadata": {
    "execution": {
     "iopub.execute_input": "2021-10-22T09:28:08.180599Z",
     "iopub.status.busy": "2021-10-22T09:28:08.179955Z",
     "iopub.status.idle": "2021-10-22T09:28:08.182954Z",
     "shell.execute_reply": "2021-10-22T09:28:08.183390Z",
     "shell.execute_reply.started": "2021-10-13T16:01:51.249398Z"
    },
    "papermill": {
     "duration": 2.788124,
     "end_time": "2021-10-22T09:28:08.183551",
     "exception": false,
     "start_time": "2021-10-22T09:28:05.395427",
     "status": "completed"
    },
    "tags": []
   },
   "outputs": [
    {
     "data": {
      "text/plain": [
       "array([[0.39087003],\n",
       "       [0.6200913 ],\n",
       "       [0.38632438],\n",
       "       ...,\n",
       "       [0.26130122],\n",
       "       [0.69842637],\n",
       "       [0.6084056 ]], dtype=float32)"
      ]
     },
     "execution_count": 25,
     "metadata": {},
     "output_type": "execute_result"
    }
   ],
   "source": [
    "testing_labels_pred2"
   ]
  },
  {
   "cell_type": "code",
   "execution_count": 26,
   "id": "0c3d050c",
   "metadata": {
    "execution": {
     "iopub.execute_input": "2021-10-22T09:28:13.853318Z",
     "iopub.status.busy": "2021-10-22T09:28:13.852283Z",
     "iopub.status.idle": "2021-10-22T09:28:13.858988Z",
     "shell.execute_reply": "2021-10-22T09:28:13.858458Z",
     "shell.execute_reply.started": "2021-10-13T16:02:50.198539Z"
    },
    "papermill": {
     "duration": 2.809188,
     "end_time": "2021-10-22T09:28:13.859109",
     "exception": false,
     "start_time": "2021-10-22T09:28:11.049921",
     "status": "completed"
    },
    "tags": []
   },
   "outputs": [
    {
     "data": {
      "text/plain": [
       "array([[0.],\n",
       "       [1.],\n",
       "       [0.],\n",
       "       ...,\n",
       "       [0.],\n",
       "       [1.],\n",
       "       [1.]])"
      ]
     },
     "execution_count": 26,
     "metadata": {},
     "output_type": "execute_result"
    }
   ],
   "source": [
    "Testing_labels_pred2=np.zeros(testing_labels_pred2.shape)\n",
    "Testing_labels_pred2[testing_labels_pred2>0.5]=1\n",
    "Testing_labels_pred2=np.array(Testing_labels_pred2)\n",
    "Testing_labels_pred2"
   ]
  },
  {
   "cell_type": "code",
   "execution_count": 27,
   "id": "1ce6284b",
   "metadata": {
    "execution": {
     "iopub.execute_input": "2021-10-22T09:28:19.869573Z",
     "iopub.status.busy": "2021-10-22T09:28:19.868743Z",
     "iopub.status.idle": "2021-10-22T09:28:19.915960Z",
     "shell.execute_reply": "2021-10-22T09:28:19.916543Z",
     "shell.execute_reply.started": "2021-10-13T16:03:13.540416Z"
    },
    "papermill": {
     "duration": 2.935193,
     "end_time": "2021-10-22T09:28:19.916726",
     "exception": false,
     "start_time": "2021-10-22T09:28:16.981533",
     "status": "completed"
    },
    "tags": []
   },
   "outputs": [
    {
     "name": "stdout",
     "output_type": "stream",
     "text": [
      "              precision    recall  f1-score   support\n",
      "\n",
      "           0       0.64      0.70      0.67     12500\n",
      "           1       0.66      0.60      0.63     12500\n",
      "\n",
      "    accuracy                           0.65     25000\n",
      "   macro avg       0.65      0.65      0.65     25000\n",
      "weighted avg       0.65      0.65      0.65     25000\n",
      "\n"
     ]
    }
   ],
   "source": [
    "print(classification_report(testing_labels_final,Testing_labels_pred2))"
   ]
  }
 ],
 "metadata": {
  "kernelspec": {
   "display_name": "Python 3",
   "language": "python",
   "name": "python3"
  },
  "language_info": {
   "codemirror_mode": {
    "name": "ipython",
    "version": 3
   },
   "file_extension": ".py",
   "mimetype": "text/x-python",
   "name": "python",
   "nbconvert_exporter": "python",
   "pygments_lexer": "ipython3",
   "version": "3.7.10"
  },
  "papermill": {
   "default_parameters": {},
   "duration": 1383.739547,
   "end_time": "2021-10-22T09:28:25.563986",
   "environment_variables": {},
   "exception": null,
   "input_path": "__notebook__.ipynb",
   "output_path": "__notebook__.ipynb",
   "parameters": {},
   "start_time": "2021-10-22T09:05:21.824439",
   "version": "2.3.3"
  },
  "widgets": {
   "application/vnd.jupyter.widget-state+json": {
    "state": {
     "06cfc2ec739d4dbd94ab8e625549a3da": {
      "model_module": "@jupyter-widgets/controls",
      "model_module_version": "1.5.0",
      "model_name": "HTMLModel",
      "state": {
       "_dom_classes": [],
       "_model_module": "@jupyter-widgets/controls",
       "_model_module_version": "1.5.0",
       "_model_name": "HTMLModel",
       "_view_count": null,
       "_view_module": "@jupyter-widgets/controls",
       "_view_module_version": "1.5.0",
       "_view_name": "HTMLView",
       "description": "",
       "description_tooltip": null,
       "layout": "IPY_MODEL_b140a862c36b4aa89004d1f59baae003",
       "placeholder": "​",
       "style": "IPY_MODEL_cde92747b6c747fbaf7ac144d9254daf",
       "value": "100%"
      }
     },
     "0b764ad7ab194a5284b00a84e66c520a": {
      "model_module": "@jupyter-widgets/controls",
      "model_module_version": "1.5.0",
      "model_name": "DescriptionStyleModel",
      "state": {
       "_model_module": "@jupyter-widgets/controls",
       "_model_module_version": "1.5.0",
       "_model_name": "DescriptionStyleModel",
       "_view_count": null,
       "_view_module": "@jupyter-widgets/base",
       "_view_module_version": "1.2.0",
       "_view_name": "StyleView",
       "description_width": ""
      }
     },
     "0e92892497604f41ac9f238844163019": {
      "model_module": "@jupyter-widgets/controls",
      "model_module_version": "1.5.0",
      "model_name": "DescriptionStyleModel",
      "state": {
       "_model_module": "@jupyter-widgets/controls",
       "_model_module_version": "1.5.0",
       "_model_name": "DescriptionStyleModel",
       "_view_count": null,
       "_view_module": "@jupyter-widgets/base",
       "_view_module_version": "1.2.0",
       "_view_name": "StyleView",
       "description_width": ""
      }
     },
     "1218d5ea417b470981908cca9c60f664": {
      "model_module": "@jupyter-widgets/base",
      "model_module_version": "1.2.0",
      "model_name": "LayoutModel",
      "state": {
       "_model_module": "@jupyter-widgets/base",
       "_model_module_version": "1.2.0",
       "_model_name": "LayoutModel",
       "_view_count": null,
       "_view_module": "@jupyter-widgets/base",
       "_view_module_version": "1.2.0",
       "_view_name": "LayoutView",
       "align_content": null,
       "align_items": null,
       "align_self": null,
       "border": null,
       "bottom": null,
       "display": null,
       "flex": null,
       "flex_flow": null,
       "grid_area": null,
       "grid_auto_columns": null,
       "grid_auto_flow": null,
       "grid_auto_rows": null,
       "grid_column": null,
       "grid_gap": null,
       "grid_row": null,
       "grid_template_areas": null,
       "grid_template_columns": null,
       "grid_template_rows": null,
       "height": null,
       "justify_content": null,
       "justify_items": null,
       "left": null,
       "margin": null,
       "max_height": null,
       "max_width": null,
       "min_height": null,
       "min_width": null,
       "object_fit": null,
       "object_position": null,
       "order": null,
       "overflow": null,
       "overflow_x": null,
       "overflow_y": null,
       "padding": null,
       "right": null,
       "top": null,
       "visibility": null,
       "width": null
      }
     },
     "1643867a292e4f129902c81ebc612101": {
      "model_module": "@jupyter-widgets/base",
      "model_module_version": "1.2.0",
      "model_name": "LayoutModel",
      "state": {
       "_model_module": "@jupyter-widgets/base",
       "_model_module_version": "1.2.0",
       "_model_name": "LayoutModel",
       "_view_count": null,
       "_view_module": "@jupyter-widgets/base",
       "_view_module_version": "1.2.0",
       "_view_name": "LayoutView",
       "align_content": null,
       "align_items": null,
       "align_self": null,
       "border": null,
       "bottom": null,
       "display": null,
       "flex": null,
       "flex_flow": null,
       "grid_area": null,
       "grid_auto_columns": null,
       "grid_auto_flow": null,
       "grid_auto_rows": null,
       "grid_column": null,
       "grid_gap": null,
       "grid_row": null,
       "grid_template_areas": null,
       "grid_template_columns": null,
       "grid_template_rows": null,
       "height": null,
       "justify_content": null,
       "justify_items": null,
       "left": null,
       "margin": null,
       "max_height": null,
       "max_width": null,
       "min_height": null,
       "min_width": null,
       "object_fit": null,
       "object_position": null,
       "order": null,
       "overflow": null,
       "overflow_x": null,
       "overflow_y": null,
       "padding": null,
       "right": null,
       "top": null,
       "visibility": null,
       "width": null
      }
     },
     "1820a4650a7b4547b466dc4f975af6c6": {
      "model_module": "@jupyter-widgets/base",
      "model_module_version": "1.2.0",
      "model_name": "LayoutModel",
      "state": {
       "_model_module": "@jupyter-widgets/base",
       "_model_module_version": "1.2.0",
       "_model_name": "LayoutModel",
       "_view_count": null,
       "_view_module": "@jupyter-widgets/base",
       "_view_module_version": "1.2.0",
       "_view_name": "LayoutView",
       "align_content": null,
       "align_items": null,
       "align_self": null,
       "border": null,
       "bottom": null,
       "display": null,
       "flex": null,
       "flex_flow": null,
       "grid_area": null,
       "grid_auto_columns": null,
       "grid_auto_flow": null,
       "grid_auto_rows": null,
       "grid_column": null,
       "grid_gap": null,
       "grid_row": null,
       "grid_template_areas": null,
       "grid_template_columns": null,
       "grid_template_rows": null,
       "height": null,
       "justify_content": null,
       "justify_items": null,
       "left": null,
       "margin": null,
       "max_height": null,
       "max_width": null,
       "min_height": null,
       "min_width": null,
       "object_fit": null,
       "object_position": null,
       "order": null,
       "overflow": null,
       "overflow_x": null,
       "overflow_y": null,
       "padding": null,
       "right": null,
       "top": null,
       "visibility": null,
       "width": null
      }
     },
     "1a70bbe49d754a908117f0360aed732f": {
      "model_module": "@jupyter-widgets/base",
      "model_module_version": "1.2.0",
      "model_name": "LayoutModel",
      "state": {
       "_model_module": "@jupyter-widgets/base",
       "_model_module_version": "1.2.0",
       "_model_name": "LayoutModel",
       "_view_count": null,
       "_view_module": "@jupyter-widgets/base",
       "_view_module_version": "1.2.0",
       "_view_name": "LayoutView",
       "align_content": null,
       "align_items": null,
       "align_self": null,
       "border": null,
       "bottom": null,
       "display": null,
       "flex": null,
       "flex_flow": null,
       "grid_area": null,
       "grid_auto_columns": null,
       "grid_auto_flow": null,
       "grid_auto_rows": null,
       "grid_column": null,
       "grid_gap": null,
       "grid_row": null,
       "grid_template_areas": null,
       "grid_template_columns": null,
       "grid_template_rows": null,
       "height": null,
       "justify_content": null,
       "justify_items": null,
       "left": null,
       "margin": null,
       "max_height": null,
       "max_width": null,
       "min_height": null,
       "min_width": null,
       "object_fit": null,
       "object_position": null,
       "order": null,
       "overflow": null,
       "overflow_x": null,
       "overflow_y": null,
       "padding": null,
       "right": null,
       "top": null,
       "visibility": null,
       "width": "20px"
      }
     },
     "1d9bf8ef90e04acdae855df2661997cb": {
      "model_module": "@jupyter-widgets/controls",
      "model_module_version": "1.5.0",
      "model_name": "HBoxModel",
      "state": {
       "_dom_classes": [],
       "_model_module": "@jupyter-widgets/controls",
       "_model_module_version": "1.5.0",
       "_model_name": "HBoxModel",
       "_view_count": null,
       "_view_module": "@jupyter-widgets/controls",
       "_view_module_version": "1.5.0",
       "_view_name": "HBoxView",
       "box_style": "",
       "children": [
        "IPY_MODEL_06cfc2ec739d4dbd94ab8e625549a3da",
        "IPY_MODEL_3eec2530b7d044d39f1a15d59de94783",
        "IPY_MODEL_6304512ecdaf4a0689c44e44d6b30bd1"
       ],
       "layout": "IPY_MODEL_357e94ae2be24891a7532b56f89c0965"
      }
     },
     "1f8287f70b754c4e9dcf3d8476fe1d4f": {
      "model_module": "@jupyter-widgets/controls",
      "model_module_version": "1.5.0",
      "model_name": "FloatProgressModel",
      "state": {
       "_dom_classes": [],
       "_model_module": "@jupyter-widgets/controls",
       "_model_module_version": "1.5.0",
       "_model_name": "FloatProgressModel",
       "_view_count": null,
       "_view_module": "@jupyter-widgets/controls",
       "_view_module_version": "1.5.0",
       "_view_name": "ProgressView",
       "bar_style": "success",
       "description": "",
       "description_tooltip": null,
       "layout": "IPY_MODEL_1a70bbe49d754a908117f0360aed732f",
       "max": 1.0,
       "min": 0.0,
       "orientation": "horizontal",
       "style": "IPY_MODEL_5614b9b1fe9048138cdb4525185efda4",
       "value": 1.0
      }
     },
     "22227cc0835049ae9e733fc913bf2dfd": {
      "model_module": "@jupyter-widgets/controls",
      "model_module_version": "1.5.0",
      "model_name": "ProgressStyleModel",
      "state": {
       "_model_module": "@jupyter-widgets/controls",
       "_model_module_version": "1.5.0",
       "_model_name": "ProgressStyleModel",
       "_view_count": null,
       "_view_module": "@jupyter-widgets/base",
       "_view_module_version": "1.2.0",
       "_view_name": "StyleView",
       "bar_color": null,
       "description_width": ""
      }
     },
     "23fcb219e9cd4738ae3433314a109b6c": {
      "model_module": "@jupyter-widgets/controls",
      "model_module_version": "1.5.0",
      "model_name": "DescriptionStyleModel",
      "state": {
       "_model_module": "@jupyter-widgets/controls",
       "_model_module_version": "1.5.0",
       "_model_name": "DescriptionStyleModel",
       "_view_count": null,
       "_view_module": "@jupyter-widgets/base",
       "_view_module_version": "1.2.0",
       "_view_name": "StyleView",
       "description_width": ""
      }
     },
     "2a5fb73ac010468fb0417cadf42021c1": {
      "model_module": "@jupyter-widgets/controls",
      "model_module_version": "1.5.0",
      "model_name": "DescriptionStyleModel",
      "state": {
       "_model_module": "@jupyter-widgets/controls",
       "_model_module_version": "1.5.0",
       "_model_name": "DescriptionStyleModel",
       "_view_count": null,
       "_view_module": "@jupyter-widgets/base",
       "_view_module_version": "1.2.0",
       "_view_name": "StyleView",
       "description_width": ""
      }
     },
     "2d02b6f304b6453ea41c1d610008dfdf": {
      "model_module": "@jupyter-widgets/controls",
      "model_module_version": "1.5.0",
      "model_name": "HBoxModel",
      "state": {
       "_dom_classes": [],
       "_model_module": "@jupyter-widgets/controls",
       "_model_module_version": "1.5.0",
       "_model_name": "HBoxModel",
       "_view_count": null,
       "_view_module": "@jupyter-widgets/controls",
       "_view_module_version": "1.5.0",
       "_view_name": "HBoxView",
       "box_style": "",
       "children": [
        "IPY_MODEL_741b8bfd7dd9468e8c4d12d39a592a86",
        "IPY_MODEL_8ed6e7a4029c4717b624f8449bb79c74",
        "IPY_MODEL_82d43aac52c8405783a9cb4c81ad706d"
       ],
       "layout": "IPY_MODEL_a8889acc65d94306bd0b17e5b478d8e5"
      }
     },
     "2fcf1f753f234c48a9901cbcacf6c4c4": {
      "model_module": "@jupyter-widgets/controls",
      "model_module_version": "1.5.0",
      "model_name": "HBoxModel",
      "state": {
       "_dom_classes": [],
       "_model_module": "@jupyter-widgets/controls",
       "_model_module_version": "1.5.0",
       "_model_name": "HBoxModel",
       "_view_count": null,
       "_view_module": "@jupyter-widgets/controls",
       "_view_module_version": "1.5.0",
       "_view_name": "HBoxView",
       "box_style": "",
       "children": [
        "IPY_MODEL_3026f4113ddb4b7e83d81dbef52e6558",
        "IPY_MODEL_1f8287f70b754c4e9dcf3d8476fe1d4f",
        "IPY_MODEL_327ec1a513de45e0b118a03e3c7d5e75"
       ],
       "layout": "IPY_MODEL_3c6b9507d8b14205b87ba066d4fe3718"
      }
     },
     "3026f4113ddb4b7e83d81dbef52e6558": {
      "model_module": "@jupyter-widgets/controls",
      "model_module_version": "1.5.0",
      "model_name": "HTMLModel",
      "state": {
       "_dom_classes": [],
       "_model_module": "@jupyter-widgets/controls",
       "_model_module_version": "1.5.0",
       "_model_name": "HTMLModel",
       "_view_count": null,
       "_view_module": "@jupyter-widgets/controls",
       "_view_module_version": "1.5.0",
       "_view_name": "HTMLView",
       "description": "",
       "description_tooltip": null,
       "layout": "IPY_MODEL_422090ec9a68438eaf6b892d912938a2",
       "placeholder": "​",
       "style": "IPY_MODEL_23fcb219e9cd4738ae3433314a109b6c",
       "value": "Dl Completed...: 100%"
      }
     },
     "302d0075c1ca42bca5c5557f1ecb3069": {
      "model_module": "@jupyter-widgets/controls",
      "model_module_version": "1.5.0",
      "model_name": "ProgressStyleModel",
      "state": {
       "_model_module": "@jupyter-widgets/controls",
       "_model_module_version": "1.5.0",
       "_model_name": "ProgressStyleModel",
       "_view_count": null,
       "_view_module": "@jupyter-widgets/base",
       "_view_module_version": "1.2.0",
       "_view_name": "StyleView",
       "bar_color": null,
       "description_width": ""
      }
     },
     "327ec1a513de45e0b118a03e3c7d5e75": {
      "model_module": "@jupyter-widgets/controls",
      "model_module_version": "1.5.0",
      "model_name": "HTMLModel",
      "state": {
       "_dom_classes": [],
       "_model_module": "@jupyter-widgets/controls",
       "_model_module_version": "1.5.0",
       "_model_name": "HTMLModel",
       "_view_count": null,
       "_view_module": "@jupyter-widgets/controls",
       "_view_module_version": "1.5.0",
       "_view_name": "HTMLView",
       "description": "",
       "description_tooltip": null,
       "layout": "IPY_MODEL_a97e4440662042cb9e07f53366932653",
       "placeholder": "​",
       "style": "IPY_MODEL_e3e86217f2514aa6b0d0d941453b2885",
       "value": " 1/1 [00:02&lt;00:00,  2.83s/ url]"
      }
     },
     "3394901fcd584493a97341e44e668789": {
      "model_module": "@jupyter-widgets/controls",
      "model_module_version": "1.5.0",
      "model_name": "DescriptionStyleModel",
      "state": {
       "_model_module": "@jupyter-widgets/controls",
       "_model_module_version": "1.5.0",
       "_model_name": "DescriptionStyleModel",
       "_view_count": null,
       "_view_module": "@jupyter-widgets/base",
       "_view_module_version": "1.2.0",
       "_view_name": "StyleView",
       "description_width": ""
      }
     },
     "341818ed98974ca6ad01466399020434": {
      "model_module": "@jupyter-widgets/base",
      "model_module_version": "1.2.0",
      "model_name": "LayoutModel",
      "state": {
       "_model_module": "@jupyter-widgets/base",
       "_model_module_version": "1.2.0",
       "_model_name": "LayoutModel",
       "_view_count": null,
       "_view_module": "@jupyter-widgets/base",
       "_view_module_version": "1.2.0",
       "_view_name": "LayoutView",
       "align_content": null,
       "align_items": null,
       "align_self": null,
       "border": null,
       "bottom": null,
       "display": null,
       "flex": null,
       "flex_flow": null,
       "grid_area": null,
       "grid_auto_columns": null,
       "grid_auto_flow": null,
       "grid_auto_rows": null,
       "grid_column": null,
       "grid_gap": null,
       "grid_row": null,
       "grid_template_areas": null,
       "grid_template_columns": null,
       "grid_template_rows": null,
       "height": null,
       "justify_content": null,
       "justify_items": null,
       "left": null,
       "margin": null,
       "max_height": null,
       "max_width": null,
       "min_height": null,
       "min_width": null,
       "object_fit": null,
       "object_position": null,
       "order": null,
       "overflow": null,
       "overflow_x": null,
       "overflow_y": null,
       "padding": null,
       "right": null,
       "top": null,
       "visibility": null,
       "width": null
      }
     },
     "343eea8f9b0746c681f914b07eeacb5d": {
      "model_module": "@jupyter-widgets/controls",
      "model_module_version": "1.5.0",
      "model_name": "DescriptionStyleModel",
      "state": {
       "_model_module": "@jupyter-widgets/controls",
       "_model_module_version": "1.5.0",
       "_model_name": "DescriptionStyleModel",
       "_view_count": null,
       "_view_module": "@jupyter-widgets/base",
       "_view_module_version": "1.2.0",
       "_view_name": "StyleView",
       "description_width": ""
      }
     },
     "357e94ae2be24891a7532b56f89c0965": {
      "model_module": "@jupyter-widgets/base",
      "model_module_version": "1.2.0",
      "model_name": "LayoutModel",
      "state": {
       "_model_module": "@jupyter-widgets/base",
       "_model_module_version": "1.2.0",
       "_model_name": "LayoutModel",
       "_view_count": null,
       "_view_module": "@jupyter-widgets/base",
       "_view_module_version": "1.2.0",
       "_view_name": "LayoutView",
       "align_content": null,
       "align_items": null,
       "align_self": null,
       "border": null,
       "bottom": null,
       "display": null,
       "flex": null,
       "flex_flow": null,
       "grid_area": null,
       "grid_auto_columns": null,
       "grid_auto_flow": null,
       "grid_auto_rows": null,
       "grid_column": null,
       "grid_gap": null,
       "grid_row": null,
       "grid_template_areas": null,
       "grid_template_columns": null,
       "grid_template_rows": null,
       "height": null,
       "justify_content": null,
       "justify_items": null,
       "left": null,
       "margin": null,
       "max_height": null,
       "max_width": null,
       "min_height": null,
       "min_width": null,
       "object_fit": null,
       "object_position": null,
       "order": null,
       "overflow": null,
       "overflow_x": null,
       "overflow_y": null,
       "padding": null,
       "right": null,
       "top": null,
       "visibility": null,
       "width": null
      }
     },
     "3660b181fa19466c96ce4b763d8214f8": {
      "model_module": "@jupyter-widgets/base",
      "model_module_version": "1.2.0",
      "model_name": "LayoutModel",
      "state": {
       "_model_module": "@jupyter-widgets/base",
       "_model_module_version": "1.2.0",
       "_model_name": "LayoutModel",
       "_view_count": null,
       "_view_module": "@jupyter-widgets/base",
       "_view_module_version": "1.2.0",
       "_view_name": "LayoutView",
       "align_content": null,
       "align_items": null,
       "align_self": null,
       "border": null,
       "bottom": null,
       "display": null,
       "flex": null,
       "flex_flow": null,
       "grid_area": null,
       "grid_auto_columns": null,
       "grid_auto_flow": null,
       "grid_auto_rows": null,
       "grid_column": null,
       "grid_gap": null,
       "grid_row": null,
       "grid_template_areas": null,
       "grid_template_columns": null,
       "grid_template_rows": null,
       "height": null,
       "justify_content": null,
       "justify_items": null,
       "left": null,
       "margin": null,
       "max_height": null,
       "max_width": null,
       "min_height": null,
       "min_width": null,
       "object_fit": null,
       "object_position": null,
       "order": null,
       "overflow": null,
       "overflow_x": null,
       "overflow_y": null,
       "padding": null,
       "right": null,
       "top": null,
       "visibility": null,
       "width": null
      }
     },
     "39a0dae78aee4a3c9d8bd5eab457b3bb": {
      "model_module": "@jupyter-widgets/base",
      "model_module_version": "1.2.0",
      "model_name": "LayoutModel",
      "state": {
       "_model_module": "@jupyter-widgets/base",
       "_model_module_version": "1.2.0",
       "_model_name": "LayoutModel",
       "_view_count": null,
       "_view_module": "@jupyter-widgets/base",
       "_view_module_version": "1.2.0",
       "_view_name": "LayoutView",
       "align_content": null,
       "align_items": null,
       "align_self": null,
       "border": null,
       "bottom": null,
       "display": null,
       "flex": null,
       "flex_flow": null,
       "grid_area": null,
       "grid_auto_columns": null,
       "grid_auto_flow": null,
       "grid_auto_rows": null,
       "grid_column": null,
       "grid_gap": null,
       "grid_row": null,
       "grid_template_areas": null,
       "grid_template_columns": null,
       "grid_template_rows": null,
       "height": null,
       "justify_content": null,
       "justify_items": null,
       "left": null,
       "margin": null,
       "max_height": null,
       "max_width": null,
       "min_height": null,
       "min_width": null,
       "object_fit": null,
       "object_position": null,
       "order": null,
       "overflow": null,
       "overflow_x": null,
       "overflow_y": null,
       "padding": null,
       "right": null,
       "top": null,
       "visibility": null,
       "width": "20px"
      }
     },
     "3c6b9507d8b14205b87ba066d4fe3718": {
      "model_module": "@jupyter-widgets/base",
      "model_module_version": "1.2.0",
      "model_name": "LayoutModel",
      "state": {
       "_model_module": "@jupyter-widgets/base",
       "_model_module_version": "1.2.0",
       "_model_name": "LayoutModel",
       "_view_count": null,
       "_view_module": "@jupyter-widgets/base",
       "_view_module_version": "1.2.0",
       "_view_name": "LayoutView",
       "align_content": null,
       "align_items": null,
       "align_self": null,
       "border": null,
       "bottom": null,
       "display": null,
       "flex": null,
       "flex_flow": null,
       "grid_area": null,
       "grid_auto_columns": null,
       "grid_auto_flow": null,
       "grid_auto_rows": null,
       "grid_column": null,
       "grid_gap": null,
       "grid_row": null,
       "grid_template_areas": null,
       "grid_template_columns": null,
       "grid_template_rows": null,
       "height": null,
       "justify_content": null,
       "justify_items": null,
       "left": null,
       "margin": null,
       "max_height": null,
       "max_width": null,
       "min_height": null,
       "min_width": null,
       "object_fit": null,
       "object_position": null,
       "order": null,
       "overflow": null,
       "overflow_x": null,
       "overflow_y": null,
       "padding": null,
       "right": null,
       "top": null,
       "visibility": null,
       "width": null
      }
     },
     "3eec2530b7d044d39f1a15d59de94783": {
      "model_module": "@jupyter-widgets/controls",
      "model_module_version": "1.5.0",
      "model_name": "FloatProgressModel",
      "state": {
       "_dom_classes": [],
       "_model_module": "@jupyter-widgets/controls",
       "_model_module_version": "1.5.0",
       "_model_name": "FloatProgressModel",
       "_view_count": null,
       "_view_module": "@jupyter-widgets/controls",
       "_view_module_version": "1.5.0",
       "_view_name": "ProgressView",
       "bar_style": "danger",
       "description": "",
       "description_tooltip": null,
       "layout": "IPY_MODEL_9dab83743238449e9cf9ea7c25dc2649",
       "max": 25000.0,
       "min": 0.0,
       "orientation": "horizontal",
       "style": "IPY_MODEL_731939d801ab4102999d1b1966b8b769",
       "value": 24999.0
      }
     },
     "40e234943d6f4e639f2a25f7f18ada80": {
      "model_module": "@jupyter-widgets/base",
      "model_module_version": "1.2.0",
      "model_name": "LayoutModel",
      "state": {
       "_model_module": "@jupyter-widgets/base",
       "_model_module_version": "1.2.0",
       "_model_name": "LayoutModel",
       "_view_count": null,
       "_view_module": "@jupyter-widgets/base",
       "_view_module_version": "1.2.0",
       "_view_name": "LayoutView",
       "align_content": null,
       "align_items": null,
       "align_self": null,
       "border": null,
       "bottom": null,
       "display": null,
       "flex": null,
       "flex_flow": null,
       "grid_area": null,
       "grid_auto_columns": null,
       "grid_auto_flow": null,
       "grid_auto_rows": null,
       "grid_column": null,
       "grid_gap": null,
       "grid_row": null,
       "grid_template_areas": null,
       "grid_template_columns": null,
       "grid_template_rows": null,
       "height": null,
       "justify_content": null,
       "justify_items": null,
       "left": null,
       "margin": null,
       "max_height": null,
       "max_width": null,
       "min_height": null,
       "min_width": null,
       "object_fit": null,
       "object_position": null,
       "order": null,
       "overflow": null,
       "overflow_x": null,
       "overflow_y": null,
       "padding": null,
       "right": null,
       "top": null,
       "visibility": null,
       "width": null
      }
     },
     "417771b8ecea450ebc8baef76a35682f": {
      "model_module": "@jupyter-widgets/controls",
      "model_module_version": "1.5.0",
      "model_name": "HTMLModel",
      "state": {
       "_dom_classes": [],
       "_model_module": "@jupyter-widgets/controls",
       "_model_module_version": "1.5.0",
       "_model_name": "HTMLModel",
       "_view_count": null,
       "_view_module": "@jupyter-widgets/controls",
       "_view_module_version": "1.5.0",
       "_view_name": "HTMLView",
       "description": "",
       "description_tooltip": null,
       "layout": "IPY_MODEL_aeb05d63630f409a9ca736243fe549d6",
       "placeholder": "​",
       "style": "IPY_MODEL_0e92892497604f41ac9f238844163019",
       "value": "100%"
      }
     },
     "422090ec9a68438eaf6b892d912938a2": {
      "model_module": "@jupyter-widgets/base",
      "model_module_version": "1.2.0",
      "model_name": "LayoutModel",
      "state": {
       "_model_module": "@jupyter-widgets/base",
       "_model_module_version": "1.2.0",
       "_model_name": "LayoutModel",
       "_view_count": null,
       "_view_module": "@jupyter-widgets/base",
       "_view_module_version": "1.2.0",
       "_view_name": "LayoutView",
       "align_content": null,
       "align_items": null,
       "align_self": null,
       "border": null,
       "bottom": null,
       "display": null,
       "flex": null,
       "flex_flow": null,
       "grid_area": null,
       "grid_auto_columns": null,
       "grid_auto_flow": null,
       "grid_auto_rows": null,
       "grid_column": null,
       "grid_gap": null,
       "grid_row": null,
       "grid_template_areas": null,
       "grid_template_columns": null,
       "grid_template_rows": null,
       "height": null,
       "justify_content": null,
       "justify_items": null,
       "left": null,
       "margin": null,
       "max_height": null,
       "max_width": null,
       "min_height": null,
       "min_width": null,
       "object_fit": null,
       "object_position": null,
       "order": null,
       "overflow": null,
       "overflow_x": null,
       "overflow_y": null,
       "padding": null,
       "right": null,
       "top": null,
       "visibility": null,
       "width": null
      }
     },
     "4a732f6d5647476a8364cc313e1a4953": {
      "model_module": "@jupyter-widgets/controls",
      "model_module_version": "1.5.0",
      "model_name": "DescriptionStyleModel",
      "state": {
       "_model_module": "@jupyter-widgets/controls",
       "_model_module_version": "1.5.0",
       "_model_name": "DescriptionStyleModel",
       "_view_count": null,
       "_view_module": "@jupyter-widgets/base",
       "_view_module_version": "1.2.0",
       "_view_name": "StyleView",
       "description_width": ""
      }
     },
     "4ef35161f69f47058e3543a51643071b": {
      "model_module": "@jupyter-widgets/controls",
      "model_module_version": "1.5.0",
      "model_name": "HBoxModel",
      "state": {
       "_dom_classes": [],
       "_model_module": "@jupyter-widgets/controls",
       "_model_module_version": "1.5.0",
       "_model_name": "HBoxModel",
       "_view_count": null,
       "_view_module": "@jupyter-widgets/controls",
       "_view_module_version": "1.5.0",
       "_view_name": "HBoxView",
       "box_style": "",
       "children": [
        "IPY_MODEL_aa7e7d3fd74744929ef9ffeb92efcaa6",
        "IPY_MODEL_8f076bd527a944ec833163ad7e6834ca",
        "IPY_MODEL_95855da63f5e4cd0aa9d0f6b28d6fb67"
       ],
       "layout": "IPY_MODEL_eaf5f00c5e2041a29466f006bea3ed8b"
      }
     },
     "559f1b9ffcba4a6ab7bd03b94287afd7": {
      "model_module": "@jupyter-widgets/base",
      "model_module_version": "1.2.0",
      "model_name": "LayoutModel",
      "state": {
       "_model_module": "@jupyter-widgets/base",
       "_model_module_version": "1.2.0",
       "_model_name": "LayoutModel",
       "_view_count": null,
       "_view_module": "@jupyter-widgets/base",
       "_view_module_version": "1.2.0",
       "_view_name": "LayoutView",
       "align_content": null,
       "align_items": null,
       "align_self": null,
       "border": null,
       "bottom": null,
       "display": null,
       "flex": null,
       "flex_flow": null,
       "grid_area": null,
       "grid_auto_columns": null,
       "grid_auto_flow": null,
       "grid_auto_rows": null,
       "grid_column": null,
       "grid_gap": null,
       "grid_row": null,
       "grid_template_areas": null,
       "grid_template_columns": null,
       "grid_template_rows": null,
       "height": null,
       "justify_content": null,
       "justify_items": null,
       "left": null,
       "margin": null,
       "max_height": null,
       "max_width": null,
       "min_height": null,
       "min_width": null,
       "object_fit": null,
       "object_position": null,
       "order": null,
       "overflow": null,
       "overflow_x": null,
       "overflow_y": null,
       "padding": null,
       "right": null,
       "top": null,
       "visibility": null,
       "width": null
      }
     },
     "5614b9b1fe9048138cdb4525185efda4": {
      "model_module": "@jupyter-widgets/controls",
      "model_module_version": "1.5.0",
      "model_name": "ProgressStyleModel",
      "state": {
       "_model_module": "@jupyter-widgets/controls",
       "_model_module_version": "1.5.0",
       "_model_name": "ProgressStyleModel",
       "_view_count": null,
       "_view_module": "@jupyter-widgets/base",
       "_view_module_version": "1.2.0",
       "_view_name": "StyleView",
       "bar_color": null,
       "description_width": ""
      }
     },
     "5b39948003a843fda64f39d5b676418a": {
      "model_module": "@jupyter-widgets/controls",
      "model_module_version": "1.5.0",
      "model_name": "HTMLModel",
      "state": {
       "_dom_classes": [],
       "_model_module": "@jupyter-widgets/controls",
       "_model_module_version": "1.5.0",
       "_model_name": "HTMLModel",
       "_view_count": null,
       "_view_module": "@jupyter-widgets/controls",
       "_view_module_version": "1.5.0",
       "_view_name": "HTMLView",
       "description": "",
       "description_tooltip": null,
       "layout": "IPY_MODEL_60e2c589b7f04129bf7b4a2c75638a02",
       "placeholder": "​",
       "style": "IPY_MODEL_343eea8f9b0746c681f914b07eeacb5d",
       "value": " 24963/0 [00:08&lt;00:00, 3190.18 examples/s]"
      }
     },
     "5c1600c899084630b50090fb117ce3fd": {
      "model_module": "@jupyter-widgets/base",
      "model_module_version": "1.2.0",
      "model_name": "LayoutModel",
      "state": {
       "_model_module": "@jupyter-widgets/base",
       "_model_module_version": "1.2.0",
       "_model_name": "LayoutModel",
       "_view_count": null,
       "_view_module": "@jupyter-widgets/base",
       "_view_module_version": "1.2.0",
       "_view_name": "LayoutView",
       "align_content": null,
       "align_items": null,
       "align_self": null,
       "border": null,
       "bottom": null,
       "display": null,
       "flex": null,
       "flex_flow": null,
       "grid_area": null,
       "grid_auto_columns": null,
       "grid_auto_flow": null,
       "grid_auto_rows": null,
       "grid_column": null,
       "grid_gap": null,
       "grid_row": null,
       "grid_template_areas": null,
       "grid_template_columns": null,
       "grid_template_rows": null,
       "height": null,
       "justify_content": null,
       "justify_items": null,
       "left": null,
       "margin": null,
       "max_height": null,
       "max_width": null,
       "min_height": null,
       "min_width": null,
       "object_fit": null,
       "object_position": null,
       "order": null,
       "overflow": null,
       "overflow_x": null,
       "overflow_y": null,
       "padding": null,
       "right": null,
       "top": null,
       "visibility": null,
       "width": null
      }
     },
     "5cb280b9194f4fbbbf437db531bfade3": {
      "model_module": "@jupyter-widgets/controls",
      "model_module_version": "1.5.0",
      "model_name": "HTMLModel",
      "state": {
       "_dom_classes": [],
       "_model_module": "@jupyter-widgets/controls",
       "_model_module_version": "1.5.0",
       "_model_name": "HTMLModel",
       "_view_count": null,
       "_view_module": "@jupyter-widgets/controls",
       "_view_module_version": "1.5.0",
       "_view_name": "HTMLView",
       "description": "",
       "description_tooltip": null,
       "layout": "IPY_MODEL_1218d5ea417b470981908cca9c60f664",
       "placeholder": "​",
       "style": "IPY_MODEL_0b764ad7ab194a5284b00a84e66c520a",
       "value": "100%"
      }
     },
     "6007fa9ecb8c472db419ca5f90a53db7": {
      "model_module": "@jupyter-widgets/controls",
      "model_module_version": "1.5.0",
      "model_name": "DescriptionStyleModel",
      "state": {
       "_model_module": "@jupyter-widgets/controls",
       "_model_module_version": "1.5.0",
       "_model_name": "DescriptionStyleModel",
       "_view_count": null,
       "_view_module": "@jupyter-widgets/base",
       "_view_module_version": "1.2.0",
       "_view_name": "StyleView",
       "description_width": ""
      }
     },
     "60e2c589b7f04129bf7b4a2c75638a02": {
      "model_module": "@jupyter-widgets/base",
      "model_module_version": "1.2.0",
      "model_name": "LayoutModel",
      "state": {
       "_model_module": "@jupyter-widgets/base",
       "_model_module_version": "1.2.0",
       "_model_name": "LayoutModel",
       "_view_count": null,
       "_view_module": "@jupyter-widgets/base",
       "_view_module_version": "1.2.0",
       "_view_name": "LayoutView",
       "align_content": null,
       "align_items": null,
       "align_self": null,
       "border": null,
       "bottom": null,
       "display": null,
       "flex": null,
       "flex_flow": null,
       "grid_area": null,
       "grid_auto_columns": null,
       "grid_auto_flow": null,
       "grid_auto_rows": null,
       "grid_column": null,
       "grid_gap": null,
       "grid_row": null,
       "grid_template_areas": null,
       "grid_template_columns": null,
       "grid_template_rows": null,
       "height": null,
       "justify_content": null,
       "justify_items": null,
       "left": null,
       "margin": null,
       "max_height": null,
       "max_width": null,
       "min_height": null,
       "min_width": null,
       "object_fit": null,
       "object_position": null,
       "order": null,
       "overflow": null,
       "overflow_x": null,
       "overflow_y": null,
       "padding": null,
       "right": null,
       "top": null,
       "visibility": null,
       "width": null
      }
     },
     "6304512ecdaf4a0689c44e44d6b30bd1": {
      "model_module": "@jupyter-widgets/controls",
      "model_module_version": "1.5.0",
      "model_name": "HTMLModel",
      "state": {
       "_dom_classes": [],
       "_model_module": "@jupyter-widgets/controls",
       "_model_module_version": "1.5.0",
       "_model_name": "HTMLModel",
       "_view_count": null,
       "_view_module": "@jupyter-widgets/controls",
       "_view_module_version": "1.5.0",
       "_view_name": "HTMLView",
       "description": "",
       "description_tooltip": null,
       "layout": "IPY_MODEL_3660b181fa19466c96ce4b763d8214f8",
       "placeholder": "​",
       "style": "IPY_MODEL_7629a1a89a684b7594954d3a477a562c",
       "value": " 24999/25000 [00:00&lt;00:00, 95788.44 examples/s]"
      }
     },
     "63ad4f68d3914b89a4fdc655a949d1c0": {
      "model_module": "@jupyter-widgets/base",
      "model_module_version": "1.2.0",
      "model_name": "LayoutModel",
      "state": {
       "_model_module": "@jupyter-widgets/base",
       "_model_module_version": "1.2.0",
       "_model_name": "LayoutModel",
       "_view_count": null,
       "_view_module": "@jupyter-widgets/base",
       "_view_module_version": "1.2.0",
       "_view_name": "LayoutView",
       "align_content": null,
       "align_items": null,
       "align_self": null,
       "border": null,
       "bottom": null,
       "display": null,
       "flex": null,
       "flex_flow": null,
       "grid_area": null,
       "grid_auto_columns": null,
       "grid_auto_flow": null,
       "grid_auto_rows": null,
       "grid_column": null,
       "grid_gap": null,
       "grid_row": null,
       "grid_template_areas": null,
       "grid_template_columns": null,
       "grid_template_rows": null,
       "height": null,
       "justify_content": null,
       "justify_items": null,
       "left": null,
       "margin": null,
       "max_height": null,
       "max_width": null,
       "min_height": null,
       "min_width": null,
       "object_fit": null,
       "object_position": null,
       "order": null,
       "overflow": null,
       "overflow_x": null,
       "overflow_y": null,
       "padding": null,
       "right": null,
       "top": null,
       "visibility": null,
       "width": null
      }
     },
     "64df22d9be494d3ab8ee2f2efb98f819": {
      "model_module": "@jupyter-widgets/controls",
      "model_module_version": "1.5.0",
      "model_name": "DescriptionStyleModel",
      "state": {
       "_model_module": "@jupyter-widgets/controls",
       "_model_module_version": "1.5.0",
       "_model_name": "DescriptionStyleModel",
       "_view_count": null,
       "_view_module": "@jupyter-widgets/base",
       "_view_module_version": "1.2.0",
       "_view_name": "StyleView",
       "description_width": ""
      }
     },
     "695d92cb114446aa911c3bed23eb059f": {
      "model_module": "@jupyter-widgets/controls",
      "model_module_version": "1.5.0",
      "model_name": "ProgressStyleModel",
      "state": {
       "_model_module": "@jupyter-widgets/controls",
       "_model_module_version": "1.5.0",
       "_model_name": "ProgressStyleModel",
       "_view_count": null,
       "_view_module": "@jupyter-widgets/base",
       "_view_module_version": "1.2.0",
       "_view_name": "StyleView",
       "bar_color": null,
       "description_width": ""
      }
     },
     "6bad1d589348455d87e683bcf88b91c1": {
      "model_module": "@jupyter-widgets/controls",
      "model_module_version": "1.5.0",
      "model_name": "ProgressStyleModel",
      "state": {
       "_model_module": "@jupyter-widgets/controls",
       "_model_module_version": "1.5.0",
       "_model_name": "ProgressStyleModel",
       "_view_count": null,
       "_view_module": "@jupyter-widgets/base",
       "_view_module_version": "1.2.0",
       "_view_name": "StyleView",
       "bar_color": null,
       "description_width": ""
      }
     },
     "731939d801ab4102999d1b1966b8b769": {
      "model_module": "@jupyter-widgets/controls",
      "model_module_version": "1.5.0",
      "model_name": "ProgressStyleModel",
      "state": {
       "_model_module": "@jupyter-widgets/controls",
       "_model_module_version": "1.5.0",
       "_model_name": "ProgressStyleModel",
       "_view_count": null,
       "_view_module": "@jupyter-widgets/base",
       "_view_module_version": "1.2.0",
       "_view_name": "StyleView",
       "bar_color": null,
       "description_width": ""
      }
     },
     "73f5b20ceb3f45acae686a520686f53d": {
      "model_module": "@jupyter-widgets/base",
      "model_module_version": "1.2.0",
      "model_name": "LayoutModel",
      "state": {
       "_model_module": "@jupyter-widgets/base",
       "_model_module_version": "1.2.0",
       "_model_name": "LayoutModel",
       "_view_count": null,
       "_view_module": "@jupyter-widgets/base",
       "_view_module_version": "1.2.0",
       "_view_name": "LayoutView",
       "align_content": null,
       "align_items": null,
       "align_self": null,
       "border": null,
       "bottom": null,
       "display": null,
       "flex": null,
       "flex_flow": null,
       "grid_area": null,
       "grid_auto_columns": null,
       "grid_auto_flow": null,
       "grid_auto_rows": null,
       "grid_column": null,
       "grid_gap": null,
       "grid_row": null,
       "grid_template_areas": null,
       "grid_template_columns": null,
       "grid_template_rows": null,
       "height": null,
       "justify_content": null,
       "justify_items": null,
       "left": null,
       "margin": null,
       "max_height": null,
       "max_width": null,
       "min_height": null,
       "min_width": null,
       "object_fit": null,
       "object_position": null,
       "order": null,
       "overflow": null,
       "overflow_x": null,
       "overflow_y": null,
       "padding": null,
       "right": null,
       "top": null,
       "visibility": null,
       "width": null
      }
     },
     "741b8bfd7dd9468e8c4d12d39a592a86": {
      "model_module": "@jupyter-widgets/controls",
      "model_module_version": "1.5.0",
      "model_name": "HTMLModel",
      "state": {
       "_dom_classes": [],
       "_model_module": "@jupyter-widgets/controls",
       "_model_module_version": "1.5.0",
       "_model_name": "HTMLModel",
       "_view_count": null,
       "_view_module": "@jupyter-widgets/controls",
       "_view_module_version": "1.5.0",
       "_view_name": "HTMLView",
       "description": "",
       "description_tooltip": null,
       "layout": "IPY_MODEL_baf243e63f6c48278890a38fdd780c8b",
       "placeholder": "​",
       "style": "IPY_MODEL_6007fa9ecb8c472db419ca5f90a53db7",
       "value": ""
      }
     },
     "7629a1a89a684b7594954d3a477a562c": {
      "model_module": "@jupyter-widgets/controls",
      "model_module_version": "1.5.0",
      "model_name": "DescriptionStyleModel",
      "state": {
       "_model_module": "@jupyter-widgets/controls",
       "_model_module_version": "1.5.0",
       "_model_name": "DescriptionStyleModel",
       "_view_count": null,
       "_view_module": "@jupyter-widgets/base",
       "_view_module_version": "1.2.0",
       "_view_name": "StyleView",
       "description_width": ""
      }
     },
     "7b213c75d4c844f695fd6b087088aba2": {
      "model_module": "@jupyter-widgets/base",
      "model_module_version": "1.2.0",
      "model_name": "LayoutModel",
      "state": {
       "_model_module": "@jupyter-widgets/base",
       "_model_module_version": "1.2.0",
       "_model_name": "LayoutModel",
       "_view_count": null,
       "_view_module": "@jupyter-widgets/base",
       "_view_module_version": "1.2.0",
       "_view_name": "LayoutView",
       "align_content": null,
       "align_items": null,
       "align_self": null,
       "border": null,
       "bottom": null,
       "display": null,
       "flex": null,
       "flex_flow": null,
       "grid_area": null,
       "grid_auto_columns": null,
       "grid_auto_flow": null,
       "grid_auto_rows": null,
       "grid_column": null,
       "grid_gap": null,
       "grid_row": null,
       "grid_template_areas": null,
       "grid_template_columns": null,
       "grid_template_rows": null,
       "height": null,
       "justify_content": null,
       "justify_items": null,
       "left": null,
       "margin": null,
       "max_height": null,
       "max_width": null,
       "min_height": null,
       "min_width": null,
       "object_fit": null,
       "object_position": null,
       "order": null,
       "overflow": null,
       "overflow_x": null,
       "overflow_y": null,
       "padding": null,
       "right": null,
       "top": null,
       "visibility": null,
       "width": null
      }
     },
     "82d43aac52c8405783a9cb4c81ad706d": {
      "model_module": "@jupyter-widgets/controls",
      "model_module_version": "1.5.0",
      "model_name": "HTMLModel",
      "state": {
       "_dom_classes": [],
       "_model_module": "@jupyter-widgets/controls",
       "_model_module_version": "1.5.0",
       "_model_name": "HTMLModel",
       "_view_count": null,
       "_view_module": "@jupyter-widgets/controls",
       "_view_module_version": "1.5.0",
       "_view_name": "HTMLView",
       "description": "",
       "description_tooltip": null,
       "layout": "IPY_MODEL_1643867a292e4f129902c81ebc612101",
       "placeholder": "​",
       "style": "IPY_MODEL_2a5fb73ac010468fb0417cadf42021c1",
       "value": " 49819/0 [00:21&lt;00:00, 3234.66 examples/s]"
      }
     },
     "8452667ca9044434bb1cb76cf6cf837a": {
      "model_module": "@jupyter-widgets/base",
      "model_module_version": "1.2.0",
      "model_name": "LayoutModel",
      "state": {
       "_model_module": "@jupyter-widgets/base",
       "_model_module_version": "1.2.0",
       "_model_name": "LayoutModel",
       "_view_count": null,
       "_view_module": "@jupyter-widgets/base",
       "_view_module_version": "1.2.0",
       "_view_name": "LayoutView",
       "align_content": null,
       "align_items": null,
       "align_self": null,
       "border": null,
       "bottom": null,
       "display": null,
       "flex": null,
       "flex_flow": null,
       "grid_area": null,
       "grid_auto_columns": null,
       "grid_auto_flow": null,
       "grid_auto_rows": null,
       "grid_column": null,
       "grid_gap": null,
       "grid_row": null,
       "grid_template_areas": null,
       "grid_template_columns": null,
       "grid_template_rows": null,
       "height": null,
       "justify_content": null,
       "justify_items": null,
       "left": null,
       "margin": null,
       "max_height": null,
       "max_width": null,
       "min_height": null,
       "min_width": null,
       "object_fit": null,
       "object_position": null,
       "order": null,
       "overflow": null,
       "overflow_x": null,
       "overflow_y": null,
       "padding": null,
       "right": null,
       "top": null,
       "visibility": null,
       "width": null
      }
     },
     "8a49145ff9164e5d99d03bfebde36e3f": {
      "model_module": "@jupyter-widgets/controls",
      "model_module_version": "1.5.0",
      "model_name": "FloatProgressModel",
      "state": {
       "_dom_classes": [],
       "_model_module": "@jupyter-widgets/controls",
       "_model_module_version": "1.5.0",
       "_model_name": "FloatProgressModel",
       "_view_count": null,
       "_view_module": "@jupyter-widgets/controls",
       "_view_module_version": "1.5.0",
       "_view_name": "ProgressView",
       "bar_style": "danger",
       "description": "",
       "description_tooltip": null,
       "layout": "IPY_MODEL_bab967e9bbed442e8ab8b7776f8c0ed0",
       "max": 25000.0,
       "min": 0.0,
       "orientation": "horizontal",
       "style": "IPY_MODEL_695d92cb114446aa911c3bed23eb059f",
       "value": 24999.0
      }
     },
     "8b034d7d41874970b5bbce73c821ee0a": {
      "model_module": "@jupyter-widgets/controls",
      "model_module_version": "1.5.0",
      "model_name": "DescriptionStyleModel",
      "state": {
       "_model_module": "@jupyter-widgets/controls",
       "_model_module_version": "1.5.0",
       "_model_name": "DescriptionStyleModel",
       "_view_count": null,
       "_view_module": "@jupyter-widgets/base",
       "_view_module_version": "1.2.0",
       "_view_name": "StyleView",
       "description_width": ""
      }
     },
     "8ed6e7a4029c4717b624f8449bb79c74": {
      "model_module": "@jupyter-widgets/controls",
      "model_module_version": "1.5.0",
      "model_name": "FloatProgressModel",
      "state": {
       "_dom_classes": [],
       "_model_module": "@jupyter-widgets/controls",
       "_model_module_version": "1.5.0",
       "_model_name": "FloatProgressModel",
       "_view_count": null,
       "_view_module": "@jupyter-widgets/controls",
       "_view_module_version": "1.5.0",
       "_view_name": "ProgressView",
       "bar_style": "info",
       "description": "",
       "description_tooltip": null,
       "layout": "IPY_MODEL_b3c0b77c904a4f15aed0d9ff57e6ebcf",
       "max": 1.0,
       "min": 0.0,
       "orientation": "horizontal",
       "style": "IPY_MODEL_e1654adf8b0f4ac9931fe0b88b8d946a",
       "value": 1.0
      }
     },
     "8f076bd527a944ec833163ad7e6834ca": {
      "model_module": "@jupyter-widgets/controls",
      "model_module_version": "1.5.0",
      "model_name": "FloatProgressModel",
      "state": {
       "_dom_classes": [],
       "_model_module": "@jupyter-widgets/controls",
       "_model_module_version": "1.5.0",
       "_model_name": "FloatProgressModel",
       "_view_count": null,
       "_view_module": "@jupyter-widgets/controls",
       "_view_module_version": "1.5.0",
       "_view_name": "ProgressView",
       "bar_style": "success",
       "description": "",
       "description_tooltip": null,
       "layout": "IPY_MODEL_9043c476ba8a4fe2a212ac45a0da5fca",
       "max": 1.0,
       "min": 0.0,
       "orientation": "horizontal",
       "style": "IPY_MODEL_6bad1d589348455d87e683bcf88b91c1",
       "value": 1.0
      }
     },
     "9043c476ba8a4fe2a212ac45a0da5fca": {
      "model_module": "@jupyter-widgets/base",
      "model_module_version": "1.2.0",
      "model_name": "LayoutModel",
      "state": {
       "_model_module": "@jupyter-widgets/base",
       "_model_module_version": "1.2.0",
       "_model_name": "LayoutModel",
       "_view_count": null,
       "_view_module": "@jupyter-widgets/base",
       "_view_module_version": "1.2.0",
       "_view_name": "LayoutView",
       "align_content": null,
       "align_items": null,
       "align_self": null,
       "border": null,
       "bottom": null,
       "display": null,
       "flex": null,
       "flex_flow": null,
       "grid_area": null,
       "grid_auto_columns": null,
       "grid_auto_flow": null,
       "grid_auto_rows": null,
       "grid_column": null,
       "grid_gap": null,
       "grid_row": null,
       "grid_template_areas": null,
       "grid_template_columns": null,
       "grid_template_rows": null,
       "height": null,
       "justify_content": null,
       "justify_items": null,
       "left": null,
       "margin": null,
       "max_height": null,
       "max_width": null,
       "min_height": null,
       "min_width": null,
       "object_fit": null,
       "object_position": null,
       "order": null,
       "overflow": null,
       "overflow_x": null,
       "overflow_y": null,
       "padding": null,
       "right": null,
       "top": null,
       "visibility": null,
       "width": "20px"
      }
     },
     "95855da63f5e4cd0aa9d0f6b28d6fb67": {
      "model_module": "@jupyter-widgets/controls",
      "model_module_version": "1.5.0",
      "model_name": "HTMLModel",
      "state": {
       "_dom_classes": [],
       "_model_module": "@jupyter-widgets/controls",
       "_model_module_version": "1.5.0",
       "_model_name": "HTMLModel",
       "_view_count": null,
       "_view_module": "@jupyter-widgets/controls",
       "_view_module_version": "1.5.0",
       "_view_name": "HTMLView",
       "description": "",
       "description_tooltip": null,
       "layout": "IPY_MODEL_f3288cc941b8466c8feb77d6d8dea807",
       "placeholder": "​",
       "style": "IPY_MODEL_8b034d7d41874970b5bbce73c821ee0a",
       "value": " 80/80 [00:02&lt;00:00, 54.65 MiB/s]"
      }
     },
     "99f3431a512e496885f744ac6b0c12cf": {
      "model_module": "@jupyter-widgets/controls",
      "model_module_version": "1.5.0",
      "model_name": "FloatProgressModel",
      "state": {
       "_dom_classes": [],
       "_model_module": "@jupyter-widgets/controls",
       "_model_module_version": "1.5.0",
       "_model_name": "FloatProgressModel",
       "_view_count": null,
       "_view_module": "@jupyter-widgets/controls",
       "_view_module_version": "1.5.0",
       "_view_name": "ProgressView",
       "bar_style": "danger",
       "description": "",
       "description_tooltip": null,
       "layout": "IPY_MODEL_40e234943d6f4e639f2a25f7f18ada80",
       "max": 50000.0,
       "min": 0.0,
       "orientation": "horizontal",
       "style": "IPY_MODEL_302d0075c1ca42bca5c5557f1ecb3069",
       "value": 49999.0
      }
     },
     "9dab83743238449e9cf9ea7c25dc2649": {
      "model_module": "@jupyter-widgets/base",
      "model_module_version": "1.2.0",
      "model_name": "LayoutModel",
      "state": {
       "_model_module": "@jupyter-widgets/base",
       "_model_module_version": "1.2.0",
       "_model_name": "LayoutModel",
       "_view_count": null,
       "_view_module": "@jupyter-widgets/base",
       "_view_module_version": "1.2.0",
       "_view_name": "LayoutView",
       "align_content": null,
       "align_items": null,
       "align_self": null,
       "border": null,
       "bottom": null,
       "display": null,
       "flex": null,
       "flex_flow": null,
       "grid_area": null,
       "grid_auto_columns": null,
       "grid_auto_flow": null,
       "grid_auto_rows": null,
       "grid_column": null,
       "grid_gap": null,
       "grid_row": null,
       "grid_template_areas": null,
       "grid_template_columns": null,
       "grid_template_rows": null,
       "height": null,
       "justify_content": null,
       "justify_items": null,
       "left": null,
       "margin": null,
       "max_height": null,
       "max_width": null,
       "min_height": null,
       "min_width": null,
       "object_fit": null,
       "object_position": null,
       "order": null,
       "overflow": null,
       "overflow_x": null,
       "overflow_y": null,
       "padding": null,
       "right": null,
       "top": null,
       "visibility": null,
       "width": null
      }
     },
     "a8889acc65d94306bd0b17e5b478d8e5": {
      "model_module": "@jupyter-widgets/base",
      "model_module_version": "1.2.0",
      "model_name": "LayoutModel",
      "state": {
       "_model_module": "@jupyter-widgets/base",
       "_model_module_version": "1.2.0",
       "_model_name": "LayoutModel",
       "_view_count": null,
       "_view_module": "@jupyter-widgets/base",
       "_view_module_version": "1.2.0",
       "_view_name": "LayoutView",
       "align_content": null,
       "align_items": null,
       "align_self": null,
       "border": null,
       "bottom": null,
       "display": null,
       "flex": null,
       "flex_flow": null,
       "grid_area": null,
       "grid_auto_columns": null,
       "grid_auto_flow": null,
       "grid_auto_rows": null,
       "grid_column": null,
       "grid_gap": null,
       "grid_row": null,
       "grid_template_areas": null,
       "grid_template_columns": null,
       "grid_template_rows": null,
       "height": null,
       "justify_content": null,
       "justify_items": null,
       "left": null,
       "margin": null,
       "max_height": null,
       "max_width": null,
       "min_height": null,
       "min_width": null,
       "object_fit": null,
       "object_position": null,
       "order": null,
       "overflow": null,
       "overflow_x": null,
       "overflow_y": null,
       "padding": null,
       "right": null,
       "top": null,
       "visibility": null,
       "width": null
      }
     },
     "a97e4440662042cb9e07f53366932653": {
      "model_module": "@jupyter-widgets/base",
      "model_module_version": "1.2.0",
      "model_name": "LayoutModel",
      "state": {
       "_model_module": "@jupyter-widgets/base",
       "_model_module_version": "1.2.0",
       "_model_name": "LayoutModel",
       "_view_count": null,
       "_view_module": "@jupyter-widgets/base",
       "_view_module_version": "1.2.0",
       "_view_name": "LayoutView",
       "align_content": null,
       "align_items": null,
       "align_self": null,
       "border": null,
       "bottom": null,
       "display": null,
       "flex": null,
       "flex_flow": null,
       "grid_area": null,
       "grid_auto_columns": null,
       "grid_auto_flow": null,
       "grid_auto_rows": null,
       "grid_column": null,
       "grid_gap": null,
       "grid_row": null,
       "grid_template_areas": null,
       "grid_template_columns": null,
       "grid_template_rows": null,
       "height": null,
       "justify_content": null,
       "justify_items": null,
       "left": null,
       "margin": null,
       "max_height": null,
       "max_width": null,
       "min_height": null,
       "min_width": null,
       "object_fit": null,
       "object_position": null,
       "order": null,
       "overflow": null,
       "overflow_x": null,
       "overflow_y": null,
       "padding": null,
       "right": null,
       "top": null,
       "visibility": null,
       "width": null
      }
     },
     "aa7e7d3fd74744929ef9ffeb92efcaa6": {
      "model_module": "@jupyter-widgets/controls",
      "model_module_version": "1.5.0",
      "model_name": "HTMLModel",
      "state": {
       "_dom_classes": [],
       "_model_module": "@jupyter-widgets/controls",
       "_model_module_version": "1.5.0",
       "_model_name": "HTMLModel",
       "_view_count": null,
       "_view_module": "@jupyter-widgets/controls",
       "_view_module_version": "1.5.0",
       "_view_name": "HTMLView",
       "description": "",
       "description_tooltip": null,
       "layout": "IPY_MODEL_7b213c75d4c844f695fd6b087088aba2",
       "placeholder": "​",
       "style": "IPY_MODEL_e00e6a72da6347548f903b672bdfda7d",
       "value": "Dl Size...: 100%"
      }
     },
     "ac44f4d59d15469eabd19ff83fed6510": {
      "model_module": "@jupyter-widgets/controls",
      "model_module_version": "1.5.0",
      "model_name": "HBoxModel",
      "state": {
       "_dom_classes": [],
       "_model_module": "@jupyter-widgets/controls",
       "_model_module_version": "1.5.0",
       "_model_name": "HBoxModel",
       "_view_count": null,
       "_view_module": "@jupyter-widgets/controls",
       "_view_module_version": "1.5.0",
       "_view_name": "HBoxView",
       "box_style": "",
       "children": [
        "IPY_MODEL_5cb280b9194f4fbbbf437db531bfade3",
        "IPY_MODEL_8a49145ff9164e5d99d03bfebde36e3f",
        "IPY_MODEL_e4d51a00df86412fa6614e360429acd9"
       ],
       "layout": "IPY_MODEL_8452667ca9044434bb1cb76cf6cf837a"
      }
     },
     "aeb05d63630f409a9ca736243fe549d6": {
      "model_module": "@jupyter-widgets/base",
      "model_module_version": "1.2.0",
      "model_name": "LayoutModel",
      "state": {
       "_model_module": "@jupyter-widgets/base",
       "_model_module_version": "1.2.0",
       "_model_name": "LayoutModel",
       "_view_count": null,
       "_view_module": "@jupyter-widgets/base",
       "_view_module_version": "1.2.0",
       "_view_name": "LayoutView",
       "align_content": null,
       "align_items": null,
       "align_self": null,
       "border": null,
       "bottom": null,
       "display": null,
       "flex": null,
       "flex_flow": null,
       "grid_area": null,
       "grid_auto_columns": null,
       "grid_auto_flow": null,
       "grid_auto_rows": null,
       "grid_column": null,
       "grid_gap": null,
       "grid_row": null,
       "grid_template_areas": null,
       "grid_template_columns": null,
       "grid_template_rows": null,
       "height": null,
       "justify_content": null,
       "justify_items": null,
       "left": null,
       "margin": null,
       "max_height": null,
       "max_width": null,
       "min_height": null,
       "min_width": null,
       "object_fit": null,
       "object_position": null,
       "order": null,
       "overflow": null,
       "overflow_x": null,
       "overflow_y": null,
       "padding": null,
       "right": null,
       "top": null,
       "visibility": null,
       "width": null
      }
     },
     "b140a862c36b4aa89004d1f59baae003": {
      "model_module": "@jupyter-widgets/base",
      "model_module_version": "1.2.0",
      "model_name": "LayoutModel",
      "state": {
       "_model_module": "@jupyter-widgets/base",
       "_model_module_version": "1.2.0",
       "_model_name": "LayoutModel",
       "_view_count": null,
       "_view_module": "@jupyter-widgets/base",
       "_view_module_version": "1.2.0",
       "_view_name": "LayoutView",
       "align_content": null,
       "align_items": null,
       "align_self": null,
       "border": null,
       "bottom": null,
       "display": null,
       "flex": null,
       "flex_flow": null,
       "grid_area": null,
       "grid_auto_columns": null,
       "grid_auto_flow": null,
       "grid_auto_rows": null,
       "grid_column": null,
       "grid_gap": null,
       "grid_row": null,
       "grid_template_areas": null,
       "grid_template_columns": null,
       "grid_template_rows": null,
       "height": null,
       "justify_content": null,
       "justify_items": null,
       "left": null,
       "margin": null,
       "max_height": null,
       "max_width": null,
       "min_height": null,
       "min_width": null,
       "object_fit": null,
       "object_position": null,
       "order": null,
       "overflow": null,
       "overflow_x": null,
       "overflow_y": null,
       "padding": null,
       "right": null,
       "top": null,
       "visibility": null,
       "width": null
      }
     },
     "b3c0b77c904a4f15aed0d9ff57e6ebcf": {
      "model_module": "@jupyter-widgets/base",
      "model_module_version": "1.2.0",
      "model_name": "LayoutModel",
      "state": {
       "_model_module": "@jupyter-widgets/base",
       "_model_module_version": "1.2.0",
       "_model_name": "LayoutModel",
       "_view_count": null,
       "_view_module": "@jupyter-widgets/base",
       "_view_module_version": "1.2.0",
       "_view_name": "LayoutView",
       "align_content": null,
       "align_items": null,
       "align_self": null,
       "border": null,
       "bottom": null,
       "display": null,
       "flex": null,
       "flex_flow": null,
       "grid_area": null,
       "grid_auto_columns": null,
       "grid_auto_flow": null,
       "grid_auto_rows": null,
       "grid_column": null,
       "grid_gap": null,
       "grid_row": null,
       "grid_template_areas": null,
       "grid_template_columns": null,
       "grid_template_rows": null,
       "height": null,
       "justify_content": null,
       "justify_items": null,
       "left": null,
       "margin": null,
       "max_height": null,
       "max_width": null,
       "min_height": null,
       "min_width": null,
       "object_fit": null,
       "object_position": null,
       "order": null,
       "overflow": null,
       "overflow_x": null,
       "overflow_y": null,
       "padding": null,
       "right": null,
       "top": null,
       "visibility": null,
       "width": "20px"
      }
     },
     "b479bd334b514540814cb6f8de10f743": {
      "model_module": "@jupyter-widgets/controls",
      "model_module_version": "1.5.0",
      "model_name": "DescriptionStyleModel",
      "state": {
       "_model_module": "@jupyter-widgets/controls",
       "_model_module_version": "1.5.0",
       "_model_name": "DescriptionStyleModel",
       "_view_count": null,
       "_view_module": "@jupyter-widgets/base",
       "_view_module_version": "1.2.0",
       "_view_name": "StyleView",
       "description_width": ""
      }
     },
     "b8bc56eb74a24cd8914502ffe4e352f5": {
      "model_module": "@jupyter-widgets/controls",
      "model_module_version": "1.5.0",
      "model_name": "HTMLModel",
      "state": {
       "_dom_classes": [],
       "_model_module": "@jupyter-widgets/controls",
       "_model_module_version": "1.5.0",
       "_model_name": "HTMLModel",
       "_view_count": null,
       "_view_module": "@jupyter-widgets/controls",
       "_view_module_version": "1.5.0",
       "_view_name": "HTMLView",
       "description": "",
       "description_tooltip": null,
       "layout": "IPY_MODEL_559f1b9ffcba4a6ab7bd03b94287afd7",
       "placeholder": "​",
       "style": "IPY_MODEL_3394901fcd584493a97341e44e668789",
       "value": " 24886/0 [00:10&lt;00:00, 3175.32 examples/s]"
      }
     },
     "b8e286c480c64340955ef6c7c3157c42": {
      "model_module": "@jupyter-widgets/controls",
      "model_module_version": "1.5.0",
      "model_name": "HBoxModel",
      "state": {
       "_dom_classes": [],
       "_model_module": "@jupyter-widgets/controls",
       "_model_module_version": "1.5.0",
       "_model_name": "HBoxModel",
       "_view_count": null,
       "_view_module": "@jupyter-widgets/controls",
       "_view_module_version": "1.5.0",
       "_view_name": "HBoxView",
       "box_style": "",
       "children": [
        "IPY_MODEL_ecbcd76c2ef9440fbab0561b1f327a67",
        "IPY_MODEL_cb2943b3a01d485db1d5c99b8480765f",
        "IPY_MODEL_5b39948003a843fda64f39d5b676418a"
       ],
       "layout": "IPY_MODEL_5c1600c899084630b50090fb117ce3fd"
      }
     },
     "bab967e9bbed442e8ab8b7776f8c0ed0": {
      "model_module": "@jupyter-widgets/base",
      "model_module_version": "1.2.0",
      "model_name": "LayoutModel",
      "state": {
       "_model_module": "@jupyter-widgets/base",
       "_model_module_version": "1.2.0",
       "_model_name": "LayoutModel",
       "_view_count": null,
       "_view_module": "@jupyter-widgets/base",
       "_view_module_version": "1.2.0",
       "_view_name": "LayoutView",
       "align_content": null,
       "align_items": null,
       "align_self": null,
       "border": null,
       "bottom": null,
       "display": null,
       "flex": null,
       "flex_flow": null,
       "grid_area": null,
       "grid_auto_columns": null,
       "grid_auto_flow": null,
       "grid_auto_rows": null,
       "grid_column": null,
       "grid_gap": null,
       "grid_row": null,
       "grid_template_areas": null,
       "grid_template_columns": null,
       "grid_template_rows": null,
       "height": null,
       "justify_content": null,
       "justify_items": null,
       "left": null,
       "margin": null,
       "max_height": null,
       "max_width": null,
       "min_height": null,
       "min_width": null,
       "object_fit": null,
       "object_position": null,
       "order": null,
       "overflow": null,
       "overflow_x": null,
       "overflow_y": null,
       "padding": null,
       "right": null,
       "top": null,
       "visibility": null,
       "width": null
      }
     },
     "baf243e63f6c48278890a38fdd780c8b": {
      "model_module": "@jupyter-widgets/base",
      "model_module_version": "1.2.0",
      "model_name": "LayoutModel",
      "state": {
       "_model_module": "@jupyter-widgets/base",
       "_model_module_version": "1.2.0",
       "_model_name": "LayoutModel",
       "_view_count": null,
       "_view_module": "@jupyter-widgets/base",
       "_view_module_version": "1.2.0",
       "_view_name": "LayoutView",
       "align_content": null,
       "align_items": null,
       "align_self": null,
       "border": null,
       "bottom": null,
       "display": null,
       "flex": null,
       "flex_flow": null,
       "grid_area": null,
       "grid_auto_columns": null,
       "grid_auto_flow": null,
       "grid_auto_rows": null,
       "grid_column": null,
       "grid_gap": null,
       "grid_row": null,
       "grid_template_areas": null,
       "grid_template_columns": null,
       "grid_template_rows": null,
       "height": null,
       "justify_content": null,
       "justify_items": null,
       "left": null,
       "margin": null,
       "max_height": null,
       "max_width": null,
       "min_height": null,
       "min_width": null,
       "object_fit": null,
       "object_position": null,
       "order": null,
       "overflow": null,
       "overflow_x": null,
       "overflow_y": null,
       "padding": null,
       "right": null,
       "top": null,
       "visibility": null,
       "width": null
      }
     },
     "c382475189ff4ee69e7f8d28b605368b": {
      "model_module": "@jupyter-widgets/controls",
      "model_module_version": "1.5.0",
      "model_name": "HTMLModel",
      "state": {
       "_dom_classes": [],
       "_model_module": "@jupyter-widgets/controls",
       "_model_module_version": "1.5.0",
       "_model_name": "HTMLModel",
       "_view_count": null,
       "_view_module": "@jupyter-widgets/controls",
       "_view_module_version": "1.5.0",
       "_view_name": "HTMLView",
       "description": "",
       "description_tooltip": null,
       "layout": "IPY_MODEL_db73341272114fb48a6e60c7e50b563b",
       "placeholder": "​",
       "style": "IPY_MODEL_f16aae1266b24af48491282310b225e0",
       "value": ""
      }
     },
     "c8ab3cc149ba4705803343f9a47d4928": {
      "model_module": "@jupyter-widgets/base",
      "model_module_version": "1.2.0",
      "model_name": "LayoutModel",
      "state": {
       "_model_module": "@jupyter-widgets/base",
       "_model_module_version": "1.2.0",
       "_model_name": "LayoutModel",
       "_view_count": null,
       "_view_module": "@jupyter-widgets/base",
       "_view_module_version": "1.2.0",
       "_view_name": "LayoutView",
       "align_content": null,
       "align_items": null,
       "align_self": null,
       "border": null,
       "bottom": null,
       "display": null,
       "flex": null,
       "flex_flow": null,
       "grid_area": null,
       "grid_auto_columns": null,
       "grid_auto_flow": null,
       "grid_auto_rows": null,
       "grid_column": null,
       "grid_gap": null,
       "grid_row": null,
       "grid_template_areas": null,
       "grid_template_columns": null,
       "grid_template_rows": null,
       "height": null,
       "justify_content": null,
       "justify_items": null,
       "left": null,
       "margin": null,
       "max_height": null,
       "max_width": null,
       "min_height": null,
       "min_width": null,
       "object_fit": null,
       "object_position": null,
       "order": null,
       "overflow": null,
       "overflow_x": null,
       "overflow_y": null,
       "padding": null,
       "right": null,
       "top": null,
       "visibility": null,
       "width": null
      }
     },
     "cb2943b3a01d485db1d5c99b8480765f": {
      "model_module": "@jupyter-widgets/controls",
      "model_module_version": "1.5.0",
      "model_name": "FloatProgressModel",
      "state": {
       "_dom_classes": [],
       "_model_module": "@jupyter-widgets/controls",
       "_model_module_version": "1.5.0",
       "_model_name": "FloatProgressModel",
       "_view_count": null,
       "_view_module": "@jupyter-widgets/controls",
       "_view_module_version": "1.5.0",
       "_view_name": "ProgressView",
       "bar_style": "info",
       "description": "",
       "description_tooltip": null,
       "layout": "IPY_MODEL_e4195b60dd1849d7b5236423856a0e6a",
       "max": 1.0,
       "min": 0.0,
       "orientation": "horizontal",
       "style": "IPY_MODEL_22227cc0835049ae9e733fc913bf2dfd",
       "value": 1.0
      }
     },
     "cde92747b6c747fbaf7ac144d9254daf": {
      "model_module": "@jupyter-widgets/controls",
      "model_module_version": "1.5.0",
      "model_name": "DescriptionStyleModel",
      "state": {
       "_model_module": "@jupyter-widgets/controls",
       "_model_module_version": "1.5.0",
       "_model_name": "DescriptionStyleModel",
       "_view_count": null,
       "_view_module": "@jupyter-widgets/base",
       "_view_module_version": "1.2.0",
       "_view_name": "StyleView",
       "description_width": ""
      }
     },
     "d34921c3f83c430da3b2e93dbdb229d9": {
      "model_module": "@jupyter-widgets/controls",
      "model_module_version": "1.5.0",
      "model_name": "HBoxModel",
      "state": {
       "_dom_classes": [],
       "_model_module": "@jupyter-widgets/controls",
       "_model_module_version": "1.5.0",
       "_model_name": "HBoxModel",
       "_view_count": null,
       "_view_module": "@jupyter-widgets/controls",
       "_view_module_version": "1.5.0",
       "_view_name": "HBoxView",
       "box_style": "",
       "children": [
        "IPY_MODEL_c382475189ff4ee69e7f8d28b605368b",
        "IPY_MODEL_e635c832dc2f49c0b7d3f8dc6dbd8df0",
        "IPY_MODEL_b8bc56eb74a24cd8914502ffe4e352f5"
       ],
       "layout": "IPY_MODEL_63ad4f68d3914b89a4fdc655a949d1c0"
      }
     },
     "d489b880d96c4efa9d3ef1a578951b29": {
      "model_module": "@jupyter-widgets/controls",
      "model_module_version": "1.5.0",
      "model_name": "ProgressStyleModel",
      "state": {
       "_model_module": "@jupyter-widgets/controls",
       "_model_module_version": "1.5.0",
       "_model_name": "ProgressStyleModel",
       "_view_count": null,
       "_view_module": "@jupyter-widgets/base",
       "_view_module_version": "1.2.0",
       "_view_name": "StyleView",
       "bar_color": null,
       "description_width": ""
      }
     },
     "db73341272114fb48a6e60c7e50b563b": {
      "model_module": "@jupyter-widgets/base",
      "model_module_version": "1.2.0",
      "model_name": "LayoutModel",
      "state": {
       "_model_module": "@jupyter-widgets/base",
       "_model_module_version": "1.2.0",
       "_model_name": "LayoutModel",
       "_view_count": null,
       "_view_module": "@jupyter-widgets/base",
       "_view_module_version": "1.2.0",
       "_view_name": "LayoutView",
       "align_content": null,
       "align_items": null,
       "align_self": null,
       "border": null,
       "bottom": null,
       "display": null,
       "flex": null,
       "flex_flow": null,
       "grid_area": null,
       "grid_auto_columns": null,
       "grid_auto_flow": null,
       "grid_auto_rows": null,
       "grid_column": null,
       "grid_gap": null,
       "grid_row": null,
       "grid_template_areas": null,
       "grid_template_columns": null,
       "grid_template_rows": null,
       "height": null,
       "justify_content": null,
       "justify_items": null,
       "left": null,
       "margin": null,
       "max_height": null,
       "max_width": null,
       "min_height": null,
       "min_width": null,
       "object_fit": null,
       "object_position": null,
       "order": null,
       "overflow": null,
       "overflow_x": null,
       "overflow_y": null,
       "padding": null,
       "right": null,
       "top": null,
       "visibility": null,
       "width": null
      }
     },
     "e00e6a72da6347548f903b672bdfda7d": {
      "model_module": "@jupyter-widgets/controls",
      "model_module_version": "1.5.0",
      "model_name": "DescriptionStyleModel",
      "state": {
       "_model_module": "@jupyter-widgets/controls",
       "_model_module_version": "1.5.0",
       "_model_name": "DescriptionStyleModel",
       "_view_count": null,
       "_view_module": "@jupyter-widgets/base",
       "_view_module_version": "1.2.0",
       "_view_name": "StyleView",
       "description_width": ""
      }
     },
     "e1654adf8b0f4ac9931fe0b88b8d946a": {
      "model_module": "@jupyter-widgets/controls",
      "model_module_version": "1.5.0",
      "model_name": "ProgressStyleModel",
      "state": {
       "_model_module": "@jupyter-widgets/controls",
       "_model_module_version": "1.5.0",
       "_model_name": "ProgressStyleModel",
       "_view_count": null,
       "_view_module": "@jupyter-widgets/base",
       "_view_module_version": "1.2.0",
       "_view_name": "StyleView",
       "bar_color": null,
       "description_width": ""
      }
     },
     "e3e86217f2514aa6b0d0d941453b2885": {
      "model_module": "@jupyter-widgets/controls",
      "model_module_version": "1.5.0",
      "model_name": "DescriptionStyleModel",
      "state": {
       "_model_module": "@jupyter-widgets/controls",
       "_model_module_version": "1.5.0",
       "_model_name": "DescriptionStyleModel",
       "_view_count": null,
       "_view_module": "@jupyter-widgets/base",
       "_view_module_version": "1.2.0",
       "_view_name": "StyleView",
       "description_width": ""
      }
     },
     "e4195b60dd1849d7b5236423856a0e6a": {
      "model_module": "@jupyter-widgets/base",
      "model_module_version": "1.2.0",
      "model_name": "LayoutModel",
      "state": {
       "_model_module": "@jupyter-widgets/base",
       "_model_module_version": "1.2.0",
       "_model_name": "LayoutModel",
       "_view_count": null,
       "_view_module": "@jupyter-widgets/base",
       "_view_module_version": "1.2.0",
       "_view_name": "LayoutView",
       "align_content": null,
       "align_items": null,
       "align_self": null,
       "border": null,
       "bottom": null,
       "display": null,
       "flex": null,
       "flex_flow": null,
       "grid_area": null,
       "grid_auto_columns": null,
       "grid_auto_flow": null,
       "grid_auto_rows": null,
       "grid_column": null,
       "grid_gap": null,
       "grid_row": null,
       "grid_template_areas": null,
       "grid_template_columns": null,
       "grid_template_rows": null,
       "height": null,
       "justify_content": null,
       "justify_items": null,
       "left": null,
       "margin": null,
       "max_height": null,
       "max_width": null,
       "min_height": null,
       "min_width": null,
       "object_fit": null,
       "object_position": null,
       "order": null,
       "overflow": null,
       "overflow_x": null,
       "overflow_y": null,
       "padding": null,
       "right": null,
       "top": null,
       "visibility": null,
       "width": "20px"
      }
     },
     "e4d51a00df86412fa6614e360429acd9": {
      "model_module": "@jupyter-widgets/controls",
      "model_module_version": "1.5.0",
      "model_name": "HTMLModel",
      "state": {
       "_dom_classes": [],
       "_model_module": "@jupyter-widgets/controls",
       "_model_module_version": "1.5.0",
       "_model_name": "HTMLModel",
       "_view_count": null,
       "_view_module": "@jupyter-widgets/controls",
       "_view_module_version": "1.5.0",
       "_view_name": "HTMLView",
       "description": "",
       "description_tooltip": null,
       "layout": "IPY_MODEL_c8ab3cc149ba4705803343f9a47d4928",
       "placeholder": "​",
       "style": "IPY_MODEL_64df22d9be494d3ab8ee2f2efb98f819",
       "value": " 24999/25000 [00:00&lt;00:00, 121282.48 examples/s]"
      }
     },
     "e635c832dc2f49c0b7d3f8dc6dbd8df0": {
      "model_module": "@jupyter-widgets/controls",
      "model_module_version": "1.5.0",
      "model_name": "FloatProgressModel",
      "state": {
       "_dom_classes": [],
       "_model_module": "@jupyter-widgets/controls",
       "_model_module_version": "1.5.0",
       "_model_name": "FloatProgressModel",
       "_view_count": null,
       "_view_module": "@jupyter-widgets/controls",
       "_view_module_version": "1.5.0",
       "_view_name": "ProgressView",
       "bar_style": "info",
       "description": "",
       "description_tooltip": null,
       "layout": "IPY_MODEL_39a0dae78aee4a3c9d8bd5eab457b3bb",
       "max": 1.0,
       "min": 0.0,
       "orientation": "horizontal",
       "style": "IPY_MODEL_d489b880d96c4efa9d3ef1a578951b29",
       "value": 1.0
      }
     },
     "e9499255cf8b49ec8cca0f131646a85e": {
      "model_module": "@jupyter-widgets/controls",
      "model_module_version": "1.5.0",
      "model_name": "HTMLModel",
      "state": {
       "_dom_classes": [],
       "_model_module": "@jupyter-widgets/controls",
       "_model_module_version": "1.5.0",
       "_model_name": "HTMLModel",
       "_view_count": null,
       "_view_module": "@jupyter-widgets/controls",
       "_view_module_version": "1.5.0",
       "_view_name": "HTMLView",
       "description": "",
       "description_tooltip": null,
       "layout": "IPY_MODEL_73f5b20ceb3f45acae686a520686f53d",
       "placeholder": "​",
       "style": "IPY_MODEL_b479bd334b514540814cb6f8de10f743",
       "value": " 49999/50000 [00:00&lt;00:00, 161454.21 examples/s]"
      }
     },
     "eaf5f00c5e2041a29466f006bea3ed8b": {
      "model_module": "@jupyter-widgets/base",
      "model_module_version": "1.2.0",
      "model_name": "LayoutModel",
      "state": {
       "_model_module": "@jupyter-widgets/base",
       "_model_module_version": "1.2.0",
       "_model_name": "LayoutModel",
       "_view_count": null,
       "_view_module": "@jupyter-widgets/base",
       "_view_module_version": "1.2.0",
       "_view_name": "LayoutView",
       "align_content": null,
       "align_items": null,
       "align_self": null,
       "border": null,
       "bottom": null,
       "display": null,
       "flex": null,
       "flex_flow": null,
       "grid_area": null,
       "grid_auto_columns": null,
       "grid_auto_flow": null,
       "grid_auto_rows": null,
       "grid_column": null,
       "grid_gap": null,
       "grid_row": null,
       "grid_template_areas": null,
       "grid_template_columns": null,
       "grid_template_rows": null,
       "height": null,
       "justify_content": null,
       "justify_items": null,
       "left": null,
       "margin": null,
       "max_height": null,
       "max_width": null,
       "min_height": null,
       "min_width": null,
       "object_fit": null,
       "object_position": null,
       "order": null,
       "overflow": null,
       "overflow_x": null,
       "overflow_y": null,
       "padding": null,
       "right": null,
       "top": null,
       "visibility": null,
       "width": null
      }
     },
     "ecbcd76c2ef9440fbab0561b1f327a67": {
      "model_module": "@jupyter-widgets/controls",
      "model_module_version": "1.5.0",
      "model_name": "HTMLModel",
      "state": {
       "_dom_classes": [],
       "_model_module": "@jupyter-widgets/controls",
       "_model_module_version": "1.5.0",
       "_model_name": "HTMLModel",
       "_view_count": null,
       "_view_module": "@jupyter-widgets/controls",
       "_view_module_version": "1.5.0",
       "_view_name": "HTMLView",
       "description": "",
       "description_tooltip": null,
       "layout": "IPY_MODEL_1820a4650a7b4547b466dc4f975af6c6",
       "placeholder": "​",
       "style": "IPY_MODEL_4a732f6d5647476a8364cc313e1a4953",
       "value": ""
      }
     },
     "f16aae1266b24af48491282310b225e0": {
      "model_module": "@jupyter-widgets/controls",
      "model_module_version": "1.5.0",
      "model_name": "DescriptionStyleModel",
      "state": {
       "_model_module": "@jupyter-widgets/controls",
       "_model_module_version": "1.5.0",
       "_model_name": "DescriptionStyleModel",
       "_view_count": null,
       "_view_module": "@jupyter-widgets/base",
       "_view_module_version": "1.2.0",
       "_view_name": "StyleView",
       "description_width": ""
      }
     },
     "f3288cc941b8466c8feb77d6d8dea807": {
      "model_module": "@jupyter-widgets/base",
      "model_module_version": "1.2.0",
      "model_name": "LayoutModel",
      "state": {
       "_model_module": "@jupyter-widgets/base",
       "_model_module_version": "1.2.0",
       "_model_name": "LayoutModel",
       "_view_count": null,
       "_view_module": "@jupyter-widgets/base",
       "_view_module_version": "1.2.0",
       "_view_name": "LayoutView",
       "align_content": null,
       "align_items": null,
       "align_self": null,
       "border": null,
       "bottom": null,
       "display": null,
       "flex": null,
       "flex_flow": null,
       "grid_area": null,
       "grid_auto_columns": null,
       "grid_auto_flow": null,
       "grid_auto_rows": null,
       "grid_column": null,
       "grid_gap": null,
       "grid_row": null,
       "grid_template_areas": null,
       "grid_template_columns": null,
       "grid_template_rows": null,
       "height": null,
       "justify_content": null,
       "justify_items": null,
       "left": null,
       "margin": null,
       "max_height": null,
       "max_width": null,
       "min_height": null,
       "min_width": null,
       "object_fit": null,
       "object_position": null,
       "order": null,
       "overflow": null,
       "overflow_x": null,
       "overflow_y": null,
       "padding": null,
       "right": null,
       "top": null,
       "visibility": null,
       "width": null
      }
     },
     "f3dd846a8d9c4ccfb2d46d4d06a0ca88": {
      "model_module": "@jupyter-widgets/controls",
      "model_module_version": "1.5.0",
      "model_name": "HBoxModel",
      "state": {
       "_dom_classes": [],
       "_model_module": "@jupyter-widgets/controls",
       "_model_module_version": "1.5.0",
       "_model_name": "HBoxModel",
       "_view_count": null,
       "_view_module": "@jupyter-widgets/controls",
       "_view_module_version": "1.5.0",
       "_view_name": "HBoxView",
       "box_style": "",
       "children": [
        "IPY_MODEL_417771b8ecea450ebc8baef76a35682f",
        "IPY_MODEL_99f3431a512e496885f744ac6b0c12cf",
        "IPY_MODEL_e9499255cf8b49ec8cca0f131646a85e"
       ],
       "layout": "IPY_MODEL_341818ed98974ca6ad01466399020434"
      }
     }
    },
    "version_major": 2,
    "version_minor": 0
   }
  }
 },
 "nbformat": 4,
 "nbformat_minor": 5
}
